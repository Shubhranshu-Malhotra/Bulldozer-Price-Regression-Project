{
 "cells": [
  {
   "cell_type": "markdown",
   "metadata": {},
   "source": [
    "# Predicting the Sale Price of Bulldozers (Regression Problem)\n",
    "\n",
    "\n",
    "## 1. Problem defition\n",
    "\n",
    "> How well can we predict the future sale price of a bulldozer, given its various characteristics/features and previous examples of how much similar bulldozers have been sold for?\n",
    "\n",
    "## 2. Data\n",
    "\n",
    "The data is downloaded from the Kaggle Bluebook for Bulldozers competition: https://www.kaggle.com/c/bluebook-for-bulldozers/data\n",
    "\n",
    "There are 3 main datasets:\n",
    "\n",
    "* Train.csv is the training set, which contains data through the end of 2011.\n",
    "* Valid.csv is the validation set, which contains data from January 1, 2012 - April 30, 2012 You make predictions on this set throughout the majority of the competition. Your score on this set is used to create the public leaderboard.\n",
    "* Test.csv is the test set, which won't be released until the last week of the competition. It contains data from May 1, 2012 - November 2012. Your score on the test set determines your final rank for the competition.\n",
    "\n",
    "The key fields in train.csv are:\n",
    "\n",
    "* SalesID: the uniue identifier of the sale\n",
    "* MachineID: the unique identifier of a machine.  A machine can be sold multiple times\n",
    "* saleprice: what the machine sold for at auction (only provided in train.csv)\n",
    "* saledate: the date of the sale\n",
    "\n",
    "## 3. Evaluation\n",
    "\n",
    "The evaluation metric for this competition is the RMSLE (root mean squared log error) between the actual and predicted auction prices.\n",
    "\n",
    "For more information about the evaluation of this project check: https://www.kaggle.com/c/bluebook-for-bulldozers/overview/evaluation\n",
    "\n",
    "**Note:** The goal for most regression evaluation metrics is to minimize the error. For example, our goal for this project will be to build a machine learning Regression model which minimises RMSLE.\n",
    "\n",
    "## 4. Features\n",
    "\n",
    "Kaggle provides a data dictionary detailing all of the features of the dataset\n",
    "\n",
    "Data dictionary can be seen here on Google Sheets : https://docs.google.com/spreadsheets/d/1hfDQfDOFsLhIBpne0-O1Li8ZAqNt9OuLaNUSQ3HzdR0/edit?usp=sharing\n",
    "\n",
    "## 5. Modelling and Experimentation\n",
    "  \n",
    "Find a model that suits your problem, fit it using training set and test its efficiency on a validation set.\n",
    "\n",
    "Since we will need to do a lot of experimentation for obtaining good hyperparameters, it is a good idea to use partial data for training and validation rather than the whole, so that the time between experiments can be shortened.\n",
    "\n",
    "\n",
    "## 6. Analyse Feature Importances\n",
    "\n",
    "Analysing Feature importance is necessary to improve models furthur. This provides valuable insights on how the model learns and helps in future data collection in the sense that most important features can be given priority for collection."
   ]
  },
  {
   "cell_type": "code",
   "execution_count": 93,
   "metadata": {},
   "outputs": [],
   "source": [
    "import numpy as np\n",
    "import pandas as pd\n",
    "import matplotlib.pyplot as plt\n",
    "import seaborn as sns\n",
    "from sklearn.model_selection import train_test_split\n",
    "from sklearn.ensemble import RandomForestRegressor"
   ]
  },
  {
   "cell_type": "code",
   "execution_count": 94,
   "metadata": {},
   "outputs": [
    {
     "data": {
      "text/html": [
       "<div>\n",
       "<style scoped>\n",
       "    .dataframe tbody tr th:only-of-type {\n",
       "        vertical-align: middle;\n",
       "    }\n",
       "\n",
       "    .dataframe tbody tr th {\n",
       "        vertical-align: top;\n",
       "    }\n",
       "\n",
       "    .dataframe thead th {\n",
       "        text-align: right;\n",
       "    }\n",
       "</style>\n",
       "<table border=\"1\" class=\"dataframe\">\n",
       "  <thead>\n",
       "    <tr style=\"text-align: right;\">\n",
       "      <th></th>\n",
       "      <th>SalesID</th>\n",
       "      <th>SalePrice</th>\n",
       "      <th>MachineID</th>\n",
       "      <th>ModelID</th>\n",
       "      <th>datasource</th>\n",
       "      <th>auctioneerID</th>\n",
       "      <th>YearMade</th>\n",
       "      <th>MachineHoursCurrentMeter</th>\n",
       "      <th>UsageBand</th>\n",
       "      <th>fiModelDesc</th>\n",
       "      <th>...</th>\n",
       "      <th>Undercarriage_Pad_Width_is_missing</th>\n",
       "      <th>Stick_Length_is_missing</th>\n",
       "      <th>Thumb_is_missing</th>\n",
       "      <th>Pattern_Changer_is_missing</th>\n",
       "      <th>Grouser_Type_is_missing</th>\n",
       "      <th>Backhoe_Mounting_is_missing</th>\n",
       "      <th>Blade_Type_is_missing</th>\n",
       "      <th>Travel_Controls_is_missing</th>\n",
       "      <th>Differential_Type_is_missing</th>\n",
       "      <th>Steering_Controls_is_missing</th>\n",
       "    </tr>\n",
       "  </thead>\n",
       "  <tbody>\n",
       "    <tr>\n",
       "      <th>0</th>\n",
       "      <td>1646770</td>\n",
       "      <td>9500.0</td>\n",
       "      <td>1126363</td>\n",
       "      <td>8434</td>\n",
       "      <td>132</td>\n",
       "      <td>3.0</td>\n",
       "      <td>1974</td>\n",
       "      <td>68.0</td>\n",
       "      <td>0</td>\n",
       "      <td>4593</td>\n",
       "      <td>...</td>\n",
       "      <td>True</td>\n",
       "      <td>True</td>\n",
       "      <td>True</td>\n",
       "      <td>True</td>\n",
       "      <td>True</td>\n",
       "      <td>False</td>\n",
       "      <td>False</td>\n",
       "      <td>False</td>\n",
       "      <td>True</td>\n",
       "      <td>True</td>\n",
       "    </tr>\n",
       "    <tr>\n",
       "      <th>1</th>\n",
       "      <td>1821514</td>\n",
       "      <td>14000.0</td>\n",
       "      <td>1194089</td>\n",
       "      <td>10150</td>\n",
       "      <td>132</td>\n",
       "      <td>3.0</td>\n",
       "      <td>1980</td>\n",
       "      <td>4640.0</td>\n",
       "      <td>0</td>\n",
       "      <td>1820</td>\n",
       "      <td>...</td>\n",
       "      <td>True</td>\n",
       "      <td>True</td>\n",
       "      <td>True</td>\n",
       "      <td>True</td>\n",
       "      <td>True</td>\n",
       "      <td>True</td>\n",
       "      <td>True</td>\n",
       "      <td>True</td>\n",
       "      <td>False</td>\n",
       "      <td>False</td>\n",
       "    </tr>\n",
       "    <tr>\n",
       "      <th>2</th>\n",
       "      <td>1505138</td>\n",
       "      <td>50000.0</td>\n",
       "      <td>1473654</td>\n",
       "      <td>4139</td>\n",
       "      <td>132</td>\n",
       "      <td>3.0</td>\n",
       "      <td>1978</td>\n",
       "      <td>2838.0</td>\n",
       "      <td>0</td>\n",
       "      <td>2348</td>\n",
       "      <td>...</td>\n",
       "      <td>True</td>\n",
       "      <td>True</td>\n",
       "      <td>True</td>\n",
       "      <td>True</td>\n",
       "      <td>True</td>\n",
       "      <td>False</td>\n",
       "      <td>False</td>\n",
       "      <td>False</td>\n",
       "      <td>True</td>\n",
       "      <td>True</td>\n",
       "    </tr>\n",
       "    <tr>\n",
       "      <th>3</th>\n",
       "      <td>1671174</td>\n",
       "      <td>16000.0</td>\n",
       "      <td>1327630</td>\n",
       "      <td>8591</td>\n",
       "      <td>132</td>\n",
       "      <td>3.0</td>\n",
       "      <td>1980</td>\n",
       "      <td>3486.0</td>\n",
       "      <td>0</td>\n",
       "      <td>1819</td>\n",
       "      <td>...</td>\n",
       "      <td>True</td>\n",
       "      <td>True</td>\n",
       "      <td>True</td>\n",
       "      <td>True</td>\n",
       "      <td>True</td>\n",
       "      <td>True</td>\n",
       "      <td>True</td>\n",
       "      <td>True</td>\n",
       "      <td>False</td>\n",
       "      <td>False</td>\n",
       "    </tr>\n",
       "    <tr>\n",
       "      <th>4</th>\n",
       "      <td>1329056</td>\n",
       "      <td>22000.0</td>\n",
       "      <td>1336053</td>\n",
       "      <td>4089</td>\n",
       "      <td>132</td>\n",
       "      <td>3.0</td>\n",
       "      <td>1984</td>\n",
       "      <td>722.0</td>\n",
       "      <td>0</td>\n",
       "      <td>2119</td>\n",
       "      <td>...</td>\n",
       "      <td>True</td>\n",
       "      <td>True</td>\n",
       "      <td>True</td>\n",
       "      <td>True</td>\n",
       "      <td>True</td>\n",
       "      <td>False</td>\n",
       "      <td>False</td>\n",
       "      <td>False</td>\n",
       "      <td>True</td>\n",
       "      <td>True</td>\n",
       "    </tr>\n",
       "  </tbody>\n",
       "</table>\n",
       "<p>5 rows × 103 columns</p>\n",
       "</div>"
      ],
      "text/plain": [
       "   SalesID  SalePrice  MachineID  ModelID  datasource  auctioneerID  YearMade  \\\n",
       "0  1646770     9500.0    1126363     8434         132           3.0      1974   \n",
       "1  1821514    14000.0    1194089    10150         132           3.0      1980   \n",
       "2  1505138    50000.0    1473654     4139         132           3.0      1978   \n",
       "3  1671174    16000.0    1327630     8591         132           3.0      1980   \n",
       "4  1329056    22000.0    1336053     4089         132           3.0      1984   \n",
       "\n",
       "   MachineHoursCurrentMeter  UsageBand  fiModelDesc  ...  \\\n",
       "0                      68.0          0         4593  ...   \n",
       "1                    4640.0          0         1820  ...   \n",
       "2                    2838.0          0         2348  ...   \n",
       "3                    3486.0          0         1819  ...   \n",
       "4                     722.0          0         2119  ...   \n",
       "\n",
       "   Undercarriage_Pad_Width_is_missing  Stick_Length_is_missing  \\\n",
       "0                                True                     True   \n",
       "1                                True                     True   \n",
       "2                                True                     True   \n",
       "3                                True                     True   \n",
       "4                                True                     True   \n",
       "\n",
       "   Thumb_is_missing  Pattern_Changer_is_missing  Grouser_Type_is_missing  \\\n",
       "0              True                        True                     True   \n",
       "1              True                        True                     True   \n",
       "2              True                        True                     True   \n",
       "3              True                        True                     True   \n",
       "4              True                        True                     True   \n",
       "\n",
       "   Backhoe_Mounting_is_missing  Blade_Type_is_missing  \\\n",
       "0                        False                  False   \n",
       "1                         True                   True   \n",
       "2                        False                  False   \n",
       "3                         True                   True   \n",
       "4                        False                  False   \n",
       "\n",
       "   Travel_Controls_is_missing  Differential_Type_is_missing  \\\n",
       "0                       False                          True   \n",
       "1                        True                         False   \n",
       "2                       False                          True   \n",
       "3                        True                         False   \n",
       "4                       False                          True   \n",
       "\n",
       "   Steering_Controls_is_missing  \n",
       "0                          True  \n",
       "1                         False  \n",
       "2                          True  \n",
       "3                         False  \n",
       "4                          True  \n",
       "\n",
       "[5 rows x 103 columns]"
      ]
     },
     "execution_count": 94,
     "metadata": {},
     "output_type": "execute_result"
    }
   ],
   "source": [
    "# Load the prepared data\n",
    "df_tmp = pd.read_csv(\"data/bluebook-for-bulldozers/train_tmp_no_missing_all_numerical.csv\")\n",
    "df_tmp.head()"
   ]
  },
  {
   "cell_type": "code",
   "execution_count": 95,
   "metadata": {},
   "outputs": [
    {
     "data": {
      "text/plain": [
       "SalesID                         0\n",
       "SalePrice                       0\n",
       "MachineID                       0\n",
       "ModelID                         0\n",
       "datasource                      0\n",
       "                               ..\n",
       "Backhoe_Mounting_is_missing     0\n",
       "Blade_Type_is_missing           0\n",
       "Travel_Controls_is_missing      0\n",
       "Differential_Type_is_missing    0\n",
       "Steering_Controls_is_missing    0\n",
       "Length: 103, dtype: int64"
      ]
     },
     "execution_count": 95,
     "metadata": {},
     "output_type": "execute_result"
    }
   ],
   "source": [
    "df_tmp.isna().sum()"
   ]
  },
  {
   "cell_type": "code",
   "execution_count": 96,
   "metadata": {},
   "outputs": [
    {
     "data": {
      "text/plain": [
       "(412698, 103)"
      ]
     },
     "execution_count": 96,
     "metadata": {},
     "output_type": "execute_result"
    }
   ],
   "source": [
    "df_tmp.shape"
   ]
  },
  {
   "cell_type": "markdown",
   "metadata": {},
   "source": [
    "\n",
    "# Modelling"
   ]
  },
  {
   "cell_type": "code",
   "execution_count": 71,
   "metadata": {},
   "outputs": [
    {
     "name": "stdout",
     "output_type": "stream",
     "text": [
      "Wall time: 4min 43s\n"
     ]
    },
    {
     "data": {
      "text/plain": [
       "RandomForestRegressor(n_jobs=-1, random_state=42)"
      ]
     },
     "execution_count": 71,
     "metadata": {},
     "output_type": "execute_result"
    }
   ],
   "source": [
    "%%time\n",
    "#initial fit on all data (takes too much time)\n",
    "\n",
    "\n",
    "# Instantiate model\n",
    "model = RandomForestRegressor(n_jobs=-1, random_state=42)\n",
    "\n",
    "# Fit the model\n",
    "model.fit(df_tmp.drop(\"SalePrice\", axis=1), df_tmp.SalePrice)"
   ]
  },
  {
   "cell_type": "code",
   "execution_count": 72,
   "metadata": {},
   "outputs": [
    {
     "data": {
      "text/plain": [
       "0.9873039604105666"
      ]
     },
     "execution_count": 72,
     "metadata": {},
     "output_type": "execute_result"
    }
   ],
   "source": [
    "model.score(df_tmp.drop(\"SalePrice\", axis=1), df_tmp.SalePrice)"
   ]
  },
  {
   "cell_type": "code",
   "execution_count": 19,
   "metadata": {},
   "outputs": [
    {
     "name": "stdout",
     "output_type": "stream",
     "text": [
      "Wall time: 12min 38s\n"
     ]
    },
    {
     "data": {
      "text/plain": [
       "RandomForestRegressor(random_state=42)"
      ]
     },
     "execution_count": 19,
     "metadata": {},
     "output_type": "execute_result"
    }
   ],
   "source": [
    "%%time\n",
    "#initial fit on all data without n_jobs =-1 (takes even more time)\n",
    "\n",
    "\n",
    "# Instantiate model\n",
    "model = RandomForestRegressor(random_state=42)\n",
    "\n",
    "# Fit the model\n",
    "model.fit(df_tmp.drop(\"SalePrice\", axis=1), df_tmp.SalePrice)"
   ]
  },
  {
   "cell_type": "code",
   "execution_count": 20,
   "metadata": {},
   "outputs": [
    {
     "data": {
      "text/plain": [
       "0.9873039604105666"
      ]
     },
     "execution_count": 20,
     "metadata": {},
     "output_type": "execute_result"
    }
   ],
   "source": [
    "model.score(df_tmp.drop(\"SalePrice\", axis=1), df_tmp.SalePrice)"
   ]
  },
  {
   "cell_type": "markdown",
   "metadata": {},
   "source": [
    "### This metrics is not reliable since training and scoring done on same data"
   ]
  },
  {
   "cell_type": "markdown",
   "metadata": {},
   "source": [
    "### Splitting data into train/valid sets"
   ]
  },
  {
   "cell_type": "code",
   "execution_count": 97,
   "metadata": {},
   "outputs": [
    {
     "data": {
      "text/html": [
       "<div>\n",
       "<style scoped>\n",
       "    .dataframe tbody tr th:only-of-type {\n",
       "        vertical-align: middle;\n",
       "    }\n",
       "\n",
       "    .dataframe tbody tr th {\n",
       "        vertical-align: top;\n",
       "    }\n",
       "\n",
       "    .dataframe thead th {\n",
       "        text-align: right;\n",
       "    }\n",
       "</style>\n",
       "<table border=\"1\" class=\"dataframe\">\n",
       "  <thead>\n",
       "    <tr style=\"text-align: right;\">\n",
       "      <th></th>\n",
       "      <th>SalesID</th>\n",
       "      <th>SalePrice</th>\n",
       "      <th>MachineID</th>\n",
       "      <th>ModelID</th>\n",
       "      <th>datasource</th>\n",
       "      <th>auctioneerID</th>\n",
       "      <th>YearMade</th>\n",
       "      <th>MachineHoursCurrentMeter</th>\n",
       "      <th>UsageBand</th>\n",
       "      <th>fiModelDesc</th>\n",
       "      <th>...</th>\n",
       "      <th>Undercarriage_Pad_Width_is_missing</th>\n",
       "      <th>Stick_Length_is_missing</th>\n",
       "      <th>Thumb_is_missing</th>\n",
       "      <th>Pattern_Changer_is_missing</th>\n",
       "      <th>Grouser_Type_is_missing</th>\n",
       "      <th>Backhoe_Mounting_is_missing</th>\n",
       "      <th>Blade_Type_is_missing</th>\n",
       "      <th>Travel_Controls_is_missing</th>\n",
       "      <th>Differential_Type_is_missing</th>\n",
       "      <th>Steering_Controls_is_missing</th>\n",
       "    </tr>\n",
       "  </thead>\n",
       "  <tbody>\n",
       "    <tr>\n",
       "      <th>0</th>\n",
       "      <td>1646770</td>\n",
       "      <td>9500.0</td>\n",
       "      <td>1126363</td>\n",
       "      <td>8434</td>\n",
       "      <td>132</td>\n",
       "      <td>3.0</td>\n",
       "      <td>1974</td>\n",
       "      <td>68.0</td>\n",
       "      <td>0</td>\n",
       "      <td>4593</td>\n",
       "      <td>...</td>\n",
       "      <td>True</td>\n",
       "      <td>True</td>\n",
       "      <td>True</td>\n",
       "      <td>True</td>\n",
       "      <td>True</td>\n",
       "      <td>False</td>\n",
       "      <td>False</td>\n",
       "      <td>False</td>\n",
       "      <td>True</td>\n",
       "      <td>True</td>\n",
       "    </tr>\n",
       "    <tr>\n",
       "      <th>1</th>\n",
       "      <td>1821514</td>\n",
       "      <td>14000.0</td>\n",
       "      <td>1194089</td>\n",
       "      <td>10150</td>\n",
       "      <td>132</td>\n",
       "      <td>3.0</td>\n",
       "      <td>1980</td>\n",
       "      <td>4640.0</td>\n",
       "      <td>0</td>\n",
       "      <td>1820</td>\n",
       "      <td>...</td>\n",
       "      <td>True</td>\n",
       "      <td>True</td>\n",
       "      <td>True</td>\n",
       "      <td>True</td>\n",
       "      <td>True</td>\n",
       "      <td>True</td>\n",
       "      <td>True</td>\n",
       "      <td>True</td>\n",
       "      <td>False</td>\n",
       "      <td>False</td>\n",
       "    </tr>\n",
       "    <tr>\n",
       "      <th>2</th>\n",
       "      <td>1505138</td>\n",
       "      <td>50000.0</td>\n",
       "      <td>1473654</td>\n",
       "      <td>4139</td>\n",
       "      <td>132</td>\n",
       "      <td>3.0</td>\n",
       "      <td>1978</td>\n",
       "      <td>2838.0</td>\n",
       "      <td>0</td>\n",
       "      <td>2348</td>\n",
       "      <td>...</td>\n",
       "      <td>True</td>\n",
       "      <td>True</td>\n",
       "      <td>True</td>\n",
       "      <td>True</td>\n",
       "      <td>True</td>\n",
       "      <td>False</td>\n",
       "      <td>False</td>\n",
       "      <td>False</td>\n",
       "      <td>True</td>\n",
       "      <td>True</td>\n",
       "    </tr>\n",
       "    <tr>\n",
       "      <th>3</th>\n",
       "      <td>1671174</td>\n",
       "      <td>16000.0</td>\n",
       "      <td>1327630</td>\n",
       "      <td>8591</td>\n",
       "      <td>132</td>\n",
       "      <td>3.0</td>\n",
       "      <td>1980</td>\n",
       "      <td>3486.0</td>\n",
       "      <td>0</td>\n",
       "      <td>1819</td>\n",
       "      <td>...</td>\n",
       "      <td>True</td>\n",
       "      <td>True</td>\n",
       "      <td>True</td>\n",
       "      <td>True</td>\n",
       "      <td>True</td>\n",
       "      <td>True</td>\n",
       "      <td>True</td>\n",
       "      <td>True</td>\n",
       "      <td>False</td>\n",
       "      <td>False</td>\n",
       "    </tr>\n",
       "    <tr>\n",
       "      <th>4</th>\n",
       "      <td>1329056</td>\n",
       "      <td>22000.0</td>\n",
       "      <td>1336053</td>\n",
       "      <td>4089</td>\n",
       "      <td>132</td>\n",
       "      <td>3.0</td>\n",
       "      <td>1984</td>\n",
       "      <td>722.0</td>\n",
       "      <td>0</td>\n",
       "      <td>2119</td>\n",
       "      <td>...</td>\n",
       "      <td>True</td>\n",
       "      <td>True</td>\n",
       "      <td>True</td>\n",
       "      <td>True</td>\n",
       "      <td>True</td>\n",
       "      <td>False</td>\n",
       "      <td>False</td>\n",
       "      <td>False</td>\n",
       "      <td>True</td>\n",
       "      <td>True</td>\n",
       "    </tr>\n",
       "  </tbody>\n",
       "</table>\n",
       "<p>5 rows × 103 columns</p>\n",
       "</div>"
      ],
      "text/plain": [
       "   SalesID  SalePrice  MachineID  ModelID  datasource  auctioneerID  YearMade  \\\n",
       "0  1646770     9500.0    1126363     8434         132           3.0      1974   \n",
       "1  1821514    14000.0    1194089    10150         132           3.0      1980   \n",
       "2  1505138    50000.0    1473654     4139         132           3.0      1978   \n",
       "3  1671174    16000.0    1327630     8591         132           3.0      1980   \n",
       "4  1329056    22000.0    1336053     4089         132           3.0      1984   \n",
       "\n",
       "   MachineHoursCurrentMeter  UsageBand  fiModelDesc  ...  \\\n",
       "0                      68.0          0         4593  ...   \n",
       "1                    4640.0          0         1820  ...   \n",
       "2                    2838.0          0         2348  ...   \n",
       "3                    3486.0          0         1819  ...   \n",
       "4                     722.0          0         2119  ...   \n",
       "\n",
       "   Undercarriage_Pad_Width_is_missing  Stick_Length_is_missing  \\\n",
       "0                                True                     True   \n",
       "1                                True                     True   \n",
       "2                                True                     True   \n",
       "3                                True                     True   \n",
       "4                                True                     True   \n",
       "\n",
       "   Thumb_is_missing  Pattern_Changer_is_missing  Grouser_Type_is_missing  \\\n",
       "0              True                        True                     True   \n",
       "1              True                        True                     True   \n",
       "2              True                        True                     True   \n",
       "3              True                        True                     True   \n",
       "4              True                        True                     True   \n",
       "\n",
       "   Backhoe_Mounting_is_missing  Blade_Type_is_missing  \\\n",
       "0                        False                  False   \n",
       "1                         True                   True   \n",
       "2                        False                  False   \n",
       "3                         True                   True   \n",
       "4                        False                  False   \n",
       "\n",
       "   Travel_Controls_is_missing  Differential_Type_is_missing  \\\n",
       "0                       False                          True   \n",
       "1                        True                         False   \n",
       "2                       False                          True   \n",
       "3                        True                         False   \n",
       "4                       False                          True   \n",
       "\n",
       "   Steering_Controls_is_missing  \n",
       "0                          True  \n",
       "1                         False  \n",
       "2                          True  \n",
       "3                         False  \n",
       "4                          True  \n",
       "\n",
       "[5 rows x 103 columns]"
      ]
     },
     "execution_count": 97,
     "metadata": {},
     "output_type": "execute_result"
    }
   ],
   "source": [
    "df_tmp.head()"
   ]
  },
  {
   "cell_type": "markdown",
   "metadata": {},
   "source": [
    "### Divide data into train and validation set\n",
    "\n",
    "According to the [Kaggle data page](https://www.kaggle.com/c/bluebook-for-bulldozers/data), the validation set and test set are split according to dates.\n",
    "\n",
    "Since this is a time series problem.\n",
    "\n",
    "E.g. using past events to try and predict future events.\n",
    "\n",
    "Knowing this, randomly splitting our data into train and test sets using something like `train_test_split()` wouldn't work.\n",
    "\n",
    "Instead, we split our data into training, validation and test sets using the date each sample occured.\n",
    "\n",
    "In our case:\n",
    "* Training = all samples up until 2011\n",
    "* Valid = all samples form January 1, 2012 - April 30, 2012\n",
    "* Test = all samples from May 1, 2012 - November 2012\n",
    "\n",
    "For more on making good training, validation and test sets, check out the post [How (and why) to create a good validation set](https://www.fast.ai/2017/11/13/validation-sets/) by Rachel Thomas."
   ]
  },
  {
   "cell_type": "code",
   "execution_count": 98,
   "metadata": {},
   "outputs": [
    {
     "data": {
      "text/plain": [
       "2009    43849\n",
       "2008    39767\n",
       "2011    35197\n",
       "2010    33390\n",
       "2007    32208\n",
       "2006    21685\n",
       "2005    20463\n",
       "2004    19879\n",
       "2001    17594\n",
       "2000    17415\n",
       "2002    17246\n",
       "2003    15254\n",
       "1998    13046\n",
       "1999    12793\n",
       "2012    11573\n",
       "1997     9785\n",
       "1996     8829\n",
       "1995     8530\n",
       "1994     7929\n",
       "1993     6303\n",
       "1992     5519\n",
       "1991     5109\n",
       "1989     4806\n",
       "1990     4529\n",
       "Name: saleYear, dtype: int64"
      ]
     },
     "execution_count": 98,
     "metadata": {},
     "output_type": "execute_result"
    }
   ],
   "source": [
    "df_tmp.saleYear.value_counts()"
   ]
  },
  {
   "cell_type": "code",
   "execution_count": 99,
   "metadata": {},
   "outputs": [
    {
     "data": {
      "text/plain": [
       "(11573, 401125)"
      ]
     },
     "execution_count": 99,
     "metadata": {},
     "output_type": "execute_result"
    }
   ],
   "source": [
    "df_val = df_tmp[df_tmp[\"saleYear\"]==2012]\n",
    "df_train = df_tmp[df_tmp[\"saleYear\"]!=2012]\n",
    "len(df_val), len(df_train)"
   ]
  },
  {
   "cell_type": "code",
   "execution_count": 100,
   "metadata": {},
   "outputs": [
    {
     "data": {
      "text/plain": [
       "((401125, 102), (401125,), (11573, 102), (11573,))"
      ]
     },
     "execution_count": 100,
     "metadata": {},
     "output_type": "execute_result"
    }
   ],
   "source": [
    "X_train, y_train = df_train.drop('SalePrice', axis = 1),df_train['SalePrice']\n",
    "X_val, y_val = df_val.drop('SalePrice', axis =1),df_val['SalePrice']\n",
    "X_train.shape,y_train.shape,X_val.shape,y_val.shape"
   ]
  },
  {
   "cell_type": "code",
   "execution_count": 101,
   "metadata": {},
   "outputs": [
    {
     "data": {
      "text/html": [
       "<div>\n",
       "<style scoped>\n",
       "    .dataframe tbody tr th:only-of-type {\n",
       "        vertical-align: middle;\n",
       "    }\n",
       "\n",
       "    .dataframe tbody tr th {\n",
       "        vertical-align: top;\n",
       "    }\n",
       "\n",
       "    .dataframe thead th {\n",
       "        text-align: right;\n",
       "    }\n",
       "</style>\n",
       "<table border=\"1\" class=\"dataframe\">\n",
       "  <thead>\n",
       "    <tr style=\"text-align: right;\">\n",
       "      <th></th>\n",
       "      <th>SalesID</th>\n",
       "      <th>MachineID</th>\n",
       "      <th>ModelID</th>\n",
       "      <th>datasource</th>\n",
       "      <th>auctioneerID</th>\n",
       "      <th>YearMade</th>\n",
       "      <th>MachineHoursCurrentMeter</th>\n",
       "      <th>UsageBand</th>\n",
       "      <th>fiModelDesc</th>\n",
       "      <th>fiBaseModel</th>\n",
       "      <th>...</th>\n",
       "      <th>Undercarriage_Pad_Width_is_missing</th>\n",
       "      <th>Stick_Length_is_missing</th>\n",
       "      <th>Thumb_is_missing</th>\n",
       "      <th>Pattern_Changer_is_missing</th>\n",
       "      <th>Grouser_Type_is_missing</th>\n",
       "      <th>Backhoe_Mounting_is_missing</th>\n",
       "      <th>Blade_Type_is_missing</th>\n",
       "      <th>Travel_Controls_is_missing</th>\n",
       "      <th>Differential_Type_is_missing</th>\n",
       "      <th>Steering_Controls_is_missing</th>\n",
       "    </tr>\n",
       "  </thead>\n",
       "  <tbody>\n",
       "    <tr>\n",
       "      <th>0</th>\n",
       "      <td>1646770</td>\n",
       "      <td>1126363</td>\n",
       "      <td>8434</td>\n",
       "      <td>132</td>\n",
       "      <td>3.0</td>\n",
       "      <td>1974</td>\n",
       "      <td>68.0</td>\n",
       "      <td>0</td>\n",
       "      <td>4593</td>\n",
       "      <td>1744</td>\n",
       "      <td>...</td>\n",
       "      <td>True</td>\n",
       "      <td>True</td>\n",
       "      <td>True</td>\n",
       "      <td>True</td>\n",
       "      <td>True</td>\n",
       "      <td>False</td>\n",
       "      <td>False</td>\n",
       "      <td>False</td>\n",
       "      <td>True</td>\n",
       "      <td>True</td>\n",
       "    </tr>\n",
       "    <tr>\n",
       "      <th>1</th>\n",
       "      <td>1821514</td>\n",
       "      <td>1194089</td>\n",
       "      <td>10150</td>\n",
       "      <td>132</td>\n",
       "      <td>3.0</td>\n",
       "      <td>1980</td>\n",
       "      <td>4640.0</td>\n",
       "      <td>0</td>\n",
       "      <td>1820</td>\n",
       "      <td>559</td>\n",
       "      <td>...</td>\n",
       "      <td>True</td>\n",
       "      <td>True</td>\n",
       "      <td>True</td>\n",
       "      <td>True</td>\n",
       "      <td>True</td>\n",
       "      <td>True</td>\n",
       "      <td>True</td>\n",
       "      <td>True</td>\n",
       "      <td>False</td>\n",
       "      <td>False</td>\n",
       "    </tr>\n",
       "    <tr>\n",
       "      <th>2</th>\n",
       "      <td>1505138</td>\n",
       "      <td>1473654</td>\n",
       "      <td>4139</td>\n",
       "      <td>132</td>\n",
       "      <td>3.0</td>\n",
       "      <td>1978</td>\n",
       "      <td>2838.0</td>\n",
       "      <td>0</td>\n",
       "      <td>2348</td>\n",
       "      <td>713</td>\n",
       "      <td>...</td>\n",
       "      <td>True</td>\n",
       "      <td>True</td>\n",
       "      <td>True</td>\n",
       "      <td>True</td>\n",
       "      <td>True</td>\n",
       "      <td>False</td>\n",
       "      <td>False</td>\n",
       "      <td>False</td>\n",
       "      <td>True</td>\n",
       "      <td>True</td>\n",
       "    </tr>\n",
       "    <tr>\n",
       "      <th>3</th>\n",
       "      <td>1671174</td>\n",
       "      <td>1327630</td>\n",
       "      <td>8591</td>\n",
       "      <td>132</td>\n",
       "      <td>3.0</td>\n",
       "      <td>1980</td>\n",
       "      <td>3486.0</td>\n",
       "      <td>0</td>\n",
       "      <td>1819</td>\n",
       "      <td>558</td>\n",
       "      <td>...</td>\n",
       "      <td>True</td>\n",
       "      <td>True</td>\n",
       "      <td>True</td>\n",
       "      <td>True</td>\n",
       "      <td>True</td>\n",
       "      <td>True</td>\n",
       "      <td>True</td>\n",
       "      <td>True</td>\n",
       "      <td>False</td>\n",
       "      <td>False</td>\n",
       "    </tr>\n",
       "    <tr>\n",
       "      <th>4</th>\n",
       "      <td>1329056</td>\n",
       "      <td>1336053</td>\n",
       "      <td>4089</td>\n",
       "      <td>132</td>\n",
       "      <td>3.0</td>\n",
       "      <td>1984</td>\n",
       "      <td>722.0</td>\n",
       "      <td>0</td>\n",
       "      <td>2119</td>\n",
       "      <td>683</td>\n",
       "      <td>...</td>\n",
       "      <td>True</td>\n",
       "      <td>True</td>\n",
       "      <td>True</td>\n",
       "      <td>True</td>\n",
       "      <td>True</td>\n",
       "      <td>False</td>\n",
       "      <td>False</td>\n",
       "      <td>False</td>\n",
       "      <td>True</td>\n",
       "      <td>True</td>\n",
       "    </tr>\n",
       "  </tbody>\n",
       "</table>\n",
       "<p>5 rows × 102 columns</p>\n",
       "</div>"
      ],
      "text/plain": [
       "   SalesID  MachineID  ModelID  datasource  auctioneerID  YearMade  \\\n",
       "0  1646770    1126363     8434         132           3.0      1974   \n",
       "1  1821514    1194089    10150         132           3.0      1980   \n",
       "2  1505138    1473654     4139         132           3.0      1978   \n",
       "3  1671174    1327630     8591         132           3.0      1980   \n",
       "4  1329056    1336053     4089         132           3.0      1984   \n",
       "\n",
       "   MachineHoursCurrentMeter  UsageBand  fiModelDesc  fiBaseModel  ...  \\\n",
       "0                      68.0          0         4593         1744  ...   \n",
       "1                    4640.0          0         1820          559  ...   \n",
       "2                    2838.0          0         2348          713  ...   \n",
       "3                    3486.0          0         1819          558  ...   \n",
       "4                     722.0          0         2119          683  ...   \n",
       "\n",
       "   Undercarriage_Pad_Width_is_missing  Stick_Length_is_missing  \\\n",
       "0                                True                     True   \n",
       "1                                True                     True   \n",
       "2                                True                     True   \n",
       "3                                True                     True   \n",
       "4                                True                     True   \n",
       "\n",
       "   Thumb_is_missing  Pattern_Changer_is_missing  Grouser_Type_is_missing  \\\n",
       "0              True                        True                     True   \n",
       "1              True                        True                     True   \n",
       "2              True                        True                     True   \n",
       "3              True                        True                     True   \n",
       "4              True                        True                     True   \n",
       "\n",
       "   Backhoe_Mounting_is_missing  Blade_Type_is_missing  \\\n",
       "0                        False                  False   \n",
       "1                         True                   True   \n",
       "2                        False                  False   \n",
       "3                         True                   True   \n",
       "4                        False                  False   \n",
       "\n",
       "   Travel_Controls_is_missing  Differential_Type_is_missing  \\\n",
       "0                       False                          True   \n",
       "1                        True                         False   \n",
       "2                       False                          True   \n",
       "3                        True                         False   \n",
       "4                       False                          True   \n",
       "\n",
       "   Steering_Controls_is_missing  \n",
       "0                          True  \n",
       "1                         False  \n",
       "2                          True  \n",
       "3                         False  \n",
       "4                          True  \n",
       "\n",
       "[5 rows x 102 columns]"
      ]
     },
     "execution_count": 101,
     "metadata": {},
     "output_type": "execute_result"
    }
   ],
   "source": [
    "X_train.head()"
   ]
  },
  {
   "cell_type": "code",
   "execution_count": 102,
   "metadata": {},
   "outputs": [
    {
     "data": {
      "text/plain": [
       "0     9500.0\n",
       "1    14000.0\n",
       "2    50000.0\n",
       "3    16000.0\n",
       "4    22000.0\n",
       "Name: SalePrice, dtype: float64"
      ]
     },
     "execution_count": 102,
     "metadata": {},
     "output_type": "execute_result"
    }
   ],
   "source": [
    "y_train.head()"
   ]
  },
  {
   "cell_type": "markdown",
   "metadata": {},
   "source": [
    "### Building an evaluation function\n",
    "\n",
    "According to Kaggle for the Bluebook for Bulldozers competition, [the evaluation function](https://www.kaggle.com/c/bluebook-for-bulldozers/overview/evaluation) they use is root mean squared log error (RMSLE).\n",
    "\n",
    "**RMSLE** = generally you don't care as much if you're off by $10 as much as you'd care if you were off by 10%, you care more about ratios rather than differences. **MAE** (mean absolute error) is more about exact differences.\n",
    "\n",
    "Since Scikit-Learn doesn't have a function built-in for RMSLE, we'll create our own.\n",
    "\n",
    "We can do this by taking the square root of Scikit-Learn's [mean_squared_log_error](https://scikit-learn.org/stable/modules/generated/sklearn.metrics.mean_squared_log_error.html#sklearn.metrics.mean_squared_log_error) (MSLE). MSLE is the same as taking the log of mean squared error (MSE).\n",
    "\n",
    "We'll also calculate the MAE and R^2."
   ]
  },
  {
   "cell_type": "code",
   "execution_count": 103,
   "metadata": {},
   "outputs": [],
   "source": [
    "from sklearn.metrics import mean_squared_log_error, mean_absolute_error, r2_score\n",
    "\n",
    "def rmsle(y_test, y_preds):\n",
    "    \"\"\"\n",
    "    Returns root mean square log error.\n",
    "    \n",
    "    \"\"\"\n",
    "    return np.sqrt(mean_squared_log_error(y_test, y_preds))\n",
    "\n",
    "def eval_scores (model, X_train, X_val,y_train,y_val):\n",
    "    \"\"\"\n",
    "    Returns mean absolute error, mean square log error, root mean square log error, R^2 score on train and validation data.\n",
    "    \"\"\"\n",
    "    train_preds = model.predict(X_train)\n",
    "    val_preds = model.predict(X_val)\n",
    "    score = {'Train MAE': mean_absolute_error(y_train,train_preds),\n",
    "             'Val MAE': mean_absolute_error(y_val,val_preds),\n",
    "            'Train MSLE':mean_squared_log_error(y_train, train_preds),\n",
    "            'Val MSLE':mean_squared_log_error(y_val, val_preds),\n",
    "            'Train RMSLE':rmsle(y_train, train_preds),\n",
    "            'Val RMSLE':rmsle(y_val, val_preds),\n",
    "            'Train R2':r2_score(y_train,train_preds),\n",
    "            'Val R2':r2_score(y_val,val_preds)}\n",
    "    return score"
   ]
  },
  {
   "cell_type": "markdown",
   "metadata": {},
   "source": [
    "### Testing our model on a subset (to tune the hyperparameters)\n",
    "\n",
    "Retraing an entire model would take far too long to continuing experimenting as fast as we want to.\n",
    "\n",
    "So, take a sample of the training set and tune the hyperparameters on that before training a larger model.\n",
    "\n",
    "If experiments are taking longer than 10-seconds, you should be trying to speed things up. You can speed things up by sampling less data or using a faster computer.\n",
    "\n",
    "* Methods to restrict data given for training:  \n",
    "1) Using slicing `model.fit(X_train[:10000],y_train[:10000])`  \n",
    "2) Using Random Forest Regressors parameter `max_samples` : alter the number of samples each `n_estimator` in the [`RandomForestRegressor`](https://scikit-learn.org/stable/modules/generated/sklearn.ensemble.RandomForestRegressor.html) see's using the `max_samples` parameter."
   ]
  },
  {
   "cell_type": "code",
   "execution_count": 13,
   "metadata": {},
   "outputs": [],
   "source": [
    "model = RandomForestRegressor(n_jobs=-1, max_samples=10000)"
   ]
  },
  {
   "cell_type": "markdown",
   "metadata": {},
   "source": [
    "Setting `max_samples` to 10000 means every `n_estimator` (default 100) in our `RandomForestRegressor` will only see 10000 random samples from our DataFrame instead of the entire 400,000.\n",
    "\n",
    "In other words, we'll be looking at 40x less samples which means we'll get faster computation speeds but we should expect our results to worsen (the model has less samples to learn patterns from)."
   ]
  },
  {
   "cell_type": "code",
   "execution_count": 14,
   "metadata": {},
   "outputs": [
    {
     "name": "stdout",
     "output_type": "stream",
     "text": [
      "Wall time: 10.5 s\n"
     ]
    },
    {
     "data": {
      "text/plain": [
       "RandomForestRegressor(max_samples=10000, n_jobs=-1)"
      ]
     },
     "execution_count": 14,
     "metadata": {},
     "output_type": "execute_result"
    }
   ],
   "source": [
    "%%time\n",
    "model.fit(X_train,y_train)"
   ]
  },
  {
   "cell_type": "code",
   "execution_count": 15,
   "metadata": {},
   "outputs": [
    {
     "data": {
      "text/plain": [
       "{'Train MAE': 5590.887493649113,\n",
       " 'Val MAE': 7315.165969930009,\n",
       " 'Train MSLE': 0.06698609879427689,\n",
       " 'Val MSLE': 0.09041427082917872,\n",
       " 'Train RMSLE': 0.25881672819637624,\n",
       " 'Val RMSLE': 0.3006896586668366,\n",
       " 'Train R2': 0.8595185563794857,\n",
       " 'Val R2': 0.830435601594026}"
      ]
     },
     "execution_count": 15,
     "metadata": {},
     "output_type": "execute_result"
    }
   ],
   "source": [
    "eval_scores(model, X_train,X_val,y_train,y_val)"
   ]
  },
  {
   "cell_type": "code",
   "execution_count": 15,
   "metadata": {},
   "outputs": [],
   "source": [
    "# without n_jobs=-1 (takes more time)\n",
    "model = RandomForestRegressor(max_samples=10000)"
   ]
  },
  {
   "cell_type": "code",
   "execution_count": 16,
   "metadata": {},
   "outputs": [
    {
     "name": "stdout",
     "output_type": "stream",
     "text": [
      "Wall time: 30.7 s\n"
     ]
    },
    {
     "data": {
      "text/plain": [
       "RandomForestRegressor(max_samples=10000)"
      ]
     },
     "execution_count": 16,
     "metadata": {},
     "output_type": "execute_result"
    }
   ],
   "source": [
    "%%time\n",
    "model.fit(X_train,y_train)"
   ]
  },
  {
   "cell_type": "code",
   "execution_count": 17,
   "metadata": {},
   "outputs": [
    {
     "data": {
      "text/plain": [
       "{'Train MAE': 5582.799074478031,\n",
       " 'Val MAE': 7316.077692041821,\n",
       " 'Train MSLE': 0.06676493053398679,\n",
       " 'Val MSLE': 0.08968567793517115,\n",
       " 'Train RMSLE': 0.25838910684080085,\n",
       " 'Val RMSLE': 0.2994756716916604,\n",
       " 'Train R2': 0.8596446753249801,\n",
       " 'Val R2': 0.8280473392386034}"
      ]
     },
     "execution_count": 17,
     "metadata": {},
     "output_type": "execute_result"
    }
   ],
   "source": [
    "eval_scores(model, X_train,X_val,y_train,y_val)"
   ]
  },
  {
   "cell_type": "markdown",
   "metadata": {},
   "source": [
    "## Hyperparameter Tuning with Randomized Search CV"
   ]
  },
  {
   "cell_type": "code",
   "execution_count": 104,
   "metadata": {},
   "outputs": [],
   "source": [
    "from sklearn.model_selection import RandomizedSearchCV\n",
    "rf_grid_1 = {\"n_estimators\": np.arange(10, 400, 20),\n",
    "           \"max_depth\": [None, 3, 5, 10,20,40],\n",
    "           \"min_samples_split\": np.arange(2, 20, 2),\n",
    "           \"min_samples_leaf\": np.arange(3, 20, 2),\n",
    "           \"max_features\": [0.5, 1.0, \"sqrt\", \"auto\"],\n",
    "           \"max_samples\": [10000],\n",
    "            \"n_jobs\":[-1]}\n",
    "rf_grid_2 = {\"n_estimators\": np.arange(10, 200, 20),\n",
    "           \"max_depth\": [None, 3, 5, 10,20,40],\n",
    "           \"min_samples_split\": np.arange(4, 20, 2),\n",
    "           \"min_samples_leaf\": np.arange(5, 20, 2),\n",
    "           \"max_features\": [0.5, 1, \"sqrt\", \"auto\"],\n",
    "           \"max_samples\": [10000],\n",
    "            \"n_jobs\":[-1]}\n",
    "rf_grid_3 = {\"n_estimators\": np.arange(10, 100, 10),\n",
    "           \"max_depth\": [None, 3, 5, 10],\n",
    "           \"min_samples_split\": np.arange(2, 20, 2),\n",
    "           \"min_samples_leaf\": np.arange(1, 20, 2),\n",
    "           \"max_features\": [0.5, 1, \"sqrt\", \"auto\"],\n",
    "           \"max_samples\": [10000],\n",
    "            \"n_jobs\":[-1]}\n",
    "rf_grid_4 = {\"n_estimators\": np.arange(50, 600, 30),\n",
    "           \"max_depth\": [None,5, 10,20, 40, 60],\n",
    "           \"min_samples_split\": np.arange(2, 16, 2),\n",
    "           \"min_samples_leaf\": np.arange(1, 16, 2),\n",
    "           \"max_features\": [0.5,1.0,0.75, \"auto\"],\n",
    "           \"max_samples\": [10000],\n",
    "            \"n_jobs\":[-1]}\n",
    "rf_grid_5 = {\"n_estimators\": np.arange(10, 1000, 70),\n",
    "           \"max_depth\": [None, 10,20,40,60,80],\n",
    "           \"min_samples_split\": np.arange(4, 20, 2),\n",
    "           \"min_samples_leaf\": np.arange(5, 20, 2),\n",
    "           \"max_features\": [0.5, 1, 0.75, \"auto\"],\n",
    "           \"max_samples\": [10000],\n",
    "            \"n_jobs\":[-1]}\n",
    "rf_grid_4_re = {\"n_estimators\": np.arange(200, 1000, 50),\n",
    "           \"max_depth\": [None,10,20, 40, 60,80],\n",
    "           \"min_samples_split\": np.arange(2, 16, 2),\n",
    "           \"min_samples_leaf\": np.arange(1, 16, 2),\n",
    "           \"max_features\": [0.5,1.0,0.75, \"auto\"],\n",
    "           \"max_samples\": [10000],\n",
    "            \"n_jobs\":[-1]}\n",
    "rf_grid_4_re_2 = {\"n_estimators\": np.arange(10, 200, 20),\n",
    "           \"max_depth\": [None,20, 40, 60,80,100],\n",
    "           \"min_samples_split\": np.arange(2, 16, 2),\n",
    "           \"min_samples_leaf\": np.arange(1, 16, 2),\n",
    "           \"max_features\": [0.5,1.0,0.75, \"auto\"],\n",
    "           \"max_samples\": [10000],\n",
    "            \"n_jobs\":[-1]}\n",
    "rf_grid_4_re_3 = {\"n_estimators\": np.arange(10, 200, 20),\n",
    "           \"max_depth\": [None,20, 40, 60,80,100],\n",
    "           \"min_samples_split\": np.arange(4, 16, 2),\n",
    "           \"min_samples_leaf\": np.arange(5, 16, 2),\n",
    "           \"max_features\": [0.5,1.0,0.75, \"auto\"],\n",
    "           \"max_samples\": [10000],\n",
    "            \"n_jobs\":[-1]}\n",
    "rf_grid_4_re_4 = {\"n_estimators\": np.arange(10, 400, 50),\n",
    "           \"max_depth\": [None,20, 40, 60,80],\n",
    "           \"min_samples_split\": np.arange(4, 16, 2),\n",
    "           \"min_samples_leaf\": np.arange(5, 16, 2),\n",
    "           \"max_features\": [0.5,1.0,0.75, \"auto\"],\n",
    "           \"max_samples\": [10000],\n",
    "            \"n_jobs\":[-1]}\n",
    "rf_grid_4_re_5 = {\"n_estimators\": np.arange(10, 400, 50),\n",
    "           \"max_depth\": [None,5, 10, 20],\n",
    "           \"min_samples_split\": np.arange(2, 16, 2),\n",
    "           \"min_samples_leaf\": np.arange(3, 16, 2),\n",
    "           \"max_samples\": [10000],\n",
    "            \"n_jobs\":[-1]}\n",
    "rf_grid_4_re_6 = {\"n_estimators\": np.arange(10, 300, 30),\n",
    "           \"max_depth\": [None, 20, 40, 60, 80],\n",
    "           \"min_samples_split\": np.arange(2, 16, 2),\n",
    "           \"min_samples_leaf\": np.arange(1, 16, 2),\n",
    "           \"max_samples\": [10000],\n",
    "            \"n_jobs\":[-1]}\n",
    "rf_grid_comb_1 = {\"n_estimators\": np.arange(10, 200, 20),\n",
    "           \"max_depth\": [None, 20, 40, 60, 80],\n",
    "           \"min_samples_split\": np.arange(2, 16, 2),\n",
    "           \"min_samples_leaf\": np.arange(4, 16, 2),\n",
    "           \"max_samples\": [10000],\n",
    "            \"n_jobs\":[-1]}\n",
    "rf_grid_comb_2 = {\"n_estimators\": np.arange(10, 100, 10),\n",
    "           \"max_depth\": [None,20,40,60],\n",
    "           \"min_samples_split\": np.arange(2, 20, 2),\n",
    "           \"min_samples_leaf\": np.arange(3, 20, 2),\n",
    "            \"max_features\": [0.5, 1.0, \"sqrt\", \"auto\"],\n",
    "           \"max_samples\": [10000],\n",
    "            \"n_jobs\":[-1]}"
   ]
  },
  {
   "cell_type": "code",
   "execution_count": 80,
   "metadata": {},
   "outputs": [],
   "source": [
    "# np.random.seed(42)\n",
    "rs_model_1 = RandomizedSearchCV(RandomForestRegressor(random_state=42), \n",
    "                              param_distributions=rf_grid_1,\n",
    "                              cv=5,\n",
    "                              n_iter=250,\n",
    "                              n_jobs=-1,\n",
    "                              verbose=True)"
   ]
  },
  {
   "cell_type": "code",
   "execution_count": 26,
   "metadata": {},
   "outputs": [
    {
     "name": "stdout",
     "output_type": "stream",
     "text": [
      "Fitting 5 folds for each of 250 candidates, totalling 1250 fits\n"
     ]
    },
    {
     "name": "stderr",
     "output_type": "stream",
     "text": [
      "[Parallel(n_jobs=-1)]: Using backend LokyBackend with 8 concurrent workers.\n",
      "[Parallel(n_jobs=-1)]: Done  34 tasks      | elapsed:  6.1min\n",
      "[Parallel(n_jobs=-1)]: Done 184 tasks      | elapsed: 20.7min\n",
      "[Parallel(n_jobs=-1)]: Done 434 tasks      | elapsed: 54.7min\n",
      "[Parallel(n_jobs=-1)]: Done 784 tasks      | elapsed: 100.8min\n",
      "[Parallel(n_jobs=-1)]: Done 1234 tasks      | elapsed: 160.2min\n",
      "[Parallel(n_jobs=-1)]: Done 1250 out of 1250 | elapsed: 160.6min finished\n"
     ]
    },
    {
     "data": {
      "text/plain": [
       "RandomizedSearchCV(cv=5, estimator=RandomForestRegressor(random_state=42),\n",
       "                   n_iter=250, n_jobs=-1,\n",
       "                   param_distributions={'max_depth': [None, 3, 5, 10, 20, 40],\n",
       "                                        'max_features': [0.5, 1.0, 'sqrt',\n",
       "                                                         'auto'],\n",
       "                                        'max_samples': [10000],\n",
       "                                        'min_samples_leaf': array([ 3,  5,  7,  9, 11, 13, 15, 17, 19]),\n",
       "                                        'min_samples_split': array([ 2,  4,  6,  8, 10, 12, 14, 16, 18]),\n",
       "                                        'n_estimators': array([ 10,  30,  50,  70,  90, 110, 130, 150, 170, 190, 210, 230, 250,\n",
       "       270, 290, 310, 330, 350, 370, 390]),\n",
       "                                        'n_jobs': [-1]},\n",
       "                   verbose=True)"
      ]
     },
     "execution_count": 26,
     "metadata": {},
     "output_type": "execute_result"
    }
   ],
   "source": [
    "rs_model_1.fit(X_train,y_train)"
   ]
  },
  {
   "cell_type": "code",
   "execution_count": 27,
   "metadata": {},
   "outputs": [
    {
     "data": {
      "text/plain": [
       "{'n_jobs': -1,\n",
       " 'n_estimators': 330,\n",
       " 'min_samples_split': 6,\n",
       " 'min_samples_leaf': 3,\n",
       " 'max_samples': 10000,\n",
       " 'max_features': 1.0,\n",
       " 'max_depth': 20}"
      ]
     },
     "execution_count": 27,
     "metadata": {},
     "output_type": "execute_result"
    }
   ],
   "source": [
    "rs_model_1.best_params_"
   ]
  },
  {
   "cell_type": "code",
   "execution_count": 28,
   "metadata": {},
   "outputs": [
    {
     "data": {
      "text/plain": [
       "{'Train MAE': 5623.229618772711,\n",
       " 'Val MAE': 7269.1532811119905,\n",
       " 'Train MSLE': 0.06751032884813418,\n",
       " 'Val MSLE': 0.08764281604494915,\n",
       " 'Train RMSLE': 0.259827498252464,\n",
       " 'Val RMSLE': 0.296045293907789,\n",
       " 'Train R2': 0.8559652681771991,\n",
       " 'Val R2': 0.8259800880862996}"
      ]
     },
     "execution_count": 28,
     "metadata": {},
     "output_type": "execute_result"
    }
   ],
   "source": [
    "eval_scores(rs_model_1, X_train, X_val, y_train, y_val)"
   ]
  },
  {
   "cell_type": "code",
   "execution_count": 16,
   "metadata": {},
   "outputs": [],
   "source": [
    "np.random.seed(42)\n",
    "rs_model_res_1 = RandomizedSearchCV(RandomForestRegressor(), \n",
    "                              param_distributions=rf_grid_4,\n",
    "                              cv=5,\n",
    "                              n_iter=10,\n",
    "                              n_jobs=-1,\n",
    "                              verbose=5)"
   ]
  },
  {
   "cell_type": "code",
   "execution_count": 17,
   "metadata": {},
   "outputs": [
    {
     "name": "stdout",
     "output_type": "stream",
     "text": [
      "Fitting 5 folds for each of 10 candidates, totalling 50 fits\n"
     ]
    },
    {
     "name": "stderr",
     "output_type": "stream",
     "text": [
      "[Parallel(n_jobs=-1)]: Using backend LokyBackend with 8 concurrent workers.\n",
      "[Parallel(n_jobs=-1)]: Done   2 tasks      | elapsed:  2.1min\n",
      "[Parallel(n_jobs=-1)]: Done  46 out of  50 | elapsed: 17.7min remaining:  1.5min\n",
      "[Parallel(n_jobs=-1)]: Done  50 out of  50 | elapsed: 18.2min finished\n"
     ]
    },
    {
     "data": {
      "text/plain": [
       "RandomizedSearchCV(cv=5, estimator=RandomForestRegressor(), n_jobs=-1,\n",
       "                   param_distributions={'max_depth': [None, 5, 10, 20, 40, 60],\n",
       "                                        'max_features': [0.5, 1.0, 0.75,\n",
       "                                                         'auto'],\n",
       "                                        'max_samples': [10000],\n",
       "                                        'min_samples_leaf': array([ 1,  3,  5,  7,  9, 11, 13, 15]),\n",
       "                                        'min_samples_split': array([ 2,  4,  6,  8, 10, 12, 14]),\n",
       "                                        'n_estimators': array([ 50,  80, 110, 140, 170, 200, 230, 260, 290, 320, 350, 380, 410,\n",
       "       440, 470, 500, 530, 560, 590]),\n",
       "                                        'n_jobs': [-1]},\n",
       "                   verbose=5)"
      ]
     },
     "execution_count": 17,
     "metadata": {},
     "output_type": "execute_result"
    }
   ],
   "source": [
    "rs_model_res_1.fit(X_train,y_train)"
   ]
  },
  {
   "cell_type": "code",
   "execution_count": 18,
   "metadata": {},
   "outputs": [
    {
     "data": {
      "text/plain": [
       "{'n_jobs': -1,\n",
       " 'n_estimators': 590,\n",
       " 'min_samples_split': 12,\n",
       " 'min_samples_leaf': 3,\n",
       " 'max_samples': 10000,\n",
       " 'max_features': 0.75,\n",
       " 'max_depth': 60}"
      ]
     },
     "execution_count": 18,
     "metadata": {},
     "output_type": "execute_result"
    }
   ],
   "source": [
    "rs_model_res_1.best_params_"
   ]
  },
  {
   "cell_type": "code",
   "execution_count": 19,
   "metadata": {},
   "outputs": [
    {
     "data": {
      "text/plain": [
       "{'Train MAE': 5770.890491144559,\n",
       " 'Val MAE': 7290.728059160671,\n",
       " 'Train MSLE': 0.07031589749450716,\n",
       " 'Val MSLE': 0.088421708862761,\n",
       " 'Train RMSLE': 0.2651714492446484,\n",
       " 'Val RMSLE': 0.2973578801087353,\n",
       " 'Train R2': 0.8498118815737579,\n",
       " 'Val R2': 0.8273800949357175}"
      ]
     },
     "execution_count": 19,
     "metadata": {},
     "output_type": "execute_result"
    }
   ],
   "source": [
    "eval_scores(rs_model_res_1, X_train, X_val, y_train, y_val)"
   ]
  },
  {
   "cell_type": "code",
   "execution_count": 21,
   "metadata": {},
   "outputs": [],
   "source": [
    "np.random.seed(42)\n",
    "rs_model_res_1_re1 = RandomizedSearchCV(RandomForestRegressor(), \n",
    "                              param_distributions=rf_grid_4_re,\n",
    "                              cv=5,\n",
    "                              n_iter=10,\n",
    "                              n_jobs=-1,\n",
    "                              verbose=2)"
   ]
  },
  {
   "cell_type": "code",
   "execution_count": 22,
   "metadata": {},
   "outputs": [
    {
     "name": "stdout",
     "output_type": "stream",
     "text": [
      "Fitting 5 folds for each of 10 candidates, totalling 50 fits\n"
     ]
    },
    {
     "name": "stderr",
     "output_type": "stream",
     "text": [
      "[Parallel(n_jobs=-1)]: Using backend LokyBackend with 8 concurrent workers.\n",
      "[Parallel(n_jobs=-1)]: Done  25 tasks      | elapsed: 17.7min\n",
      "[Parallel(n_jobs=-1)]: Done  50 out of  50 | elapsed: 25.6min finished\n"
     ]
    },
    {
     "data": {
      "text/plain": [
       "RandomizedSearchCV(cv=5, estimator=RandomForestRegressor(), n_jobs=-1,\n",
       "                   param_distributions={'max_depth': [None, 10, 20, 40, 60, 80],\n",
       "                                        'max_features': [0.5, 1.0, 0.75,\n",
       "                                                         'auto'],\n",
       "                                        'max_samples': [10000],\n",
       "                                        'min_samples_leaf': array([ 1,  3,  5,  7,  9, 11, 13, 15]),\n",
       "                                        'min_samples_split': array([ 2,  4,  6,  8, 10, 12, 14]),\n",
       "                                        'n_estimators': array([200, 250, 300, 350, 400, 450, 500, 550, 600, 650, 700, 750, 800,\n",
       "       850, 900, 950]),\n",
       "                                        'n_jobs': [-1]},\n",
       "                   verbose=2)"
      ]
     },
     "execution_count": 22,
     "metadata": {},
     "output_type": "execute_result"
    }
   ],
   "source": [
    "rs_model_res_1_re1.fit(X_train,y_train)"
   ]
  },
  {
   "cell_type": "code",
   "execution_count": 23,
   "metadata": {},
   "outputs": [
    {
     "data": {
      "text/plain": [
       "{'n_jobs': -1,\n",
       " 'n_estimators': 550,\n",
       " 'min_samples_split': 12,\n",
       " 'min_samples_leaf': 1,\n",
       " 'max_samples': 10000,\n",
       " 'max_features': 0.5,\n",
       " 'max_depth': 60}"
      ]
     },
     "execution_count": 23,
     "metadata": {},
     "output_type": "execute_result"
    }
   ],
   "source": [
    "rs_model_res_1_re1.best_params_"
   ]
  },
  {
   "cell_type": "code",
   "execution_count": 24,
   "metadata": {},
   "outputs": [
    {
     "data": {
      "text/plain": [
       "{'Train MAE': 5881.21231371782,\n",
       " 'Val MAE': 7371.341406808823,\n",
       " 'Train MSLE': 0.07267033288520035,\n",
       " 'Val MSLE': 0.09223414196568591,\n",
       " 'Train RMSLE': 0.2695743550213936,\n",
       " 'Val RMSLE': 0.30370074409801157,\n",
       " 'Train R2': 0.8468500879236132,\n",
       " 'Val R2': 0.83088122763283}"
      ]
     },
     "execution_count": 24,
     "metadata": {},
     "output_type": "execute_result"
    }
   ],
   "source": [
    "eval_scores(rs_model_res_1_re1, X_train, X_val, y_train, y_val)"
   ]
  },
  {
   "cell_type": "code",
   "execution_count": 26,
   "metadata": {},
   "outputs": [],
   "source": [
    "np.random.seed(42)\n",
    "rs_model_res_1_re2 = RandomizedSearchCV(RandomForestRegressor(), \n",
    "                              param_distributions=rf_grid_4_re_2,\n",
    "                              cv=5,\n",
    "                              n_iter=10,\n",
    "                              n_jobs=-1,\n",
    "                              verbose=10)"
   ]
  },
  {
   "cell_type": "code",
   "execution_count": 27,
   "metadata": {},
   "outputs": [
    {
     "name": "stdout",
     "output_type": "stream",
     "text": [
      "Fitting 5 folds for each of 10 candidates, totalling 50 fits\n"
     ]
    },
    {
     "name": "stderr",
     "output_type": "stream",
     "text": [
      "[Parallel(n_jobs=-1)]: Using backend LokyBackend with 8 concurrent workers.\n",
      "[Parallel(n_jobs=-1)]: Done   2 tasks      | elapsed:   12.5s\n",
      "[Parallel(n_jobs=-1)]: Done   9 tasks      | elapsed:   23.5s\n",
      "[Parallel(n_jobs=-1)]: Done  16 tasks      | elapsed:  1.1min\n",
      "[Parallel(n_jobs=-1)]: Done  25 tasks      | elapsed:  1.8min\n",
      "[Parallel(n_jobs=-1)]: Done  34 tasks      | elapsed:  2.5min\n",
      "[Parallel(n_jobs=-1)]: Done  41 out of  50 | elapsed:  3.5min remaining:   45.5s\n",
      "[Parallel(n_jobs=-1)]: Done  47 out of  50 | elapsed:  4.1min remaining:   15.6s\n",
      "[Parallel(n_jobs=-1)]: Done  50 out of  50 | elapsed:  4.2min finished\n"
     ]
    },
    {
     "data": {
      "text/plain": [
       "RandomizedSearchCV(cv=5, estimator=RandomForestRegressor(), n_jobs=-1,\n",
       "                   param_distributions={'max_depth': [None, 20, 40, 60, 80,\n",
       "                                                      100],\n",
       "                                        'max_features': [0.5, 1.0, 0.75,\n",
       "                                                         'auto'],\n",
       "                                        'max_samples': [10000],\n",
       "                                        'min_samples_leaf': array([ 1,  3,  5,  7,  9, 11, 13, 15]),\n",
       "                                        'min_samples_split': array([ 2,  4,  6,  8, 10, 12, 14]),\n",
       "                                        'n_estimators': array([ 10,  30,  50,  70,  90, 110, 130, 150, 170, 190]),\n",
       "                                        'n_jobs': [-1]},\n",
       "                   verbose=10)"
      ]
     },
     "execution_count": 27,
     "metadata": {},
     "output_type": "execute_result"
    }
   ],
   "source": [
    "rs_model_res_1_re2.fit(X_train,y_train)"
   ]
  },
  {
   "cell_type": "code",
   "execution_count": 28,
   "metadata": {},
   "outputs": [
    {
     "data": {
      "text/plain": [
       "{'n_jobs': -1,\n",
       " 'n_estimators': 110,\n",
       " 'min_samples_split': 8,\n",
       " 'min_samples_leaf': 3,\n",
       " 'max_samples': 10000,\n",
       " 'max_features': 'auto',\n",
       " 'max_depth': 40}"
      ]
     },
     "execution_count": 28,
     "metadata": {},
     "output_type": "execute_result"
    }
   ],
   "source": [
    "rs_model_res_1_re2.best_params_"
   ]
  },
  {
   "cell_type": "code",
   "execution_count": 29,
   "metadata": {},
   "outputs": [
    {
     "data": {
      "text/plain": [
       "{'Train MAE': 5677.901876641317,\n",
       " 'Val MAE': 7321.430725574555,\n",
       " 'Train MSLE': 0.06849054025309131,\n",
       " 'Val MSLE': 0.0887715229130576,\n",
       " 'Train RMSLE': 0.2617069740245592,\n",
       " 'Val RMSLE': 0.2979455032603405,\n",
       " 'Train R2': 0.8530579127578743,\n",
       " 'Val R2': 0.8236411034346117}"
      ]
     },
     "execution_count": 29,
     "metadata": {},
     "output_type": "execute_result"
    }
   ],
   "source": [
    "eval_scores(rs_model_res_1_re2, X_train, X_val, y_train, y_val)"
   ]
  },
  {
   "cell_type": "code",
   "execution_count": 31,
   "metadata": {},
   "outputs": [],
   "source": [
    "# np.random.seed(42)\n",
    "rs_model_res_1_re3 = RandomizedSearchCV(RandomForestRegressor(random_state=42,verbose=2), \n",
    "                              param_distributions=rf_grid_4_re_3,\n",
    "                              cv=5,\n",
    "                              n_iter=10,\n",
    "                              n_jobs=-1,\n",
    "                              verbose=10)"
   ]
  },
  {
   "cell_type": "code",
   "execution_count": 32,
   "metadata": {},
   "outputs": [
    {
     "name": "stdout",
     "output_type": "stream",
     "text": [
      "Fitting 5 folds for each of 10 candidates, totalling 50 fits\n"
     ]
    },
    {
     "name": "stderr",
     "output_type": "stream",
     "text": [
      "[Parallel(n_jobs=-1)]: Using backend LokyBackend with 8 concurrent workers.\n",
      "[Parallel(n_jobs=-1)]: Done   2 tasks      | elapsed:  1.2min\n",
      "[Parallel(n_jobs=-1)]: Done   9 tasks      | elapsed:  2.9min\n",
      "[Parallel(n_jobs=-1)]: Done  16 tasks      | elapsed:  3.1min\n",
      "[Parallel(n_jobs=-1)]: Done  25 tasks      | elapsed:  5.1min\n",
      "[Parallel(n_jobs=-1)]: Done  34 tasks      | elapsed:  5.5min\n",
      "[Parallel(n_jobs=-1)]: Done  41 out of  50 | elapsed:  6.5min remaining:  1.4min\n",
      "[Parallel(n_jobs=-1)]: Done  47 out of  50 | elapsed:  7.2min remaining:   27.4s\n",
      "[Parallel(n_jobs=-1)]: Done  50 out of  50 | elapsed:  7.2min finished\n",
      "[Parallel(n_jobs=-1)]: Using backend ThreadingBackend with 8 concurrent workers.\n"
     ]
    },
    {
     "name": "stdout",
     "output_type": "stream",
     "text": [
      "building tree 1 of 170\n",
      "building tree 2 of 170\n",
      "building tree 3 of 170\n",
      "building tree 4 of 170\n",
      "building tree 5 of 170\n",
      "building tree 6 of 170\n",
      "building tree 7 of 170\n",
      "building tree 8 of 170\n",
      "building tree 9 of 170\n",
      "building tree 10 of 170\n",
      "building tree 11 of 170\n",
      "building tree 12 of 170\n",
      "building tree 13 of 170\n",
      "building tree 14 of 170\n",
      "building tree 15 of 170\n",
      "building tree 16 of 170\n",
      "building tree 17 of 170\n",
      "building tree 18 of 170building tree 19 of 170\n",
      "\n",
      "building tree 20 of 170\n",
      "building tree 21 of 170\n",
      "building tree 22 of 170\n",
      "building tree 23 of 170\n",
      "building tree 24 of 170\n",
      "building tree 25 of 170\n",
      "building tree 26 of 170\n",
      "building tree 27 of 170\n",
      "building tree 28 of 170\n",
      "building tree 29 of 170\n",
      "building tree 30 of 170\n",
      "building tree 31 of 170\n",
      "building tree 32 of 170\n"
     ]
    },
    {
     "name": "stderr",
     "output_type": "stream",
     "text": [
      "[Parallel(n_jobs=-1)]: Done  25 tasks      | elapsed:    1.2s\n"
     ]
    },
    {
     "name": "stdout",
     "output_type": "stream",
     "text": [
      "building tree 33 of 170\n",
      "building tree 34 of 170\n",
      "building tree 35 of 170\n",
      "building tree 36 of 170\n",
      "building tree 37 of 170\n",
      "building tree 38 of 170\n",
      "building tree 39 of 170building tree 40 of 170\n",
      "\n",
      "building tree 41 of 170\n",
      "building tree 42 of 170\n",
      "building tree 43 of 170\n",
      "building tree 44 of 170\n",
      "building tree 45 of 170\n",
      "building tree 46 of 170\n",
      "building tree 47 of 170\n",
      "building tree 48 of 170\n",
      "building tree 49 of 170\n",
      "building tree 50 of 170\n",
      "building tree 51 of 170\n",
      "building tree 52 of 170\n",
      "building tree 53 of 170\n",
      "building tree 54 of 170\n",
      "building tree 55 of 170\n",
      "building tree 56 of 170\n",
      "building tree 57 of 170\n",
      "building tree 58 of 170\n",
      "building tree 59 of 170\n",
      "building tree 60 of 170\n",
      "building tree 61 of 170\n",
      "building tree 62 of 170\n",
      "building tree 63 of 170\n",
      "building tree 64 of 170\n",
      "building tree 65 of 170\n",
      "building tree 66 of 170\n",
      "building tree 67 of 170\n",
      "building tree 68 of 170\n",
      "building tree 69 of 170\n",
      "building tree 70 of 170\n",
      "building tree 71 of 170building tree 72 of 170\n",
      "\n",
      "building tree 73 of 170\n",
      "building tree 74 of 170\n",
      "building tree 75 of 170\n",
      "building tree 76 of 170\n",
      "building tree 77 of 170\n",
      "building tree 78 of 170\n",
      "building tree 79 of 170\n",
      "building tree 80 of 170\n",
      "building tree 81 of 170\n",
      "building tree 82 of 170\n",
      "building tree 83 of 170\n",
      "building tree 84 of 170\n",
      "building tree 85 of 170\n",
      "building tree 86 of 170\n",
      "building tree 87 of 170\n",
      "building tree 88 of 170\n",
      "building tree 89 of 170\n",
      "building tree 90 of 170\n",
      "building tree 91 of 170\n",
      "building tree 92 of 170\n",
      "building tree 93 of 170\n",
      "building tree 94 of 170\n",
      "building tree 95 of 170\n",
      "building tree 96 of 170\n",
      "building tree 97 of 170building tree 98 of 170\n",
      "\n",
      "building tree 99 of 170\n",
      "building tree 100 of 170\n",
      "building tree 101 of 170\n",
      "building tree 102 of 170\n",
      "building tree 103 of 170\n",
      "building tree 104 of 170\n",
      "building tree 105 of 170\n",
      "building tree 106 of 170\n",
      "building tree 107 of 170\n",
      "building tree 108 of 170\n",
      "building tree 109 of 170\n",
      "building tree 110 of 170\n",
      "building tree 111 of 170\n",
      "building tree 112 of 170\n",
      "building tree 113 of 170\n",
      "building tree 114 of 170\n",
      "building tree 115 of 170\n",
      "building tree 116 of 170\n",
      "building tree 117 of 170\n",
      "building tree 118 of 170\n",
      "building tree 119 of 170\n",
      "building tree 120 of 170\n",
      "building tree 121 of 170\n",
      "building tree 122 of 170\n",
      "building tree 123 of 170\n",
      "building tree 124 of 170\n",
      "building tree 125 of 170\n",
      "building tree 126 of 170\n",
      "building tree 127 of 170\n",
      "building tree 128 of 170\n",
      "building tree 129 of 170\n",
      "building tree 130 of 170\n",
      "building tree 131 of 170\n",
      "building tree 132 of 170\n",
      "building tree 133 of 170\n",
      "building tree 134 of 170\n",
      "building tree 135 of 170\n",
      "building tree 136 of 170\n",
      "building tree 137 of 170\n",
      "building tree 138 of 170\n",
      "building tree 139 of 170\n",
      "building tree 140 of 170\n",
      "building tree 141 of 170\n",
      "building tree 142 of 170\n",
      "building tree 143 of 170\n",
      "building tree 144 of 170\n",
      "building tree 145 of 170\n",
      "building tree 146 of 170\n",
      "building tree 147 of 170\n",
      "building tree 148 of 170\n",
      "building tree 149 of 170\n",
      "building tree 150 of 170\n",
      "building tree 151 of 170\n",
      "building tree 152 of 170\n",
      "building tree 153 of 170\n"
     ]
    },
    {
     "name": "stderr",
     "output_type": "stream",
     "text": [
      "[Parallel(n_jobs=-1)]: Done 146 tasks      | elapsed:    7.7s\n"
     ]
    },
    {
     "name": "stdout",
     "output_type": "stream",
     "text": [
      "building tree 154 of 170\n",
      "building tree 155 of 170\n",
      "building tree 156 of 170\n",
      "building tree 157 of 170\n",
      "building tree 158 of 170\n",
      "building tree 159 of 170\n",
      "building tree 160 of 170\n",
      "building tree 161 of 170\n",
      "building tree 162 of 170\n",
      "building tree 163 of 170\n",
      "building tree 164 of 170\n",
      "building tree 165 of 170\n",
      "building tree 166 of 170\n",
      "building tree 167 of 170\n",
      "building tree 168 of 170\n",
      "building tree 169 of 170\n",
      "building tree 170 of 170\n"
     ]
    },
    {
     "name": "stderr",
     "output_type": "stream",
     "text": [
      "[Parallel(n_jobs=-1)]: Done 170 out of 170 | elapsed:    8.8s finished\n"
     ]
    },
    {
     "data": {
      "text/plain": [
       "RandomizedSearchCV(cv=5,\n",
       "                   estimator=RandomForestRegressor(random_state=42, verbose=2),\n",
       "                   n_jobs=-1,\n",
       "                   param_distributions={'max_depth': [None, 20, 40, 60, 80,\n",
       "                                                      100],\n",
       "                                        'max_features': [0.5, 1.0, 0.75,\n",
       "                                                         'auto'],\n",
       "                                        'max_samples': [10000],\n",
       "                                        'min_samples_leaf': array([ 5,  7,  9, 11, 13, 15]),\n",
       "                                        'min_samples_split': array([ 4,  6,  8, 10, 12, 14]),\n",
       "                                        'n_estimators': array([ 10,  30,  50,  70,  90, 110, 130, 150, 170, 190]),\n",
       "                                        'n_jobs': [-1]},\n",
       "                   verbose=10)"
      ]
     },
     "execution_count": 32,
     "metadata": {},
     "output_type": "execute_result"
    }
   ],
   "source": [
    "rs_model_res_1_re3.fit(X_train,y_train)"
   ]
  },
  {
   "cell_type": "code",
   "execution_count": 33,
   "metadata": {},
   "outputs": [
    {
     "data": {
      "text/plain": [
       "{'n_jobs': -1,\n",
       " 'n_estimators': 170,\n",
       " 'min_samples_split': 4,\n",
       " 'min_samples_leaf': 5,\n",
       " 'max_samples': 10000,\n",
       " 'max_features': 0.5,\n",
       " 'max_depth': 100}"
      ]
     },
     "execution_count": 33,
     "metadata": {},
     "output_type": "execute_result"
    }
   ],
   "source": [
    "rs_model_res_1_re3.best_params_"
   ]
  },
  {
   "cell_type": "code",
   "execution_count": 34,
   "metadata": {},
   "outputs": [
    {
     "name": "stderr",
     "output_type": "stream",
     "text": [
      "[Parallel(n_jobs=8)]: Using backend ThreadingBackend with 8 concurrent workers.\n",
      "[Parallel(n_jobs=8)]: Done  25 tasks      | elapsed:    0.4s\n",
      "[Parallel(n_jobs=8)]: Done 146 tasks      | elapsed:    2.9s\n",
      "[Parallel(n_jobs=8)]: Done 170 out of 170 | elapsed:    3.3s finished\n",
      "[Parallel(n_jobs=8)]: Using backend ThreadingBackend with 8 concurrent workers.\n",
      "[Parallel(n_jobs=8)]: Done  25 tasks      | elapsed:    0.0s\n",
      "[Parallel(n_jobs=8)]: Done 146 tasks      | elapsed:    0.0s\n",
      "[Parallel(n_jobs=8)]: Done 170 out of 170 | elapsed:    0.1s finished\n"
     ]
    },
    {
     "data": {
      "text/plain": [
       "{'Train MAE': 5990.528140112515,\n",
       " 'Val MAE': 7479.926408946427,\n",
       " 'Train MSLE': 0.07474023932615431,\n",
       " 'Val MSLE': 0.0932721386075738,\n",
       " 'Train RMSLE': 0.27338661146104853,\n",
       " 'Val RMSLE': 0.30540487652880366,\n",
       " 'Train R2': 0.8395429721028873,\n",
       " 'Val R2': 0.820579081020479}"
      ]
     },
     "execution_count": 34,
     "metadata": {},
     "output_type": "execute_result"
    }
   ],
   "source": [
    "eval_scores(rs_model_res_1_re3, X_train, X_val, y_train, y_val)"
   ]
  },
  {
   "cell_type": "code",
   "execution_count": 38,
   "metadata": {},
   "outputs": [],
   "source": [
    "np.random.seed(42)\n",
    "rs_model_res_1_re4 = RandomizedSearchCV(RandomForestRegressor(random_state=42,verbose = 5 ), \n",
    "                              param_distributions=rf_grid_4_re_4,\n",
    "                              cv=5,\n",
    "                              n_iter=20,\n",
    "                              n_jobs=-1,\n",
    "                              verbose=10)"
   ]
  },
  {
   "cell_type": "code",
   "execution_count": 39,
   "metadata": {},
   "outputs": [
    {
     "name": "stdout",
     "output_type": "stream",
     "text": [
      "Fitting 5 folds for each of 20 candidates, totalling 100 fits\n"
     ]
    },
    {
     "name": "stderr",
     "output_type": "stream",
     "text": [
      "[Parallel(n_jobs=-1)]: Using backend LokyBackend with 8 concurrent workers.\n",
      "[Parallel(n_jobs=-1)]: Done   2 tasks      | elapsed:  1.7min\n",
      "[Parallel(n_jobs=-1)]: Done   9 tasks      | elapsed:  2.7min\n",
      "[Parallel(n_jobs=-1)]: Done  16 tasks      | elapsed:  5.4min\n",
      "[Parallel(n_jobs=-1)]: Done  25 tasks      | elapsed:  7.6min\n",
      "[Parallel(n_jobs=-1)]: Done  34 tasks      | elapsed:  9.2min\n",
      "[Parallel(n_jobs=-1)]: Done  45 tasks      | elapsed: 11.8min\n",
      "[Parallel(n_jobs=-1)]: Done  56 tasks      | elapsed: 14.8min\n",
      "[Parallel(n_jobs=-1)]: Done  69 tasks      | elapsed: 17.6min\n",
      "[Parallel(n_jobs=-1)]: Done  82 tasks      | elapsed: 19.7min\n",
      "[Parallel(n_jobs=-1)]: Done  96 out of 100 | elapsed: 22.1min remaining:   55.1s\n",
      "[Parallel(n_jobs=-1)]: Done 100 out of 100 | elapsed: 22.1min finished\n",
      "[Parallel(n_jobs=-1)]: Using backend ThreadingBackend with 8 concurrent workers.\n"
     ]
    },
    {
     "name": "stdout",
     "output_type": "stream",
     "text": [
      "building tree 1 of 360\n",
      "building tree 2 of 360\n",
      "building tree 3 of 360\n",
      "building tree 4 of 360\n",
      "building tree 5 of 360\n",
      "building tree 6 of 360\n",
      "building tree 7 of 360\n",
      "building tree 8 of 360\n",
      "building tree 9 of 360\n",
      "building tree 10 of 360building tree 11 of 360\n",
      "\n",
      "building tree 12 of 360\n",
      "building tree 13 of 360\n",
      "building tree 14 of 360\n",
      "building tree 15 of 360\n",
      "building tree 16 of 360\n"
     ]
    },
    {
     "name": "stderr",
     "output_type": "stream",
     "text": [
      "[Parallel(n_jobs=-1)]: Done   2 tasks      | elapsed:    0.3s\n"
     ]
    },
    {
     "name": "stdout",
     "output_type": "stream",
     "text": [
      "building tree 17 of 360building tree 18 of 360\n",
      "building tree 19 of 360\n",
      "\n",
      "building tree 20 of 360\n",
      "building tree 21 of 360\n",
      "building tree 22 of 360\n",
      "building tree 23 of 360\n",
      "building tree 24 of 360\n",
      "building tree 25 of 360building tree 26 of 360\n",
      "\n",
      "building tree 27 of 360\n",
      "building tree 28 of 360\n",
      "building tree 29 of 360building tree 30 of 360\n",
      "\n",
      "building tree 31 of 360\n",
      "building tree 32 of 360\n",
      "building tree 33 of 360building tree 34 of 360\n",
      "\n",
      "building tree 35 of 360\n",
      "building tree 36 of 360\n",
      "building tree 37 of 360\n",
      "building tree 38 of 360\n",
      "building tree 39 of 360building tree 40 of 360\n",
      "\n",
      "building tree 41 of 360\n",
      "building tree 42 of 360\n",
      "building tree 43 of 360\n",
      "building tree 44 of 360\n",
      "building tree 45 of 360\n",
      "building tree 46 of 360\n",
      "building tree 47 of 360\n",
      "building tree 48 of 360\n",
      "building tree 49 of 360\n",
      "building tree 50 of 360\n",
      "building tree 51 of 360\n",
      "building tree 52 of 360\n",
      "building tree 53 of 360\n",
      "building tree 54 of 360\n",
      "building tree 55 of 360\n",
      "building tree 56 of 360\n",
      "building tree 57 of 360\n",
      "building tree 58 of 360\n",
      "building tree 59 of 360\n",
      "building tree 60 of 360\n",
      "building tree 61 of 360\n",
      "building tree 62 of 360\n",
      "building tree 63 of 360\n"
     ]
    },
    {
     "name": "stderr",
     "output_type": "stream",
     "text": [
      "[Parallel(n_jobs=-1)]: Done  56 tasks      | elapsed:    3.4s\n"
     ]
    },
    {
     "name": "stdout",
     "output_type": "stream",
     "text": [
      "building tree 64 of 360\n",
      "building tree 65 of 360\n",
      "building tree 66 of 360\n",
      "building tree 67 of 360\n",
      "building tree 68 of 360\n",
      "building tree 69 of 360\n",
      "building tree 70 of 360\n",
      "building tree 71 of 360\n",
      "building tree 72 of 360\n",
      "building tree 73 of 360\n",
      "building tree 74 of 360\n",
      "building tree 75 of 360\n",
      "building tree 76 of 360\n",
      "building tree 77 of 360\n",
      "building tree 78 of 360\n",
      "building tree 79 of 360\n",
      "building tree 80 of 360\n",
      "building tree 81 of 360\n",
      "building tree 82 of 360\n",
      "building tree 83 of 360\n",
      "building tree 84 of 360\n",
      "building tree 85 of 360\n",
      "building tree 86 of 360\n",
      "building tree 87 of 360\n",
      "building tree 88 of 360\n",
      "building tree 89 of 360\n",
      "building tree 90 of 360\n",
      "building tree 91 of 360\n",
      "building tree 92 of 360\n",
      "building tree 93 of 360\n",
      "building tree 94 of 360\n",
      "building tree 95 of 360\n",
      "building tree 96 of 360\n",
      "building tree 97 of 360\n",
      "building tree 98 of 360\n",
      "building tree 99 of 360\n",
      "building tree 100 of 360\n",
      "building tree 101 of 360\n",
      "building tree 102 of 360\n",
      "building tree 103 of 360\n",
      "building tree 104 of 360\n",
      "building tree 105 of 360\n",
      "building tree 106 of 360\n",
      "building tree 107 of 360\n",
      "building tree 108 of 360\n",
      "building tree 109 of 360\n",
      "building tree 110 of 360\n",
      "building tree 111 of 360\n",
      "building tree 112 of 360\n",
      "building tree 113 of 360\n",
      "building tree 114 of 360\n",
      "building tree 115 of 360\n",
      "building tree 116 of 360\n",
      "building tree 117 of 360\n",
      "building tree 118 of 360\n",
      "building tree 119 of 360\n",
      "building tree 120 of 360\n",
      "building tree 121 of 360\n",
      "building tree 122 of 360\n",
      "building tree 123 of 360\n",
      "building tree 124 of 360\n",
      "building tree 125 of 360\n",
      "building tree 126 of 360\n",
      "building tree 127 of 360\n",
      "building tree 128 of 360\n",
      "building tree 129 of 360\n",
      "building tree 130 of 360\n",
      "building tree 131 of 360\n",
      "building tree 132 of 360building tree 133 of 360\n",
      "\n",
      "building tree 134 of 360\n",
      "building tree 135 of 360\n",
      "building tree 136 of 360\n",
      "building tree 137 of 360\n",
      "building tree 138 of 360\n",
      "building tree 139 of 360\n",
      "building tree 140 of 360\n",
      "building tree 141 of 360\n",
      "building tree 142 of 360\n",
      "building tree 143 of 360\n",
      "building tree 144 of 360\n",
      "building tree 145 of 360\n",
      "building tree 146 of 360\n",
      "building tree 147 of 360\n",
      "building tree 148 of 360\n",
      "building tree 149 of 360\n",
      "building tree 150 of 360\n",
      "building tree 151 of 360\n",
      "building tree 152 of 360\n",
      "building tree 153 of 360\n",
      "building tree 154 of 360\n",
      "building tree 155 of 360\n",
      "building tree 156 of 360\n",
      "building tree 157 of 360\n",
      "building tree 158 of 360"
     ]
    },
    {
     "name": "stderr",
     "output_type": "stream",
     "text": [
      "[Parallel(n_jobs=-1)]: Done 146 tasks      | elapsed:    8.8s\n"
     ]
    },
    {
     "name": "stdout",
     "output_type": "stream",
     "text": [
      "\n",
      "building tree 159 of 360\n",
      "building tree 160 of 360\n",
      "building tree 161 of 360\n",
      "building tree 162 of 360building tree 163 of 360\n",
      "\n",
      "building tree 164 of 360\n",
      "building tree 165 of 360\n",
      "building tree 166 of 360\n",
      "building tree 167 of 360\n",
      "building tree 168 of 360\n",
      "building tree 169 of 360\n",
      "building tree 170 of 360building tree 171 of 360\n",
      "\n",
      "building tree 172 of 360\n",
      "building tree 173 of 360building tree 174 of 360\n",
      "\n",
      "building tree 175 of 360\n",
      "building tree 176 of 360\n",
      "building tree 177 of 360\n",
      "building tree 178 of 360\n",
      "building tree 179 of 360\n",
      "building tree 180 of 360\n",
      "building tree 181 of 360\n",
      "building tree 182 of 360\n",
      "building tree 183 of 360\n",
      "building tree 184 of 360\n",
      "building tree 185 of 360\n",
      "building tree 186 of 360\n",
      "building tree 187 of 360\n",
      "building tree 188 of 360building tree 189 of 360\n",
      "\n",
      "building tree 190 of 360\n",
      "building tree 191 of 360\n",
      "building tree 192 of 360\n",
      "building tree 193 of 360\n",
      "building tree 194 of 360\n",
      "building tree 195 of 360\n",
      "building tree 196 of 360\n",
      "building tree 197 of 360\n",
      "building tree 198 of 360\n",
      "building tree 199 of 360\n",
      "building tree 200 of 360\n",
      "building tree 201 of 360\n",
      "building tree 202 of 360\n",
      "building tree 203 of 360\n",
      "building tree 204 of 360\n",
      "building tree 205 of 360\n",
      "building tree 206 of 360\n",
      "building tree 207 of 360\n",
      "building tree 208 of 360\n",
      "building tree 209 of 360\n",
      "building tree 210 of 360\n",
      "building tree 211 of 360\n",
      "building tree 212 of 360\n",
      "building tree 213 of 360\n",
      "building tree 214 of 360\n",
      "building tree 215 of 360\n",
      "building tree 216 of 360\n",
      "building tree 217 of 360\n",
      "building tree 218 of 360\n",
      "building tree 219 of 360\n",
      "building tree 220 of 360\n",
      "building tree 221 of 360\n",
      "building tree 222 of 360\n",
      "building tree 223 of 360\n",
      "building tree 224 of 360\n",
      "building tree 225 of 360\n",
      "building tree 226 of 360\n",
      "building tree 227 of 360\n",
      "building tree 228 of 360\n",
      "building tree 229 of 360\n",
      "building tree 230 of 360\n",
      "building tree 231 of 360\n",
      "building tree 232 of 360\n",
      "building tree 233 of 360\n",
      "building tree 234 of 360\n",
      "building tree 235 of 360\n",
      "building tree 236 of 360\n",
      "building tree 237 of 360\n",
      "building tree 238 of 360\n",
      "building tree 239 of 360\n",
      "building tree 240 of 360\n",
      "building tree 241 of 360\n",
      "building tree 242 of 360\n",
      "building tree 243 of 360\n",
      "building tree 244 of 360\n",
      "building tree 245 of 360\n",
      "building tree 246 of 360\n",
      "building tree 247 of 360\n",
      "building tree 248 of 360\n",
      "building tree 249 of 360\n",
      "building tree 250 of 360\n",
      "building tree 251 of 360\n",
      "building tree 252 of 360\n",
      "building tree 253 of 360\n",
      "building tree 254 of 360\n",
      "building tree 255 of 360\n",
      "building tree 256 of 360\n",
      "building tree 257 of 360\n",
      "building tree 258 of 360\n",
      "building tree 259 of 360\n",
      "building tree 260 of 360\n",
      "building tree 261 of 360\n",
      "building tree 262 of 360\n",
      "building tree 263 of 360\n",
      "building tree 264 of 360\n",
      "building tree 265 of 360\n",
      "building tree 266 of 360\n",
      "building tree 267 of 360\n",
      "building tree 268 of 360\n",
      "building tree 269 of 360\n",
      "building tree 270 of 360\n",
      "building tree 271 of 360\n",
      "building tree 272 of 360\n",
      "building tree 273 of 360\n",
      "building tree 274 of 360\n",
      "building tree 275 of 360\n",
      "building tree 276 of 360building tree 277 of 360\n",
      "\n",
      "building tree 278 of 360\n",
      "building tree 279 of 360\n",
      "building tree 280 of 360\n"
     ]
    },
    {
     "name": "stderr",
     "output_type": "stream",
     "text": [
      "[Parallel(n_jobs=-1)]: Done 272 tasks      | elapsed:   15.7s\n"
     ]
    },
    {
     "name": "stdout",
     "output_type": "stream",
     "text": [
      "building tree 281 of 360\n",
      "building tree 282 of 360\n",
      "building tree 283 of 360\n",
      "building tree 284 of 360\n",
      "building tree 285 of 360\n",
      "building tree 286 of 360\n",
      "building tree 287 of 360\n",
      "building tree 288 of 360\n",
      "building tree 289 of 360\n",
      "building tree 290 of 360\n",
      "building tree 291 of 360\n",
      "building tree 292 of 360\n",
      "building tree 293 of 360\n",
      "building tree 294 of 360\n",
      "building tree 295 of 360\n",
      "building tree 296 of 360\n",
      "building tree 297 of 360\n",
      "building tree 298 of 360\n",
      "building tree 299 of 360\n",
      "building tree 300 of 360\n",
      "building tree 301 of 360\n",
      "building tree 302 of 360\n",
      "building tree 303 of 360\n",
      "building tree 304 of 360building tree 305 of 360\n",
      "\n",
      "building tree 306 of 360\n",
      "building tree 307 of 360\n",
      "building tree 308 of 360\n",
      "building tree 309 of 360\n",
      "building tree 310 of 360\n",
      "building tree 311 of 360\n",
      "building tree 312 of 360\n",
      "building tree 313 of 360\n",
      "building tree 314 of 360\n",
      "building tree 315 of 360\n",
      "building tree 316 of 360\n",
      "building tree 317 of 360\n",
      "building tree 318 of 360\n",
      "building tree 319 of 360\n",
      "building tree 320 of 360\n",
      "building tree 321 of 360\n",
      "building tree 322 of 360\n",
      "building tree 323 of 360\n",
      "building tree 324 of 360\n",
      "building tree 325 of 360\n",
      "building tree 326 of 360\n",
      "building tree 327 of 360\n",
      "building tree 328 of 360\n",
      "building tree 329 of 360\n",
      "building tree 330 of 360\n",
      "building tree 331 of 360\n",
      "building tree 332 of 360\n",
      "building tree 333 of 360\n",
      "building tree 334 of 360building tree 335 of 360\n",
      "\n",
      "building tree 336 of 360\n",
      "building tree 337 of 360\n",
      "building tree 338 of 360\n",
      "building tree 339 of 360\n",
      "building tree 340 of 360\n",
      "building tree 341 of 360\n",
      "building tree 342 of 360\n",
      "building tree 343 of 360\n",
      "building tree 344 of 360\n",
      "building tree 345 of 360\n",
      "building tree 346 of 360\n",
      "building tree 347 of 360\n",
      "building tree 348 of 360\n",
      "building tree 349 of 360\n",
      "building tree 350 of 360\n",
      "building tree 351 of 360\n",
      "building tree 352 of 360\n",
      "building tree 353 of 360\n",
      "building tree 354 of 360\n",
      "building tree 355 of 360\n",
      "building tree 356 of 360\n",
      "building tree 357 of 360\n",
      "building tree 358 of 360\n",
      "building tree 359 of 360\n",
      "building tree 360 of 360\n"
     ]
    },
    {
     "name": "stderr",
     "output_type": "stream",
     "text": [
      "[Parallel(n_jobs=-1)]: Done 360 out of 360 | elapsed:   20.7s finished\n"
     ]
    },
    {
     "data": {
      "text/plain": [
       "RandomizedSearchCV(cv=5,\n",
       "                   estimator=RandomForestRegressor(random_state=42, verbose=5),\n",
       "                   n_iter=20, n_jobs=-1,\n",
       "                   param_distributions={'max_depth': [None, 20, 40, 60, 80],\n",
       "                                        'max_features': [0.5, 1.0, 0.75,\n",
       "                                                         'auto'],\n",
       "                                        'max_samples': [10000],\n",
       "                                        'min_samples_leaf': array([ 5,  7,  9, 11, 13, 15]),\n",
       "                                        'min_samples_split': array([ 4,  6,  8, 10, 12, 14]),\n",
       "                                        'n_estimators': array([ 10,  60, 110, 160, 210, 260, 310, 360]),\n",
       "                                        'n_jobs': [-1]},\n",
       "                   verbose=10)"
      ]
     },
     "execution_count": 39,
     "metadata": {},
     "output_type": "execute_result"
    }
   ],
   "source": [
    "rs_model_res_1_re4.fit(X_train,y_train)"
   ]
  },
  {
   "cell_type": "code",
   "execution_count": 40,
   "metadata": {},
   "outputs": [
    {
     "data": {
      "text/plain": [
       "{'n_jobs': -1,\n",
       " 'n_estimators': 360,\n",
       " 'min_samples_split': 4,\n",
       " 'min_samples_leaf': 5,\n",
       " 'max_samples': 10000,\n",
       " 'max_features': 0.75,\n",
       " 'max_depth': 80}"
      ]
     },
     "execution_count": 40,
     "metadata": {},
     "output_type": "execute_result"
    }
   ],
   "source": [
    "rs_model_res_1_re4.best_params_"
   ]
  },
  {
   "cell_type": "code",
   "execution_count": 41,
   "metadata": {},
   "outputs": [
    {
     "name": "stderr",
     "output_type": "stream",
     "text": [
      "[Parallel(n_jobs=8)]: Using backend ThreadingBackend with 8 concurrent workers.\n",
      "[Parallel(n_jobs=8)]: Done   2 tasks      | elapsed:    0.0s\n",
      "[Parallel(n_jobs=8)]: Done  56 tasks      | elapsed:    0.7s\n",
      "[Parallel(n_jobs=8)]: Done 146 tasks      | elapsed:    2.2s\n",
      "[Parallel(n_jobs=8)]: Done 272 tasks      | elapsed:    4.2s\n",
      "[Parallel(n_jobs=8)]: Done 360 out of 360 | elapsed:    5.6s finished\n",
      "[Parallel(n_jobs=8)]: Using backend ThreadingBackend with 8 concurrent workers.\n",
      "[Parallel(n_jobs=8)]: Done   2 tasks      | elapsed:    0.0s\n",
      "[Parallel(n_jobs=8)]: Done  56 tasks      | elapsed:    0.0s\n",
      "[Parallel(n_jobs=8)]: Done 146 tasks      | elapsed:    0.0s\n",
      "[Parallel(n_jobs=8)]: Done 272 tasks      | elapsed:    0.1s\n",
      "[Parallel(n_jobs=8)]: Done 360 out of 360 | elapsed:    0.1s finished\n"
     ]
    },
    {
     "data": {
      "text/plain": [
       "{'Train MAE': 5817.776095363366,\n",
       " 'Val MAE': 7372.449666178079,\n",
       " 'Train MSLE': 0.07122206021979297,\n",
       " 'Val MSLE': 0.08943907251515483,\n",
       " 'Train RMSLE': 0.266874615165611,\n",
       " 'Val RMSLE': 0.2990636596364641,\n",
       " 'Train R2': 0.8469573205526975,\n",
       " 'Val R2': 0.8220436102153981}"
      ]
     },
     "execution_count": 41,
     "metadata": {},
     "output_type": "execute_result"
    }
   ],
   "source": [
    "eval_scores(rs_model_res_1_re4, X_train, X_val, y_train, y_val)"
   ]
  },
  {
   "cell_type": "code",
   "execution_count": 45,
   "metadata": {},
   "outputs": [],
   "source": [
    "np.random.seed(42)\n",
    "rs_model_res_1_re5 = RandomizedSearchCV(RandomForestRegressor(random_state=42), \n",
    "                              param_distributions=rf_grid_4_re_5,\n",
    "                              cv=5,\n",
    "                              n_iter=20,\n",
    "                              n_jobs=-1,\n",
    "                              verbose=20)"
   ]
  },
  {
   "cell_type": "code",
   "execution_count": 46,
   "metadata": {
    "scrolled": true
   },
   "outputs": [
    {
     "name": "stdout",
     "output_type": "stream",
     "text": [
      "Fitting 5 folds for each of 20 candidates, totalling 100 fits\n"
     ]
    },
    {
     "name": "stderr",
     "output_type": "stream",
     "text": [
      "[Parallel(n_jobs=-1)]: Using backend LokyBackend with 8 concurrent workers.\n",
      "[Parallel(n_jobs=-1)]: Done   1 tasks      | elapsed:  3.3min\n",
      "[Parallel(n_jobs=-1)]: Done   2 tasks      | elapsed:  3.4min\n",
      "[Parallel(n_jobs=-1)]: Done   3 tasks      | elapsed:  3.4min\n",
      "[Parallel(n_jobs=-1)]: Done   4 tasks      | elapsed:  3.4min\n",
      "[Parallel(n_jobs=-1)]: Done   5 tasks      | elapsed:  3.4min\n",
      "[Parallel(n_jobs=-1)]: Done   6 tasks      | elapsed:  3.4min\n",
      "[Parallel(n_jobs=-1)]: Done   7 tasks      | elapsed:  3.4min\n",
      "[Parallel(n_jobs=-1)]: Done   8 tasks      | elapsed:  3.5min\n",
      "[Parallel(n_jobs=-1)]: Done   9 tasks      | elapsed:  3.6min\n",
      "[Parallel(n_jobs=-1)]: Done  10 tasks      | elapsed:  3.7min\n",
      "[Parallel(n_jobs=-1)]: Done  11 tasks      | elapsed:  3.7min\n",
      "[Parallel(n_jobs=-1)]: Done  12 tasks      | elapsed:  3.8min\n",
      "[Parallel(n_jobs=-1)]: Done  13 tasks      | elapsed:  3.8min\n",
      "[Parallel(n_jobs=-1)]: Done  14 tasks      | elapsed:  4.4min\n",
      "[Parallel(n_jobs=-1)]: Done  15 tasks      | elapsed:  4.6min\n",
      "[Parallel(n_jobs=-1)]: Done  16 tasks      | elapsed:  4.9min\n",
      "[Parallel(n_jobs=-1)]: Done  17 tasks      | elapsed:  4.9min\n",
      "[Parallel(n_jobs=-1)]: Done  18 tasks      | elapsed:  5.0min\n",
      "[Parallel(n_jobs=-1)]: Done  19 tasks      | elapsed:  5.0min\n",
      "[Parallel(n_jobs=-1)]: Done  20 tasks      | elapsed:  5.0min\n",
      "[Parallel(n_jobs=-1)]: Done  21 tasks      | elapsed:  5.1min\n",
      "[Parallel(n_jobs=-1)]: Done  22 tasks      | elapsed:  5.1min\n",
      "[Parallel(n_jobs=-1)]: Done  23 tasks      | elapsed:  5.1min\n",
      "[Parallel(n_jobs=-1)]: Done  24 tasks      | elapsed:  5.2min\n",
      "[Parallel(n_jobs=-1)]: Done  25 tasks      | elapsed:  5.2min\n",
      "[Parallel(n_jobs=-1)]: Done  26 tasks      | elapsed:  6.6min\n",
      "[Parallel(n_jobs=-1)]: Done  27 tasks      | elapsed:  6.8min\n",
      "[Parallel(n_jobs=-1)]: Done  28 tasks      | elapsed:  6.8min\n",
      "[Parallel(n_jobs=-1)]: Done  29 tasks      | elapsed:  6.8min\n",
      "[Parallel(n_jobs=-1)]: Done  30 tasks      | elapsed:  6.8min\n",
      "[Parallel(n_jobs=-1)]: Done  31 tasks      | elapsed:  6.8min\n",
      "[Parallel(n_jobs=-1)]: Done  32 tasks      | elapsed:  6.8min\n",
      "[Parallel(n_jobs=-1)]: Done  33 tasks      | elapsed:  6.8min\n",
      "[Parallel(n_jobs=-1)]: Done  34 tasks      | elapsed:  7.0min\n",
      "[Parallel(n_jobs=-1)]: Done  35 tasks      | elapsed:  7.1min\n",
      "[Parallel(n_jobs=-1)]: Done  36 tasks      | elapsed:  7.1min\n",
      "[Parallel(n_jobs=-1)]: Done  37 tasks      | elapsed:  7.2min\n",
      "[Parallel(n_jobs=-1)]: Done  38 tasks      | elapsed:  7.2min\n",
      "[Parallel(n_jobs=-1)]: Done  39 tasks      | elapsed:  7.3min\n",
      "[Parallel(n_jobs=-1)]: Done  40 tasks      | elapsed:  7.3min\n",
      "[Parallel(n_jobs=-1)]: Done  41 tasks      | elapsed:  7.3min\n",
      "[Parallel(n_jobs=-1)]: Done  42 tasks      | elapsed:  7.7min\n",
      "[Parallel(n_jobs=-1)]: Done  43 tasks      | elapsed:  7.8min\n",
      "[Parallel(n_jobs=-1)]: Done  44 tasks      | elapsed:  7.8min\n",
      "[Parallel(n_jobs=-1)]: Done  45 tasks      | elapsed:  7.9min\n",
      "[Parallel(n_jobs=-1)]: Done  46 tasks      | elapsed:  8.8min\n",
      "[Parallel(n_jobs=-1)]: Done  47 tasks      | elapsed:  8.9min\n",
      "[Parallel(n_jobs=-1)]: Done  48 tasks      | elapsed:  8.9min\n",
      "[Parallel(n_jobs=-1)]: Done  49 tasks      | elapsed:  8.9min\n",
      "[Parallel(n_jobs=-1)]: Done  50 tasks      | elapsed:  8.9min\n",
      "[Parallel(n_jobs=-1)]: Done  51 tasks      | elapsed:  9.0min\n",
      "[Parallel(n_jobs=-1)]: Done  52 tasks      | elapsed:  9.0min\n",
      "[Parallel(n_jobs=-1)]: Done  53 tasks      | elapsed:  9.2min\n",
      "[Parallel(n_jobs=-1)]: Done  54 tasks      | elapsed:  9.6min\n",
      "[Parallel(n_jobs=-1)]: Done  55 tasks      | elapsed:  9.6min\n",
      "[Parallel(n_jobs=-1)]: Done  56 tasks      | elapsed:  9.8min\n",
      "[Parallel(n_jobs=-1)]: Done  57 tasks      | elapsed:  9.9min\n",
      "[Parallel(n_jobs=-1)]: Done  58 tasks      | elapsed:  9.9min\n",
      "[Parallel(n_jobs=-1)]: Done  59 tasks      | elapsed:  9.9min\n",
      "[Parallel(n_jobs=-1)]: Done  60 tasks      | elapsed:  9.9min\n",
      "[Parallel(n_jobs=-1)]: Done  61 tasks      | elapsed: 10.8min\n",
      "[Parallel(n_jobs=-1)]: Done  62 tasks      | elapsed: 11.3min\n",
      "[Parallel(n_jobs=-1)]: Done  63 tasks      | elapsed: 11.3min\n",
      "[Parallel(n_jobs=-1)]: Done  64 tasks      | elapsed: 11.5min\n",
      "[Parallel(n_jobs=-1)]: Done  65 tasks      | elapsed: 11.7min\n",
      "[Parallel(n_jobs=-1)]: Done  66 tasks      | elapsed: 12.8min\n",
      "[Parallel(n_jobs=-1)]: Done  67 tasks      | elapsed: 12.9min\n",
      "[Parallel(n_jobs=-1)]: Done  68 tasks      | elapsed: 12.9min\n",
      "[Parallel(n_jobs=-1)]: Done  69 tasks      | elapsed: 12.9min\n",
      "[Parallel(n_jobs=-1)]: Done  70 tasks      | elapsed: 13.0min\n",
      "[Parallel(n_jobs=-1)]: Done  71 tasks      | elapsed: 13.1min\n",
      "[Parallel(n_jobs=-1)]: Done  72 tasks      | elapsed: 13.4min\n",
      "[Parallel(n_jobs=-1)]: Done  73 tasks      | elapsed: 13.8min\n",
      "[Parallel(n_jobs=-1)]: Done  74 tasks      | elapsed: 13.8min\n",
      "[Parallel(n_jobs=-1)]: Done  75 tasks      | elapsed: 13.8min\n",
      "[Parallel(n_jobs=-1)]: Done  76 tasks      | elapsed: 13.9min\n",
      "[Parallel(n_jobs=-1)]: Done  77 tasks      | elapsed: 13.9min\n",
      "[Parallel(n_jobs=-1)]: Done  78 tasks      | elapsed: 13.9min\n",
      "[Parallel(n_jobs=-1)]: Done  79 tasks      | elapsed: 13.9min\n",
      "[Parallel(n_jobs=-1)]: Done  80 tasks      | elapsed: 14.1min\n",
      "[Parallel(n_jobs=-1)]: Done  81 tasks      | elapsed: 16.0min\n",
      "[Parallel(n_jobs=-1)]: Done  82 tasks      | elapsed: 16.0min\n",
      "[Parallel(n_jobs=-1)]: Done  83 tasks      | elapsed: 16.4min\n",
      "[Parallel(n_jobs=-1)]: Done  84 tasks      | elapsed: 16.4min\n",
      "[Parallel(n_jobs=-1)]: Done  85 tasks      | elapsed: 16.4min\n",
      "[Parallel(n_jobs=-1)]: Done  91 out of 100 | elapsed: 18.9min remaining:  1.9min\n",
      "[Parallel(n_jobs=-1)]: Done  97 out of 100 | elapsed: 19.8min remaining:   36.7s\n",
      "[Parallel(n_jobs=-1)]: Done 100 out of 100 | elapsed: 19.9min finished\n"
     ]
    },
    {
     "data": {
      "text/plain": [
       "RandomizedSearchCV(cv=5, estimator=RandomForestRegressor(random_state=42),\n",
       "                   n_iter=20, n_jobs=-1,\n",
       "                   param_distributions={'max_depth': [None, 5, 10, 20],\n",
       "                                        'max_samples': [10000],\n",
       "                                        'min_samples_leaf': array([ 3,  5,  7,  9, 11, 13, 15]),\n",
       "                                        'min_samples_split': array([ 2,  4,  6,  8, 10, 12, 14]),\n",
       "                                        'n_estimators': array([ 10,  60, 110, 160, 210, 260, 310, 360]),\n",
       "                                        'n_jobs': [-1]},\n",
       "                   verbose=20)"
      ]
     },
     "execution_count": 46,
     "metadata": {},
     "output_type": "execute_result"
    }
   ],
   "source": [
    "rs_model_res_1_re5.fit(X_train,y_train)"
   ]
  },
  {
   "cell_type": "code",
   "execution_count": 47,
   "metadata": {},
   "outputs": [
    {
     "data": {
      "text/plain": [
       "{'n_jobs': -1,\n",
       " 'n_estimators': 160,\n",
       " 'min_samples_split': 2,\n",
       " 'min_samples_leaf': 5,\n",
       " 'max_samples': 10000,\n",
       " 'max_depth': None}"
      ]
     },
     "execution_count": 47,
     "metadata": {},
     "output_type": "execute_result"
    }
   ],
   "source": [
    "rs_model_res_1_re5.best_params_"
   ]
  },
  {
   "cell_type": "code",
   "execution_count": 48,
   "metadata": {},
   "outputs": [
    {
     "data": {
      "text/plain": [
       "{'Train MAE': 5778.789503758556,\n",
       " 'Val MAE': 7406.165386610501,\n",
       " 'Train MSLE': 0.07044134536459713,\n",
       " 'Val MSLE': 0.09002246333309888,\n",
       " 'Train RMSLE': 0.2654078848953006,\n",
       " 'Val RMSLE': 0.30003743655267234,\n",
       " 'Train R2': 0.8476154033322227,\n",
       " 'Val R2': 0.8173612358315432}"
      ]
     },
     "execution_count": 48,
     "metadata": {},
     "output_type": "execute_result"
    }
   ],
   "source": [
    "eval_scores(rs_model_res_1_re5, X_train, X_val, y_train, y_val)"
   ]
  },
  {
   "cell_type": "code",
   "execution_count": 52,
   "metadata": {},
   "outputs": [],
   "source": [
    "np.random.seed(42)\n",
    "rs_model_res_1_re6 = RandomizedSearchCV(RandomForestRegressor(random_state=42), \n",
    "                              param_distributions=rf_grid_4_re_6,\n",
    "                              cv=5,\n",
    "                              n_iter=30,\n",
    "                              n_jobs=-1,\n",
    "                              verbose=20)"
   ]
  },
  {
   "cell_type": "code",
   "execution_count": 53,
   "metadata": {
    "scrolled": true
   },
   "outputs": [
    {
     "name": "stdout",
     "output_type": "stream",
     "text": [
      "Fitting 5 folds for each of 30 candidates, totalling 150 fits\n"
     ]
    },
    {
     "name": "stderr",
     "output_type": "stream",
     "text": [
      "[Parallel(n_jobs=-1)]: Using backend LokyBackend with 8 concurrent workers.\n",
      "[Parallel(n_jobs=-1)]: Done   1 tasks      | elapsed:   18.8s\n",
      "[Parallel(n_jobs=-1)]: Done   2 tasks      | elapsed:   24.3s\n",
      "[Parallel(n_jobs=-1)]: Done   3 tasks      | elapsed:   26.8s\n",
      "[Parallel(n_jobs=-1)]: Done   4 tasks      | elapsed:  1.1min\n",
      "[Parallel(n_jobs=-1)]: Done   5 tasks      | elapsed:  1.2min\n",
      "[Parallel(n_jobs=-1)]: Done   6 tasks      | elapsed:  1.2min\n",
      "[Parallel(n_jobs=-1)]: Done   7 tasks      | elapsed:  1.4min\n",
      "[Parallel(n_jobs=-1)]: Done   8 tasks      | elapsed:  1.4min\n",
      "[Parallel(n_jobs=-1)]: Done   9 tasks      | elapsed:  1.4min\n",
      "[Parallel(n_jobs=-1)]: Done  10 tasks      | elapsed:  1.5min\n",
      "[Parallel(n_jobs=-1)]: Done  11 tasks      | elapsed:  1.5min\n",
      "[Parallel(n_jobs=-1)]: Done  12 tasks      | elapsed:  1.5min\n",
      "[Parallel(n_jobs=-1)]: Done  13 tasks      | elapsed:  1.5min\n",
      "[Parallel(n_jobs=-1)]: Done  14 tasks      | elapsed:  1.5min\n",
      "[Parallel(n_jobs=-1)]: Done  15 tasks      | elapsed:  1.6min\n",
      "[Parallel(n_jobs=-1)]: Done  16 tasks      | elapsed:  2.8min\n",
      "[Parallel(n_jobs=-1)]: Done  17 tasks      | elapsed:  2.8min\n",
      "[Parallel(n_jobs=-1)]: Done  18 tasks      | elapsed:  2.9min\n",
      "[Parallel(n_jobs=-1)]: Done  19 tasks      | elapsed:  2.9min\n",
      "[Parallel(n_jobs=-1)]: Done  20 tasks      | elapsed:  3.0min\n",
      "[Parallel(n_jobs=-1)]: Done  21 tasks      | elapsed:  3.7min\n",
      "[Parallel(n_jobs=-1)]: Done  22 tasks      | elapsed:  3.8min\n",
      "[Parallel(n_jobs=-1)]: Done  23 tasks      | elapsed:  4.0min\n",
      "[Parallel(n_jobs=-1)]: Done  24 tasks      | elapsed:  5.4min\n",
      "[Parallel(n_jobs=-1)]: Done  25 tasks      | elapsed:  5.5min\n",
      "[Parallel(n_jobs=-1)]: Done  26 tasks      | elapsed:  6.0min\n",
      "[Parallel(n_jobs=-1)]: Done  27 tasks      | elapsed:  6.0min\n",
      "[Parallel(n_jobs=-1)]: Done  28 tasks      | elapsed:  6.0min\n",
      "[Parallel(n_jobs=-1)]: Done  29 tasks      | elapsed:  6.6min\n",
      "[Parallel(n_jobs=-1)]: Done  30 tasks      | elapsed:  6.9min\n",
      "[Parallel(n_jobs=-1)]: Done  31 tasks      | elapsed:  6.9min\n",
      "[Parallel(n_jobs=-1)]: Done  32 tasks      | elapsed:  8.0min\n",
      "[Parallel(n_jobs=-1)]: Done  33 tasks      | elapsed:  8.1min\n",
      "[Parallel(n_jobs=-1)]: Done  34 tasks      | elapsed:  8.6min\n",
      "[Parallel(n_jobs=-1)]: Done  35 tasks      | elapsed:  8.6min\n",
      "[Parallel(n_jobs=-1)]: Done  36 tasks      | elapsed:  9.0min\n",
      "[Parallel(n_jobs=-1)]: Done  37 tasks      | elapsed:  9.7min\n",
      "[Parallel(n_jobs=-1)]: Done  38 tasks      | elapsed:  9.9min\n",
      "[Parallel(n_jobs=-1)]: Done  39 tasks      | elapsed:  9.9min\n",
      "[Parallel(n_jobs=-1)]: Done  40 tasks      | elapsed: 11.0min\n",
      "[Parallel(n_jobs=-1)]: Done  41 tasks      | elapsed: 11.0min\n",
      "[Parallel(n_jobs=-1)]: Done  42 tasks      | elapsed: 11.5min\n",
      "[Parallel(n_jobs=-1)]: Done  43 tasks      | elapsed: 11.5min\n",
      "[Parallel(n_jobs=-1)]: Done  44 tasks      | elapsed: 11.5min\n",
      "[Parallel(n_jobs=-1)]: Done  45 tasks      | elapsed: 11.5min\n",
      "[Parallel(n_jobs=-1)]: Done  46 tasks      | elapsed: 11.7min\n",
      "[Parallel(n_jobs=-1)]: Done  47 tasks      | elapsed: 12.2min\n",
      "[Parallel(n_jobs=-1)]: Done  48 tasks      | elapsed: 12.3min\n",
      "[Parallel(n_jobs=-1)]: Done  49 tasks      | elapsed: 12.4min\n",
      "[Parallel(n_jobs=-1)]: Done  50 tasks      | elapsed: 12.9min\n",
      "[Parallel(n_jobs=-1)]: Done  51 tasks      | elapsed: 13.4min\n",
      "[Parallel(n_jobs=-1)]: Done  52 tasks      | elapsed: 13.4min\n",
      "[Parallel(n_jobs=-1)]: Done  53 tasks      | elapsed: 13.4min\n",
      "[Parallel(n_jobs=-1)]: Done  54 tasks      | elapsed: 13.5min\n",
      "[Parallel(n_jobs=-1)]: Done  55 tasks      | elapsed: 13.5min\n",
      "[Parallel(n_jobs=-1)]: Done  56 tasks      | elapsed: 13.6min\n",
      "[Parallel(n_jobs=-1)]: Done  57 tasks      | elapsed: 13.8min\n",
      "[Parallel(n_jobs=-1)]: Done  58 tasks      | elapsed: 13.8min\n",
      "[Parallel(n_jobs=-1)]: Done  59 tasks      | elapsed: 14.2min\n",
      "[Parallel(n_jobs=-1)]: Done  60 tasks      | elapsed: 14.3min\n",
      "[Parallel(n_jobs=-1)]: Done  61 tasks      | elapsed: 14.7min\n",
      "[Parallel(n_jobs=-1)]: Done  62 tasks      | elapsed: 14.7min\n",
      "[Parallel(n_jobs=-1)]: Done  63 tasks      | elapsed: 14.8min\n",
      "[Parallel(n_jobs=-1)]: Done  64 tasks      | elapsed: 14.8min\n",
      "[Parallel(n_jobs=-1)]: Done  65 tasks      | elapsed: 15.1min\n",
      "[Parallel(n_jobs=-1)]: Done  66 tasks      | elapsed: 15.4min\n",
      "[Parallel(n_jobs=-1)]: Done  67 tasks      | elapsed: 15.8min\n",
      "[Parallel(n_jobs=-1)]: Done  68 tasks      | elapsed: 15.9min\n",
      "[Parallel(n_jobs=-1)]: Done  69 tasks      | elapsed: 16.4min\n",
      "[Parallel(n_jobs=-1)]: Done  70 tasks      | elapsed: 16.4min\n",
      "[Parallel(n_jobs=-1)]: Done  71 tasks      | elapsed: 16.5min\n",
      "[Parallel(n_jobs=-1)]: Done  72 tasks      | elapsed: 16.5min\n",
      "[Parallel(n_jobs=-1)]: Done  73 tasks      | elapsed: 16.8min\n",
      "[Parallel(n_jobs=-1)]: Done  74 tasks      | elapsed: 16.9min\n",
      "[Parallel(n_jobs=-1)]: Done  75 tasks      | elapsed: 17.4min\n",
      "[Parallel(n_jobs=-1)]: Done  76 tasks      | elapsed: 18.3min\n",
      "[Parallel(n_jobs=-1)]: Done  77 tasks      | elapsed: 18.9min\n",
      "[Parallel(n_jobs=-1)]: Done  78 tasks      | elapsed: 19.0min\n",
      "[Parallel(n_jobs=-1)]: Done  79 tasks      | elapsed: 19.1min\n",
      "[Parallel(n_jobs=-1)]: Done  80 tasks      | elapsed: 19.1min\n",
      "[Parallel(n_jobs=-1)]: Done  81 tasks      | elapsed: 20.3min\n",
      "[Parallel(n_jobs=-1)]: Done  82 tasks      | elapsed: 20.3min\n",
      "[Parallel(n_jobs=-1)]: Done  83 tasks      | elapsed: 20.4min\n",
      "[Parallel(n_jobs=-1)]: Done  84 tasks      | elapsed: 20.4min\n",
      "[Parallel(n_jobs=-1)]: Done  85 tasks      | elapsed: 20.5min\n",
      "[Parallel(n_jobs=-1)]: Done  86 tasks      | elapsed: 20.6min\n",
      "[Parallel(n_jobs=-1)]: Done  87 tasks      | elapsed: 21.2min\n",
      "[Parallel(n_jobs=-1)]: Done  88 tasks      | elapsed: 21.4min\n",
      "[Parallel(n_jobs=-1)]: Done  89 tasks      | elapsed: 21.5min\n",
      "[Parallel(n_jobs=-1)]: Done  90 tasks      | elapsed: 21.8min\n",
      "[Parallel(n_jobs=-1)]: Done  91 tasks      | elapsed: 22.3min\n",
      "[Parallel(n_jobs=-1)]: Done  92 tasks      | elapsed: 22.4min\n",
      "[Parallel(n_jobs=-1)]: Done  93 tasks      | elapsed: 22.8min\n",
      "[Parallel(n_jobs=-1)]: Done  94 tasks      | elapsed: 22.9min\n",
      "[Parallel(n_jobs=-1)]: Done  95 tasks      | elapsed: 23.0min\n",
      "[Parallel(n_jobs=-1)]: Done  96 tasks      | elapsed: 23.0min\n",
      "[Parallel(n_jobs=-1)]: Done  97 tasks      | elapsed: 23.1min\n",
      "[Parallel(n_jobs=-1)]: Done  98 tasks      | elapsed: 23.1min\n",
      "[Parallel(n_jobs=-1)]: Done  99 tasks      | elapsed: 23.1min\n",
      "[Parallel(n_jobs=-1)]: Done 100 tasks      | elapsed: 23.3min\n",
      "[Parallel(n_jobs=-1)]: Done 101 tasks      | elapsed: 23.7min\n",
      "[Parallel(n_jobs=-1)]: Done 102 tasks      | elapsed: 23.8min\n",
      "[Parallel(n_jobs=-1)]: Done 103 tasks      | elapsed: 24.2min\n",
      "[Parallel(n_jobs=-1)]: Done 104 tasks      | elapsed: 24.6min\n",
      "[Parallel(n_jobs=-1)]: Done 105 tasks      | elapsed: 24.7min\n",
      "[Parallel(n_jobs=-1)]: Done 106 tasks      | elapsed: 25.2min\n",
      "[Parallel(n_jobs=-1)]: Done 107 tasks      | elapsed: 25.4min\n",
      "[Parallel(n_jobs=-1)]: Done 108 tasks      | elapsed: 25.4min\n",
      "[Parallel(n_jobs=-1)]: Done 109 tasks      | elapsed: 25.5min\n",
      "[Parallel(n_jobs=-1)]: Done 110 tasks      | elapsed: 25.5min\n",
      "[Parallel(n_jobs=-1)]: Done 111 tasks      | elapsed: 25.5min\n",
      "[Parallel(n_jobs=-1)]: Done 112 tasks      | elapsed: 25.5min\n",
      "[Parallel(n_jobs=-1)]: Done 113 tasks      | elapsed: 25.6min\n",
      "[Parallel(n_jobs=-1)]: Done 114 tasks      | elapsed: 25.6min\n",
      "[Parallel(n_jobs=-1)]: Done 115 tasks      | elapsed: 25.7min\n",
      "[Parallel(n_jobs=-1)]: Done 116 tasks      | elapsed: 26.6min\n",
      "[Parallel(n_jobs=-1)]: Done 117 tasks      | elapsed: 26.6min\n",
      "[Parallel(n_jobs=-1)]: Done 118 tasks      | elapsed: 26.6min\n",
      "[Parallel(n_jobs=-1)]: Done 119 tasks      | elapsed: 26.7min\n",
      "[Parallel(n_jobs=-1)]: Done 120 tasks      | elapsed: 26.7min\n",
      "[Parallel(n_jobs=-1)]: Done 121 tasks      | elapsed: 26.7min\n",
      "[Parallel(n_jobs=-1)]: Done 122 tasks      | elapsed: 26.7min\n",
      "[Parallel(n_jobs=-1)]: Done 123 tasks      | elapsed: 26.7min\n",
      "[Parallel(n_jobs=-1)]: Done 124 tasks      | elapsed: 27.3min\n",
      "[Parallel(n_jobs=-1)]: Done 125 tasks      | elapsed: 27.4min\n",
      "[Parallel(n_jobs=-1)]: Done 126 tasks      | elapsed: 29.5min\n",
      "[Parallel(n_jobs=-1)]: Done 127 tasks      | elapsed: 30.3min\n",
      "[Parallel(n_jobs=-1)]: Done 128 tasks      | elapsed: 30.3min\n",
      "[Parallel(n_jobs=-1)]: Done 129 tasks      | elapsed: 30.4min\n",
      "[Parallel(n_jobs=-1)]: Done 130 tasks      | elapsed: 30.4min\n",
      "[Parallel(n_jobs=-1)]: Done 131 tasks      | elapsed: 30.4min\n"
     ]
    },
    {
     "name": "stderr",
     "output_type": "stream",
     "text": [
      "[Parallel(n_jobs=-1)]: Done 132 tasks      | elapsed: 30.4min\n",
      "[Parallel(n_jobs=-1)]: Done 133 tasks      | elapsed: 30.4min\n",
      "[Parallel(n_jobs=-1)]: Done 134 tasks      | elapsed: 31.2min\n",
      "[Parallel(n_jobs=-1)]: Done 135 tasks      | elapsed: 31.4min\n",
      "[Parallel(n_jobs=-1)]: Done 143 out of 150 | elapsed: 32.8min remaining:  1.6min\n",
      "[Parallel(n_jobs=-1)]: Done 150 out of 150 | elapsed: 34.8min finished\n"
     ]
    },
    {
     "data": {
      "text/plain": [
       "RandomizedSearchCV(cv=5, estimator=RandomForestRegressor(random_state=42),\n",
       "                   n_iter=30, n_jobs=-1,\n",
       "                   param_distributions={'max_depth': [None, 20, 40, 60, 80],\n",
       "                                        'max_samples': [10000],\n",
       "                                        'min_samples_leaf': array([ 1,  3,  5,  7,  9, 11, 13, 15]),\n",
       "                                        'min_samples_split': array([ 2,  4,  6,  8, 10, 12, 14]),\n",
       "                                        'n_estimators': array([ 10,  60, 110, 160, 210, 260, 310, 360]),\n",
       "                                        'n_jobs': [-1]},\n",
       "                   verbose=20)"
      ]
     },
     "execution_count": 53,
     "metadata": {},
     "output_type": "execute_result"
    }
   ],
   "source": [
    "rs_model_res_1_re6.fit(X_train,y_train)"
   ]
  },
  {
   "cell_type": "code",
   "execution_count": 54,
   "metadata": {},
   "outputs": [
    {
     "data": {
      "text/plain": [
       "{'n_jobs': -1,\n",
       " 'n_estimators': 260,\n",
       " 'min_samples_split': 4,\n",
       " 'min_samples_leaf': 1,\n",
       " 'max_samples': 10000,\n",
       " 'max_depth': 80}"
      ]
     },
     "execution_count": 54,
     "metadata": {},
     "output_type": "execute_result"
    }
   ],
   "source": [
    "rs_model_res_1_re6.best_params_"
   ]
  },
  {
   "cell_type": "code",
   "execution_count": 55,
   "metadata": {},
   "outputs": [
    {
     "data": {
      "text/plain": [
       "{'Train MAE': 5563.431782820754,\n",
       " 'Val MAE': 7213.632680343506,\n",
       " 'Train MSLE': 0.06651768534248009,\n",
       " 'Val MSLE': 0.08777860387598693,\n",
       " 'Train RMSLE': 0.25791022729329693,\n",
       " 'Val RMSLE': 0.29627454139022297,\n",
       " 'Train R2': 0.8606028511857828,\n",
       " 'Val R2': 0.8327436014069017}"
      ]
     },
     "execution_count": 55,
     "metadata": {},
     "output_type": "execute_result"
    }
   ],
   "source": [
    "eval_scores(rs_model_res_1_re6, X_train, X_val, y_train, y_val)"
   ]
  },
  {
   "cell_type": "code",
   "execution_count": 64,
   "metadata": {},
   "outputs": [],
   "source": [
    "# gave good results increase iterations\n",
    "np.random.seed(42)\n",
    "rs_model_res_1_re6_long = RandomizedSearchCV(RandomForestRegressor(random_state=42), \n",
    "                              param_distributions=rf_grid_4_re_6,\n",
    "                              cv=5,\n",
    "                              n_iter=120,\n",
    "                              n_jobs=-1,\n",
    "                              verbose=20)"
   ]
  },
  {
   "cell_type": "code",
   "execution_count": 65,
   "metadata": {
    "scrolled": true
   },
   "outputs": [
    {
     "name": "stdout",
     "output_type": "stream",
     "text": [
      "Fitting 5 folds for each of 120 candidates, totalling 600 fits\n"
     ]
    },
    {
     "name": "stderr",
     "output_type": "stream",
     "text": [
      "[Parallel(n_jobs=-1)]: Using backend LokyBackend with 8 concurrent workers.\n",
      "[Parallel(n_jobs=-1)]: Done   1 tasks      | elapsed:  1.1min\n",
      "[Parallel(n_jobs=-1)]: Done   2 tasks      | elapsed:  1.1min\n",
      "[Parallel(n_jobs=-1)]: Done   3 tasks      | elapsed:  1.2min\n",
      "[Parallel(n_jobs=-1)]: Done   4 tasks      | elapsed:  1.9min\n",
      "[Parallel(n_jobs=-1)]: Done   5 tasks      | elapsed:  1.9min\n",
      "[Parallel(n_jobs=-1)]: Done   6 tasks      | elapsed:  2.1min\n",
      "[Parallel(n_jobs=-1)]: Done   7 tasks      | elapsed:  2.1min\n",
      "[Parallel(n_jobs=-1)]: Done   8 tasks      | elapsed:  2.1min\n",
      "[Parallel(n_jobs=-1)]: Done   9 tasks      | elapsed:  2.1min\n",
      "[Parallel(n_jobs=-1)]: Done  10 tasks      | elapsed:  2.1min\n",
      "[Parallel(n_jobs=-1)]: Done  11 tasks      | elapsed:  2.1min\n",
      "[Parallel(n_jobs=-1)]: Done  12 tasks      | elapsed:  2.4min\n",
      "[Parallel(n_jobs=-1)]: Done  13 tasks      | elapsed:  2.5min\n",
      "[Parallel(n_jobs=-1)]: Done  14 tasks      | elapsed:  2.6min\n",
      "[Parallel(n_jobs=-1)]: Done  15 tasks      | elapsed:  2.7min\n",
      "[Parallel(n_jobs=-1)]: Done  16 tasks      | elapsed:  2.8min\n",
      "[Parallel(n_jobs=-1)]: Done  17 tasks      | elapsed:  2.8min\n",
      "[Parallel(n_jobs=-1)]: Done  18 tasks      | elapsed:  2.9min\n",
      "[Parallel(n_jobs=-1)]: Done  19 tasks      | elapsed:  2.9min\n",
      "[Parallel(n_jobs=-1)]: Done  20 tasks      | elapsed:  3.3min\n",
      "[Parallel(n_jobs=-1)]: Done  21 tasks      | elapsed:  4.4min\n",
      "[Parallel(n_jobs=-1)]: Done  22 tasks      | elapsed:  4.5min\n",
      "[Parallel(n_jobs=-1)]: Done  23 tasks      | elapsed:  4.5min\n",
      "[Parallel(n_jobs=-1)]: Done  24 tasks      | elapsed:  4.6min\n",
      "[Parallel(n_jobs=-1)]: Done  25 tasks      | elapsed:  4.6min\n",
      "[Parallel(n_jobs=-1)]: Done  26 tasks      | elapsed:  4.7min\n",
      "[Parallel(n_jobs=-1)]: Done  27 tasks      | elapsed:  4.7min\n",
      "[Parallel(n_jobs=-1)]: Done  28 tasks      | elapsed:  4.8min\n",
      "[Parallel(n_jobs=-1)]: Done  29 tasks      | elapsed:  5.8min\n",
      "[Parallel(n_jobs=-1)]: Done  30 tasks      | elapsed:  5.8min\n",
      "[Parallel(n_jobs=-1)]: Done  31 tasks      | elapsed:  5.9min\n",
      "[Parallel(n_jobs=-1)]: Done  32 tasks      | elapsed:  6.9min\n",
      "[Parallel(n_jobs=-1)]: Done  33 tasks      | elapsed:  6.9min\n",
      "[Parallel(n_jobs=-1)]: Done  34 tasks      | elapsed:  7.0min\n",
      "[Parallel(n_jobs=-1)]: Done  35 tasks      | elapsed:  7.1min\n",
      "[Parallel(n_jobs=-1)]: Done  36 tasks      | elapsed:  7.1min\n",
      "[Parallel(n_jobs=-1)]: Done  37 tasks      | elapsed:  7.1min\n",
      "[Parallel(n_jobs=-1)]: Done  38 tasks      | elapsed:  7.2min\n",
      "[Parallel(n_jobs=-1)]: Done  39 tasks      | elapsed:  7.2min\n",
      "[Parallel(n_jobs=-1)]: Done  40 tasks      | elapsed:  7.5min\n",
      "[Parallel(n_jobs=-1)]: Done  41 tasks      | elapsed:  7.8min\n",
      "[Parallel(n_jobs=-1)]: Done  42 tasks      | elapsed:  7.8min\n",
      "[Parallel(n_jobs=-1)]: Done  43 tasks      | elapsed:  7.9min\n",
      "[Parallel(n_jobs=-1)]: Done  44 tasks      | elapsed:  7.9min\n",
      "[Parallel(n_jobs=-1)]: Done  45 tasks      | elapsed:  7.9min\n",
      "[Parallel(n_jobs=-1)]: Done  46 tasks      | elapsed:  8.2min\n",
      "[Parallel(n_jobs=-1)]: Done  47 tasks      | elapsed:  8.3min\n",
      "[Parallel(n_jobs=-1)]: Done  48 tasks      | elapsed:  8.8min\n",
      "[Parallel(n_jobs=-1)]: Done  49 tasks      | elapsed:  9.2min\n",
      "[Parallel(n_jobs=-1)]: Done  50 tasks      | elapsed:  9.2min\n",
      "[Parallel(n_jobs=-1)]: Done  51 tasks      | elapsed: 10.0min\n",
      "[Parallel(n_jobs=-1)]: Done  52 tasks      | elapsed: 10.0min\n",
      "[Parallel(n_jobs=-1)]: Done  53 tasks      | elapsed: 10.1min\n",
      "[Parallel(n_jobs=-1)]: Done  54 tasks      | elapsed: 10.4min\n",
      "[Parallel(n_jobs=-1)]: Done  55 tasks      | elapsed: 10.4min\n",
      "[Parallel(n_jobs=-1)]: Done  56 tasks      | elapsed: 11.6min\n",
      "[Parallel(n_jobs=-1)]: Done  57 tasks      | elapsed: 11.8min\n",
      "[Parallel(n_jobs=-1)]: Done  58 tasks      | elapsed: 11.9min\n",
      "[Parallel(n_jobs=-1)]: Done  59 tasks      | elapsed: 11.9min\n",
      "[Parallel(n_jobs=-1)]: Done  60 tasks      | elapsed: 12.0min\n",
      "[Parallel(n_jobs=-1)]: Done  61 tasks      | elapsed: 12.1min\n",
      "[Parallel(n_jobs=-1)]: Done  62 tasks      | elapsed: 12.4min\n",
      "[Parallel(n_jobs=-1)]: Done  63 tasks      | elapsed: 12.4min\n",
      "[Parallel(n_jobs=-1)]: Done  64 tasks      | elapsed: 12.6min\n",
      "[Parallel(n_jobs=-1)]: Done  65 tasks      | elapsed: 12.6min\n",
      "[Parallel(n_jobs=-1)]: Done  66 tasks      | elapsed: 12.7min\n",
      "[Parallel(n_jobs=-1)]: Done  67 tasks      | elapsed: 12.7min\n",
      "[Parallel(n_jobs=-1)]: Done  68 tasks      | elapsed: 12.7min\n",
      "[Parallel(n_jobs=-1)]: Done  69 tasks      | elapsed: 12.8min\n",
      "[Parallel(n_jobs=-1)]: Done  70 tasks      | elapsed: 13.0min\n",
      "[Parallel(n_jobs=-1)]: Done  71 tasks      | elapsed: 14.7min\n",
      "[Parallel(n_jobs=-1)]: Done  72 tasks      | elapsed: 14.8min\n",
      "[Parallel(n_jobs=-1)]: Done  73 tasks      | elapsed: 14.8min\n",
      "[Parallel(n_jobs=-1)]: Done  74 tasks      | elapsed: 14.9min\n",
      "[Parallel(n_jobs=-1)]: Done  75 tasks      | elapsed: 14.9min\n",
      "[Parallel(n_jobs=-1)]: Done  76 tasks      | elapsed: 14.9min\n",
      "[Parallel(n_jobs=-1)]: Done  77 tasks      | elapsed: 14.9min\n",
      "[Parallel(n_jobs=-1)]: Done  78 tasks      | elapsed: 15.0min\n",
      "[Parallel(n_jobs=-1)]: Done  79 tasks      | elapsed: 16.5min\n",
      "[Parallel(n_jobs=-1)]: Done  80 tasks      | elapsed: 16.6min\n",
      "[Parallel(n_jobs=-1)]: Done  81 tasks      | elapsed: 16.8min\n",
      "[Parallel(n_jobs=-1)]: Done  82 tasks      | elapsed: 17.5min\n",
      "[Parallel(n_jobs=-1)]: Done  83 tasks      | elapsed: 17.5min\n",
      "[Parallel(n_jobs=-1)]: Done  84 tasks      | elapsed: 17.5min\n",
      "[Parallel(n_jobs=-1)]: Done  85 tasks      | elapsed: 17.6min\n",
      "[Parallel(n_jobs=-1)]: Done  86 tasks      | elapsed: 17.6min\n",
      "[Parallel(n_jobs=-1)]: Done  87 tasks      | elapsed: 17.7min\n",
      "[Parallel(n_jobs=-1)]: Done  88 tasks      | elapsed: 17.7min\n",
      "[Parallel(n_jobs=-1)]: Done  89 tasks      | elapsed: 17.8min\n",
      "[Parallel(n_jobs=-1)]: Done  90 tasks      | elapsed: 18.1min\n",
      "[Parallel(n_jobs=-1)]: Done  91 tasks      | elapsed: 18.1min\n",
      "[Parallel(n_jobs=-1)]: Done  92 tasks      | elapsed: 18.1min\n",
      "[Parallel(n_jobs=-1)]: Done  93 tasks      | elapsed: 18.2min\n",
      "[Parallel(n_jobs=-1)]: Done  94 tasks      | elapsed: 18.3min\n",
      "[Parallel(n_jobs=-1)]: Done  95 tasks      | elapsed: 18.3min\n",
      "[Parallel(n_jobs=-1)]: Done  96 tasks      | elapsed: 18.8min\n",
      "[Parallel(n_jobs=-1)]: Done  97 tasks      | elapsed: 19.0min\n",
      "[Parallel(n_jobs=-1)]: Done  98 tasks      | elapsed: 19.0min\n",
      "[Parallel(n_jobs=-1)]: Done  99 tasks      | elapsed: 19.6min\n",
      "[Parallel(n_jobs=-1)]: Done 100 tasks      | elapsed: 19.7min\n",
      "[Parallel(n_jobs=-1)]: Done 101 tasks      | elapsed: 19.7min\n",
      "[Parallel(n_jobs=-1)]: Done 102 tasks      | elapsed: 19.8min\n",
      "[Parallel(n_jobs=-1)]: Done 103 tasks      | elapsed: 20.0min\n",
      "[Parallel(n_jobs=-1)]: Done 104 tasks      | elapsed: 20.0min\n",
      "[Parallel(n_jobs=-1)]: Done 105 tasks      | elapsed: 20.0min\n",
      "[Parallel(n_jobs=-1)]: Done 106 tasks      | elapsed: 20.1min\n",
      "[Parallel(n_jobs=-1)]: Done 107 tasks      | elapsed: 20.3min\n",
      "[Parallel(n_jobs=-1)]: Done 108 tasks      | elapsed: 20.3min\n",
      "[Parallel(n_jobs=-1)]: Done 109 tasks      | elapsed: 20.4min\n",
      "[Parallel(n_jobs=-1)]: Done 110 tasks      | elapsed: 20.5min\n",
      "[Parallel(n_jobs=-1)]: Done 111 tasks      | elapsed: 20.7min\n",
      "[Parallel(n_jobs=-1)]: Done 112 tasks      | elapsed: 20.7min\n",
      "[Parallel(n_jobs=-1)]: Done 113 tasks      | elapsed: 20.7min\n",
      "[Parallel(n_jobs=-1)]: Done 114 tasks      | elapsed: 20.8min\n",
      "[Parallel(n_jobs=-1)]: Done 115 tasks      | elapsed: 21.1min\n",
      "[Parallel(n_jobs=-1)]: Done 116 tasks      | elapsed: 21.4min\n",
      "[Parallel(n_jobs=-1)]: Done 117 tasks      | elapsed: 21.5min\n",
      "[Parallel(n_jobs=-1)]: Done 118 tasks      | elapsed: 21.9min\n",
      "[Parallel(n_jobs=-1)]: Done 119 tasks      | elapsed: 22.3min\n",
      "[Parallel(n_jobs=-1)]: Done 120 tasks      | elapsed: 22.3min\n",
      "[Parallel(n_jobs=-1)]: Done 121 tasks      | elapsed: 22.5min\n",
      "[Parallel(n_jobs=-1)]: Done 122 tasks      | elapsed: 22.6min\n",
      "[Parallel(n_jobs=-1)]: Done 123 tasks      | elapsed: 22.8min\n",
      "[Parallel(n_jobs=-1)]: Done 124 tasks      | elapsed: 23.0min\n",
      "[Parallel(n_jobs=-1)]: Done 125 tasks      | elapsed: 23.0min\n",
      "[Parallel(n_jobs=-1)]: Done 126 tasks      | elapsed: 23.0min\n",
      "[Parallel(n_jobs=-1)]: Done 127 tasks      | elapsed: 23.3min\n",
      "[Parallel(n_jobs=-1)]: Done 128 tasks      | elapsed: 23.3min\n",
      "[Parallel(n_jobs=-1)]: Done 129 tasks      | elapsed: 23.5min\n",
      "[Parallel(n_jobs=-1)]: Done 130 tasks      | elapsed: 23.6min\n",
      "[Parallel(n_jobs=-1)]: Done 131 tasks      | elapsed: 24.3min\n"
     ]
    },
    {
     "name": "stderr",
     "output_type": "stream",
     "text": [
      "[Parallel(n_jobs=-1)]: Done 132 tasks      | elapsed: 24.6min\n",
      "[Parallel(n_jobs=-1)]: Done 133 tasks      | elapsed: 24.7min\n",
      "[Parallel(n_jobs=-1)]: Done 134 tasks      | elapsed: 25.2min\n",
      "[Parallel(n_jobs=-1)]: Done 135 tasks      | elapsed: 25.3min\n",
      "[Parallel(n_jobs=-1)]: Done 136 tasks      | elapsed: 25.3min\n",
      "[Parallel(n_jobs=-1)]: Done 137 tasks      | elapsed: 25.3min\n",
      "[Parallel(n_jobs=-1)]: Done 138 tasks      | elapsed: 25.4min\n",
      "[Parallel(n_jobs=-1)]: Done 139 tasks      | elapsed: 25.4min\n",
      "[Parallel(n_jobs=-1)]: Done 140 tasks      | elapsed: 25.5min\n",
      "[Parallel(n_jobs=-1)]: Done 141 tasks      | elapsed: 26.1min\n",
      "[Parallel(n_jobs=-1)]: Done 142 tasks      | elapsed: 26.4min\n",
      "[Parallel(n_jobs=-1)]: Done 143 tasks      | elapsed: 26.5min\n",
      "[Parallel(n_jobs=-1)]: Done 144 tasks      | elapsed: 26.6min\n",
      "[Parallel(n_jobs=-1)]: Done 145 tasks      | elapsed: 26.6min\n",
      "[Parallel(n_jobs=-1)]: Done 146 tasks      | elapsed: 26.7min\n",
      "[Parallel(n_jobs=-1)]: Done 147 tasks      | elapsed: 26.7min\n",
      "[Parallel(n_jobs=-1)]: Done 148 tasks      | elapsed: 26.7min\n",
      "[Parallel(n_jobs=-1)]: Done 149 tasks      | elapsed: 26.9min\n",
      "[Parallel(n_jobs=-1)]: Done 150 tasks      | elapsed: 27.0min\n",
      "[Parallel(n_jobs=-1)]: Done 151 tasks      | elapsed: 28.1min\n",
      "[Parallel(n_jobs=-1)]: Done 152 tasks      | elapsed: 28.3min\n",
      "[Parallel(n_jobs=-1)]: Done 153 tasks      | elapsed: 28.3min\n",
      "[Parallel(n_jobs=-1)]: Done 154 tasks      | elapsed: 28.4min\n",
      "[Parallel(n_jobs=-1)]: Done 155 tasks      | elapsed: 28.4min\n",
      "[Parallel(n_jobs=-1)]: Done 156 tasks      | elapsed: 28.9min\n",
      "[Parallel(n_jobs=-1)]: Done 157 tasks      | elapsed: 29.3min\n",
      "[Parallel(n_jobs=-1)]: Done 158 tasks      | elapsed: 29.4min\n",
      "[Parallel(n_jobs=-1)]: Done 159 tasks      | elapsed: 29.6min\n",
      "[Parallel(n_jobs=-1)]: Done 160 tasks      | elapsed: 29.7min\n",
      "[Parallel(n_jobs=-1)]: Done 161 tasks      | elapsed: 29.7min\n",
      "[Parallel(n_jobs=-1)]: Done 162 tasks      | elapsed: 30.0min\n",
      "[Parallel(n_jobs=-1)]: Done 163 tasks      | elapsed: 30.1min\n",
      "[Parallel(n_jobs=-1)]: Done 164 tasks      | elapsed: 30.2min\n",
      "[Parallel(n_jobs=-1)]: Done 165 tasks      | elapsed: 30.3min\n",
      "[Parallel(n_jobs=-1)]: Done 166 tasks      | elapsed: 31.1min\n",
      "[Parallel(n_jobs=-1)]: Done 167 tasks      | elapsed: 31.3min\n",
      "[Parallel(n_jobs=-1)]: Done 168 tasks      | elapsed: 31.4min\n",
      "[Parallel(n_jobs=-1)]: Done 169 tasks      | elapsed: 31.4min\n",
      "[Parallel(n_jobs=-1)]: Done 170 tasks      | elapsed: 31.4min\n",
      "[Parallel(n_jobs=-1)]: Done 171 tasks      | elapsed: 31.5min\n",
      "[Parallel(n_jobs=-1)]: Done 172 tasks      | elapsed: 31.5min\n",
      "[Parallel(n_jobs=-1)]: Done 173 tasks      | elapsed: 31.5min\n",
      "[Parallel(n_jobs=-1)]: Done 174 tasks      | elapsed: 32.1min\n",
      "[Parallel(n_jobs=-1)]: Done 175 tasks      | elapsed: 32.4min\n",
      "[Parallel(n_jobs=-1)]: Done 176 tasks      | elapsed: 32.5min\n",
      "[Parallel(n_jobs=-1)]: Done 177 tasks      | elapsed: 32.8min\n",
      "[Parallel(n_jobs=-1)]: Done 178 tasks      | elapsed: 32.8min\n",
      "[Parallel(n_jobs=-1)]: Done 179 tasks      | elapsed: 32.8min\n",
      "[Parallel(n_jobs=-1)]: Done 180 tasks      | elapsed: 32.8min\n",
      "[Parallel(n_jobs=-1)]: Done 181 tasks      | elapsed: 32.9min\n",
      "[Parallel(n_jobs=-1)]: Done 182 tasks      | elapsed: 32.9min\n",
      "[Parallel(n_jobs=-1)]: Done 183 tasks      | elapsed: 32.9min\n",
      "[Parallel(n_jobs=-1)]: Done 184 tasks      | elapsed: 33.0min\n",
      "[Parallel(n_jobs=-1)]: Done 185 tasks      | elapsed: 33.2min\n",
      "[Parallel(n_jobs=-1)]: Done 186 tasks      | elapsed: 33.3min\n",
      "[Parallel(n_jobs=-1)]: Done 187 tasks      | elapsed: 33.3min\n",
      "[Parallel(n_jobs=-1)]: Done 188 tasks      | elapsed: 33.3min\n",
      "[Parallel(n_jobs=-1)]: Done 189 tasks      | elapsed: 33.3min\n",
      "[Parallel(n_jobs=-1)]: Done 190 tasks      | elapsed: 33.3min\n",
      "[Parallel(n_jobs=-1)]: Done 191 tasks      | elapsed: 33.4min\n",
      "[Parallel(n_jobs=-1)]: Done 192 tasks      | elapsed: 33.4min\n",
      "[Parallel(n_jobs=-1)]: Done 193 tasks      | elapsed: 33.6min\n",
      "[Parallel(n_jobs=-1)]: Done 194 tasks      | elapsed: 33.8min\n",
      "[Parallel(n_jobs=-1)]: Done 195 tasks      | elapsed: 33.9min\n",
      "[Parallel(n_jobs=-1)]: Done 196 tasks      | elapsed: 34.9min\n",
      "[Parallel(n_jobs=-1)]: Done 197 tasks      | elapsed: 34.9min\n",
      "[Parallel(n_jobs=-1)]: Done 198 tasks      | elapsed: 35.0min\n",
      "[Parallel(n_jobs=-1)]: Done 199 tasks      | elapsed: 35.0min\n",
      "[Parallel(n_jobs=-1)]: Done 200 tasks      | elapsed: 35.0min\n",
      "[Parallel(n_jobs=-1)]: Done 201 tasks      | elapsed: 35.0min\n",
      "[Parallel(n_jobs=-1)]: Done 202 tasks      | elapsed: 35.0min\n",
      "[Parallel(n_jobs=-1)]: Done 203 tasks      | elapsed: 35.1min\n",
      "[Parallel(n_jobs=-1)]: Done 204 tasks      | elapsed: 35.3min\n",
      "[Parallel(n_jobs=-1)]: Done 205 tasks      | elapsed: 35.3min\n",
      "[Parallel(n_jobs=-1)]: Done 206 tasks      | elapsed: 35.4min\n",
      "[Parallel(n_jobs=-1)]: Done 207 tasks      | elapsed: 35.4min\n",
      "[Parallel(n_jobs=-1)]: Done 208 tasks      | elapsed: 35.4min\n",
      "[Parallel(n_jobs=-1)]: Done 209 tasks      | elapsed: 35.4min\n",
      "[Parallel(n_jobs=-1)]: Done 210 tasks      | elapsed: 35.4min\n",
      "[Parallel(n_jobs=-1)]: Done 211 tasks      | elapsed: 36.7min\n",
      "[Parallel(n_jobs=-1)]: Done 212 tasks      | elapsed: 37.3min\n",
      "[Parallel(n_jobs=-1)]: Done 213 tasks      | elapsed: 37.3min\n",
      "[Parallel(n_jobs=-1)]: Done 214 tasks      | elapsed: 37.4min\n",
      "[Parallel(n_jobs=-1)]: Done 215 tasks      | elapsed: 37.4min\n",
      "[Parallel(n_jobs=-1)]: Done 216 tasks      | elapsed: 37.4min\n",
      "[Parallel(n_jobs=-1)]: Done 217 tasks      | elapsed: 37.4min\n",
      "[Parallel(n_jobs=-1)]: Done 218 tasks      | elapsed: 37.5min\n",
      "[Parallel(n_jobs=-1)]: Done 219 tasks      | elapsed: 38.3min\n",
      "[Parallel(n_jobs=-1)]: Done 220 tasks      | elapsed: 38.7min\n",
      "[Parallel(n_jobs=-1)]: Done 221 tasks      | elapsed: 39.2min\n",
      "[Parallel(n_jobs=-1)]: Done 222 tasks      | elapsed: 39.6min\n",
      "[Parallel(n_jobs=-1)]: Done 223 tasks      | elapsed: 39.6min\n",
      "[Parallel(n_jobs=-1)]: Done 224 tasks      | elapsed: 39.7min\n",
      "[Parallel(n_jobs=-1)]: Done 225 tasks      | elapsed: 39.7min\n",
      "[Parallel(n_jobs=-1)]: Done 226 tasks      | elapsed: 39.7min\n",
      "[Parallel(n_jobs=-1)]: Done 227 tasks      | elapsed: 39.7min\n",
      "[Parallel(n_jobs=-1)]: Done 228 tasks      | elapsed: 39.8min\n",
      "[Parallel(n_jobs=-1)]: Done 229 tasks      | elapsed: 40.0min\n",
      "[Parallel(n_jobs=-1)]: Done 230 tasks      | elapsed: 40.3min\n",
      "[Parallel(n_jobs=-1)]: Done 231 tasks      | elapsed: 40.4min\n",
      "[Parallel(n_jobs=-1)]: Done 232 tasks      | elapsed: 40.6min\n",
      "[Parallel(n_jobs=-1)]: Done 233 tasks      | elapsed: 40.6min\n",
      "[Parallel(n_jobs=-1)]: Done 234 tasks      | elapsed: 40.6min\n",
      "[Parallel(n_jobs=-1)]: Done 235 tasks      | elapsed: 40.6min\n",
      "[Parallel(n_jobs=-1)]: Done 236 tasks      | elapsed: 40.6min\n",
      "[Parallel(n_jobs=-1)]: Done 237 tasks      | elapsed: 40.6min\n",
      "[Parallel(n_jobs=-1)]: Done 238 tasks      | elapsed: 40.8min\n",
      "[Parallel(n_jobs=-1)]: Done 239 tasks      | elapsed: 41.0min\n",
      "[Parallel(n_jobs=-1)]: Done 240 tasks      | elapsed: 41.1min\n",
      "[Parallel(n_jobs=-1)]: Done 241 tasks      | elapsed: 42.1min\n",
      "[Parallel(n_jobs=-1)]: Done 242 tasks      | elapsed: 42.1min\n",
      "[Parallel(n_jobs=-1)]: Done 243 tasks      | elapsed: 42.2min\n",
      "[Parallel(n_jobs=-1)]: Done 244 tasks      | elapsed: 42.2min\n",
      "[Parallel(n_jobs=-1)]: Done 245 tasks      | elapsed: 42.3min\n",
      "[Parallel(n_jobs=-1)]: Done 246 tasks      | elapsed: 43.1min\n",
      "[Parallel(n_jobs=-1)]: Done 247 tasks      | elapsed: 43.3min\n",
      "[Parallel(n_jobs=-1)]: Done 248 tasks      | elapsed: 43.4min\n",
      "[Parallel(n_jobs=-1)]: Done 249 tasks      | elapsed: 43.7min\n",
      "[Parallel(n_jobs=-1)]: Done 250 tasks      | elapsed: 43.7min\n",
      "[Parallel(n_jobs=-1)]: Done 251 tasks      | elapsed: 43.8min\n",
      "[Parallel(n_jobs=-1)]: Done 252 tasks      | elapsed: 44.2min\n",
      "[Parallel(n_jobs=-1)]: Done 253 tasks      | elapsed: 44.2min\n",
      "[Parallel(n_jobs=-1)]: Done 254 tasks      | elapsed: 44.4min\n",
      "[Parallel(n_jobs=-1)]: Done 255 tasks      | elapsed: 44.6min\n",
      "[Parallel(n_jobs=-1)]: Done 256 tasks      | elapsed: 45.8min\n",
      "[Parallel(n_jobs=-1)]: Done 257 tasks      | elapsed: 46.2min\n",
      "[Parallel(n_jobs=-1)]: Done 258 tasks      | elapsed: 46.2min\n",
      "[Parallel(n_jobs=-1)]: Done 259 tasks      | elapsed: 46.3min\n",
      "[Parallel(n_jobs=-1)]: Done 260 tasks      | elapsed: 46.7min\n",
      "[Parallel(n_jobs=-1)]: Done 261 tasks      | elapsed: 46.7min\n",
      "[Parallel(n_jobs=-1)]: Done 262 tasks      | elapsed: 46.9min\n",
      "[Parallel(n_jobs=-1)]: Done 263 tasks      | elapsed: 47.1min\n",
      "[Parallel(n_jobs=-1)]: Done 264 tasks      | elapsed: 47.5min\n"
     ]
    },
    {
     "name": "stderr",
     "output_type": "stream",
     "text": [
      "[Parallel(n_jobs=-1)]: Done 265 tasks      | elapsed: 47.5min\n",
      "[Parallel(n_jobs=-1)]: Done 266 tasks      | elapsed: 48.0min\n",
      "[Parallel(n_jobs=-1)]: Done 267 tasks      | elapsed: 48.0min\n",
      "[Parallel(n_jobs=-1)]: Done 268 tasks      | elapsed: 48.0min\n",
      "[Parallel(n_jobs=-1)]: Done 269 tasks      | elapsed: 48.1min\n",
      "[Parallel(n_jobs=-1)]: Done 270 tasks      | elapsed: 48.2min\n",
      "[Parallel(n_jobs=-1)]: Done 271 tasks      | elapsed: 48.7min\n",
      "[Parallel(n_jobs=-1)]: Done 272 tasks      | elapsed: 48.8min\n",
      "[Parallel(n_jobs=-1)]: Done 273 tasks      | elapsed: 49.0min\n",
      "[Parallel(n_jobs=-1)]: Done 274 tasks      | elapsed: 49.5min\n",
      "[Parallel(n_jobs=-1)]: Done 275 tasks      | elapsed: 49.6min\n",
      "[Parallel(n_jobs=-1)]: Done 276 tasks      | elapsed: 49.7min\n",
      "[Parallel(n_jobs=-1)]: Done 277 tasks      | elapsed: 50.1min\n",
      "[Parallel(n_jobs=-1)]: Done 278 tasks      | elapsed: 50.2min\n",
      "[Parallel(n_jobs=-1)]: Done 279 tasks      | elapsed: 50.5min\n",
      "[Parallel(n_jobs=-1)]: Done 280 tasks      | elapsed: 50.6min\n",
      "[Parallel(n_jobs=-1)]: Done 281 tasks      | elapsed: 50.6min\n",
      "[Parallel(n_jobs=-1)]: Done 282 tasks      | elapsed: 51.0min\n",
      "[Parallel(n_jobs=-1)]: Done 283 tasks      | elapsed: 51.1min\n",
      "[Parallel(n_jobs=-1)]: Done 284 tasks      | elapsed: 51.1min\n",
      "[Parallel(n_jobs=-1)]: Done 285 tasks      | elapsed: 51.2min\n",
      "[Parallel(n_jobs=-1)]: Done 286 tasks      | elapsed: 51.3min\n",
      "[Parallel(n_jobs=-1)]: Done 287 tasks      | elapsed: 51.3min\n",
      "[Parallel(n_jobs=-1)]: Done 288 tasks      | elapsed: 51.3min\n",
      "[Parallel(n_jobs=-1)]: Done 289 tasks      | elapsed: 51.4min\n",
      "[Parallel(n_jobs=-1)]: Done 290 tasks      | elapsed: 51.7min\n",
      "[Parallel(n_jobs=-1)]: Done 291 tasks      | elapsed: 52.6min\n",
      "[Parallel(n_jobs=-1)]: Done 292 tasks      | elapsed: 52.6min\n",
      "[Parallel(n_jobs=-1)]: Done 293 tasks      | elapsed: 52.6min\n",
      "[Parallel(n_jobs=-1)]: Done 294 tasks      | elapsed: 52.8min\n",
      "[Parallel(n_jobs=-1)]: Done 295 tasks      | elapsed: 52.9min\n",
      "[Parallel(n_jobs=-1)]: Done 296 tasks      | elapsed: 53.0min\n",
      "[Parallel(n_jobs=-1)]: Done 297 tasks      | elapsed: 53.1min\n",
      "[Parallel(n_jobs=-1)]: Done 298 tasks      | elapsed: 53.4min\n",
      "[Parallel(n_jobs=-1)]: Done 299 tasks      | elapsed: 54.5min\n",
      "[Parallel(n_jobs=-1)]: Done 300 tasks      | elapsed: 54.5min\n",
      "[Parallel(n_jobs=-1)]: Done 301 tasks      | elapsed: 54.8min\n",
      "[Parallel(n_jobs=-1)]: Done 302 tasks      | elapsed: 55.0min\n",
      "[Parallel(n_jobs=-1)]: Done 303 tasks      | elapsed: 55.1min\n",
      "[Parallel(n_jobs=-1)]: Done 304 tasks      | elapsed: 55.2min\n",
      "[Parallel(n_jobs=-1)]: Done 305 tasks      | elapsed: 55.2min\n",
      "[Parallel(n_jobs=-1)]: Done 306 tasks      | elapsed: 55.3min\n",
      "[Parallel(n_jobs=-1)]: Done 307 tasks      | elapsed: 57.0min\n",
      "[Parallel(n_jobs=-1)]: Done 308 tasks      | elapsed: 57.0min\n",
      "[Parallel(n_jobs=-1)]: Done 309 tasks      | elapsed: 57.0min\n",
      "[Parallel(n_jobs=-1)]: Done 310 tasks      | elapsed: 57.0min\n",
      "[Parallel(n_jobs=-1)]: Done 311 tasks      | elapsed: 57.0min\n",
      "[Parallel(n_jobs=-1)]: Done 312 tasks      | elapsed: 57.0min\n",
      "[Parallel(n_jobs=-1)]: Done 313 tasks      | elapsed: 57.0min\n",
      "[Parallel(n_jobs=-1)]: Done 314 tasks      | elapsed: 57.0min\n",
      "[Parallel(n_jobs=-1)]: Done 315 tasks      | elapsed: 59.9min\n",
      "[Parallel(n_jobs=-1)]: Done 316 tasks      | elapsed: 59.9min\n",
      "[Parallel(n_jobs=-1)]: Done 317 tasks      | elapsed: 59.9min\n",
      "[Parallel(n_jobs=-1)]: Done 318 tasks      | elapsed: 59.9min\n",
      "[Parallel(n_jobs=-1)]: Done 319 tasks      | elapsed: 59.9min\n",
      "[Parallel(n_jobs=-1)]: Done 320 tasks      | elapsed: 59.9min\n",
      "[Parallel(n_jobs=-1)]: Done 321 tasks      | elapsed: 59.9min\n",
      "[Parallel(n_jobs=-1)]: Done 322 tasks      | elapsed: 59.9min\n",
      "[Parallel(n_jobs=-1)]: Done 323 tasks      | elapsed: 62.2min\n",
      "[Parallel(n_jobs=-1)]: Done 324 tasks      | elapsed: 62.2min\n",
      "[Parallel(n_jobs=-1)]: Done 325 tasks      | elapsed: 62.2min\n",
      "[Parallel(n_jobs=-1)]: Done 326 tasks      | elapsed: 62.4min\n",
      "[Parallel(n_jobs=-1)]: Done 327 tasks      | elapsed: 62.4min\n",
      "[Parallel(n_jobs=-1)]: Done 328 tasks      | elapsed: 62.4min\n",
      "[Parallel(n_jobs=-1)]: Done 329 tasks      | elapsed: 62.4min\n",
      "[Parallel(n_jobs=-1)]: Done 330 tasks      | elapsed: 62.5min\n",
      "[Parallel(n_jobs=-1)]: Done 331 tasks      | elapsed: 64.0min\n",
      "[Parallel(n_jobs=-1)]: Done 332 tasks      | elapsed: 64.1min\n",
      "[Parallel(n_jobs=-1)]: Done 333 tasks      | elapsed: 64.2min\n",
      "[Parallel(n_jobs=-1)]: Done 334 tasks      | elapsed: 64.4min\n",
      "[Parallel(n_jobs=-1)]: Done 335 tasks      | elapsed: 64.4min\n",
      "[Parallel(n_jobs=-1)]: Done 336 tasks      | elapsed: 64.5min\n",
      "[Parallel(n_jobs=-1)]: Done 337 tasks      | elapsed: 64.5min\n",
      "[Parallel(n_jobs=-1)]: Done 338 tasks      | elapsed: 64.5min\n",
      "[Parallel(n_jobs=-1)]: Done 339 tasks      | elapsed: 66.1min\n",
      "[Parallel(n_jobs=-1)]: Done 340 tasks      | elapsed: 66.1min\n",
      "[Parallel(n_jobs=-1)]: Done 341 tasks      | elapsed: 66.4min\n",
      "[Parallel(n_jobs=-1)]: Done 342 tasks      | elapsed: 66.5min\n",
      "[Parallel(n_jobs=-1)]: Done 343 tasks      | elapsed: 66.7min\n",
      "[Parallel(n_jobs=-1)]: Done 344 tasks      | elapsed: 66.7min\n",
      "[Parallel(n_jobs=-1)]: Done 345 tasks      | elapsed: 66.8min\n",
      "[Parallel(n_jobs=-1)]: Done 346 tasks      | elapsed: 66.8min\n",
      "[Parallel(n_jobs=-1)]: Done 347 tasks      | elapsed: 67.7min\n",
      "[Parallel(n_jobs=-1)]: Done 348 tasks      | elapsed: 67.7min\n",
      "[Parallel(n_jobs=-1)]: Done 349 tasks      | elapsed: 68.1min\n",
      "[Parallel(n_jobs=-1)]: Done 350 tasks      | elapsed: 68.2min\n",
      "[Parallel(n_jobs=-1)]: Done 351 tasks      | elapsed: 68.4min\n",
      "[Parallel(n_jobs=-1)]: Done 352 tasks      | elapsed: 68.5min\n",
      "[Parallel(n_jobs=-1)]: Done 353 tasks      | elapsed: 68.5min\n",
      "[Parallel(n_jobs=-1)]: Done 354 tasks      | elapsed: 68.6min\n",
      "[Parallel(n_jobs=-1)]: Done 355 tasks      | elapsed: 68.6min\n",
      "[Parallel(n_jobs=-1)]: Done 356 tasks      | elapsed: 68.6min\n",
      "[Parallel(n_jobs=-1)]: Done 357 tasks      | elapsed: 68.6min\n",
      "[Parallel(n_jobs=-1)]: Done 358 tasks      | elapsed: 68.7min\n",
      "[Parallel(n_jobs=-1)]: Done 359 tasks      | elapsed: 68.9min\n",
      "[Parallel(n_jobs=-1)]: Done 360 tasks      | elapsed: 69.1min\n",
      "[Parallel(n_jobs=-1)]: Done 361 tasks      | elapsed: 70.1min\n",
      "[Parallel(n_jobs=-1)]: Done 362 tasks      | elapsed: 70.1min\n",
      "[Parallel(n_jobs=-1)]: Done 363 tasks      | elapsed: 70.1min\n",
      "[Parallel(n_jobs=-1)]: Done 364 tasks      | elapsed: 70.2min\n",
      "[Parallel(n_jobs=-1)]: Done 365 tasks      | elapsed: 70.2min\n",
      "[Parallel(n_jobs=-1)]: Done 366 tasks      | elapsed: 71.0min\n",
      "[Parallel(n_jobs=-1)]: Done 367 tasks      | elapsed: 71.2min\n",
      "[Parallel(n_jobs=-1)]: Done 368 tasks      | elapsed: 71.4min\n",
      "[Parallel(n_jobs=-1)]: Done 369 tasks      | elapsed: 72.0min\n",
      "[Parallel(n_jobs=-1)]: Done 370 tasks      | elapsed: 72.1min\n",
      "[Parallel(n_jobs=-1)]: Done 371 tasks      | elapsed: 72.2min\n",
      "[Parallel(n_jobs=-1)]: Done 372 tasks      | elapsed: 72.3min\n",
      "[Parallel(n_jobs=-1)]: Done 373 tasks      | elapsed: 72.3min\n",
      "[Parallel(n_jobs=-1)]: Done 374 tasks      | elapsed: 72.8min\n",
      "[Parallel(n_jobs=-1)]: Done 375 tasks      | elapsed: 73.0min\n",
      "[Parallel(n_jobs=-1)]: Done 376 tasks      | elapsed: 73.4min\n",
      "[Parallel(n_jobs=-1)]: Done 377 tasks      | elapsed: 73.6min\n",
      "[Parallel(n_jobs=-1)]: Done 378 tasks      | elapsed: 74.1min\n",
      "[Parallel(n_jobs=-1)]: Done 379 tasks      | elapsed: 74.1min\n",
      "[Parallel(n_jobs=-1)]: Done 380 tasks      | elapsed: 74.1min\n",
      "[Parallel(n_jobs=-1)]: Done 381 tasks      | elapsed: 74.2min\n",
      "[Parallel(n_jobs=-1)]: Done 382 tasks      | elapsed: 74.2min\n",
      "[Parallel(n_jobs=-1)]: Done 383 tasks      | elapsed: 74.2min\n",
      "[Parallel(n_jobs=-1)]: Done 384 tasks      | elapsed: 74.3min\n",
      "[Parallel(n_jobs=-1)]: Done 385 tasks      | elapsed: 74.3min\n",
      "[Parallel(n_jobs=-1)]: Done 386 tasks      | elapsed: 74.4min\n",
      "[Parallel(n_jobs=-1)]: Done 387 tasks      | elapsed: 74.4min\n",
      "[Parallel(n_jobs=-1)]: Done 388 tasks      | elapsed: 74.4min\n",
      "[Parallel(n_jobs=-1)]: Done 389 tasks      | elapsed: 74.5min\n",
      "[Parallel(n_jobs=-1)]: Done 390 tasks      | elapsed: 74.5min\n",
      "[Parallel(n_jobs=-1)]: Done 391 tasks      | elapsed: 74.6min\n",
      "[Parallel(n_jobs=-1)]: Done 392 tasks      | elapsed: 74.7min\n",
      "[Parallel(n_jobs=-1)]: Done 393 tasks      | elapsed: 74.7min\n",
      "[Parallel(n_jobs=-1)]: Done 394 tasks      | elapsed: 74.9min\n",
      "[Parallel(n_jobs=-1)]: Done 395 tasks      | elapsed: 74.9min\n",
      "[Parallel(n_jobs=-1)]: Done 396 tasks      | elapsed: 75.2min\n",
      "[Parallel(n_jobs=-1)]: Done 397 tasks      | elapsed: 75.2min\n"
     ]
    },
    {
     "name": "stderr",
     "output_type": "stream",
     "text": [
      "[Parallel(n_jobs=-1)]: Done 398 tasks      | elapsed: 75.3min\n",
      "[Parallel(n_jobs=-1)]: Done 399 tasks      | elapsed: 75.4min\n",
      "[Parallel(n_jobs=-1)]: Done 400 tasks      | elapsed: 75.5min\n",
      "[Parallel(n_jobs=-1)]: Done 401 tasks      | elapsed: 77.3min\n",
      "[Parallel(n_jobs=-1)]: Done 402 tasks      | elapsed: 77.5min\n",
      "[Parallel(n_jobs=-1)]: Done 403 tasks      | elapsed: 77.6min\n",
      "[Parallel(n_jobs=-1)]: Done 404 tasks      | elapsed: 77.9min\n",
      "[Parallel(n_jobs=-1)]: Done 405 tasks      | elapsed: 78.0min\n",
      "[Parallel(n_jobs=-1)]: Done 406 tasks      | elapsed: 78.0min\n",
      "[Parallel(n_jobs=-1)]: Done 407 tasks      | elapsed: 78.2min\n",
      "[Parallel(n_jobs=-1)]: Done 408 tasks      | elapsed: 78.2min\n",
      "[Parallel(n_jobs=-1)]: Done 409 tasks      | elapsed: 79.7min\n",
      "[Parallel(n_jobs=-1)]: Done 410 tasks      | elapsed: 80.0min\n",
      "[Parallel(n_jobs=-1)]: Done 411 tasks      | elapsed: 80.0min\n",
      "[Parallel(n_jobs=-1)]: Done 412 tasks      | elapsed: 80.2min\n",
      "[Parallel(n_jobs=-1)]: Done 413 tasks      | elapsed: 80.5min\n",
      "[Parallel(n_jobs=-1)]: Done 414 tasks      | elapsed: 80.5min\n",
      "[Parallel(n_jobs=-1)]: Done 415 tasks      | elapsed: 80.5min\n",
      "[Parallel(n_jobs=-1)]: Done 416 tasks      | elapsed: 80.7min\n",
      "[Parallel(n_jobs=-1)]: Done 417 tasks      | elapsed: 80.9min\n",
      "[Parallel(n_jobs=-1)]: Done 418 tasks      | elapsed: 81.0min\n",
      "[Parallel(n_jobs=-1)]: Done 419 tasks      | elapsed: 81.0min\n",
      "[Parallel(n_jobs=-1)]: Done 420 tasks      | elapsed: 81.2min\n",
      "[Parallel(n_jobs=-1)]: Done 421 tasks      | elapsed: 81.9min\n",
      "[Parallel(n_jobs=-1)]: Done 422 tasks      | elapsed: 81.9min\n",
      "[Parallel(n_jobs=-1)]: Done 423 tasks      | elapsed: 82.1min\n",
      "[Parallel(n_jobs=-1)]: Done 424 tasks      | elapsed: 82.6min\n",
      "[Parallel(n_jobs=-1)]: Done 425 tasks      | elapsed: 82.6min\n",
      "[Parallel(n_jobs=-1)]: Done 426 tasks      | elapsed: 82.7min\n",
      "[Parallel(n_jobs=-1)]: Done 427 tasks      | elapsed: 82.7min\n",
      "[Parallel(n_jobs=-1)]: Done 428 tasks      | elapsed: 82.7min\n",
      "[Parallel(n_jobs=-1)]: Done 429 tasks      | elapsed: 82.9min\n",
      "[Parallel(n_jobs=-1)]: Done 430 tasks      | elapsed: 82.9min\n",
      "[Parallel(n_jobs=-1)]: Done 431 tasks      | elapsed: 84.6min\n",
      "[Parallel(n_jobs=-1)]: Done 432 tasks      | elapsed: 85.3min\n",
      "[Parallel(n_jobs=-1)]: Done 433 tasks      | elapsed: 85.4min\n",
      "[Parallel(n_jobs=-1)]: Done 434 tasks      | elapsed: 85.5min\n",
      "[Parallel(n_jobs=-1)]: Done 435 tasks      | elapsed: 85.5min\n",
      "[Parallel(n_jobs=-1)]: Done 436 tasks      | elapsed: 85.6min\n",
      "[Parallel(n_jobs=-1)]: Done 437 tasks      | elapsed: 85.6min\n",
      "[Parallel(n_jobs=-1)]: Done 438 tasks      | elapsed: 85.6min\n",
      "[Parallel(n_jobs=-1)]: Done 439 tasks      | elapsed: 86.5min\n",
      "[Parallel(n_jobs=-1)]: Done 440 tasks      | elapsed: 86.6min\n",
      "[Parallel(n_jobs=-1)]: Done 441 tasks      | elapsed: 87.6min\n",
      "[Parallel(n_jobs=-1)]: Done 442 tasks      | elapsed: 87.7min\n",
      "[Parallel(n_jobs=-1)]: Done 443 tasks      | elapsed: 87.8min\n",
      "[Parallel(n_jobs=-1)]: Done 444 tasks      | elapsed: 88.0min\n",
      "[Parallel(n_jobs=-1)]: Done 445 tasks      | elapsed: 88.0min\n",
      "[Parallel(n_jobs=-1)]: Done 446 tasks      | elapsed: 88.0min\n",
      "[Parallel(n_jobs=-1)]: Done 447 tasks      | elapsed: 88.0min\n",
      "[Parallel(n_jobs=-1)]: Done 448 tasks      | elapsed: 88.0min\n",
      "[Parallel(n_jobs=-1)]: Done 449 tasks      | elapsed: 88.2min\n",
      "[Parallel(n_jobs=-1)]: Done 450 tasks      | elapsed: 88.3min\n",
      "[Parallel(n_jobs=-1)]: Done 451 tasks      | elapsed: 90.0min\n",
      "[Parallel(n_jobs=-1)]: Done 452 tasks      | elapsed: 90.2min\n",
      "[Parallel(n_jobs=-1)]: Done 453 tasks      | elapsed: 90.2min\n",
      "[Parallel(n_jobs=-1)]: Done 454 tasks      | elapsed: 90.2min\n",
      "[Parallel(n_jobs=-1)]: Done 455 tasks      | elapsed: 90.3min\n",
      "[Parallel(n_jobs=-1)]: Done 456 tasks      | elapsed: 90.3min\n",
      "[Parallel(n_jobs=-1)]: Done 457 tasks      | elapsed: 90.3min\n",
      "[Parallel(n_jobs=-1)]: Done 458 tasks      | elapsed: 90.3min\n",
      "[Parallel(n_jobs=-1)]: Done 459 tasks      | elapsed: 91.4min\n",
      "[Parallel(n_jobs=-1)]: Done 460 tasks      | elapsed: 91.4min\n",
      "[Parallel(n_jobs=-1)]: Done 461 tasks      | elapsed: 91.4min\n",
      "[Parallel(n_jobs=-1)]: Done 462 tasks      | elapsed: 91.5min\n",
      "[Parallel(n_jobs=-1)]: Done 463 tasks      | elapsed: 91.5min\n",
      "[Parallel(n_jobs=-1)]: Done 464 tasks      | elapsed: 91.5min\n",
      "[Parallel(n_jobs=-1)]: Done 465 tasks      | elapsed: 91.5min\n",
      "[Parallel(n_jobs=-1)]: Done 466 tasks      | elapsed: 91.8min\n",
      "[Parallel(n_jobs=-1)]: Done 467 tasks      | elapsed: 91.9min\n",
      "[Parallel(n_jobs=-1)]: Done 468 tasks      | elapsed: 92.0min\n",
      "[Parallel(n_jobs=-1)]: Done 469 tasks      | elapsed: 92.1min\n",
      "[Parallel(n_jobs=-1)]: Done 470 tasks      | elapsed: 92.5min\n",
      "[Parallel(n_jobs=-1)]: Done 471 tasks      | elapsed: 92.7min\n",
      "[Parallel(n_jobs=-1)]: Done 472 tasks      | elapsed: 92.8min\n",
      "[Parallel(n_jobs=-1)]: Done 473 tasks      | elapsed: 92.9min\n",
      "[Parallel(n_jobs=-1)]: Done 474 tasks      | elapsed: 92.9min\n",
      "[Parallel(n_jobs=-1)]: Done 475 tasks      | elapsed: 93.0min\n",
      "[Parallel(n_jobs=-1)]: Done 476 tasks      | elapsed: 93.4min\n",
      "[Parallel(n_jobs=-1)]: Done 477 tasks      | elapsed: 93.4min\n",
      "[Parallel(n_jobs=-1)]: Done 478 tasks      | elapsed: 93.5min\n",
      "[Parallel(n_jobs=-1)]: Done 479 tasks      | elapsed: 93.5min\n",
      "[Parallel(n_jobs=-1)]: Done 480 tasks      | elapsed: 93.6min\n",
      "[Parallel(n_jobs=-1)]: Done 481 tasks      | elapsed: 93.8min\n",
      "[Parallel(n_jobs=-1)]: Done 482 tasks      | elapsed: 93.9min\n",
      "[Parallel(n_jobs=-1)]: Done 483 tasks      | elapsed: 93.9min\n",
      "[Parallel(n_jobs=-1)]: Done 484 tasks      | elapsed: 94.0min\n",
      "[Parallel(n_jobs=-1)]: Done 485 tasks      | elapsed: 94.0min\n",
      "[Parallel(n_jobs=-1)]: Done 486 tasks      | elapsed: 94.4min\n",
      "[Parallel(n_jobs=-1)]: Done 487 tasks      | elapsed: 94.5min\n",
      "[Parallel(n_jobs=-1)]: Done 488 tasks      | elapsed: 94.6min\n",
      "[Parallel(n_jobs=-1)]: Done 489 tasks      | elapsed: 94.7min\n",
      "[Parallel(n_jobs=-1)]: Done 490 tasks      | elapsed: 94.7min\n",
      "[Parallel(n_jobs=-1)]: Done 491 tasks      | elapsed: 94.7min\n",
      "[Parallel(n_jobs=-1)]: Done 492 tasks      | elapsed: 94.8min\n",
      "[Parallel(n_jobs=-1)]: Done 493 tasks      | elapsed: 94.8min\n",
      "[Parallel(n_jobs=-1)]: Done 494 tasks      | elapsed: 94.9min\n",
      "[Parallel(n_jobs=-1)]: Done 495 tasks      | elapsed: 95.0min\n",
      "[Parallel(n_jobs=-1)]: Done 496 tasks      | elapsed: 96.5min\n",
      "[Parallel(n_jobs=-1)]: Done 497 tasks      | elapsed: 96.7min\n",
      "[Parallel(n_jobs=-1)]: Done 498 tasks      | elapsed: 96.7min\n",
      "[Parallel(n_jobs=-1)]: Done 499 tasks      | elapsed: 96.8min\n",
      "[Parallel(n_jobs=-1)]: Done 500 tasks      | elapsed: 96.8min\n",
      "[Parallel(n_jobs=-1)]: Done 501 tasks      | elapsed: 96.9min\n",
      "[Parallel(n_jobs=-1)]: Done 502 tasks      | elapsed: 97.0min\n",
      "[Parallel(n_jobs=-1)]: Done 503 tasks      | elapsed: 97.0min\n",
      "[Parallel(n_jobs=-1)]: Done 504 tasks      | elapsed: 97.1min\n",
      "[Parallel(n_jobs=-1)]: Done 505 tasks      | elapsed: 97.2min\n",
      "[Parallel(n_jobs=-1)]: Done 506 tasks      | elapsed: 97.3min\n",
      "[Parallel(n_jobs=-1)]: Done 507 tasks      | elapsed: 97.4min\n",
      "[Parallel(n_jobs=-1)]: Done 508 tasks      | elapsed: 97.5min\n",
      "[Parallel(n_jobs=-1)]: Done 509 tasks      | elapsed: 97.5min\n",
      "[Parallel(n_jobs=-1)]: Done 510 tasks      | elapsed: 97.6min\n",
      "[Parallel(n_jobs=-1)]: Done 511 tasks      | elapsed: 97.6min\n",
      "[Parallel(n_jobs=-1)]: Done 512 tasks      | elapsed: 97.6min\n",
      "[Parallel(n_jobs=-1)]: Done 513 tasks      | elapsed: 97.7min\n",
      "[Parallel(n_jobs=-1)]: Done 514 tasks      | elapsed: 97.7min\n",
      "[Parallel(n_jobs=-1)]: Done 515 tasks      | elapsed: 97.7min\n",
      "[Parallel(n_jobs=-1)]: Done 516 tasks      | elapsed: 98.5min\n",
      "[Parallel(n_jobs=-1)]: Done 517 tasks      | elapsed: 98.7min\n",
      "[Parallel(n_jobs=-1)]: Done 518 tasks      | elapsed: 98.7min\n",
      "[Parallel(n_jobs=-1)]: Done 519 tasks      | elapsed: 99.5min\n",
      "[Parallel(n_jobs=-1)]: Done 520 tasks      | elapsed: 99.6min\n",
      "[Parallel(n_jobs=-1)]: Done 521 tasks      | elapsed: 99.6min\n",
      "[Parallel(n_jobs=-1)]: Done 522 tasks      | elapsed: 99.6min\n",
      "[Parallel(n_jobs=-1)]: Done 523 tasks      | elapsed: 99.7min\n",
      "[Parallel(n_jobs=-1)]: Done 524 tasks      | elapsed: 99.7min\n",
      "[Parallel(n_jobs=-1)]: Done 525 tasks      | elapsed: 99.7min\n",
      "[Parallel(n_jobs=-1)]: Done 526 tasks      | elapsed: 100.3min\n",
      "[Parallel(n_jobs=-1)]: Done 527 tasks      | elapsed: 100.5min\n",
      "[Parallel(n_jobs=-1)]: Done 528 tasks      | elapsed: 100.6min\n",
      "[Parallel(n_jobs=-1)]: Done 529 tasks      | elapsed: 100.6min\n",
      "[Parallel(n_jobs=-1)]: Done 530 tasks      | elapsed: 101.1min\n"
     ]
    },
    {
     "name": "stderr",
     "output_type": "stream",
     "text": [
      "[Parallel(n_jobs=-1)]: Done 531 tasks      | elapsed: 101.1min\n",
      "[Parallel(n_jobs=-1)]: Done 532 tasks      | elapsed: 101.2min\n",
      "[Parallel(n_jobs=-1)]: Done 533 tasks      | elapsed: 101.2min\n",
      "[Parallel(n_jobs=-1)]: Done 534 tasks      | elapsed: 101.2min\n",
      "[Parallel(n_jobs=-1)]: Done 535 tasks      | elapsed: 101.2min\n",
      "[Parallel(n_jobs=-1)]: Done 536 tasks      | elapsed: 101.2min\n",
      "[Parallel(n_jobs=-1)]: Done 537 tasks      | elapsed: 101.2min\n",
      "[Parallel(n_jobs=-1)]: Done 538 tasks      | elapsed: 101.3min\n",
      "[Parallel(n_jobs=-1)]: Done 539 tasks      | elapsed: 101.4min\n",
      "[Parallel(n_jobs=-1)]: Done 540 tasks      | elapsed: 101.4min\n",
      "[Parallel(n_jobs=-1)]: Done 541 tasks      | elapsed: 102.3min\n",
      "[Parallel(n_jobs=-1)]: Done 542 tasks      | elapsed: 102.4min\n",
      "[Parallel(n_jobs=-1)]: Done 543 tasks      | elapsed: 102.5min\n",
      "[Parallel(n_jobs=-1)]: Done 544 tasks      | elapsed: 103.2min\n",
      "[Parallel(n_jobs=-1)]: Done 545 tasks      | elapsed: 103.3min\n",
      "[Parallel(n_jobs=-1)]: Done 546 tasks      | elapsed: 103.3min\n",
      "[Parallel(n_jobs=-1)]: Done 547 tasks      | elapsed: 103.3min\n",
      "[Parallel(n_jobs=-1)]: Done 548 tasks      | elapsed: 103.3min\n",
      "[Parallel(n_jobs=-1)]: Done 549 tasks      | elapsed: 103.3min\n",
      "[Parallel(n_jobs=-1)]: Done 550 tasks      | elapsed: 103.3min\n",
      "[Parallel(n_jobs=-1)]: Done 551 tasks      | elapsed: 103.5min\n",
      "[Parallel(n_jobs=-1)]: Done 552 tasks      | elapsed: 104.7min\n",
      "[Parallel(n_jobs=-1)]: Done 553 tasks      | elapsed: 104.7min\n",
      "[Parallel(n_jobs=-1)]: Done 554 tasks      | elapsed: 104.7min\n",
      "[Parallel(n_jobs=-1)]: Done 555 tasks      | elapsed: 104.8min\n",
      "[Parallel(n_jobs=-1)]: Done 556 tasks      | elapsed: 105.5min\n",
      "[Parallel(n_jobs=-1)]: Done 557 tasks      | elapsed: 105.7min\n",
      "[Parallel(n_jobs=-1)]: Done 558 tasks      | elapsed: 105.7min\n",
      "[Parallel(n_jobs=-1)]: Done 559 tasks      | elapsed: 106.1min\n",
      "[Parallel(n_jobs=-1)]: Done 560 tasks      | elapsed: 106.5min\n",
      "[Parallel(n_jobs=-1)]: Done 561 tasks      | elapsed: 107.0min\n",
      "[Parallel(n_jobs=-1)]: Done 562 tasks      | elapsed: 107.2min\n",
      "[Parallel(n_jobs=-1)]: Done 563 tasks      | elapsed: 107.4min\n",
      "[Parallel(n_jobs=-1)]: Done 564 tasks      | elapsed: 107.5min\n",
      "[Parallel(n_jobs=-1)]: Done 565 tasks      | elapsed: 107.5min\n",
      "[Parallel(n_jobs=-1)]: Done 566 tasks      | elapsed: 107.5min\n",
      "[Parallel(n_jobs=-1)]: Done 567 tasks      | elapsed: 107.6min\n",
      "[Parallel(n_jobs=-1)]: Done 568 tasks      | elapsed: 107.7min\n",
      "[Parallel(n_jobs=-1)]: Done 569 tasks      | elapsed: 107.9min\n",
      "[Parallel(n_jobs=-1)]: Done 570 tasks      | elapsed: 108.1min\n",
      "[Parallel(n_jobs=-1)]: Done 571 tasks      | elapsed: 108.7min\n",
      "[Parallel(n_jobs=-1)]: Done 572 tasks      | elapsed: 109.0min\n",
      "[Parallel(n_jobs=-1)]: Done 573 tasks      | elapsed: 109.2min\n",
      "[Parallel(n_jobs=-1)]: Done 574 tasks      | elapsed: 109.8min\n",
      "[Parallel(n_jobs=-1)]: Done 575 tasks      | elapsed: 109.8min\n",
      "[Parallel(n_jobs=-1)]: Done 576 tasks      | elapsed: 109.9min\n",
      "[Parallel(n_jobs=-1)]: Done 577 tasks      | elapsed: 109.9min\n",
      "[Parallel(n_jobs=-1)]: Done 578 tasks      | elapsed: 109.9min\n",
      "[Parallel(n_jobs=-1)]: Done 579 tasks      | elapsed: 110.0min\n",
      "[Parallel(n_jobs=-1)]: Done 580 tasks      | elapsed: 110.0min\n",
      "[Parallel(n_jobs=-1)]: Done 581 tasks      | elapsed: 110.8min\n",
      "[Parallel(n_jobs=-1)]: Done 582 tasks      | elapsed: 111.5min\n",
      "[Parallel(n_jobs=-1)]: Done 583 tasks      | elapsed: 111.5min\n",
      "[Parallel(n_jobs=-1)]: Done 584 tasks      | elapsed: 111.5min\n",
      "[Parallel(n_jobs=-1)]: Done 585 tasks      | elapsed: 111.5min\n",
      "[Parallel(n_jobs=-1)]: Done 600 out of 600 | elapsed: 113.4min finished\n"
     ]
    },
    {
     "data": {
      "text/plain": [
       "RandomizedSearchCV(cv=5, estimator=RandomForestRegressor(random_state=42),\n",
       "                   n_iter=120, n_jobs=-1,\n",
       "                   param_distributions={'max_depth': [None, 20, 40, 60, 80],\n",
       "                                        'max_samples': [10000],\n",
       "                                        'min_samples_leaf': array([ 1,  3,  5,  7,  9, 11, 13, 15]),\n",
       "                                        'min_samples_split': array([ 2,  4,  6,  8, 10, 12, 14]),\n",
       "                                        'n_estimators': array([ 10,  40,  70, 100, 130, 160, 190, 220, 250, 280]),\n",
       "                                        'n_jobs': [-1]},\n",
       "                   verbose=20)"
      ]
     },
     "execution_count": 65,
     "metadata": {},
     "output_type": "execute_result"
    }
   ],
   "source": [
    "rs_model_res_1_re6_long.fit(X_train,y_train)"
   ]
  },
  {
   "cell_type": "code",
   "execution_count": 66,
   "metadata": {},
   "outputs": [
    {
     "data": {
      "text/plain": [
       "{'n_jobs': -1,\n",
       " 'n_estimators': 190,\n",
       " 'min_samples_split': 6,\n",
       " 'min_samples_leaf': 1,\n",
       " 'max_samples': 10000,\n",
       " 'max_depth': 40}"
      ]
     },
     "execution_count": 66,
     "metadata": {},
     "output_type": "execute_result"
    }
   ],
   "source": [
    "rs_model_res_1_re6_long.best_params_"
   ]
  },
  {
   "cell_type": "code",
   "execution_count": 67,
   "metadata": {},
   "outputs": [
    {
     "data": {
      "text/plain": [
       "{'Train MAE': 5602.918996426155,\n",
       " 'Val MAE': 7249.160892389099,\n",
       " 'Train MSLE': 0.06727530758226423,\n",
       " 'Val MSLE': 0.0886990563986927,\n",
       " 'Train RMSLE': 0.2593748399175684,\n",
       " 'Val RMSLE': 0.29782386808093925,\n",
       " 'Train R2': 0.8585495298196666,\n",
       " 'Val R2': 0.8312952682056275}"
      ]
     },
     "execution_count": 67,
     "metadata": {},
     "output_type": "execute_result"
    }
   ],
   "source": [
    "eval_scores(rs_model_res_1_re6_long, X_train, X_val, y_train, y_val)"
   ]
  },
  {
   "cell_type": "code",
   "execution_count": 70,
   "metadata": {},
   "outputs": [],
   "source": [
    "# gave good results increase iterations\n",
    "np.random.seed(42)\n",
    "rs_model_comb_1 = RandomizedSearchCV(RandomForestRegressor(random_state=42), \n",
    "                              param_distributions=rf_grid_comb_1,\n",
    "                              cv=5,\n",
    "                              n_iter=150,\n",
    "                              n_jobs=-1,\n",
    "                              verbose=20)"
   ]
  },
  {
   "cell_type": "code",
   "execution_count": 71,
   "metadata": {
    "scrolled": true
   },
   "outputs": [
    {
     "name": "stdout",
     "output_type": "stream",
     "text": [
      "Fitting 5 folds for each of 150 candidates, totalling 750 fits\n"
     ]
    },
    {
     "name": "stderr",
     "output_type": "stream",
     "text": [
      "[Parallel(n_jobs=-1)]: Using backend LokyBackend with 8 concurrent workers.\n",
      "[Parallel(n_jobs=-1)]: Done   1 tasks      | elapsed:   57.6s\n",
      "[Parallel(n_jobs=-1)]: Done   2 tasks      | elapsed:   59.0s\n",
      "[Parallel(n_jobs=-1)]: Done   3 tasks      | elapsed:  1.0min\n",
      "[Parallel(n_jobs=-1)]: Done   4 tasks      | elapsed:  1.0min\n",
      "[Parallel(n_jobs=-1)]: Done   5 tasks      | elapsed:  1.1min\n",
      "[Parallel(n_jobs=-1)]: Done   6 tasks      | elapsed:  1.1min\n",
      "[Parallel(n_jobs=-1)]: Done   7 tasks      | elapsed:  1.1min\n",
      "[Parallel(n_jobs=-1)]: Done   8 tasks      | elapsed:  1.1min\n",
      "[Parallel(n_jobs=-1)]: Done   9 tasks      | elapsed:  1.7min\n",
      "[Parallel(n_jobs=-1)]: Done  10 tasks      | elapsed:  2.1min\n",
      "[Parallel(n_jobs=-1)]: Done  11 tasks      | elapsed:  2.2min\n",
      "[Parallel(n_jobs=-1)]: Done  12 tasks      | elapsed:  2.3min\n",
      "[Parallel(n_jobs=-1)]: Done  13 tasks      | elapsed:  2.3min\n",
      "[Parallel(n_jobs=-1)]: Done  14 tasks      | elapsed:  2.3min\n",
      "[Parallel(n_jobs=-1)]: Done  15 tasks      | elapsed:  2.3min\n",
      "[Parallel(n_jobs=-1)]: Done  16 tasks      | elapsed:  2.3min\n",
      "[Parallel(n_jobs=-1)]: Done  17 tasks      | elapsed:  2.3min\n",
      "[Parallel(n_jobs=-1)]: Done  18 tasks      | elapsed:  2.4min\n",
      "[Parallel(n_jobs=-1)]: Done  19 tasks      | elapsed:  2.4min\n",
      "[Parallel(n_jobs=-1)]: Done  20 tasks      | elapsed:  2.5min\n",
      "[Parallel(n_jobs=-1)]: Done  21 tasks      | elapsed:  2.5min\n",
      "[Parallel(n_jobs=-1)]: Done  22 tasks      | elapsed:  2.5min\n",
      "[Parallel(n_jobs=-1)]: Done  23 tasks      | elapsed:  2.5min\n",
      "[Parallel(n_jobs=-1)]: Done  24 tasks      | elapsed:  2.5min\n",
      "[Parallel(n_jobs=-1)]: Done  25 tasks      | elapsed:  2.5min\n",
      "[Parallel(n_jobs=-1)]: Done  26 tasks      | elapsed:  3.8min\n",
      "[Parallel(n_jobs=-1)]: Done  27 tasks      | elapsed:  3.9min\n",
      "[Parallel(n_jobs=-1)]: Done  28 tasks      | elapsed:  3.9min\n",
      "[Parallel(n_jobs=-1)]: Done  29 tasks      | elapsed:  3.9min\n",
      "[Parallel(n_jobs=-1)]: Done  30 tasks      | elapsed:  3.9min\n",
      "[Parallel(n_jobs=-1)]: Done  31 tasks      | elapsed:  3.9min\n",
      "[Parallel(n_jobs=-1)]: Done  32 tasks      | elapsed:  3.9min\n",
      "[Parallel(n_jobs=-1)]: Done  33 tasks      | elapsed:  3.9min\n",
      "[Parallel(n_jobs=-1)]: Done  34 tasks      | elapsed:  4.6min\n",
      "[Parallel(n_jobs=-1)]: Done  35 tasks      | elapsed:  4.6min\n",
      "[Parallel(n_jobs=-1)]: Done  36 tasks      | elapsed:  4.6min\n",
      "[Parallel(n_jobs=-1)]: Done  37 tasks      | elapsed:  4.6min\n",
      "[Parallel(n_jobs=-1)]: Done  38 tasks      | elapsed:  4.6min\n",
      "[Parallel(n_jobs=-1)]: Done  39 tasks      | elapsed:  4.7min\n",
      "[Parallel(n_jobs=-1)]: Done  40 tasks      | elapsed:  4.8min\n",
      "[Parallel(n_jobs=-1)]: Done  41 tasks      | elapsed:  4.9min\n",
      "[Parallel(n_jobs=-1)]: Done  42 tasks      | elapsed:  5.9min\n",
      "[Parallel(n_jobs=-1)]: Done  43 tasks      | elapsed:  5.9min\n",
      "[Parallel(n_jobs=-1)]: Done  44 tasks      | elapsed:  6.1min\n",
      "[Parallel(n_jobs=-1)]: Done  45 tasks      | elapsed:  6.1min\n",
      "[Parallel(n_jobs=-1)]: Done  46 tasks      | elapsed:  6.2min\n",
      "[Parallel(n_jobs=-1)]: Done  47 tasks      | elapsed:  6.2min\n",
      "[Parallel(n_jobs=-1)]: Done  48 tasks      | elapsed:  6.3min\n",
      "[Parallel(n_jobs=-1)]: Done  49 tasks      | elapsed:  6.4min\n",
      "[Parallel(n_jobs=-1)]: Done  50 tasks      | elapsed:  6.8min\n",
      "[Parallel(n_jobs=-1)]: Done  51 tasks      | elapsed:  7.0min\n",
      "[Parallel(n_jobs=-1)]: Done  52 tasks      | elapsed:  7.0min\n",
      "[Parallel(n_jobs=-1)]: Done  53 tasks      | elapsed:  7.1min\n",
      "[Parallel(n_jobs=-1)]: Done  54 tasks      | elapsed:  7.1min\n",
      "[Parallel(n_jobs=-1)]: Done  55 tasks      | elapsed:  7.1min\n",
      "[Parallel(n_jobs=-1)]: Done  56 tasks      | elapsed:  7.6min\n",
      "[Parallel(n_jobs=-1)]: Done  57 tasks      | elapsed:  7.7min\n",
      "[Parallel(n_jobs=-1)]: Done  58 tasks      | elapsed:  8.1min\n",
      "[Parallel(n_jobs=-1)]: Done  59 tasks      | elapsed:  8.1min\n",
      "[Parallel(n_jobs=-1)]: Done  60 tasks      | elapsed:  8.2min\n",
      "[Parallel(n_jobs=-1)]: Done  61 tasks      | elapsed:  8.2min\n",
      "[Parallel(n_jobs=-1)]: Done  62 tasks      | elapsed:  8.3min\n",
      "[Parallel(n_jobs=-1)]: Done  63 tasks      | elapsed:  8.3min\n",
      "[Parallel(n_jobs=-1)]: Done  64 tasks      | elapsed:  8.4min\n",
      "[Parallel(n_jobs=-1)]: Done  65 tasks      | elapsed:  8.5min\n",
      "[Parallel(n_jobs=-1)]: Done  66 tasks      | elapsed:  8.9min\n",
      "[Parallel(n_jobs=-1)]: Done  67 tasks      | elapsed:  9.0min\n",
      "[Parallel(n_jobs=-1)]: Done  68 tasks      | elapsed:  9.1min\n",
      "[Parallel(n_jobs=-1)]: Done  69 tasks      | elapsed:  9.4min\n",
      "[Parallel(n_jobs=-1)]: Done  70 tasks      | elapsed:  9.4min\n",
      "[Parallel(n_jobs=-1)]: Done  71 tasks      | elapsed:  9.4min\n",
      "[Parallel(n_jobs=-1)]: Done  72 tasks      | elapsed:  9.4min\n",
      "[Parallel(n_jobs=-1)]: Done  73 tasks      | elapsed:  9.4min\n",
      "[Parallel(n_jobs=-1)]: Done  74 tasks      | elapsed:  9.4min\n",
      "[Parallel(n_jobs=-1)]: Done  75 tasks      | elapsed:  9.5min\n",
      "[Parallel(n_jobs=-1)]: Done  76 tasks      | elapsed: 10.2min\n",
      "[Parallel(n_jobs=-1)]: Done  77 tasks      | elapsed: 10.5min\n",
      "[Parallel(n_jobs=-1)]: Done  78 tasks      | elapsed: 10.5min\n",
      "[Parallel(n_jobs=-1)]: Done  79 tasks      | elapsed: 10.6min\n",
      "[Parallel(n_jobs=-1)]: Done  80 tasks      | elapsed: 10.6min\n",
      "[Parallel(n_jobs=-1)]: Done  81 tasks      | elapsed: 11.0min\n",
      "[Parallel(n_jobs=-1)]: Done  82 tasks      | elapsed: 11.0min\n",
      "[Parallel(n_jobs=-1)]: Done  83 tasks      | elapsed: 11.0min\n",
      "[Parallel(n_jobs=-1)]: Done  84 tasks      | elapsed: 11.2min\n",
      "[Parallel(n_jobs=-1)]: Done  85 tasks      | elapsed: 11.2min\n",
      "[Parallel(n_jobs=-1)]: Done  86 tasks      | elapsed: 11.2min\n",
      "[Parallel(n_jobs=-1)]: Done  87 tasks      | elapsed: 11.5min\n",
      "[Parallel(n_jobs=-1)]: Done  88 tasks      | elapsed: 11.5min\n",
      "[Parallel(n_jobs=-1)]: Done  89 tasks      | elapsed: 11.5min\n",
      "[Parallel(n_jobs=-1)]: Done  90 tasks      | elapsed: 11.5min\n",
      "[Parallel(n_jobs=-1)]: Done  91 tasks      | elapsed: 11.5min\n",
      "[Parallel(n_jobs=-1)]: Done  92 tasks      | elapsed: 11.6min\n",
      "[Parallel(n_jobs=-1)]: Done  93 tasks      | elapsed: 11.6min\n",
      "[Parallel(n_jobs=-1)]: Done  94 tasks      | elapsed: 11.6min\n",
      "[Parallel(n_jobs=-1)]: Done  95 tasks      | elapsed: 11.7min\n",
      "[Parallel(n_jobs=-1)]: Done  96 tasks      | elapsed: 13.0min\n",
      "[Parallel(n_jobs=-1)]: Done  97 tasks      | elapsed: 13.0min\n",
      "[Parallel(n_jobs=-1)]: Done  98 tasks      | elapsed: 13.0min\n",
      "[Parallel(n_jobs=-1)]: Done  99 tasks      | elapsed: 13.0min\n",
      "[Parallel(n_jobs=-1)]: Done 100 tasks      | elapsed: 13.1min\n",
      "[Parallel(n_jobs=-1)]: Done 101 tasks      | elapsed: 13.1min\n",
      "[Parallel(n_jobs=-1)]: Done 102 tasks      | elapsed: 13.1min\n",
      "[Parallel(n_jobs=-1)]: Done 103 tasks      | elapsed: 13.2min\n",
      "[Parallel(n_jobs=-1)]: Done 104 tasks      | elapsed: 13.4min\n",
      "[Parallel(n_jobs=-1)]: Done 105 tasks      | elapsed: 13.5min\n",
      "[Parallel(n_jobs=-1)]: Done 106 tasks      | elapsed: 13.6min\n",
      "[Parallel(n_jobs=-1)]: Done 107 tasks      | elapsed: 13.6min\n",
      "[Parallel(n_jobs=-1)]: Done 108 tasks      | elapsed: 13.6min\n",
      "[Parallel(n_jobs=-1)]: Done 109 tasks      | elapsed: 13.7min\n",
      "[Parallel(n_jobs=-1)]: Done 110 tasks      | elapsed: 13.8min\n",
      "[Parallel(n_jobs=-1)]: Done 111 tasks      | elapsed: 13.8min\n",
      "[Parallel(n_jobs=-1)]: Done 112 tasks      | elapsed: 13.8min\n",
      "[Parallel(n_jobs=-1)]: Done 113 tasks      | elapsed: 13.9min\n",
      "[Parallel(n_jobs=-1)]: Done 114 tasks      | elapsed: 13.9min\n",
      "[Parallel(n_jobs=-1)]: Done 115 tasks      | elapsed: 13.9min\n",
      "[Parallel(n_jobs=-1)]: Done 116 tasks      | elapsed: 14.5min\n",
      "[Parallel(n_jobs=-1)]: Done 117 tasks      | elapsed: 14.5min\n",
      "[Parallel(n_jobs=-1)]: Done 118 tasks      | elapsed: 14.5min\n",
      "[Parallel(n_jobs=-1)]: Done 119 tasks      | elapsed: 14.7min\n",
      "[Parallel(n_jobs=-1)]: Done 120 tasks      | elapsed: 14.8min\n",
      "[Parallel(n_jobs=-1)]: Done 121 tasks      | elapsed: 14.9min\n",
      "[Parallel(n_jobs=-1)]: Done 122 tasks      | elapsed: 14.9min\n",
      "[Parallel(n_jobs=-1)]: Done 123 tasks      | elapsed: 15.0min\n",
      "[Parallel(n_jobs=-1)]: Done 124 tasks      | elapsed: 15.0min\n",
      "[Parallel(n_jobs=-1)]: Done 125 tasks      | elapsed: 15.1min\n",
      "[Parallel(n_jobs=-1)]: Done 126 tasks      | elapsed: 15.7min\n",
      "[Parallel(n_jobs=-1)]: Done 127 tasks      | elapsed: 15.9min\n",
      "[Parallel(n_jobs=-1)]: Done 128 tasks      | elapsed: 15.9min\n",
      "[Parallel(n_jobs=-1)]: Done 129 tasks      | elapsed: 15.9min\n",
      "[Parallel(n_jobs=-1)]: Done 130 tasks      | elapsed: 16.0min\n",
      "[Parallel(n_jobs=-1)]: Done 131 tasks      | elapsed: 16.0min\n"
     ]
    },
    {
     "name": "stderr",
     "output_type": "stream",
     "text": [
      "[Parallel(n_jobs=-1)]: Done 132 tasks      | elapsed: 16.0min\n",
      "[Parallel(n_jobs=-1)]: Done 133 tasks      | elapsed: 16.1min\n",
      "[Parallel(n_jobs=-1)]: Done 134 tasks      | elapsed: 16.3min\n",
      "[Parallel(n_jobs=-1)]: Done 135 tasks      | elapsed: 16.3min\n",
      "[Parallel(n_jobs=-1)]: Done 136 tasks      | elapsed: 16.4min\n",
      "[Parallel(n_jobs=-1)]: Done 137 tasks      | elapsed: 16.4min\n",
      "[Parallel(n_jobs=-1)]: Done 138 tasks      | elapsed: 16.4min\n",
      "[Parallel(n_jobs=-1)]: Done 139 tasks      | elapsed: 16.4min\n",
      "[Parallel(n_jobs=-1)]: Done 140 tasks      | elapsed: 16.4min\n",
      "[Parallel(n_jobs=-1)]: Done 141 tasks      | elapsed: 16.5min\n",
      "[Parallel(n_jobs=-1)]: Done 142 tasks      | elapsed: 16.7min\n",
      "[Parallel(n_jobs=-1)]: Done 143 tasks      | elapsed: 16.8min\n",
      "[Parallel(n_jobs=-1)]: Done 144 tasks      | elapsed: 16.9min\n",
      "[Parallel(n_jobs=-1)]: Done 145 tasks      | elapsed: 16.9min\n",
      "[Parallel(n_jobs=-1)]: Done 146 tasks      | elapsed: 17.0min\n",
      "[Parallel(n_jobs=-1)]: Done 147 tasks      | elapsed: 17.0min\n",
      "[Parallel(n_jobs=-1)]: Done 148 tasks      | elapsed: 17.0min\n",
      "[Parallel(n_jobs=-1)]: Done 149 tasks      | elapsed: 17.1min\n",
      "[Parallel(n_jobs=-1)]: Done 150 tasks      | elapsed: 17.2min\n",
      "[Parallel(n_jobs=-1)]: Done 151 tasks      | elapsed: 17.3min\n",
      "[Parallel(n_jobs=-1)]: Done 152 tasks      | elapsed: 17.3min\n",
      "[Parallel(n_jobs=-1)]: Done 153 tasks      | elapsed: 17.3min\n",
      "[Parallel(n_jobs=-1)]: Done 154 tasks      | elapsed: 17.4min\n",
      "[Parallel(n_jobs=-1)]: Done 155 tasks      | elapsed: 17.4min\n",
      "[Parallel(n_jobs=-1)]: Done 156 tasks      | elapsed: 17.6min\n",
      "[Parallel(n_jobs=-1)]: Done 157 tasks      | elapsed: 17.8min\n",
      "[Parallel(n_jobs=-1)]: Done 158 tasks      | elapsed: 18.2min\n",
      "[Parallel(n_jobs=-1)]: Done 159 tasks      | elapsed: 18.2min\n",
      "[Parallel(n_jobs=-1)]: Done 160 tasks      | elapsed: 18.3min\n",
      "[Parallel(n_jobs=-1)]: Done 161 tasks      | elapsed: 18.7min\n",
      "[Parallel(n_jobs=-1)]: Done 162 tasks      | elapsed: 18.9min\n",
      "[Parallel(n_jobs=-1)]: Done 163 tasks      | elapsed: 18.9min\n",
      "[Parallel(n_jobs=-1)]: Done 164 tasks      | elapsed: 19.2min\n",
      "[Parallel(n_jobs=-1)]: Done 165 tasks      | elapsed: 19.2min\n",
      "[Parallel(n_jobs=-1)]: Done 166 tasks      | elapsed: 19.3min\n",
      "[Parallel(n_jobs=-1)]: Done 167 tasks      | elapsed: 19.3min\n",
      "[Parallel(n_jobs=-1)]: Done 168 tasks      | elapsed: 19.3min\n",
      "[Parallel(n_jobs=-1)]: Done 169 tasks      | elapsed: 19.6min\n",
      "[Parallel(n_jobs=-1)]: Done 170 tasks      | elapsed: 19.7min\n",
      "[Parallel(n_jobs=-1)]: Done 171 tasks      | elapsed: 19.9min\n",
      "[Parallel(n_jobs=-1)]: Done 172 tasks      | elapsed: 20.4min\n",
      "[Parallel(n_jobs=-1)]: Done 173 tasks      | elapsed: 20.5min\n",
      "[Parallel(n_jobs=-1)]: Done 174 tasks      | elapsed: 20.5min\n",
      "[Parallel(n_jobs=-1)]: Done 175 tasks      | elapsed: 20.6min\n",
      "[Parallel(n_jobs=-1)]: Done 176 tasks      | elapsed: 20.7min\n",
      "[Parallel(n_jobs=-1)]: Done 177 tasks      | elapsed: 20.8min\n",
      "[Parallel(n_jobs=-1)]: Done 178 tasks      | elapsed: 20.8min\n",
      "[Parallel(n_jobs=-1)]: Done 179 tasks      | elapsed: 20.8min\n",
      "[Parallel(n_jobs=-1)]: Done 180 tasks      | elapsed: 20.8min\n",
      "[Parallel(n_jobs=-1)]: Done 181 tasks      | elapsed: 22.2min\n",
      "[Parallel(n_jobs=-1)]: Done 182 tasks      | elapsed: 22.2min\n",
      "[Parallel(n_jobs=-1)]: Done 183 tasks      | elapsed: 22.2min\n",
      "[Parallel(n_jobs=-1)]: Done 184 tasks      | elapsed: 22.2min\n",
      "[Parallel(n_jobs=-1)]: Done 185 tasks      | elapsed: 22.3min\n",
      "[Parallel(n_jobs=-1)]: Done 186 tasks      | elapsed: 22.3min\n",
      "[Parallel(n_jobs=-1)]: Done 187 tasks      | elapsed: 22.4min\n",
      "[Parallel(n_jobs=-1)]: Done 188 tasks      | elapsed: 22.4min\n",
      "[Parallel(n_jobs=-1)]: Done 189 tasks      | elapsed: 23.2min\n",
      "[Parallel(n_jobs=-1)]: Done 190 tasks      | elapsed: 23.3min\n",
      "[Parallel(n_jobs=-1)]: Done 191 tasks      | elapsed: 23.3min\n",
      "[Parallel(n_jobs=-1)]: Done 192 tasks      | elapsed: 23.5min\n",
      "[Parallel(n_jobs=-1)]: Done 193 tasks      | elapsed: 23.5min\n",
      "[Parallel(n_jobs=-1)]: Done 194 tasks      | elapsed: 23.5min\n",
      "[Parallel(n_jobs=-1)]: Done 195 tasks      | elapsed: 23.6min\n",
      "[Parallel(n_jobs=-1)]: Done 196 tasks      | elapsed: 23.6min\n",
      "[Parallel(n_jobs=-1)]: Done 197 tasks      | elapsed: 23.7min\n",
      "[Parallel(n_jobs=-1)]: Done 198 tasks      | elapsed: 23.7min\n",
      "[Parallel(n_jobs=-1)]: Done 199 tasks      | elapsed: 23.8min\n",
      "[Parallel(n_jobs=-1)]: Done 200 tasks      | elapsed: 23.9min\n",
      "[Parallel(n_jobs=-1)]: Done 201 tasks      | elapsed: 24.8min\n",
      "[Parallel(n_jobs=-1)]: Done 202 tasks      | elapsed: 24.8min\n",
      "[Parallel(n_jobs=-1)]: Done 203 tasks      | elapsed: 24.9min\n",
      "[Parallel(n_jobs=-1)]: Done 204 tasks      | elapsed: 24.9min\n",
      "[Parallel(n_jobs=-1)]: Done 205 tasks      | elapsed: 24.9min\n",
      "[Parallel(n_jobs=-1)]: Done 206 tasks      | elapsed: 24.9min\n",
      "[Parallel(n_jobs=-1)]: Done 207 tasks      | elapsed: 24.9min\n",
      "[Parallel(n_jobs=-1)]: Done 208 tasks      | elapsed: 25.1min\n",
      "[Parallel(n_jobs=-1)]: Done 209 tasks      | elapsed: 25.3min\n",
      "[Parallel(n_jobs=-1)]: Done 210 tasks      | elapsed: 25.5min\n",
      "[Parallel(n_jobs=-1)]: Done 211 tasks      | elapsed: 26.2min\n",
      "[Parallel(n_jobs=-1)]: Done 212 tasks      | elapsed: 26.2min\n",
      "[Parallel(n_jobs=-1)]: Done 213 tasks      | elapsed: 26.2min\n",
      "[Parallel(n_jobs=-1)]: Done 214 tasks      | elapsed: 26.2min\n",
      "[Parallel(n_jobs=-1)]: Done 215 tasks      | elapsed: 26.3min\n",
      "[Parallel(n_jobs=-1)]: Done 216 tasks      | elapsed: 26.5min\n",
      "[Parallel(n_jobs=-1)]: Done 217 tasks      | elapsed: 26.6min\n",
      "[Parallel(n_jobs=-1)]: Done 218 tasks      | elapsed: 26.7min\n",
      "[Parallel(n_jobs=-1)]: Done 219 tasks      | elapsed: 26.9min\n",
      "[Parallel(n_jobs=-1)]: Done 220 tasks      | elapsed: 26.9min\n",
      "[Parallel(n_jobs=-1)]: Done 221 tasks      | elapsed: 27.0min\n",
      "[Parallel(n_jobs=-1)]: Done 222 tasks      | elapsed: 27.2min\n",
      "[Parallel(n_jobs=-1)]: Done 223 tasks      | elapsed: 27.2min\n",
      "[Parallel(n_jobs=-1)]: Done 224 tasks      | elapsed: 27.2min\n",
      "[Parallel(n_jobs=-1)]: Done 225 tasks      | elapsed: 27.3min\n",
      "[Parallel(n_jobs=-1)]: Done 226 tasks      | elapsed: 27.9min\n",
      "[Parallel(n_jobs=-1)]: Done 227 tasks      | elapsed: 28.0min\n",
      "[Parallel(n_jobs=-1)]: Done 228 tasks      | elapsed: 28.0min\n",
      "[Parallel(n_jobs=-1)]: Done 229 tasks      | elapsed: 28.0min\n",
      "[Parallel(n_jobs=-1)]: Done 230 tasks      | elapsed: 28.1min\n",
      "[Parallel(n_jobs=-1)]: Done 231 tasks      | elapsed: 28.1min\n",
      "[Parallel(n_jobs=-1)]: Done 232 tasks      | elapsed: 28.2min\n",
      "[Parallel(n_jobs=-1)]: Done 233 tasks      | elapsed: 28.3min\n",
      "[Parallel(n_jobs=-1)]: Done 234 tasks      | elapsed: 28.4min\n",
      "[Parallel(n_jobs=-1)]: Done 235 tasks      | elapsed: 28.4min\n",
      "[Parallel(n_jobs=-1)]: Done 236 tasks      | elapsed: 29.4min\n",
      "[Parallel(n_jobs=-1)]: Done 237 tasks      | elapsed: 29.5min\n",
      "[Parallel(n_jobs=-1)]: Done 238 tasks      | elapsed: 29.5min\n",
      "[Parallel(n_jobs=-1)]: Done 239 tasks      | elapsed: 29.5min\n",
      "[Parallel(n_jobs=-1)]: Done 240 tasks      | elapsed: 29.5min\n",
      "[Parallel(n_jobs=-1)]: Done 241 tasks      | elapsed: 29.5min\n",
      "[Parallel(n_jobs=-1)]: Done 242 tasks      | elapsed: 29.5min\n",
      "[Parallel(n_jobs=-1)]: Done 243 tasks      | elapsed: 29.5min\n",
      "[Parallel(n_jobs=-1)]: Done 244 tasks      | elapsed: 30.3min\n",
      "[Parallel(n_jobs=-1)]: Done 245 tasks      | elapsed: 30.4min\n",
      "[Parallel(n_jobs=-1)]: Done 246 tasks      | elapsed: 30.8min\n",
      "[Parallel(n_jobs=-1)]: Done 247 tasks      | elapsed: 30.8min\n",
      "[Parallel(n_jobs=-1)]: Done 248 tasks      | elapsed: 30.8min\n",
      "[Parallel(n_jobs=-1)]: Done 249 tasks      | elapsed: 30.8min\n",
      "[Parallel(n_jobs=-1)]: Done 250 tasks      | elapsed: 30.9min\n",
      "[Parallel(n_jobs=-1)]: Done 251 tasks      | elapsed: 31.0min\n",
      "[Parallel(n_jobs=-1)]: Done 252 tasks      | elapsed: 31.6min\n",
      "[Parallel(n_jobs=-1)]: Done 253 tasks      | elapsed: 31.6min\n",
      "[Parallel(n_jobs=-1)]: Done 254 tasks      | elapsed: 31.6min\n",
      "[Parallel(n_jobs=-1)]: Done 255 tasks      | elapsed: 31.6min\n",
      "[Parallel(n_jobs=-1)]: Done 256 tasks      | elapsed: 31.7min\n",
      "[Parallel(n_jobs=-1)]: Done 257 tasks      | elapsed: 31.7min\n",
      "[Parallel(n_jobs=-1)]: Done 258 tasks      | elapsed: 31.9min\n",
      "[Parallel(n_jobs=-1)]: Done 259 tasks      | elapsed: 32.0min\n",
      "[Parallel(n_jobs=-1)]: Done 260 tasks      | elapsed: 32.2min\n",
      "[Parallel(n_jobs=-1)]: Done 261 tasks      | elapsed: 32.8min\n",
      "[Parallel(n_jobs=-1)]: Done 262 tasks      | elapsed: 32.8min\n",
      "[Parallel(n_jobs=-1)]: Done 263 tasks      | elapsed: 32.8min\n",
      "[Parallel(n_jobs=-1)]: Done 264 tasks      | elapsed: 32.9min\n"
     ]
    },
    {
     "name": "stderr",
     "output_type": "stream",
     "text": [
      "[Parallel(n_jobs=-1)]: Done 265 tasks      | elapsed: 32.9min\n",
      "[Parallel(n_jobs=-1)]: Done 266 tasks      | elapsed: 33.4min\n",
      "[Parallel(n_jobs=-1)]: Done 267 tasks      | elapsed: 33.5min\n",
      "[Parallel(n_jobs=-1)]: Done 268 tasks      | elapsed: 33.7min\n",
      "[Parallel(n_jobs=-1)]: Done 269 tasks      | elapsed: 34.3min\n",
      "[Parallel(n_jobs=-1)]: Done 270 tasks      | elapsed: 34.4min\n",
      "[Parallel(n_jobs=-1)]: Done 271 tasks      | elapsed: 34.6min\n",
      "[Parallel(n_jobs=-1)]: Done 272 tasks      | elapsed: 34.6min\n",
      "[Parallel(n_jobs=-1)]: Done 273 tasks      | elapsed: 34.6min\n",
      "[Parallel(n_jobs=-1)]: Done 274 tasks      | elapsed: 34.6min\n",
      "[Parallel(n_jobs=-1)]: Done 275 tasks      | elapsed: 34.9min\n",
      "[Parallel(n_jobs=-1)]: Done 276 tasks      | elapsed: 34.9min\n",
      "[Parallel(n_jobs=-1)]: Done 277 tasks      | elapsed: 34.9min\n",
      "[Parallel(n_jobs=-1)]: Done 278 tasks      | elapsed: 34.9min\n",
      "[Parallel(n_jobs=-1)]: Done 279 tasks      | elapsed: 34.9min\n",
      "[Parallel(n_jobs=-1)]: Done 280 tasks      | elapsed: 34.9min\n",
      "[Parallel(n_jobs=-1)]: Done 281 tasks      | elapsed: 35.0min\n",
      "[Parallel(n_jobs=-1)]: Done 282 tasks      | elapsed: 35.0min\n",
      "[Parallel(n_jobs=-1)]: Done 283 tasks      | elapsed: 35.1min\n",
      "[Parallel(n_jobs=-1)]: Done 284 tasks      | elapsed: 35.2min\n",
      "[Parallel(n_jobs=-1)]: Done 285 tasks      | elapsed: 35.2min\n",
      "[Parallel(n_jobs=-1)]: Done 286 tasks      | elapsed: 35.6min\n",
      "[Parallel(n_jobs=-1)]: Done 287 tasks      | elapsed: 35.6min\n",
      "[Parallel(n_jobs=-1)]: Done 288 tasks      | elapsed: 35.6min\n",
      "[Parallel(n_jobs=-1)]: Done 289 tasks      | elapsed: 35.7min\n",
      "[Parallel(n_jobs=-1)]: Done 290 tasks      | elapsed: 35.7min\n",
      "[Parallel(n_jobs=-1)]: Done 291 tasks      | elapsed: 36.1min\n",
      "[Parallel(n_jobs=-1)]: Done 292 tasks      | elapsed: 36.2min\n",
      "[Parallel(n_jobs=-1)]: Done 293 tasks      | elapsed: 36.2min\n",
      "[Parallel(n_jobs=-1)]: Done 294 tasks      | elapsed: 36.3min\n",
      "[Parallel(n_jobs=-1)]: Done 295 tasks      | elapsed: 36.3min\n",
      "[Parallel(n_jobs=-1)]: Done 296 tasks      | elapsed: 36.3min\n",
      "[Parallel(n_jobs=-1)]: Done 297 tasks      | elapsed: 36.5min\n",
      "[Parallel(n_jobs=-1)]: Done 298 tasks      | elapsed: 36.5min\n",
      "[Parallel(n_jobs=-1)]: Done 299 tasks      | elapsed: 36.6min\n",
      "[Parallel(n_jobs=-1)]: Done 300 tasks      | elapsed: 36.7min\n",
      "[Parallel(n_jobs=-1)]: Done 301 tasks      | elapsed: 37.0min\n",
      "[Parallel(n_jobs=-1)]: Done 302 tasks      | elapsed: 37.1min\n",
      "[Parallel(n_jobs=-1)]: Done 303 tasks      | elapsed: 37.1min\n",
      "[Parallel(n_jobs=-1)]: Done 304 tasks      | elapsed: 37.1min\n",
      "[Parallel(n_jobs=-1)]: Done 305 tasks      | elapsed: 37.2min\n",
      "[Parallel(n_jobs=-1)]: Done 306 tasks      | elapsed: 37.3min\n",
      "[Parallel(n_jobs=-1)]: Done 307 tasks      | elapsed: 37.3min\n",
      "[Parallel(n_jobs=-1)]: Done 308 tasks      | elapsed: 37.4min\n",
      "[Parallel(n_jobs=-1)]: Done 309 tasks      | elapsed: 37.7min\n",
      "[Parallel(n_jobs=-1)]: Done 310 tasks      | elapsed: 37.8min\n",
      "[Parallel(n_jobs=-1)]: Done 311 tasks      | elapsed: 38.8min\n",
      "[Parallel(n_jobs=-1)]: Done 312 tasks      | elapsed: 38.9min\n",
      "[Parallel(n_jobs=-1)]: Done 313 tasks      | elapsed: 38.9min\n",
      "[Parallel(n_jobs=-1)]: Done 314 tasks      | elapsed: 39.0min\n",
      "[Parallel(n_jobs=-1)]: Done 315 tasks      | elapsed: 39.0min\n",
      "[Parallel(n_jobs=-1)]: Done 316 tasks      | elapsed: 39.0min\n",
      "[Parallel(n_jobs=-1)]: Done 317 tasks      | elapsed: 39.1min\n",
      "[Parallel(n_jobs=-1)]: Done 318 tasks      | elapsed: 39.1min\n",
      "[Parallel(n_jobs=-1)]: Done 319 tasks      | elapsed: 39.6min\n",
      "[Parallel(n_jobs=-1)]: Done 320 tasks      | elapsed: 39.7min\n",
      "[Parallel(n_jobs=-1)]: Done 321 tasks      | elapsed: 39.7min\n",
      "[Parallel(n_jobs=-1)]: Done 322 tasks      | elapsed: 39.7min\n",
      "[Parallel(n_jobs=-1)]: Done 323 tasks      | elapsed: 39.7min\n",
      "[Parallel(n_jobs=-1)]: Done 324 tasks      | elapsed: 39.8min\n",
      "[Parallel(n_jobs=-1)]: Done 325 tasks      | elapsed: 39.8min\n",
      "[Parallel(n_jobs=-1)]: Done 326 tasks      | elapsed: 39.8min\n",
      "[Parallel(n_jobs=-1)]: Done 327 tasks      | elapsed: 40.5min\n",
      "[Parallel(n_jobs=-1)]: Done 328 tasks      | elapsed: 40.6min\n",
      "[Parallel(n_jobs=-1)]: Done 329 tasks      | elapsed: 40.6min\n",
      "[Parallel(n_jobs=-1)]: Done 330 tasks      | elapsed: 40.6min\n",
      "[Parallel(n_jobs=-1)]: Done 331 tasks      | elapsed: 40.6min\n",
      "[Parallel(n_jobs=-1)]: Done 332 tasks      | elapsed: 40.7min\n",
      "[Parallel(n_jobs=-1)]: Done 333 tasks      | elapsed: 40.7min\n",
      "[Parallel(n_jobs=-1)]: Done 334 tasks      | elapsed: 40.7min\n",
      "[Parallel(n_jobs=-1)]: Done 335 tasks      | elapsed: 41.4min\n",
      "[Parallel(n_jobs=-1)]: Done 336 tasks      | elapsed: 41.7min\n",
      "[Parallel(n_jobs=-1)]: Done 337 tasks      | elapsed: 41.7min\n",
      "[Parallel(n_jobs=-1)]: Done 338 tasks      | elapsed: 41.7min\n",
      "[Parallel(n_jobs=-1)]: Done 339 tasks      | elapsed: 41.7min\n",
      "[Parallel(n_jobs=-1)]: Done 340 tasks      | elapsed: 41.8min\n",
      "[Parallel(n_jobs=-1)]: Done 341 tasks      | elapsed: 42.0min\n",
      "[Parallel(n_jobs=-1)]: Done 342 tasks      | elapsed: 42.1min\n",
      "[Parallel(n_jobs=-1)]: Done 343 tasks      | elapsed: 42.3min\n",
      "[Parallel(n_jobs=-1)]: Done 344 tasks      | elapsed: 42.3min\n",
      "[Parallel(n_jobs=-1)]: Done 345 tasks      | elapsed: 42.4min\n",
      "[Parallel(n_jobs=-1)]: Done 346 tasks      | elapsed: 42.6min\n",
      "[Parallel(n_jobs=-1)]: Done 347 tasks      | elapsed: 42.6min\n",
      "[Parallel(n_jobs=-1)]: Done 348 tasks      | elapsed: 42.7min\n",
      "[Parallel(n_jobs=-1)]: Done 349 tasks      | elapsed: 42.8min\n",
      "[Parallel(n_jobs=-1)]: Done 350 tasks      | elapsed: 42.8min\n",
      "[Parallel(n_jobs=-1)]: Done 351 tasks      | elapsed: 43.7min\n",
      "[Parallel(n_jobs=-1)]: Done 352 tasks      | elapsed: 43.7min\n",
      "[Parallel(n_jobs=-1)]: Done 353 tasks      | elapsed: 43.8min\n",
      "[Parallel(n_jobs=-1)]: Done 354 tasks      | elapsed: 44.0min\n",
      "[Parallel(n_jobs=-1)]: Done 355 tasks      | elapsed: 44.0min\n",
      "[Parallel(n_jobs=-1)]: Done 356 tasks      | elapsed: 44.0min\n",
      "[Parallel(n_jobs=-1)]: Done 357 tasks      | elapsed: 44.1min\n",
      "[Parallel(n_jobs=-1)]: Done 358 tasks      | elapsed: 44.1min\n",
      "[Parallel(n_jobs=-1)]: Done 359 tasks      | elapsed: 44.3min\n",
      "[Parallel(n_jobs=-1)]: Done 360 tasks      | elapsed: 44.5min\n",
      "[Parallel(n_jobs=-1)]: Done 361 tasks      | elapsed: 44.5min\n",
      "[Parallel(n_jobs=-1)]: Done 362 tasks      | elapsed: 44.5min\n",
      "[Parallel(n_jobs=-1)]: Done 363 tasks      | elapsed: 44.6min\n",
      "[Parallel(n_jobs=-1)]: Done 364 tasks      | elapsed: 44.6min\n",
      "[Parallel(n_jobs=-1)]: Done 365 tasks      | elapsed: 44.6min\n",
      "[Parallel(n_jobs=-1)]: Done 366 tasks      | elapsed: 45.4min\n",
      "[Parallel(n_jobs=-1)]: Done 367 tasks      | elapsed: 45.7min\n",
      "[Parallel(n_jobs=-1)]: Done 368 tasks      | elapsed: 45.7min\n",
      "[Parallel(n_jobs=-1)]: Done 369 tasks      | elapsed: 45.7min\n",
      "[Parallel(n_jobs=-1)]: Done 370 tasks      | elapsed: 45.9min\n",
      "[Parallel(n_jobs=-1)]: Done 371 tasks      | elapsed: 46.0min\n",
      "[Parallel(n_jobs=-1)]: Done 372 tasks      | elapsed: 46.0min\n",
      "[Parallel(n_jobs=-1)]: Done 373 tasks      | elapsed: 46.0min\n",
      "[Parallel(n_jobs=-1)]: Done 374 tasks      | elapsed: 46.2min\n",
      "[Parallel(n_jobs=-1)]: Done 375 tasks      | elapsed: 46.3min\n",
      "[Parallel(n_jobs=-1)]: Done 376 tasks      | elapsed: 46.3min\n",
      "[Parallel(n_jobs=-1)]: Done 377 tasks      | elapsed: 46.3min\n",
      "[Parallel(n_jobs=-1)]: Done 378 tasks      | elapsed: 46.4min\n",
      "[Parallel(n_jobs=-1)]: Done 379 tasks      | elapsed: 46.4min\n",
      "[Parallel(n_jobs=-1)]: Done 380 tasks      | elapsed: 46.4min\n",
      "[Parallel(n_jobs=-1)]: Done 381 tasks      | elapsed: 46.5min\n",
      "[Parallel(n_jobs=-1)]: Done 382 tasks      | elapsed: 46.5min\n",
      "[Parallel(n_jobs=-1)]: Done 383 tasks      | elapsed: 46.5min\n",
      "[Parallel(n_jobs=-1)]: Done 384 tasks      | elapsed: 46.5min\n",
      "[Parallel(n_jobs=-1)]: Done 385 tasks      | elapsed: 46.5min\n",
      "[Parallel(n_jobs=-1)]: Done 386 tasks      | elapsed: 47.4min\n",
      "[Parallel(n_jobs=-1)]: Done 387 tasks      | elapsed: 47.5min\n",
      "[Parallel(n_jobs=-1)]: Done 388 tasks      | elapsed: 47.5min\n",
      "[Parallel(n_jobs=-1)]: Done 389 tasks      | elapsed: 47.6min\n",
      "[Parallel(n_jobs=-1)]: Done 390 tasks      | elapsed: 47.6min\n",
      "[Parallel(n_jobs=-1)]: Done 391 tasks      | elapsed: 47.6min\n",
      "[Parallel(n_jobs=-1)]: Done 392 tasks      | elapsed: 47.6min\n",
      "[Parallel(n_jobs=-1)]: Done 393 tasks      | elapsed: 47.6min\n",
      "[Parallel(n_jobs=-1)]: Done 394 tasks      | elapsed: 48.0min\n",
      "[Parallel(n_jobs=-1)]: Done 395 tasks      | elapsed: 48.1min\n",
      "[Parallel(n_jobs=-1)]: Done 396 tasks      | elapsed: 48.3min\n",
      "[Parallel(n_jobs=-1)]: Done 397 tasks      | elapsed: 48.6min\n"
     ]
    },
    {
     "name": "stderr",
     "output_type": "stream",
     "text": [
      "[Parallel(n_jobs=-1)]: Done 398 tasks      | elapsed: 48.6min\n",
      "[Parallel(n_jobs=-1)]: Done 399 tasks      | elapsed: 48.6min\n",
      "[Parallel(n_jobs=-1)]: Done 400 tasks      | elapsed: 48.7min\n",
      "[Parallel(n_jobs=-1)]: Done 401 tasks      | elapsed: 48.7min\n",
      "[Parallel(n_jobs=-1)]: Done 402 tasks      | elapsed: 48.7min\n",
      "[Parallel(n_jobs=-1)]: Done 403 tasks      | elapsed: 48.7min\n",
      "[Parallel(n_jobs=-1)]: Done 404 tasks      | elapsed: 48.7min\n",
      "[Parallel(n_jobs=-1)]: Done 405 tasks      | elapsed: 49.0min\n",
      "[Parallel(n_jobs=-1)]: Done 406 tasks      | elapsed: 49.5min\n",
      "[Parallel(n_jobs=-1)]: Done 407 tasks      | elapsed: 49.5min\n",
      "[Parallel(n_jobs=-1)]: Done 408 tasks      | elapsed: 49.6min\n",
      "[Parallel(n_jobs=-1)]: Done 409 tasks      | elapsed: 49.6min\n",
      "[Parallel(n_jobs=-1)]: Done 410 tasks      | elapsed: 49.6min\n",
      "[Parallel(n_jobs=-1)]: Done 411 tasks      | elapsed: 49.8min\n",
      "[Parallel(n_jobs=-1)]: Done 412 tasks      | elapsed: 49.9min\n",
      "[Parallel(n_jobs=-1)]: Done 413 tasks      | elapsed: 50.1min\n",
      "[Parallel(n_jobs=-1)]: Done 414 tasks      | elapsed: 50.1min\n",
      "[Parallel(n_jobs=-1)]: Done 415 tasks      | elapsed: 50.1min\n",
      "[Parallel(n_jobs=-1)]: Done 416 tasks      | elapsed: 50.2min\n",
      "[Parallel(n_jobs=-1)]: Done 417 tasks      | elapsed: 50.3min\n",
      "[Parallel(n_jobs=-1)]: Done 418 tasks      | elapsed: 50.3min\n",
      "[Parallel(n_jobs=-1)]: Done 419 tasks      | elapsed: 50.4min\n",
      "[Parallel(n_jobs=-1)]: Done 420 tasks      | elapsed: 50.4min\n",
      "[Parallel(n_jobs=-1)]: Done 421 tasks      | elapsed: 50.8min\n",
      "[Parallel(n_jobs=-1)]: Done 422 tasks      | elapsed: 51.0min\n",
      "[Parallel(n_jobs=-1)]: Done 423 tasks      | elapsed: 51.0min\n",
      "[Parallel(n_jobs=-1)]: Done 424 tasks      | elapsed: 51.1min\n",
      "[Parallel(n_jobs=-1)]: Done 425 tasks      | elapsed: 51.1min\n",
      "[Parallel(n_jobs=-1)]: Done 426 tasks      | elapsed: 52.0min\n",
      "[Parallel(n_jobs=-1)]: Done 427 tasks      | elapsed: 52.1min\n",
      "[Parallel(n_jobs=-1)]: Done 428 tasks      | elapsed: 52.2min\n",
      "[Parallel(n_jobs=-1)]: Done 429 tasks      | elapsed: 52.5min\n",
      "[Parallel(n_jobs=-1)]: Done 430 tasks      | elapsed: 52.5min\n",
      "[Parallel(n_jobs=-1)]: Done 431 tasks      | elapsed: 52.6min\n",
      "[Parallel(n_jobs=-1)]: Done 432 tasks      | elapsed: 52.6min\n",
      "[Parallel(n_jobs=-1)]: Done 433 tasks      | elapsed: 52.7min\n",
      "[Parallel(n_jobs=-1)]: Done 434 tasks      | elapsed: 53.1min\n",
      "[Parallel(n_jobs=-1)]: Done 435 tasks      | elapsed: 53.2min\n",
      "[Parallel(n_jobs=-1)]: Done 436 tasks      | elapsed: 53.3min\n",
      "[Parallel(n_jobs=-1)]: Done 437 tasks      | elapsed: 53.4min\n",
      "[Parallel(n_jobs=-1)]: Done 438 tasks      | elapsed: 53.4min\n",
      "[Parallel(n_jobs=-1)]: Done 439 tasks      | elapsed: 53.4min\n",
      "[Parallel(n_jobs=-1)]: Done 440 tasks      | elapsed: 53.5min\n",
      "[Parallel(n_jobs=-1)]: Done 441 tasks      | elapsed: 53.5min\n",
      "[Parallel(n_jobs=-1)]: Done 442 tasks      | elapsed: 53.6min\n",
      "[Parallel(n_jobs=-1)]: Done 443 tasks      | elapsed: 53.6min\n",
      "[Parallel(n_jobs=-1)]: Done 444 tasks      | elapsed: 53.7min\n",
      "[Parallel(n_jobs=-1)]: Done 445 tasks      | elapsed: 53.8min\n",
      "[Parallel(n_jobs=-1)]: Done 446 tasks      | elapsed: 54.9min\n",
      "[Parallel(n_jobs=-1)]: Done 447 tasks      | elapsed: 55.0min\n",
      "[Parallel(n_jobs=-1)]: Done 448 tasks      | elapsed: 55.0min\n",
      "[Parallel(n_jobs=-1)]: Done 449 tasks      | elapsed: 55.0min\n",
      "[Parallel(n_jobs=-1)]: Done 450 tasks      | elapsed: 55.1min\n",
      "[Parallel(n_jobs=-1)]: Done 451 tasks      | elapsed: 55.1min\n",
      "[Parallel(n_jobs=-1)]: Done 452 tasks      | elapsed: 55.1min\n",
      "[Parallel(n_jobs=-1)]: Done 453 tasks      | elapsed: 55.1min\n",
      "[Parallel(n_jobs=-1)]: Done 454 tasks      | elapsed: 55.8min\n",
      "[Parallel(n_jobs=-1)]: Done 455 tasks      | elapsed: 56.0min\n",
      "[Parallel(n_jobs=-1)]: Done 456 tasks      | elapsed: 56.0min\n",
      "[Parallel(n_jobs=-1)]: Done 457 tasks      | elapsed: 56.0min\n",
      "[Parallel(n_jobs=-1)]: Done 458 tasks      | elapsed: 56.0min\n",
      "[Parallel(n_jobs=-1)]: Done 459 tasks      | elapsed: 56.0min\n",
      "[Parallel(n_jobs=-1)]: Done 460 tasks      | elapsed: 56.0min\n",
      "[Parallel(n_jobs=-1)]: Done 461 tasks      | elapsed: 56.1min\n",
      "[Parallel(n_jobs=-1)]: Done 462 tasks      | elapsed: 56.1min\n",
      "[Parallel(n_jobs=-1)]: Done 463 tasks      | elapsed: 56.2min\n",
      "[Parallel(n_jobs=-1)]: Done 464 tasks      | elapsed: 56.3min\n",
      "[Parallel(n_jobs=-1)]: Done 465 tasks      | elapsed: 56.3min\n",
      "[Parallel(n_jobs=-1)]: Done 466 tasks      | elapsed: 57.1min\n",
      "[Parallel(n_jobs=-1)]: Done 467 tasks      | elapsed: 57.2min\n",
      "[Parallel(n_jobs=-1)]: Done 468 tasks      | elapsed: 57.2min\n",
      "[Parallel(n_jobs=-1)]: Done 469 tasks      | elapsed: 57.3min\n",
      "[Parallel(n_jobs=-1)]: Done 470 tasks      | elapsed: 57.3min\n",
      "[Parallel(n_jobs=-1)]: Done 471 tasks      | elapsed: 57.3min\n",
      "[Parallel(n_jobs=-1)]: Done 472 tasks      | elapsed: 57.3min\n",
      "[Parallel(n_jobs=-1)]: Done 473 tasks      | elapsed: 57.5min\n",
      "[Parallel(n_jobs=-1)]: Done 474 tasks      | elapsed: 57.5min\n",
      "[Parallel(n_jobs=-1)]: Done 475 tasks      | elapsed: 57.7min\n",
      "[Parallel(n_jobs=-1)]: Done 476 tasks      | elapsed: 58.9min\n",
      "[Parallel(n_jobs=-1)]: Done 477 tasks      | elapsed: 58.9min\n",
      "[Parallel(n_jobs=-1)]: Done 478 tasks      | elapsed: 59.0min\n",
      "[Parallel(n_jobs=-1)]: Done 479 tasks      | elapsed: 59.0min\n",
      "[Parallel(n_jobs=-1)]: Done 480 tasks      | elapsed: 59.0min\n",
      "[Parallel(n_jobs=-1)]: Done 481 tasks      | elapsed: 59.1min\n",
      "[Parallel(n_jobs=-1)]: Done 482 tasks      | elapsed: 59.1min\n",
      "[Parallel(n_jobs=-1)]: Done 483 tasks      | elapsed: 59.1min\n",
      "[Parallel(n_jobs=-1)]: Done 484 tasks      | elapsed: 59.8min\n",
      "[Parallel(n_jobs=-1)]: Done 485 tasks      | elapsed: 59.9min\n",
      "[Parallel(n_jobs=-1)]: Done 486 tasks      | elapsed: 60.4min\n",
      "[Parallel(n_jobs=-1)]: Done 487 tasks      | elapsed: 60.5min\n",
      "[Parallel(n_jobs=-1)]: Done 488 tasks      | elapsed: 60.5min\n",
      "[Parallel(n_jobs=-1)]: Done 489 tasks      | elapsed: 60.6min\n",
      "[Parallel(n_jobs=-1)]: Done 490 tasks      | elapsed: 60.6min\n",
      "[Parallel(n_jobs=-1)]: Done 491 tasks      | elapsed: 60.6min\n",
      "[Parallel(n_jobs=-1)]: Done 492 tasks      | elapsed: 61.3min\n",
      "[Parallel(n_jobs=-1)]: Done 493 tasks      | elapsed: 61.4min\n",
      "[Parallel(n_jobs=-1)]: Done 494 tasks      | elapsed: 61.9min\n",
      "[Parallel(n_jobs=-1)]: Done 495 tasks      | elapsed: 61.9min\n",
      "[Parallel(n_jobs=-1)]: Done 496 tasks      | elapsed: 62.0min\n",
      "[Parallel(n_jobs=-1)]: Done 497 tasks      | elapsed: 62.0min\n",
      "[Parallel(n_jobs=-1)]: Done 498 tasks      | elapsed: 62.0min\n",
      "[Parallel(n_jobs=-1)]: Done 499 tasks      | elapsed: 62.0min\n",
      "[Parallel(n_jobs=-1)]: Done 500 tasks      | elapsed: 62.4min\n",
      "[Parallel(n_jobs=-1)]: Done 501 tasks      | elapsed: 62.5min\n",
      "[Parallel(n_jobs=-1)]: Done 502 tasks      | elapsed: 63.1min\n",
      "[Parallel(n_jobs=-1)]: Done 503 tasks      | elapsed: 63.1min\n",
      "[Parallel(n_jobs=-1)]: Done 504 tasks      | elapsed: 63.1min\n",
      "[Parallel(n_jobs=-1)]: Done 505 tasks      | elapsed: 63.2min\n",
      "[Parallel(n_jobs=-1)]: Done 506 tasks      | elapsed: 63.7min\n",
      "[Parallel(n_jobs=-1)]: Done 507 tasks      | elapsed: 63.7min\n",
      "[Parallel(n_jobs=-1)]: Done 508 tasks      | elapsed: 63.8min\n",
      "[Parallel(n_jobs=-1)]: Done 509 tasks      | elapsed: 63.9min\n",
      "[Parallel(n_jobs=-1)]: Done 510 tasks      | elapsed: 63.9min\n",
      "[Parallel(n_jobs=-1)]: Done 511 tasks      | elapsed: 64.0min\n",
      "[Parallel(n_jobs=-1)]: Done 512 tasks      | elapsed: 64.1min\n",
      "[Parallel(n_jobs=-1)]: Done 513 tasks      | elapsed: 64.2min\n",
      "[Parallel(n_jobs=-1)]: Done 514 tasks      | elapsed: 64.3min\n",
      "[Parallel(n_jobs=-1)]: Done 515 tasks      | elapsed: 64.3min\n",
      "[Parallel(n_jobs=-1)]: Done 516 tasks      | elapsed: 64.3min\n",
      "[Parallel(n_jobs=-1)]: Done 517 tasks      | elapsed: 64.3min\n",
      "[Parallel(n_jobs=-1)]: Done 518 tasks      | elapsed: 64.3min\n",
      "[Parallel(n_jobs=-1)]: Done 519 tasks      | elapsed: 64.3min\n",
      "[Parallel(n_jobs=-1)]: Done 520 tasks      | elapsed: 64.4min\n",
      "[Parallel(n_jobs=-1)]: Done 521 tasks      | elapsed: 64.5min\n",
      "[Parallel(n_jobs=-1)]: Done 522 tasks      | elapsed: 64.5min\n",
      "[Parallel(n_jobs=-1)]: Done 523 tasks      | elapsed: 64.5min\n",
      "[Parallel(n_jobs=-1)]: Done 524 tasks      | elapsed: 64.5min\n",
      "[Parallel(n_jobs=-1)]: Done 525 tasks      | elapsed: 64.5min\n",
      "[Parallel(n_jobs=-1)]: Done 526 tasks      | elapsed: 65.5min\n",
      "[Parallel(n_jobs=-1)]: Done 527 tasks      | elapsed: 65.6min\n",
      "[Parallel(n_jobs=-1)]: Done 528 tasks      | elapsed: 65.6min\n",
      "[Parallel(n_jobs=-1)]: Done 529 tasks      | elapsed: 65.7min\n",
      "[Parallel(n_jobs=-1)]: Done 530 tasks      | elapsed: 65.7min\n"
     ]
    },
    {
     "name": "stderr",
     "output_type": "stream",
     "text": [
      "[Parallel(n_jobs=-1)]: Done 531 tasks      | elapsed: 65.8min\n",
      "[Parallel(n_jobs=-1)]: Done 532 tasks      | elapsed: 65.8min\n",
      "[Parallel(n_jobs=-1)]: Done 533 tasks      | elapsed: 65.9min\n",
      "[Parallel(n_jobs=-1)]: Done 534 tasks      | elapsed: 66.2min\n",
      "[Parallel(n_jobs=-1)]: Done 535 tasks      | elapsed: 66.2min\n",
      "[Parallel(n_jobs=-1)]: Done 536 tasks      | elapsed: 66.2min\n",
      "[Parallel(n_jobs=-1)]: Done 537 tasks      | elapsed: 66.2min\n",
      "[Parallel(n_jobs=-1)]: Done 538 tasks      | elapsed: 66.2min\n",
      "[Parallel(n_jobs=-1)]: Done 539 tasks      | elapsed: 66.3min\n",
      "[Parallel(n_jobs=-1)]: Done 540 tasks      | elapsed: 66.4min\n",
      "[Parallel(n_jobs=-1)]: Done 541 tasks      | elapsed: 66.6min\n",
      "[Parallel(n_jobs=-1)]: Done 542 tasks      | elapsed: 66.9min\n",
      "[Parallel(n_jobs=-1)]: Done 543 tasks      | elapsed: 67.0min\n",
      "[Parallel(n_jobs=-1)]: Done 544 tasks      | elapsed: 67.1min\n",
      "[Parallel(n_jobs=-1)]: Done 545 tasks      | elapsed: 67.2min\n",
      "[Parallel(n_jobs=-1)]: Done 546 tasks      | elapsed: 67.4min\n",
      "[Parallel(n_jobs=-1)]: Done 547 tasks      | elapsed: 67.4min\n",
      "[Parallel(n_jobs=-1)]: Done 548 tasks      | elapsed: 67.6min\n",
      "[Parallel(n_jobs=-1)]: Done 549 tasks      | elapsed: 67.7min\n",
      "[Parallel(n_jobs=-1)]: Done 550 tasks      | elapsed: 67.7min\n",
      "[Parallel(n_jobs=-1)]: Done 551 tasks      | elapsed: 67.7min\n",
      "[Parallel(n_jobs=-1)]: Done 552 tasks      | elapsed: 67.7min\n",
      "[Parallel(n_jobs=-1)]: Done 553 tasks      | elapsed: 67.8min\n",
      "[Parallel(n_jobs=-1)]: Done 554 tasks      | elapsed: 67.9min\n",
      "[Parallel(n_jobs=-1)]: Done 555 tasks      | elapsed: 67.9min\n",
      "[Parallel(n_jobs=-1)]: Done 556 tasks      | elapsed: 68.6min\n",
      "[Parallel(n_jobs=-1)]: Done 557 tasks      | elapsed: 68.8min\n",
      "[Parallel(n_jobs=-1)]: Done 558 tasks      | elapsed: 68.9min\n",
      "[Parallel(n_jobs=-1)]: Done 559 tasks      | elapsed: 68.9min\n",
      "[Parallel(n_jobs=-1)]: Done 560 tasks      | elapsed: 68.9min\n",
      "[Parallel(n_jobs=-1)]: Done 561 tasks      | elapsed: 69.1min\n",
      "[Parallel(n_jobs=-1)]: Done 562 tasks      | elapsed: 69.2min\n",
      "[Parallel(n_jobs=-1)]: Done 563 tasks      | elapsed: 69.2min\n",
      "[Parallel(n_jobs=-1)]: Done 564 tasks      | elapsed: 69.7min\n",
      "[Parallel(n_jobs=-1)]: Done 565 tasks      | elapsed: 69.8min\n",
      "[Parallel(n_jobs=-1)]: Done 566 tasks      | elapsed: 69.8min\n",
      "[Parallel(n_jobs=-1)]: Done 567 tasks      | elapsed: 69.8min\n",
      "[Parallel(n_jobs=-1)]: Done 568 tasks      | elapsed: 70.0min\n",
      "[Parallel(n_jobs=-1)]: Done 569 tasks      | elapsed: 70.0min\n",
      "[Parallel(n_jobs=-1)]: Done 570 tasks      | elapsed: 70.0min\n",
      "[Parallel(n_jobs=-1)]: Done 571 tasks      | elapsed: 70.8min\n",
      "[Parallel(n_jobs=-1)]: Done 572 tasks      | elapsed: 71.2min\n",
      "[Parallel(n_jobs=-1)]: Done 573 tasks      | elapsed: 71.2min\n",
      "[Parallel(n_jobs=-1)]: Done 574 tasks      | elapsed: 71.3min\n",
      "[Parallel(n_jobs=-1)]: Done 575 tasks      | elapsed: 71.3min\n",
      "[Parallel(n_jobs=-1)]: Done 576 tasks      | elapsed: 71.4min\n",
      "[Parallel(n_jobs=-1)]: Done 577 tasks      | elapsed: 71.4min\n",
      "[Parallel(n_jobs=-1)]: Done 578 tasks      | elapsed: 71.4min\n",
      "[Parallel(n_jobs=-1)]: Done 579 tasks      | elapsed: 71.5min\n",
      "[Parallel(n_jobs=-1)]: Done 580 tasks      | elapsed: 71.6min\n",
      "[Parallel(n_jobs=-1)]: Done 581 tasks      | elapsed: 71.7min\n",
      "[Parallel(n_jobs=-1)]: Done 582 tasks      | elapsed: 71.7min\n",
      "[Parallel(n_jobs=-1)]: Done 583 tasks      | elapsed: 71.7min\n",
      "[Parallel(n_jobs=-1)]: Done 584 tasks      | elapsed: 71.7min\n",
      "[Parallel(n_jobs=-1)]: Done 585 tasks      | elapsed: 71.7min\n",
      "[Parallel(n_jobs=-1)]: Done 586 tasks      | elapsed: 72.6min\n",
      "[Parallel(n_jobs=-1)]: Done 587 tasks      | elapsed: 72.6min\n",
      "[Parallel(n_jobs=-1)]: Done 588 tasks      | elapsed: 72.7min\n",
      "[Parallel(n_jobs=-1)]: Done 589 tasks      | elapsed: 72.7min\n",
      "[Parallel(n_jobs=-1)]: Done 590 tasks      | elapsed: 73.0min\n",
      "[Parallel(n_jobs=-1)]: Done 591 tasks      | elapsed: 73.0min\n",
      "[Parallel(n_jobs=-1)]: Done 592 tasks      | elapsed: 73.1min\n",
      "[Parallel(n_jobs=-1)]: Done 593 tasks      | elapsed: 73.2min\n",
      "[Parallel(n_jobs=-1)]: Done 594 tasks      | elapsed: 73.2min\n",
      "[Parallel(n_jobs=-1)]: Done 595 tasks      | elapsed: 73.2min\n",
      "[Parallel(n_jobs=-1)]: Done 596 tasks      | elapsed: 74.3min\n",
      "[Parallel(n_jobs=-1)]: Done 597 tasks      | elapsed: 74.4min\n",
      "[Parallel(n_jobs=-1)]: Done 598 tasks      | elapsed: 74.9min\n",
      "[Parallel(n_jobs=-1)]: Done 599 tasks      | elapsed: 74.9min\n",
      "[Parallel(n_jobs=-1)]: Done 600 tasks      | elapsed: 75.1min\n",
      "[Parallel(n_jobs=-1)]: Done 601 tasks      | elapsed: 75.2min\n",
      "[Parallel(n_jobs=-1)]: Done 602 tasks      | elapsed: 75.2min\n",
      "[Parallel(n_jobs=-1)]: Done 603 tasks      | elapsed: 75.2min\n",
      "[Parallel(n_jobs=-1)]: Done 604 tasks      | elapsed: 75.4min\n",
      "[Parallel(n_jobs=-1)]: Done 605 tasks      | elapsed: 75.4min\n",
      "[Parallel(n_jobs=-1)]: Done 606 tasks      | elapsed: 75.5min\n",
      "[Parallel(n_jobs=-1)]: Done 607 tasks      | elapsed: 75.6min\n",
      "[Parallel(n_jobs=-1)]: Done 608 tasks      | elapsed: 75.6min\n",
      "[Parallel(n_jobs=-1)]: Done 609 tasks      | elapsed: 75.7min\n",
      "[Parallel(n_jobs=-1)]: Done 610 tasks      | elapsed: 75.7min\n",
      "[Parallel(n_jobs=-1)]: Done 611 tasks      | elapsed: 75.8min\n",
      "[Parallel(n_jobs=-1)]: Done 612 tasks      | elapsed: 75.9min\n",
      "[Parallel(n_jobs=-1)]: Done 613 tasks      | elapsed: 75.9min\n",
      "[Parallel(n_jobs=-1)]: Done 614 tasks      | elapsed: 76.0min\n",
      "[Parallel(n_jobs=-1)]: Done 615 tasks      | elapsed: 76.1min\n",
      "[Parallel(n_jobs=-1)]: Done 616 tasks      | elapsed: 76.9min\n",
      "[Parallel(n_jobs=-1)]: Done 617 tasks      | elapsed: 76.9min\n",
      "[Parallel(n_jobs=-1)]: Done 618 tasks      | elapsed: 76.9min\n",
      "[Parallel(n_jobs=-1)]: Done 619 tasks      | elapsed: 77.0min\n",
      "[Parallel(n_jobs=-1)]: Done 620 tasks      | elapsed: 77.0min\n",
      "[Parallel(n_jobs=-1)]: Done 621 tasks      | elapsed: 77.0min\n",
      "[Parallel(n_jobs=-1)]: Done 622 tasks      | elapsed: 77.0min\n",
      "[Parallel(n_jobs=-1)]: Done 623 tasks      | elapsed: 77.0min\n",
      "[Parallel(n_jobs=-1)]: Done 624 tasks      | elapsed: 77.5min\n",
      "[Parallel(n_jobs=-1)]: Done 625 tasks      | elapsed: 77.5min\n",
      "[Parallel(n_jobs=-1)]: Done 626 tasks      | elapsed: 77.8min\n",
      "[Parallel(n_jobs=-1)]: Done 627 tasks      | elapsed: 77.8min\n",
      "[Parallel(n_jobs=-1)]: Done 628 tasks      | elapsed: 77.8min\n",
      "[Parallel(n_jobs=-1)]: Done 629 tasks      | elapsed: 77.8min\n",
      "[Parallel(n_jobs=-1)]: Done 630 tasks      | elapsed: 77.8min\n",
      "[Parallel(n_jobs=-1)]: Done 631 tasks      | elapsed: 78.4min\n",
      "[Parallel(n_jobs=-1)]: Done 632 tasks      | elapsed: 79.2min\n",
      "[Parallel(n_jobs=-1)]: Done 633 tasks      | elapsed: 79.2min\n",
      "[Parallel(n_jobs=-1)]: Done 634 tasks      | elapsed: 79.2min\n",
      "[Parallel(n_jobs=-1)]: Done 635 tasks      | elapsed: 79.2min\n",
      "[Parallel(n_jobs=-1)]: Done 636 tasks      | elapsed: 79.2min\n",
      "[Parallel(n_jobs=-1)]: Done 637 tasks      | elapsed: 79.4min\n",
      "[Parallel(n_jobs=-1)]: Done 638 tasks      | elapsed: 79.4min\n",
      "[Parallel(n_jobs=-1)]: Done 639 tasks      | elapsed: 79.5min\n",
      "[Parallel(n_jobs=-1)]: Done 640 tasks      | elapsed: 80.4min\n",
      "[Parallel(n_jobs=-1)]: Done 641 tasks      | elapsed: 80.4min\n",
      "[Parallel(n_jobs=-1)]: Done 642 tasks      | elapsed: 80.5min\n",
      "[Parallel(n_jobs=-1)]: Done 643 tasks      | elapsed: 80.5min\n",
      "[Parallel(n_jobs=-1)]: Done 644 tasks      | elapsed: 80.5min\n",
      "[Parallel(n_jobs=-1)]: Done 645 tasks      | elapsed: 80.7min\n",
      "[Parallel(n_jobs=-1)]: Done 646 tasks      | elapsed: 81.0min\n",
      "[Parallel(n_jobs=-1)]: Done 647 tasks      | elapsed: 81.1min\n",
      "[Parallel(n_jobs=-1)]: Done 648 tasks      | elapsed: 82.2min\n",
      "[Parallel(n_jobs=-1)]: Done 649 tasks      | elapsed: 82.2min\n",
      "[Parallel(n_jobs=-1)]: Done 650 tasks      | elapsed: 82.2min\n",
      "[Parallel(n_jobs=-1)]: Done 651 tasks      | elapsed: 82.2min\n",
      "[Parallel(n_jobs=-1)]: Done 652 tasks      | elapsed: 82.3min\n",
      "[Parallel(n_jobs=-1)]: Done 653 tasks      | elapsed: 82.3min\n",
      "[Parallel(n_jobs=-1)]: Done 654 tasks      | elapsed: 82.4min\n",
      "[Parallel(n_jobs=-1)]: Done 655 tasks      | elapsed: 82.5min\n",
      "[Parallel(n_jobs=-1)]: Done 656 tasks      | elapsed: 82.5min\n",
      "[Parallel(n_jobs=-1)]: Done 657 tasks      | elapsed: 82.5min\n",
      "[Parallel(n_jobs=-1)]: Done 658 tasks      | elapsed: 82.5min\n",
      "[Parallel(n_jobs=-1)]: Done 659 tasks      | elapsed: 82.5min\n",
      "[Parallel(n_jobs=-1)]: Done 660 tasks      | elapsed: 82.6min\n",
      "[Parallel(n_jobs=-1)]: Done 661 tasks      | elapsed: 83.3min\n",
      "[Parallel(n_jobs=-1)]: Done 662 tasks      | elapsed: 83.7min\n",
      "[Parallel(n_jobs=-1)]: Done 663 tasks      | elapsed: 83.8min\n"
     ]
    },
    {
     "name": "stderr",
     "output_type": "stream",
     "text": [
      "[Parallel(n_jobs=-1)]: Done 664 tasks      | elapsed: 83.9min\n",
      "[Parallel(n_jobs=-1)]: Done 665 tasks      | elapsed: 84.0min\n",
      "[Parallel(n_jobs=-1)]: Done 666 tasks      | elapsed: 84.3min\n",
      "[Parallel(n_jobs=-1)]: Done 667 tasks      | elapsed: 84.3min\n",
      "[Parallel(n_jobs=-1)]: Done 668 tasks      | elapsed: 84.5min\n",
      "[Parallel(n_jobs=-1)]: Done 669 tasks      | elapsed: 85.2min\n",
      "[Parallel(n_jobs=-1)]: Done 670 tasks      | elapsed: 85.4min\n",
      "[Parallel(n_jobs=-1)]: Done 671 tasks      | elapsed: 85.6min\n",
      "[Parallel(n_jobs=-1)]: Done 672 tasks      | elapsed: 85.6min\n",
      "[Parallel(n_jobs=-1)]: Done 673 tasks      | elapsed: 85.7min\n",
      "[Parallel(n_jobs=-1)]: Done 674 tasks      | elapsed: 85.9min\n",
      "[Parallel(n_jobs=-1)]: Done 675 tasks      | elapsed: 85.9min\n",
      "[Parallel(n_jobs=-1)]: Done 676 tasks      | elapsed: 86.3min\n",
      "[Parallel(n_jobs=-1)]: Done 677 tasks      | elapsed: 86.7min\n",
      "[Parallel(n_jobs=-1)]: Done 678 tasks      | elapsed: 86.9min\n",
      "[Parallel(n_jobs=-1)]: Done 679 tasks      | elapsed: 87.0min\n",
      "[Parallel(n_jobs=-1)]: Done 680 tasks      | elapsed: 87.0min\n",
      "[Parallel(n_jobs=-1)]: Done 681 tasks      | elapsed: 87.1min\n",
      "[Parallel(n_jobs=-1)]: Done 682 tasks      | elapsed: 87.2min\n",
      "[Parallel(n_jobs=-1)]: Done 683 tasks      | elapsed: 87.2min\n",
      "[Parallel(n_jobs=-1)]: Done 684 tasks      | elapsed: 87.2min\n",
      "[Parallel(n_jobs=-1)]: Done 685 tasks      | elapsed: 87.3min\n",
      "[Parallel(n_jobs=-1)]: Done 686 tasks      | elapsed: 87.3min\n",
      "[Parallel(n_jobs=-1)]: Done 687 tasks      | elapsed: 87.3min\n",
      "[Parallel(n_jobs=-1)]: Done 688 tasks      | elapsed: 87.4min\n",
      "[Parallel(n_jobs=-1)]: Done 689 tasks      | elapsed: 87.4min\n",
      "[Parallel(n_jobs=-1)]: Done 690 tasks      | elapsed: 87.4min\n",
      "[Parallel(n_jobs=-1)]: Done 691 tasks      | elapsed: 87.4min\n",
      "[Parallel(n_jobs=-1)]: Done 692 tasks      | elapsed: 87.5min\n",
      "[Parallel(n_jobs=-1)]: Done 693 tasks      | elapsed: 87.5min\n",
      "[Parallel(n_jobs=-1)]: Done 694 tasks      | elapsed: 87.5min\n",
      "[Parallel(n_jobs=-1)]: Done 695 tasks      | elapsed: 87.5min\n",
      "[Parallel(n_jobs=-1)]: Done 696 tasks      | elapsed: 88.8min\n",
      "[Parallel(n_jobs=-1)]: Done 697 tasks      | elapsed: 88.8min\n",
      "[Parallel(n_jobs=-1)]: Done 698 tasks      | elapsed: 88.9min\n",
      "[Parallel(n_jobs=-1)]: Done 699 tasks      | elapsed: 88.9min\n",
      "[Parallel(n_jobs=-1)]: Done 700 tasks      | elapsed: 88.9min\n",
      "[Parallel(n_jobs=-1)]: Done 701 tasks      | elapsed: 89.0min\n",
      "[Parallel(n_jobs=-1)]: Done 702 tasks      | elapsed: 89.0min\n",
      "[Parallel(n_jobs=-1)]: Done 703 tasks      | elapsed: 89.0min\n",
      "[Parallel(n_jobs=-1)]: Done 704 tasks      | elapsed: 89.6min\n",
      "[Parallel(n_jobs=-1)]: Done 705 tasks      | elapsed: 89.7min\n",
      "[Parallel(n_jobs=-1)]: Done 706 tasks      | elapsed: 89.7min\n",
      "[Parallel(n_jobs=-1)]: Done 707 tasks      | elapsed: 89.8min\n",
      "[Parallel(n_jobs=-1)]: Done 708 tasks      | elapsed: 89.8min\n",
      "[Parallel(n_jobs=-1)]: Done 709 tasks      | elapsed: 89.8min\n",
      "[Parallel(n_jobs=-1)]: Done 710 tasks      | elapsed: 89.8min\n",
      "[Parallel(n_jobs=-1)]: Done 711 tasks      | elapsed: 89.8min\n",
      "[Parallel(n_jobs=-1)]: Done 712 tasks      | elapsed: 89.9min\n",
      "[Parallel(n_jobs=-1)]: Done 713 tasks      | elapsed: 89.9min\n",
      "[Parallel(n_jobs=-1)]: Done 714 tasks      | elapsed: 89.9min\n",
      "[Parallel(n_jobs=-1)]: Done 715 tasks      | elapsed: 90.0min\n",
      "[Parallel(n_jobs=-1)]: Done 716 tasks      | elapsed: 91.5min\n",
      "[Parallel(n_jobs=-1)]: Done 717 tasks      | elapsed: 91.6min\n",
      "[Parallel(n_jobs=-1)]: Done 718 tasks      | elapsed: 91.6min\n",
      "[Parallel(n_jobs=-1)]: Done 719 tasks      | elapsed: 91.6min\n",
      "[Parallel(n_jobs=-1)]: Done 720 tasks      | elapsed: 91.6min\n",
      "[Parallel(n_jobs=-1)]: Done 721 tasks      | elapsed: 91.6min\n",
      "[Parallel(n_jobs=-1)]: Done 722 tasks      | elapsed: 91.7min\n",
      "[Parallel(n_jobs=-1)]: Done 723 tasks      | elapsed: 91.7min\n",
      "[Parallel(n_jobs=-1)]: Done 724 tasks      | elapsed: 92.7min\n",
      "[Parallel(n_jobs=-1)]: Done 725 tasks      | elapsed: 92.7min\n",
      "[Parallel(n_jobs=-1)]: Done 726 tasks      | elapsed: 92.7min\n",
      "[Parallel(n_jobs=-1)]: Done 727 tasks      | elapsed: 92.8min\n",
      "[Parallel(n_jobs=-1)]: Done 728 tasks      | elapsed: 92.8min\n",
      "[Parallel(n_jobs=-1)]: Done 729 tasks      | elapsed: 92.8min\n",
      "[Parallel(n_jobs=-1)]: Done 730 tasks      | elapsed: 92.8min\n",
      "[Parallel(n_jobs=-1)]: Done 731 tasks      | elapsed: 92.8min\n",
      "[Parallel(n_jobs=-1)]: Done 732 tasks      | elapsed: 93.5min\n",
      "[Parallel(n_jobs=-1)]: Done 733 tasks      | elapsed: 93.5min\n",
      "[Parallel(n_jobs=-1)]: Done 734 tasks      | elapsed: 93.5min\n",
      "[Parallel(n_jobs=-1)]: Done 735 tasks      | elapsed: 93.5min\n",
      "[Parallel(n_jobs=-1)]: Done 750 out of 750 | elapsed: 95.6min finished\n"
     ]
    },
    {
     "data": {
      "text/plain": [
       "RandomizedSearchCV(cv=5, estimator=RandomForestRegressor(random_state=42),\n",
       "                   n_iter=150, n_jobs=-1,\n",
       "                   param_distributions={'max_depth': [None, 20, 40, 60, 80],\n",
       "                                        'max_samples': [10000],\n",
       "                                        'min_samples_leaf': array([ 4,  6,  8, 10, 12, 14]),\n",
       "                                        'min_samples_split': array([ 2,  4,  6,  8, 10, 12, 14]),\n",
       "                                        'n_estimators': array([ 10,  30,  50,  70,  90, 110, 130, 150, 170, 190]),\n",
       "                                        'n_jobs': [-1]},\n",
       "                   verbose=20)"
      ]
     },
     "execution_count": 71,
     "metadata": {},
     "output_type": "execute_result"
    }
   ],
   "source": [
    "rs_model_comb_1.fit(X_train,y_train)"
   ]
  },
  {
   "cell_type": "code",
   "execution_count": 72,
   "metadata": {},
   "outputs": [
    {
     "data": {
      "text/plain": [
       "{'n_jobs': -1,\n",
       " 'n_estimators': 190,\n",
       " 'min_samples_split': 6,\n",
       " 'min_samples_leaf': 4,\n",
       " 'max_samples': 10000,\n",
       " 'max_depth': None}"
      ]
     },
     "execution_count": 72,
     "metadata": {},
     "output_type": "execute_result"
    }
   ],
   "source": [
    "rs_model_comb_1.best_params_"
   ]
  },
  {
   "cell_type": "code",
   "execution_count": 73,
   "metadata": {},
   "outputs": [
    {
     "data": {
      "text/plain": [
       "{'Train MAE': 5699.51689197175,\n",
       " 'Val MAE': 7332.830811332855,\n",
       " 'Train MSLE': 0.06891192594193883,\n",
       " 'Val MSLE': 0.08870371309504553,\n",
       " 'Train RMSLE': 0.26251081109535057,\n",
       " 'Val RMSLE': 0.29783168584797276,\n",
       " 'Train R2': 0.851742247929163,\n",
       " 'Val R2': 0.8215144446592297}"
      ]
     },
     "execution_count": 73,
     "metadata": {},
     "output_type": "execute_result"
    }
   ],
   "source": [
    "eval_scores(rs_model_comb_1, X_train, X_val, y_train, y_val)"
   ]
  },
  {
   "cell_type": "code",
   "execution_count": 81,
   "metadata": {},
   "outputs": [],
   "source": [
    "# gave good results increase iterations\n",
    "np.random.seed(42)\n",
    "rs_model_comb_2 = RandomizedSearchCV(RandomForestRegressor(random_state=42), \n",
    "                              param_distributions=rf_grid_comb_2,\n",
    "                              cv=5,\n",
    "                              n_iter=300,\n",
    "                              n_jobs=-1,\n",
    "                              verbose=20)"
   ]
  },
  {
   "cell_type": "code",
   "execution_count": 82,
   "metadata": {
    "scrolled": true
   },
   "outputs": [
    {
     "name": "stdout",
     "output_type": "stream",
     "text": [
      "Fitting 5 folds for each of 300 candidates, totalling 1500 fits\n"
     ]
    },
    {
     "name": "stderr",
     "output_type": "stream",
     "text": [
      "[Parallel(n_jobs=-1)]: Using backend LokyBackend with 8 concurrent workers.\n",
      "[Parallel(n_jobs=-1)]: Done   1 tasks      | elapsed:   12.0s\n",
      "[Parallel(n_jobs=-1)]: Done   2 tasks      | elapsed:   12.4s\n",
      "[Parallel(n_jobs=-1)]: Done   3 tasks      | elapsed:   12.4s\n",
      "[Parallel(n_jobs=-1)]: Done   4 tasks      | elapsed:   12.5s\n",
      "[Parallel(n_jobs=-1)]: Done   5 tasks      | elapsed:   12.5s\n",
      "[Parallel(n_jobs=-1)]: Done   6 tasks      | elapsed:   12.8s\n",
      "[Parallel(n_jobs=-1)]: Done   7 tasks      | elapsed:   13.1s\n",
      "[Parallel(n_jobs=-1)]: Done   8 tasks      | elapsed:   13.2s\n",
      "[Parallel(n_jobs=-1)]: Done   9 tasks      | elapsed:   21.6s\n",
      "[Parallel(n_jobs=-1)]: Done  10 tasks      | elapsed:   32.0s\n",
      "[Parallel(n_jobs=-1)]: Done  11 tasks      | elapsed:   36.2s\n",
      "[Parallel(n_jobs=-1)]: Done  12 tasks      | elapsed:   37.7s\n",
      "[Parallel(n_jobs=-1)]: Done  13 tasks      | elapsed:   38.9s\n",
      "[Parallel(n_jobs=-1)]: Done  14 tasks      | elapsed:   39.0s\n",
      "[Parallel(n_jobs=-1)]: Done  15 tasks      | elapsed:   40.0s\n",
      "[Parallel(n_jobs=-1)]: Done  16 tasks      | elapsed:   47.3s\n",
      "[Parallel(n_jobs=-1)]: Done  17 tasks      | elapsed:   59.1s\n",
      "[Parallel(n_jobs=-1)]: Done  18 tasks      | elapsed:  1.1min\n",
      "[Parallel(n_jobs=-1)]: Done  19 tasks      | elapsed:  1.1min\n",
      "[Parallel(n_jobs=-1)]: Done  20 tasks      | elapsed:  1.2min\n",
      "[Parallel(n_jobs=-1)]: Done  21 tasks      | elapsed:  1.2min\n",
      "[Parallel(n_jobs=-1)]: Done  22 tasks      | elapsed:  1.2min\n",
      "[Parallel(n_jobs=-1)]: Done  23 tasks      | elapsed:  1.2min\n",
      "[Parallel(n_jobs=-1)]: Done  24 tasks      | elapsed:  1.3min\n",
      "[Parallel(n_jobs=-1)]: Done  25 tasks      | elapsed:  1.3min\n",
      "[Parallel(n_jobs=-1)]: Done  26 tasks      | elapsed:  1.6min\n",
      "[Parallel(n_jobs=-1)]: Done  27 tasks      | elapsed:  1.6min\n",
      "[Parallel(n_jobs=-1)]: Done  28 tasks      | elapsed:  1.6min\n",
      "[Parallel(n_jobs=-1)]: Done  29 tasks      | elapsed:  1.6min\n",
      "[Parallel(n_jobs=-1)]: Done  30 tasks      | elapsed:  1.7min\n",
      "[Parallel(n_jobs=-1)]: Done  31 tasks      | elapsed:  1.7min\n",
      "[Parallel(n_jobs=-1)]: Done  32 tasks      | elapsed:  1.7min\n",
      "[Parallel(n_jobs=-1)]: Done  33 tasks      | elapsed:  1.7min\n",
      "[Parallel(n_jobs=-1)]: Done  34 tasks      | elapsed:  1.9min\n",
      "[Parallel(n_jobs=-1)]: Done  35 tasks      | elapsed:  1.9min\n",
      "[Parallel(n_jobs=-1)]: Done  36 tasks      | elapsed:  1.9min\n",
      "[Parallel(n_jobs=-1)]: Done  37 tasks      | elapsed:  1.9min\n",
      "[Parallel(n_jobs=-1)]: Done  38 tasks      | elapsed:  1.9min\n",
      "[Parallel(n_jobs=-1)]: Done  39 tasks      | elapsed:  1.9min\n",
      "[Parallel(n_jobs=-1)]: Done  40 tasks      | elapsed:  1.9min\n",
      "[Parallel(n_jobs=-1)]: Done  41 tasks      | elapsed:  1.9min\n",
      "[Parallel(n_jobs=-1)]: Done  42 tasks      | elapsed:  2.1min\n",
      "[Parallel(n_jobs=-1)]: Done  43 tasks      | elapsed:  2.1min\n",
      "[Parallel(n_jobs=-1)]: Done  44 tasks      | elapsed:  2.1min\n",
      "[Parallel(n_jobs=-1)]: Done  45 tasks      | elapsed:  2.1min\n",
      "[Parallel(n_jobs=-1)]: Done  46 tasks      | elapsed:  2.1min\n",
      "[Parallel(n_jobs=-1)]: Done  47 tasks      | elapsed:  2.1min\n",
      "[Parallel(n_jobs=-1)]: Done  48 tasks      | elapsed:  2.1min\n",
      "[Parallel(n_jobs=-1)]: Done  49 tasks      | elapsed:  2.1min\n",
      "[Parallel(n_jobs=-1)]: Done  50 tasks      | elapsed:  2.4min\n",
      "[Parallel(n_jobs=-1)]: Done  51 tasks      | elapsed:  2.4min\n",
      "[Parallel(n_jobs=-1)]: Done  52 tasks      | elapsed:  2.4min\n",
      "[Parallel(n_jobs=-1)]: Done  53 tasks      | elapsed:  2.4min\n",
      "[Parallel(n_jobs=-1)]: Done  54 tasks      | elapsed:  2.4min\n",
      "[Parallel(n_jobs=-1)]: Done  55 tasks      | elapsed:  2.4min\n",
      "[Parallel(n_jobs=-1)]: Done  56 tasks      | elapsed:  2.4min\n",
      "[Parallel(n_jobs=-1)]: Done  57 tasks      | elapsed:  2.5min\n",
      "[Parallel(n_jobs=-1)]: Done  58 tasks      | elapsed:  2.6min\n",
      "[Parallel(n_jobs=-1)]: Done  59 tasks      | elapsed:  2.7min\n",
      "[Parallel(n_jobs=-1)]: Done  60 tasks      | elapsed:  2.7min\n",
      "[Parallel(n_jobs=-1)]: Done  61 tasks      | elapsed:  2.7min\n",
      "[Parallel(n_jobs=-1)]: Done  62 tasks      | elapsed:  2.7min\n",
      "[Parallel(n_jobs=-1)]: Done  63 tasks      | elapsed:  2.7min\n",
      "[Parallel(n_jobs=-1)]: Done  64 tasks      | elapsed:  2.7min\n",
      "[Parallel(n_jobs=-1)]: Done  65 tasks      | elapsed:  2.7min\n",
      "[Parallel(n_jobs=-1)]: Done  66 tasks      | elapsed:  3.2min\n",
      "[Parallel(n_jobs=-1)]: Done  67 tasks      | elapsed:  3.2min\n",
      "[Parallel(n_jobs=-1)]: Done  68 tasks      | elapsed:  3.2min\n",
      "[Parallel(n_jobs=-1)]: Done  69 tasks      | elapsed:  3.2min\n",
      "[Parallel(n_jobs=-1)]: Done  70 tasks      | elapsed:  3.3min\n",
      "[Parallel(n_jobs=-1)]: Done  71 tasks      | elapsed:  3.3min\n",
      "[Parallel(n_jobs=-1)]: Done  72 tasks      | elapsed:  3.3min\n",
      "[Parallel(n_jobs=-1)]: Done  73 tasks      | elapsed:  3.3min\n",
      "[Parallel(n_jobs=-1)]: Done  74 tasks      | elapsed:  3.4min\n",
      "[Parallel(n_jobs=-1)]: Done  75 tasks      | elapsed:  3.5min\n",
      "[Parallel(n_jobs=-1)]: Done  76 tasks      | elapsed:  3.8min\n",
      "[Parallel(n_jobs=-1)]: Done  77 tasks      | elapsed:  3.8min\n",
      "[Parallel(n_jobs=-1)]: Done  78 tasks      | elapsed:  3.8min\n",
      "[Parallel(n_jobs=-1)]: Done  79 tasks      | elapsed:  3.8min\n",
      "[Parallel(n_jobs=-1)]: Done  80 tasks      | elapsed:  3.8min\n",
      "[Parallel(n_jobs=-1)]: Done  81 tasks      | elapsed:  3.8min\n",
      "[Parallel(n_jobs=-1)]: Done  82 tasks      | elapsed:  3.9min\n",
      "[Parallel(n_jobs=-1)]: Done  83 tasks      | elapsed:  3.9min\n",
      "[Parallel(n_jobs=-1)]: Done  84 tasks      | elapsed:  4.0min\n",
      "[Parallel(n_jobs=-1)]: Done  85 tasks      | elapsed:  4.0min\n",
      "[Parallel(n_jobs=-1)]: Done  86 tasks      | elapsed:  4.0min\n",
      "[Parallel(n_jobs=-1)]: Done  87 tasks      | elapsed:  4.0min\n",
      "[Parallel(n_jobs=-1)]: Done  88 tasks      | elapsed:  4.0min\n",
      "[Parallel(n_jobs=-1)]: Done  89 tasks      | elapsed:  4.0min\n",
      "[Parallel(n_jobs=-1)]: Done  90 tasks      | elapsed:  4.0min\n",
      "[Parallel(n_jobs=-1)]: Done  91 tasks      | elapsed:  4.3min\n",
      "[Parallel(n_jobs=-1)]: Done  92 tasks      | elapsed:  4.4min\n",
      "[Parallel(n_jobs=-1)]: Done  93 tasks      | elapsed:  4.5min\n",
      "[Parallel(n_jobs=-1)]: Done  94 tasks      | elapsed:  4.5min\n",
      "[Parallel(n_jobs=-1)]: Done  95 tasks      | elapsed:  4.5min\n",
      "[Parallel(n_jobs=-1)]: Done  96 tasks      | elapsed:  4.5min\n",
      "[Parallel(n_jobs=-1)]: Done  97 tasks      | elapsed:  4.5min\n",
      "[Parallel(n_jobs=-1)]: Done  98 tasks      | elapsed:  4.5min\n",
      "[Parallel(n_jobs=-1)]: Done  99 tasks      | elapsed:  4.7min\n",
      "[Parallel(n_jobs=-1)]: Done 100 tasks      | elapsed:  4.9min\n",
      "[Parallel(n_jobs=-1)]: Done 101 tasks      | elapsed:  4.9min\n",
      "[Parallel(n_jobs=-1)]: Done 102 tasks      | elapsed:  4.9min\n",
      "[Parallel(n_jobs=-1)]: Done 103 tasks      | elapsed:  4.9min\n",
      "[Parallel(n_jobs=-1)]: Done 104 tasks      | elapsed:  4.9min\n",
      "[Parallel(n_jobs=-1)]: Done 105 tasks      | elapsed:  4.9min\n",
      "[Parallel(n_jobs=-1)]: Done 106 tasks      | elapsed:  4.9min\n",
      "[Parallel(n_jobs=-1)]: Done 107 tasks      | elapsed:  5.0min\n",
      "[Parallel(n_jobs=-1)]: Done 108 tasks      | elapsed:  5.0min\n",
      "[Parallel(n_jobs=-1)]: Done 109 tasks      | elapsed:  5.1min\n",
      "[Parallel(n_jobs=-1)]: Done 110 tasks      | elapsed:  5.1min\n",
      "[Parallel(n_jobs=-1)]: Done 111 tasks      | elapsed:  5.1min\n",
      "[Parallel(n_jobs=-1)]: Done 112 tasks      | elapsed:  5.1min\n",
      "[Parallel(n_jobs=-1)]: Done 113 tasks      | elapsed:  5.2min\n",
      "[Parallel(n_jobs=-1)]: Done 114 tasks      | elapsed:  5.2min\n",
      "[Parallel(n_jobs=-1)]: Done 115 tasks      | elapsed:  5.2min\n",
      "[Parallel(n_jobs=-1)]: Done 116 tasks      | elapsed:  5.8min\n",
      "[Parallel(n_jobs=-1)]: Done 117 tasks      | elapsed:  5.9min\n",
      "[Parallel(n_jobs=-1)]: Done 118 tasks      | elapsed:  5.9min\n",
      "[Parallel(n_jobs=-1)]: Done 119 tasks      | elapsed:  5.9min\n",
      "[Parallel(n_jobs=-1)]: Done 120 tasks      | elapsed:  5.9min\n",
      "[Parallel(n_jobs=-1)]: Done 121 tasks      | elapsed:  5.9min\n",
      "[Parallel(n_jobs=-1)]: Done 122 tasks      | elapsed:  5.9min\n",
      "[Parallel(n_jobs=-1)]: Done 123 tasks      | elapsed:  5.9min\n",
      "[Parallel(n_jobs=-1)]: Done 124 tasks      | elapsed:  6.3min\n",
      "[Parallel(n_jobs=-1)]: Done 125 tasks      | elapsed:  6.3min\n",
      "[Parallel(n_jobs=-1)]: Done 126 tasks      | elapsed:  6.3min\n",
      "[Parallel(n_jobs=-1)]: Done 127 tasks      | elapsed:  6.3min\n",
      "[Parallel(n_jobs=-1)]: Done 128 tasks      | elapsed:  6.3min\n",
      "[Parallel(n_jobs=-1)]: Done 129 tasks      | elapsed:  6.3min\n",
      "[Parallel(n_jobs=-1)]: Done 130 tasks      | elapsed:  6.3min\n",
      "[Parallel(n_jobs=-1)]: Done 131 tasks      | elapsed:  6.3min\n"
     ]
    },
    {
     "name": "stderr",
     "output_type": "stream",
     "text": [
      "[Parallel(n_jobs=-1)]: Done 132 tasks      | elapsed:  6.5min\n",
      "[Parallel(n_jobs=-1)]: Done 133 tasks      | elapsed:  6.5min\n",
      "[Parallel(n_jobs=-1)]: Done 134 tasks      | elapsed:  6.5min\n",
      "[Parallel(n_jobs=-1)]: Done 135 tasks      | elapsed:  6.5min\n",
      "[Parallel(n_jobs=-1)]: Done 136 tasks      | elapsed:  6.5min\n",
      "[Parallel(n_jobs=-1)]: Done 137 tasks      | elapsed:  6.5min\n",
      "[Parallel(n_jobs=-1)]: Done 138 tasks      | elapsed:  6.5min\n",
      "[Parallel(n_jobs=-1)]: Done 139 tasks      | elapsed:  6.5min\n",
      "[Parallel(n_jobs=-1)]: Done 140 tasks      | elapsed:  6.7min\n",
      "[Parallel(n_jobs=-1)]: Done 141 tasks      | elapsed:  6.9min\n",
      "[Parallel(n_jobs=-1)]: Done 142 tasks      | elapsed:  7.0min\n",
      "[Parallel(n_jobs=-1)]: Done 143 tasks      | elapsed:  7.0min\n",
      "[Parallel(n_jobs=-1)]: Done 144 tasks      | elapsed:  7.0min\n",
      "[Parallel(n_jobs=-1)]: Done 145 tasks      | elapsed:  7.0min\n",
      "[Parallel(n_jobs=-1)]: Done 146 tasks      | elapsed:  7.1min\n",
      "[Parallel(n_jobs=-1)]: Done 147 tasks      | elapsed:  7.1min\n",
      "[Parallel(n_jobs=-1)]: Done 148 tasks      | elapsed:  7.5min\n",
      "[Parallel(n_jobs=-1)]: Done 149 tasks      | elapsed:  7.5min\n",
      "[Parallel(n_jobs=-1)]: Done 150 tasks      | elapsed:  7.5min\n",
      "[Parallel(n_jobs=-1)]: Done 151 tasks      | elapsed:  7.5min\n",
      "[Parallel(n_jobs=-1)]: Done 152 tasks      | elapsed:  7.5min\n",
      "[Parallel(n_jobs=-1)]: Done 153 tasks      | elapsed:  7.5min\n",
      "[Parallel(n_jobs=-1)]: Done 154 tasks      | elapsed:  7.6min\n",
      "[Parallel(n_jobs=-1)]: Done 155 tasks      | elapsed:  7.6min\n",
      "[Parallel(n_jobs=-1)]: Done 156 tasks      | elapsed:  7.7min\n",
      "[Parallel(n_jobs=-1)]: Done 157 tasks      | elapsed:  7.7min\n",
      "[Parallel(n_jobs=-1)]: Done 158 tasks      | elapsed:  7.7min\n",
      "[Parallel(n_jobs=-1)]: Done 159 tasks      | elapsed:  7.8min\n",
      "[Parallel(n_jobs=-1)]: Done 160 tasks      | elapsed:  7.8min\n",
      "[Parallel(n_jobs=-1)]: Done 161 tasks      | elapsed:  7.8min\n",
      "[Parallel(n_jobs=-1)]: Done 162 tasks      | elapsed:  7.8min\n",
      "[Parallel(n_jobs=-1)]: Done 163 tasks      | elapsed:  7.8min\n",
      "[Parallel(n_jobs=-1)]: Done 164 tasks      | elapsed:  7.9min\n",
      "[Parallel(n_jobs=-1)]: Done 165 tasks      | elapsed:  7.9min\n",
      "[Parallel(n_jobs=-1)]: Done 166 tasks      | elapsed:  8.0min\n",
      "[Parallel(n_jobs=-1)]: Done 167 tasks      | elapsed:  8.0min\n",
      "[Parallel(n_jobs=-1)]: Done 168 tasks      | elapsed:  8.0min\n",
      "[Parallel(n_jobs=-1)]: Done 169 tasks      | elapsed:  8.0min\n",
      "[Parallel(n_jobs=-1)]: Done 170 tasks      | elapsed:  8.0min\n",
      "[Parallel(n_jobs=-1)]: Done 171 tasks      | elapsed:  8.0min\n",
      "[Parallel(n_jobs=-1)]: Done 172 tasks      | elapsed:  8.2min\n",
      "[Parallel(n_jobs=-1)]: Done 173 tasks      | elapsed:  8.2min\n",
      "[Parallel(n_jobs=-1)]: Done 174 tasks      | elapsed:  8.2min\n",
      "[Parallel(n_jobs=-1)]: Done 175 tasks      | elapsed:  8.2min\n",
      "[Parallel(n_jobs=-1)]: Done 176 tasks      | elapsed:  8.2min\n",
      "[Parallel(n_jobs=-1)]: Done 177 tasks      | elapsed:  8.2min\n",
      "[Parallel(n_jobs=-1)]: Done 178 tasks      | elapsed:  8.2min\n",
      "[Parallel(n_jobs=-1)]: Done 179 tasks      | elapsed:  8.2min\n",
      "[Parallel(n_jobs=-1)]: Done 180 tasks      | elapsed:  8.4min\n",
      "[Parallel(n_jobs=-1)]: Done 181 tasks      | elapsed:  8.7min\n",
      "[Parallel(n_jobs=-1)]: Done 182 tasks      | elapsed:  8.7min\n",
      "[Parallel(n_jobs=-1)]: Done 183 tasks      | elapsed:  8.9min\n",
      "[Parallel(n_jobs=-1)]: Done 184 tasks      | elapsed:  8.9min\n",
      "[Parallel(n_jobs=-1)]: Done 185 tasks      | elapsed:  8.9min\n",
      "[Parallel(n_jobs=-1)]: Done 186 tasks      | elapsed:  8.9min\n",
      "[Parallel(n_jobs=-1)]: Done 187 tasks      | elapsed:  8.9min\n",
      "[Parallel(n_jobs=-1)]: Done 188 tasks      | elapsed:  8.9min\n",
      "[Parallel(n_jobs=-1)]: Done 189 tasks      | elapsed:  9.0min\n",
      "[Parallel(n_jobs=-1)]: Done 190 tasks      | elapsed:  9.0min\n",
      "[Parallel(n_jobs=-1)]: Done 191 tasks      | elapsed:  9.3min\n",
      "[Parallel(n_jobs=-1)]: Done 192 tasks      | elapsed:  9.3min\n",
      "[Parallel(n_jobs=-1)]: Done 193 tasks      | elapsed:  9.3min\n",
      "[Parallel(n_jobs=-1)]: Done 194 tasks      | elapsed:  9.4min\n",
      "[Parallel(n_jobs=-1)]: Done 195 tasks      | elapsed:  9.4min\n",
      "[Parallel(n_jobs=-1)]: Done 196 tasks      | elapsed:  9.4min\n",
      "[Parallel(n_jobs=-1)]: Done 197 tasks      | elapsed:  9.4min\n",
      "[Parallel(n_jobs=-1)]: Done 198 tasks      | elapsed:  9.4min\n",
      "[Parallel(n_jobs=-1)]: Done 199 tasks      | elapsed:  9.6min\n",
      "[Parallel(n_jobs=-1)]: Done 200 tasks      | elapsed:  9.6min\n",
      "[Parallel(n_jobs=-1)]: Done 201 tasks      | elapsed:  9.6min\n",
      "[Parallel(n_jobs=-1)]: Done 202 tasks      | elapsed:  9.6min\n",
      "[Parallel(n_jobs=-1)]: Done 203 tasks      | elapsed:  9.6min\n",
      "[Parallel(n_jobs=-1)]: Done 204 tasks      | elapsed:  9.6min\n",
      "[Parallel(n_jobs=-1)]: Done 205 tasks      | elapsed:  9.6min\n",
      "[Parallel(n_jobs=-1)]: Done 206 tasks      | elapsed:  9.7min\n",
      "[Parallel(n_jobs=-1)]: Done 207 tasks      | elapsed:  9.9min\n",
      "[Parallel(n_jobs=-1)]: Done 208 tasks      | elapsed: 10.0min\n",
      "[Parallel(n_jobs=-1)]: Done 209 tasks      | elapsed: 10.0min\n",
      "[Parallel(n_jobs=-1)]: Done 210 tasks      | elapsed: 10.0min\n",
      "[Parallel(n_jobs=-1)]: Done 211 tasks      | elapsed: 10.1min\n",
      "[Parallel(n_jobs=-1)]: Done 212 tasks      | elapsed: 10.1min\n",
      "[Parallel(n_jobs=-1)]: Done 213 tasks      | elapsed: 10.1min\n",
      "[Parallel(n_jobs=-1)]: Done 214 tasks      | elapsed: 10.1min\n",
      "[Parallel(n_jobs=-1)]: Done 215 tasks      | elapsed: 10.4min\n",
      "[Parallel(n_jobs=-1)]: Done 216 tasks      | elapsed: 10.7min\n",
      "[Parallel(n_jobs=-1)]: Done 217 tasks      | elapsed: 10.7min\n",
      "[Parallel(n_jobs=-1)]: Done 218 tasks      | elapsed: 10.7min\n",
      "[Parallel(n_jobs=-1)]: Done 219 tasks      | elapsed: 10.7min\n",
      "[Parallel(n_jobs=-1)]: Done 220 tasks      | elapsed: 10.7min\n",
      "[Parallel(n_jobs=-1)]: Done 221 tasks      | elapsed: 10.7min\n",
      "[Parallel(n_jobs=-1)]: Done 222 tasks      | elapsed: 10.7min\n",
      "[Parallel(n_jobs=-1)]: Done 223 tasks      | elapsed: 10.8min\n",
      "[Parallel(n_jobs=-1)]: Done 224 tasks      | elapsed: 11.1min\n",
      "[Parallel(n_jobs=-1)]: Done 225 tasks      | elapsed: 11.1min\n",
      "[Parallel(n_jobs=-1)]: Done 226 tasks      | elapsed: 11.1min\n",
      "[Parallel(n_jobs=-1)]: Done 227 tasks      | elapsed: 11.1min\n",
      "[Parallel(n_jobs=-1)]: Done 228 tasks      | elapsed: 11.1min\n",
      "[Parallel(n_jobs=-1)]: Done 229 tasks      | elapsed: 11.1min\n",
      "[Parallel(n_jobs=-1)]: Done 230 tasks      | elapsed: 11.1min\n",
      "[Parallel(n_jobs=-1)]: Done 231 tasks      | elapsed: 11.2min\n",
      "[Parallel(n_jobs=-1)]: Done 232 tasks      | elapsed: 11.3min\n",
      "[Parallel(n_jobs=-1)]: Done 233 tasks      | elapsed: 11.3min\n",
      "[Parallel(n_jobs=-1)]: Done 234 tasks      | elapsed: 11.3min\n",
      "[Parallel(n_jobs=-1)]: Done 235 tasks      | elapsed: 11.3min\n",
      "[Parallel(n_jobs=-1)]: Done 236 tasks      | elapsed: 11.3min\n",
      "[Parallel(n_jobs=-1)]: Done 237 tasks      | elapsed: 11.3min\n",
      "[Parallel(n_jobs=-1)]: Done 238 tasks      | elapsed: 11.3min\n",
      "[Parallel(n_jobs=-1)]: Done 239 tasks      | elapsed: 11.3min\n",
      "[Parallel(n_jobs=-1)]: Done 240 tasks      | elapsed: 11.5min\n",
      "[Parallel(n_jobs=-1)]: Done 241 tasks      | elapsed: 11.8min\n",
      "[Parallel(n_jobs=-1)]: Done 242 tasks      | elapsed: 11.8min\n",
      "[Parallel(n_jobs=-1)]: Done 243 tasks      | elapsed: 11.8min\n",
      "[Parallel(n_jobs=-1)]: Done 244 tasks      | elapsed: 11.8min\n",
      "[Parallel(n_jobs=-1)]: Done 245 tasks      | elapsed: 11.8min\n",
      "[Parallel(n_jobs=-1)]: Done 246 tasks      | elapsed: 11.8min\n",
      "[Parallel(n_jobs=-1)]: Done 247 tasks      | elapsed: 11.8min\n",
      "[Parallel(n_jobs=-1)]: Done 248 tasks      | elapsed: 11.9min\n",
      "[Parallel(n_jobs=-1)]: Done 249 tasks      | elapsed: 12.0min\n",
      "[Parallel(n_jobs=-1)]: Done 250 tasks      | elapsed: 12.0min\n",
      "[Parallel(n_jobs=-1)]: Done 251 tasks      | elapsed: 12.0min\n",
      "[Parallel(n_jobs=-1)]: Done 252 tasks      | elapsed: 12.0min\n",
      "[Parallel(n_jobs=-1)]: Done 253 tasks      | elapsed: 12.0min\n",
      "[Parallel(n_jobs=-1)]: Done 254 tasks      | elapsed: 12.0min\n",
      "[Parallel(n_jobs=-1)]: Done 255 tasks      | elapsed: 12.0min\n",
      "[Parallel(n_jobs=-1)]: Done 256 tasks      | elapsed: 12.2min\n",
      "[Parallel(n_jobs=-1)]: Done 257 tasks      | elapsed: 12.3min\n",
      "[Parallel(n_jobs=-1)]: Done 258 tasks      | elapsed: 12.3min\n",
      "[Parallel(n_jobs=-1)]: Done 259 tasks      | elapsed: 12.3min\n",
      "[Parallel(n_jobs=-1)]: Done 260 tasks      | elapsed: 12.6min\n",
      "[Parallel(n_jobs=-1)]: Done 261 tasks      | elapsed: 12.6min\n",
      "[Parallel(n_jobs=-1)]: Done 262 tasks      | elapsed: 12.6min\n",
      "[Parallel(n_jobs=-1)]: Done 263 tasks      | elapsed: 12.6min\n",
      "[Parallel(n_jobs=-1)]: Done 264 tasks      | elapsed: 12.6min\n",
      "[Parallel(n_jobs=-1)]: Done 265 tasks      | elapsed: 12.6min\n"
     ]
    },
    {
     "name": "stderr",
     "output_type": "stream",
     "text": [
      "[Parallel(n_jobs=-1)]: Done 266 tasks      | elapsed: 12.6min\n",
      "[Parallel(n_jobs=-1)]: Done 267 tasks      | elapsed: 12.7min\n",
      "[Parallel(n_jobs=-1)]: Done 268 tasks      | elapsed: 12.7min\n",
      "[Parallel(n_jobs=-1)]: Done 269 tasks      | elapsed: 12.7min\n",
      "[Parallel(n_jobs=-1)]: Done 270 tasks      | elapsed: 12.8min\n",
      "[Parallel(n_jobs=-1)]: Done 271 tasks      | elapsed: 12.8min\n",
      "[Parallel(n_jobs=-1)]: Done 272 tasks      | elapsed: 12.8min\n",
      "[Parallel(n_jobs=-1)]: Done 273 tasks      | elapsed: 12.8min\n",
      "[Parallel(n_jobs=-1)]: Done 274 tasks      | elapsed: 12.8min\n",
      "[Parallel(n_jobs=-1)]: Done 275 tasks      | elapsed: 12.8min\n",
      "[Parallel(n_jobs=-1)]: Done 276 tasks      | elapsed: 13.4min\n",
      "[Parallel(n_jobs=-1)]: Done 277 tasks      | elapsed: 13.5min\n",
      "[Parallel(n_jobs=-1)]: Done 278 tasks      | elapsed: 13.5min\n",
      "[Parallel(n_jobs=-1)]: Done 279 tasks      | elapsed: 13.5min\n",
      "[Parallel(n_jobs=-1)]: Done 280 tasks      | elapsed: 13.5min\n",
      "[Parallel(n_jobs=-1)]: Done 281 tasks      | elapsed: 13.5min\n",
      "[Parallel(n_jobs=-1)]: Done 282 tasks      | elapsed: 13.5min\n",
      "[Parallel(n_jobs=-1)]: Done 283 tasks      | elapsed: 13.5min\n",
      "[Parallel(n_jobs=-1)]: Done 284 tasks      | elapsed: 13.8min\n",
      "[Parallel(n_jobs=-1)]: Done 285 tasks      | elapsed: 13.8min\n",
      "[Parallel(n_jobs=-1)]: Done 286 tasks      | elapsed: 13.8min\n",
      "[Parallel(n_jobs=-1)]: Done 287 tasks      | elapsed: 13.8min\n",
      "[Parallel(n_jobs=-1)]: Done 288 tasks      | elapsed: 13.8min\n",
      "[Parallel(n_jobs=-1)]: Done 289 tasks      | elapsed: 13.9min\n",
      "[Parallel(n_jobs=-1)]: Done 290 tasks      | elapsed: 13.9min\n",
      "[Parallel(n_jobs=-1)]: Done 291 tasks      | elapsed: 13.9min\n",
      "[Parallel(n_jobs=-1)]: Done 292 tasks      | elapsed: 14.2min\n",
      "[Parallel(n_jobs=-1)]: Done 293 tasks      | elapsed: 14.3min\n",
      "[Parallel(n_jobs=-1)]: Done 294 tasks      | elapsed: 14.3min\n",
      "[Parallel(n_jobs=-1)]: Done 295 tasks      | elapsed: 14.4min\n",
      "[Parallel(n_jobs=-1)]: Done 296 tasks      | elapsed: 14.5min\n",
      "[Parallel(n_jobs=-1)]: Done 297 tasks      | elapsed: 14.5min\n",
      "[Parallel(n_jobs=-1)]: Done 298 tasks      | elapsed: 14.5min\n",
      "[Parallel(n_jobs=-1)]: Done 299 tasks      | elapsed: 14.5min\n",
      "[Parallel(n_jobs=-1)]: Done 300 tasks      | elapsed: 14.8min\n",
      "[Parallel(n_jobs=-1)]: Done 301 tasks      | elapsed: 14.8min\n",
      "[Parallel(n_jobs=-1)]: Done 302 tasks      | elapsed: 14.8min\n",
      "[Parallel(n_jobs=-1)]: Done 303 tasks      | elapsed: 14.8min\n",
      "[Parallel(n_jobs=-1)]: Done 304 tasks      | elapsed: 14.8min\n",
      "[Parallel(n_jobs=-1)]: Done 305 tasks      | elapsed: 14.9min\n",
      "[Parallel(n_jobs=-1)]: Done 306 tasks      | elapsed: 14.9min\n",
      "[Parallel(n_jobs=-1)]: Done 307 tasks      | elapsed: 14.9min\n",
      "[Parallel(n_jobs=-1)]: Done 308 tasks      | elapsed: 15.1min\n",
      "[Parallel(n_jobs=-1)]: Done 309 tasks      | elapsed: 15.2min\n",
      "[Parallel(n_jobs=-1)]: Done 310 tasks      | elapsed: 15.2min\n",
      "[Parallel(n_jobs=-1)]: Done 311 tasks      | elapsed: 15.3min\n",
      "[Parallel(n_jobs=-1)]: Done 312 tasks      | elapsed: 15.3min\n",
      "[Parallel(n_jobs=-1)]: Done 313 tasks      | elapsed: 15.3min\n",
      "[Parallel(n_jobs=-1)]: Done 314 tasks      | elapsed: 15.3min\n",
      "[Parallel(n_jobs=-1)]: Done 315 tasks      | elapsed: 15.3min\n",
      "[Parallel(n_jobs=-1)]: Done 316 tasks      | elapsed: 15.7min\n",
      "[Parallel(n_jobs=-1)]: Done 317 tasks      | elapsed: 15.8min\n",
      "[Parallel(n_jobs=-1)]: Done 318 tasks      | elapsed: 15.8min\n",
      "[Parallel(n_jobs=-1)]: Done 319 tasks      | elapsed: 15.8min\n",
      "[Parallel(n_jobs=-1)]: Done 320 tasks      | elapsed: 15.8min\n",
      "[Parallel(n_jobs=-1)]: Done 321 tasks      | elapsed: 15.8min\n",
      "[Parallel(n_jobs=-1)]: Done 322 tasks      | elapsed: 15.8min\n",
      "[Parallel(n_jobs=-1)]: Done 323 tasks      | elapsed: 15.8min\n",
      "[Parallel(n_jobs=-1)]: Done 324 tasks      | elapsed: 16.2min\n",
      "[Parallel(n_jobs=-1)]: Done 325 tasks      | elapsed: 16.3min\n",
      "[Parallel(n_jobs=-1)]: Done 326 tasks      | elapsed: 16.4min\n",
      "[Parallel(n_jobs=-1)]: Done 327 tasks      | elapsed: 16.4min\n",
      "[Parallel(n_jobs=-1)]: Done 328 tasks      | elapsed: 16.4min\n",
      "[Parallel(n_jobs=-1)]: Done 329 tasks      | elapsed: 16.4min\n",
      "[Parallel(n_jobs=-1)]: Done 330 tasks      | elapsed: 16.4min\n",
      "[Parallel(n_jobs=-1)]: Done 331 tasks      | elapsed: 16.4min\n",
      "[Parallel(n_jobs=-1)]: Done 332 tasks      | elapsed: 16.8min\n",
      "[Parallel(n_jobs=-1)]: Done 333 tasks      | elapsed: 16.9min\n",
      "[Parallel(n_jobs=-1)]: Done 334 tasks      | elapsed: 16.9min\n",
      "[Parallel(n_jobs=-1)]: Done 335 tasks      | elapsed: 16.9min\n",
      "[Parallel(n_jobs=-1)]: Done 336 tasks      | elapsed: 16.9min\n",
      "[Parallel(n_jobs=-1)]: Done 337 tasks      | elapsed: 16.9min\n",
      "[Parallel(n_jobs=-1)]: Done 338 tasks      | elapsed: 16.9min\n",
      "[Parallel(n_jobs=-1)]: Done 339 tasks      | elapsed: 17.0min\n",
      "[Parallel(n_jobs=-1)]: Done 340 tasks      | elapsed: 17.2min\n",
      "[Parallel(n_jobs=-1)]: Done 341 tasks      | elapsed: 17.2min\n",
      "[Parallel(n_jobs=-1)]: Done 342 tasks      | elapsed: 17.2min\n",
      "[Parallel(n_jobs=-1)]: Done 343 tasks      | elapsed: 17.2min\n",
      "[Parallel(n_jobs=-1)]: Done 344 tasks      | elapsed: 17.2min\n",
      "[Parallel(n_jobs=-1)]: Done 345 tasks      | elapsed: 17.2min\n",
      "[Parallel(n_jobs=-1)]: Done 346 tasks      | elapsed: 17.2min\n",
      "[Parallel(n_jobs=-1)]: Done 347 tasks      | elapsed: 17.2min\n",
      "[Parallel(n_jobs=-1)]: Done 348 tasks      | elapsed: 17.3min\n",
      "[Parallel(n_jobs=-1)]: Done 349 tasks      | elapsed: 17.4min\n",
      "[Parallel(n_jobs=-1)]: Done 350 tasks      | elapsed: 17.4min\n",
      "[Parallel(n_jobs=-1)]: Done 351 tasks      | elapsed: 17.4min\n",
      "[Parallel(n_jobs=-1)]: Done 352 tasks      | elapsed: 17.4min\n",
      "[Parallel(n_jobs=-1)]: Done 353 tasks      | elapsed: 17.5min\n",
      "[Parallel(n_jobs=-1)]: Done 354 tasks      | elapsed: 17.5min\n",
      "[Parallel(n_jobs=-1)]: Done 355 tasks      | elapsed: 17.5min\n",
      "[Parallel(n_jobs=-1)]: Done 356 tasks      | elapsed: 17.5min\n",
      "[Parallel(n_jobs=-1)]: Done 357 tasks      | elapsed: 17.7min\n",
      "[Parallel(n_jobs=-1)]: Done 358 tasks      | elapsed: 17.8min\n",
      "[Parallel(n_jobs=-1)]: Done 359 tasks      | elapsed: 17.8min\n",
      "[Parallel(n_jobs=-1)]: Done 360 tasks      | elapsed: 17.8min\n",
      "[Parallel(n_jobs=-1)]: Done 361 tasks      | elapsed: 18.1min\n",
      "[Parallel(n_jobs=-1)]: Done 362 tasks      | elapsed: 18.1min\n",
      "[Parallel(n_jobs=-1)]: Done 363 tasks      | elapsed: 18.2min\n",
      "[Parallel(n_jobs=-1)]: Done 364 tasks      | elapsed: 18.3min\n",
      "[Parallel(n_jobs=-1)]: Done 365 tasks      | elapsed: 18.3min\n",
      "[Parallel(n_jobs=-1)]: Done 366 tasks      | elapsed: 18.3min\n",
      "[Parallel(n_jobs=-1)]: Done 367 tasks      | elapsed: 18.3min\n",
      "[Parallel(n_jobs=-1)]: Done 368 tasks      | elapsed: 18.4min\n",
      "[Parallel(n_jobs=-1)]: Done 369 tasks      | elapsed: 18.5min\n",
      "[Parallel(n_jobs=-1)]: Done 370 tasks      | elapsed: 18.6min\n",
      "[Parallel(n_jobs=-1)]: Done 371 tasks      | elapsed: 18.8min\n",
      "[Parallel(n_jobs=-1)]: Done 372 tasks      | elapsed: 18.9min\n",
      "[Parallel(n_jobs=-1)]: Done 373 tasks      | elapsed: 18.9min\n",
      "[Parallel(n_jobs=-1)]: Done 374 tasks      | elapsed: 19.0min\n",
      "[Parallel(n_jobs=-1)]: Done 375 tasks      | elapsed: 19.0min\n",
      "[Parallel(n_jobs=-1)]: Done 376 tasks      | elapsed: 19.0min\n",
      "[Parallel(n_jobs=-1)]: Done 377 tasks      | elapsed: 19.0min\n",
      "[Parallel(n_jobs=-1)]: Done 378 tasks      | elapsed: 19.0min\n",
      "[Parallel(n_jobs=-1)]: Done 379 tasks      | elapsed: 19.1min\n",
      "[Parallel(n_jobs=-1)]: Done 380 tasks      | elapsed: 19.1min\n",
      "[Parallel(n_jobs=-1)]: Done 381 tasks      | elapsed: 19.1min\n",
      "[Parallel(n_jobs=-1)]: Done 382 tasks      | elapsed: 19.1min\n",
      "[Parallel(n_jobs=-1)]: Done 383 tasks      | elapsed: 19.2min\n",
      "[Parallel(n_jobs=-1)]: Done 384 tasks      | elapsed: 19.2min\n",
      "[Parallel(n_jobs=-1)]: Done 385 tasks      | elapsed: 19.2min\n",
      "[Parallel(n_jobs=-1)]: Done 386 tasks      | elapsed: 19.2min\n",
      "[Parallel(n_jobs=-1)]: Done 387 tasks      | elapsed: 19.3min\n",
      "[Parallel(n_jobs=-1)]: Done 388 tasks      | elapsed: 19.3min\n",
      "[Parallel(n_jobs=-1)]: Done 389 tasks      | elapsed: 19.3min\n",
      "[Parallel(n_jobs=-1)]: Done 390 tasks      | elapsed: 19.4min\n",
      "[Parallel(n_jobs=-1)]: Done 391 tasks      | elapsed: 19.4min\n",
      "[Parallel(n_jobs=-1)]: Done 392 tasks      | elapsed: 19.4min\n",
      "[Parallel(n_jobs=-1)]: Done 393 tasks      | elapsed: 19.4min\n",
      "[Parallel(n_jobs=-1)]: Done 394 tasks      | elapsed: 19.5min\n",
      "[Parallel(n_jobs=-1)]: Done 395 tasks      | elapsed: 19.5min\n",
      "[Parallel(n_jobs=-1)]: Done 396 tasks      | elapsed: 20.0min\n",
      "[Parallel(n_jobs=-1)]: Done 397 tasks      | elapsed: 20.1min\n",
      "[Parallel(n_jobs=-1)]: Done 398 tasks      | elapsed: 20.1min\n"
     ]
    },
    {
     "name": "stderr",
     "output_type": "stream",
     "text": [
      "[Parallel(n_jobs=-1)]: Done 399 tasks      | elapsed: 20.1min\n",
      "[Parallel(n_jobs=-1)]: Done 400 tasks      | elapsed: 20.1min\n",
      "[Parallel(n_jobs=-1)]: Done 401 tasks      | elapsed: 20.1min\n",
      "[Parallel(n_jobs=-1)]: Done 402 tasks      | elapsed: 20.1min\n",
      "[Parallel(n_jobs=-1)]: Done 403 tasks      | elapsed: 20.1min\n",
      "[Parallel(n_jobs=-1)]: Done 404 tasks      | elapsed: 20.2min\n",
      "[Parallel(n_jobs=-1)]: Done 405 tasks      | elapsed: 20.3min\n",
      "[Parallel(n_jobs=-1)]: Done 406 tasks      | elapsed: 20.3min\n",
      "[Parallel(n_jobs=-1)]: Done 407 tasks      | elapsed: 20.3min\n",
      "[Parallel(n_jobs=-1)]: Done 408 tasks      | elapsed: 20.3min\n",
      "[Parallel(n_jobs=-1)]: Done 409 tasks      | elapsed: 20.3min\n",
      "[Parallel(n_jobs=-1)]: Done 410 tasks      | elapsed: 20.3min\n",
      "[Parallel(n_jobs=-1)]: Done 411 tasks      | elapsed: 20.3min\n",
      "[Parallel(n_jobs=-1)]: Done 412 tasks      | elapsed: 20.4min\n",
      "[Parallel(n_jobs=-1)]: Done 413 tasks      | elapsed: 20.5min\n",
      "[Parallel(n_jobs=-1)]: Done 414 tasks      | elapsed: 20.5min\n",
      "[Parallel(n_jobs=-1)]: Done 415 tasks      | elapsed: 20.5min\n",
      "[Parallel(n_jobs=-1)]: Done 416 tasks      | elapsed: 20.5min\n",
      "[Parallel(n_jobs=-1)]: Done 417 tasks      | elapsed: 20.5min\n",
      "[Parallel(n_jobs=-1)]: Done 418 tasks      | elapsed: 20.5min\n",
      "[Parallel(n_jobs=-1)]: Done 419 tasks      | elapsed: 20.5min\n",
      "[Parallel(n_jobs=-1)]: Done 420 tasks      | elapsed: 20.6min\n",
      "[Parallel(n_jobs=-1)]: Done 421 tasks      | elapsed: 20.9min\n",
      "[Parallel(n_jobs=-1)]: Done 422 tasks      | elapsed: 20.9min\n",
      "[Parallel(n_jobs=-1)]: Done 423 tasks      | elapsed: 20.9min\n",
      "[Parallel(n_jobs=-1)]: Done 424 tasks      | elapsed: 20.9min\n",
      "[Parallel(n_jobs=-1)]: Done 425 tasks      | elapsed: 20.9min\n",
      "[Parallel(n_jobs=-1)]: Done 426 tasks      | elapsed: 21.0min\n",
      "[Parallel(n_jobs=-1)]: Done 427 tasks      | elapsed: 21.0min\n",
      "[Parallel(n_jobs=-1)]: Done 428 tasks      | elapsed: 21.1min\n",
      "[Parallel(n_jobs=-1)]: Done 429 tasks      | elapsed: 21.2min\n",
      "[Parallel(n_jobs=-1)]: Done 430 tasks      | elapsed: 21.2min\n",
      "[Parallel(n_jobs=-1)]: Done 431 tasks      | elapsed: 21.2min\n",
      "[Parallel(n_jobs=-1)]: Done 432 tasks      | elapsed: 21.2min\n",
      "[Parallel(n_jobs=-1)]: Done 433 tasks      | elapsed: 21.3min\n",
      "[Parallel(n_jobs=-1)]: Done 434 tasks      | elapsed: 21.3min\n",
      "[Parallel(n_jobs=-1)]: Done 435 tasks      | elapsed: 21.3min\n",
      "[Parallel(n_jobs=-1)]: Done 436 tasks      | elapsed: 21.3min\n",
      "[Parallel(n_jobs=-1)]: Done 437 tasks      | elapsed: 21.3min\n",
      "[Parallel(n_jobs=-1)]: Done 438 tasks      | elapsed: 21.4min\n",
      "[Parallel(n_jobs=-1)]: Done 439 tasks      | elapsed: 21.4min\n",
      "[Parallel(n_jobs=-1)]: Done 440 tasks      | elapsed: 21.4min\n",
      "[Parallel(n_jobs=-1)]: Done 441 tasks      | elapsed: 21.4min\n",
      "[Parallel(n_jobs=-1)]: Done 442 tasks      | elapsed: 21.4min\n",
      "[Parallel(n_jobs=-1)]: Done 443 tasks      | elapsed: 21.4min\n",
      "[Parallel(n_jobs=-1)]: Done 444 tasks      | elapsed: 21.5min\n",
      "[Parallel(n_jobs=-1)]: Done 445 tasks      | elapsed: 21.5min\n",
      "[Parallel(n_jobs=-1)]: Done 446 tasks      | elapsed: 21.6min\n",
      "[Parallel(n_jobs=-1)]: Done 447 tasks      | elapsed: 21.7min\n",
      "[Parallel(n_jobs=-1)]: Done 448 tasks      | elapsed: 21.7min\n",
      "[Parallel(n_jobs=-1)]: Done 449 tasks      | elapsed: 21.7min\n",
      "[Parallel(n_jobs=-1)]: Done 450 tasks      | elapsed: 21.8min\n",
      "[Parallel(n_jobs=-1)]: Done 451 tasks      | elapsed: 21.9min\n",
      "[Parallel(n_jobs=-1)]: Done 452 tasks      | elapsed: 21.9min\n",
      "[Parallel(n_jobs=-1)]: Done 453 tasks      | elapsed: 22.1min\n",
      "[Parallel(n_jobs=-1)]: Done 454 tasks      | elapsed: 22.3min\n",
      "[Parallel(n_jobs=-1)]: Done 455 tasks      | elapsed: 22.3min\n",
      "[Parallel(n_jobs=-1)]: Done 456 tasks      | elapsed: 22.5min\n",
      "[Parallel(n_jobs=-1)]: Done 457 tasks      | elapsed: 22.5min\n",
      "[Parallel(n_jobs=-1)]: Done 458 tasks      | elapsed: 22.6min\n",
      "[Parallel(n_jobs=-1)]: Done 459 tasks      | elapsed: 22.6min\n",
      "[Parallel(n_jobs=-1)]: Done 460 tasks      | elapsed: 22.6min\n",
      "[Parallel(n_jobs=-1)]: Done 461 tasks      | elapsed: 22.6min\n",
      "[Parallel(n_jobs=-1)]: Done 462 tasks      | elapsed: 22.6min\n",
      "[Parallel(n_jobs=-1)]: Done 463 tasks      | elapsed: 22.7min\n",
      "[Parallel(n_jobs=-1)]: Done 464 tasks      | elapsed: 22.7min\n",
      "[Parallel(n_jobs=-1)]: Done 465 tasks      | elapsed: 22.7min\n",
      "[Parallel(n_jobs=-1)]: Done 466 tasks      | elapsed: 22.7min\n",
      "[Parallel(n_jobs=-1)]: Done 467 tasks      | elapsed: 22.8min\n",
      "[Parallel(n_jobs=-1)]: Done 468 tasks      | elapsed: 22.8min\n",
      "[Parallel(n_jobs=-1)]: Done 469 tasks      | elapsed: 22.8min\n",
      "[Parallel(n_jobs=-1)]: Done 470 tasks      | elapsed: 22.8min\n",
      "[Parallel(n_jobs=-1)]: Done 471 tasks      | elapsed: 22.8min\n",
      "[Parallel(n_jobs=-1)]: Done 472 tasks      | elapsed: 22.9min\n",
      "[Parallel(n_jobs=-1)]: Done 473 tasks      | elapsed: 23.0min\n",
      "[Parallel(n_jobs=-1)]: Done 474 tasks      | elapsed: 23.1min\n",
      "[Parallel(n_jobs=-1)]: Done 475 tasks      | elapsed: 23.1min\n",
      "[Parallel(n_jobs=-1)]: Done 476 tasks      | elapsed: 23.2min\n",
      "[Parallel(n_jobs=-1)]: Done 477 tasks      | elapsed: 23.3min\n",
      "[Parallel(n_jobs=-1)]: Done 478 tasks      | elapsed: 23.3min\n",
      "[Parallel(n_jobs=-1)]: Done 479 tasks      | elapsed: 23.3min\n",
      "[Parallel(n_jobs=-1)]: Done 480 tasks      | elapsed: 23.5min\n",
      "[Parallel(n_jobs=-1)]: Done 481 tasks      | elapsed: 23.7min\n",
      "[Parallel(n_jobs=-1)]: Done 482 tasks      | elapsed: 23.7min\n",
      "[Parallel(n_jobs=-1)]: Done 483 tasks      | elapsed: 23.7min\n",
      "[Parallel(n_jobs=-1)]: Done 484 tasks      | elapsed: 23.7min\n",
      "[Parallel(n_jobs=-1)]: Done 485 tasks      | elapsed: 23.8min\n",
      "[Parallel(n_jobs=-1)]: Done 486 tasks      | elapsed: 23.8min\n",
      "[Parallel(n_jobs=-1)]: Done 487 tasks      | elapsed: 23.8min\n",
      "[Parallel(n_jobs=-1)]: Done 488 tasks      | elapsed: 23.8min\n",
      "[Parallel(n_jobs=-1)]: Done 489 tasks      | elapsed: 23.9min\n",
      "[Parallel(n_jobs=-1)]: Done 490 tasks      | elapsed: 23.9min\n",
      "[Parallel(n_jobs=-1)]: Done 491 tasks      | elapsed: 24.0min\n",
      "[Parallel(n_jobs=-1)]: Done 492 tasks      | elapsed: 24.0min\n",
      "[Parallel(n_jobs=-1)]: Done 493 tasks      | elapsed: 24.0min\n",
      "[Parallel(n_jobs=-1)]: Done 494 tasks      | elapsed: 24.0min\n",
      "[Parallel(n_jobs=-1)]: Done 495 tasks      | elapsed: 24.1min\n",
      "[Parallel(n_jobs=-1)]: Done 496 tasks      | elapsed: 24.1min\n",
      "[Parallel(n_jobs=-1)]: Done 497 tasks      | elapsed: 24.1min\n",
      "[Parallel(n_jobs=-1)]: Done 498 tasks      | elapsed: 24.1min\n",
      "[Parallel(n_jobs=-1)]: Done 499 tasks      | elapsed: 24.2min\n",
      "[Parallel(n_jobs=-1)]: Done 500 tasks      | elapsed: 24.2min\n",
      "[Parallel(n_jobs=-1)]: Done 501 tasks      | elapsed: 24.2min\n",
      "[Parallel(n_jobs=-1)]: Done 502 tasks      | elapsed: 24.2min\n",
      "[Parallel(n_jobs=-1)]: Done 503 tasks      | elapsed: 24.3min\n",
      "[Parallel(n_jobs=-1)]: Done 504 tasks      | elapsed: 24.3min\n",
      "[Parallel(n_jobs=-1)]: Done 505 tasks      | elapsed: 24.3min\n",
      "[Parallel(n_jobs=-1)]: Done 506 tasks      | elapsed: 24.3min\n",
      "[Parallel(n_jobs=-1)]: Done 507 tasks      | elapsed: 24.4min\n",
      "[Parallel(n_jobs=-1)]: Done 508 tasks      | elapsed: 24.4min\n",
      "[Parallel(n_jobs=-1)]: Done 509 tasks      | elapsed: 24.4min\n",
      "[Parallel(n_jobs=-1)]: Done 510 tasks      | elapsed: 24.4min\n",
      "[Parallel(n_jobs=-1)]: Done 511 tasks      | elapsed: 24.8min\n",
      "[Parallel(n_jobs=-1)]: Done 512 tasks      | elapsed: 24.9min\n",
      "[Parallel(n_jobs=-1)]: Done 513 tasks      | elapsed: 24.9min\n",
      "[Parallel(n_jobs=-1)]: Done 514 tasks      | elapsed: 24.9min\n",
      "[Parallel(n_jobs=-1)]: Done 515 tasks      | elapsed: 24.9min\n",
      "[Parallel(n_jobs=-1)]: Done 516 tasks      | elapsed: 24.9min\n",
      "[Parallel(n_jobs=-1)]: Done 517 tasks      | elapsed: 25.0min\n",
      "[Parallel(n_jobs=-1)]: Done 518 tasks      | elapsed: 25.0min\n",
      "[Parallel(n_jobs=-1)]: Done 519 tasks      | elapsed: 25.1min\n",
      "[Parallel(n_jobs=-1)]: Done 520 tasks      | elapsed: 25.1min\n",
      "[Parallel(n_jobs=-1)]: Done 521 tasks      | elapsed: 25.3min\n",
      "[Parallel(n_jobs=-1)]: Done 522 tasks      | elapsed: 25.3min\n",
      "[Parallel(n_jobs=-1)]: Done 523 tasks      | elapsed: 25.3min\n",
      "[Parallel(n_jobs=-1)]: Done 524 tasks      | elapsed: 25.3min\n",
      "[Parallel(n_jobs=-1)]: Done 525 tasks      | elapsed: 25.3min\n",
      "[Parallel(n_jobs=-1)]: Done 526 tasks      | elapsed: 25.3min\n",
      "[Parallel(n_jobs=-1)]: Done 527 tasks      | elapsed: 25.4min\n",
      "[Parallel(n_jobs=-1)]: Done 528 tasks      | elapsed: 25.4min\n",
      "[Parallel(n_jobs=-1)]: Done 529 tasks      | elapsed: 25.4min\n",
      "[Parallel(n_jobs=-1)]: Done 530 tasks      | elapsed: 25.4min\n",
      "[Parallel(n_jobs=-1)]: Done 531 tasks      | elapsed: 25.4min\n"
     ]
    },
    {
     "name": "stderr",
     "output_type": "stream",
     "text": [
      "[Parallel(n_jobs=-1)]: Done 532 tasks      | elapsed: 25.4min\n",
      "[Parallel(n_jobs=-1)]: Done 533 tasks      | elapsed: 25.4min\n",
      "[Parallel(n_jobs=-1)]: Done 534 tasks      | elapsed: 25.4min\n",
      "[Parallel(n_jobs=-1)]: Done 535 tasks      | elapsed: 25.5min\n",
      "[Parallel(n_jobs=-1)]: Done 536 tasks      | elapsed: 25.5min\n",
      "[Parallel(n_jobs=-1)]: Done 537 tasks      | elapsed: 25.7min\n",
      "[Parallel(n_jobs=-1)]: Done 538 tasks      | elapsed: 25.7min\n",
      "[Parallel(n_jobs=-1)]: Done 539 tasks      | elapsed: 25.7min\n",
      "[Parallel(n_jobs=-1)]: Done 540 tasks      | elapsed: 25.7min\n",
      "[Parallel(n_jobs=-1)]: Done 541 tasks      | elapsed: 25.8min\n",
      "[Parallel(n_jobs=-1)]: Done 542 tasks      | elapsed: 25.8min\n",
      "[Parallel(n_jobs=-1)]: Done 543 tasks      | elapsed: 25.8min\n",
      "[Parallel(n_jobs=-1)]: Done 544 tasks      | elapsed: 25.9min\n",
      "[Parallel(n_jobs=-1)]: Done 545 tasks      | elapsed: 25.9min\n",
      "[Parallel(n_jobs=-1)]: Done 546 tasks      | elapsed: 25.9min\n",
      "[Parallel(n_jobs=-1)]: Done 547 tasks      | elapsed: 25.9min\n",
      "[Parallel(n_jobs=-1)]: Done 548 tasks      | elapsed: 25.9min\n",
      "[Parallel(n_jobs=-1)]: Done 549 tasks      | elapsed: 25.9min\n",
      "[Parallel(n_jobs=-1)]: Done 550 tasks      | elapsed: 25.9min\n",
      "[Parallel(n_jobs=-1)]: Done 551 tasks      | elapsed: 26.0min\n",
      "[Parallel(n_jobs=-1)]: Done 552 tasks      | elapsed: 26.1min\n",
      "[Parallel(n_jobs=-1)]: Done 553 tasks      | elapsed: 26.1min\n",
      "[Parallel(n_jobs=-1)]: Done 554 tasks      | elapsed: 26.2min\n",
      "[Parallel(n_jobs=-1)]: Done 555 tasks      | elapsed: 26.2min\n",
      "[Parallel(n_jobs=-1)]: Done 556 tasks      | elapsed: 26.3min\n",
      "[Parallel(n_jobs=-1)]: Done 557 tasks      | elapsed: 26.3min\n",
      "[Parallel(n_jobs=-1)]: Done 558 tasks      | elapsed: 26.3min\n",
      "[Parallel(n_jobs=-1)]: Done 559 tasks      | elapsed: 26.4min\n",
      "[Parallel(n_jobs=-1)]: Done 560 tasks      | elapsed: 26.5min\n",
      "[Parallel(n_jobs=-1)]: Done 561 tasks      | elapsed: 26.6min\n",
      "[Parallel(n_jobs=-1)]: Done 562 tasks      | elapsed: 26.7min\n",
      "[Parallel(n_jobs=-1)]: Done 563 tasks      | elapsed: 26.7min\n",
      "[Parallel(n_jobs=-1)]: Done 564 tasks      | elapsed: 26.8min\n",
      "[Parallel(n_jobs=-1)]: Done 565 tasks      | elapsed: 26.8min\n",
      "[Parallel(n_jobs=-1)]: Done 566 tasks      | elapsed: 26.9min\n",
      "[Parallel(n_jobs=-1)]: Done 567 tasks      | elapsed: 27.1min\n",
      "[Parallel(n_jobs=-1)]: Done 568 tasks      | elapsed: 27.1min\n",
      "[Parallel(n_jobs=-1)]: Done 569 tasks      | elapsed: 27.2min\n",
      "[Parallel(n_jobs=-1)]: Done 570 tasks      | elapsed: 27.2min\n",
      "[Parallel(n_jobs=-1)]: Done 571 tasks      | elapsed: 27.2min\n",
      "[Parallel(n_jobs=-1)]: Done 572 tasks      | elapsed: 27.2min\n",
      "[Parallel(n_jobs=-1)]: Done 573 tasks      | elapsed: 27.2min\n",
      "[Parallel(n_jobs=-1)]: Done 574 tasks      | elapsed: 27.2min\n",
      "[Parallel(n_jobs=-1)]: Done 575 tasks      | elapsed: 27.3min\n",
      "[Parallel(n_jobs=-1)]: Done 576 tasks      | elapsed: 27.6min\n",
      "[Parallel(n_jobs=-1)]: Done 577 tasks      | elapsed: 27.7min\n",
      "[Parallel(n_jobs=-1)]: Done 578 tasks      | elapsed: 27.8min\n",
      "[Parallel(n_jobs=-1)]: Done 579 tasks      | elapsed: 27.8min\n",
      "[Parallel(n_jobs=-1)]: Done 580 tasks      | elapsed: 27.8min\n",
      "[Parallel(n_jobs=-1)]: Done 581 tasks      | elapsed: 27.8min\n",
      "[Parallel(n_jobs=-1)]: Done 582 tasks      | elapsed: 27.8min\n",
      "[Parallel(n_jobs=-1)]: Done 583 tasks      | elapsed: 27.8min\n",
      "[Parallel(n_jobs=-1)]: Done 584 tasks      | elapsed: 27.9min\n",
      "[Parallel(n_jobs=-1)]: Done 585 tasks      | elapsed: 28.0min\n",
      "[Parallel(n_jobs=-1)]: Done 586 tasks      | elapsed: 28.1min\n",
      "[Parallel(n_jobs=-1)]: Done 587 tasks      | elapsed: 28.1min\n",
      "[Parallel(n_jobs=-1)]: Done 588 tasks      | elapsed: 28.1min\n",
      "[Parallel(n_jobs=-1)]: Done 589 tasks      | elapsed: 28.1min\n",
      "[Parallel(n_jobs=-1)]: Done 590 tasks      | elapsed: 28.1min\n",
      "[Parallel(n_jobs=-1)]: Done 591 tasks      | elapsed: 28.2min\n",
      "[Parallel(n_jobs=-1)]: Done 592 tasks      | elapsed: 28.2min\n",
      "[Parallel(n_jobs=-1)]: Done 593 tasks      | elapsed: 28.3min\n",
      "[Parallel(n_jobs=-1)]: Done 594 tasks      | elapsed: 28.4min\n",
      "[Parallel(n_jobs=-1)]: Done 595 tasks      | elapsed: 28.5min\n",
      "[Parallel(n_jobs=-1)]: Done 596 tasks      | elapsed: 28.5min\n",
      "[Parallel(n_jobs=-1)]: Done 597 tasks      | elapsed: 28.5min\n",
      "[Parallel(n_jobs=-1)]: Done 598 tasks      | elapsed: 28.5min\n",
      "[Parallel(n_jobs=-1)]: Done 599 tasks      | elapsed: 28.5min\n",
      "[Parallel(n_jobs=-1)]: Done 600 tasks      | elapsed: 28.6min\n",
      "[Parallel(n_jobs=-1)]: Done 601 tasks      | elapsed: 28.7min\n",
      "[Parallel(n_jobs=-1)]: Done 602 tasks      | elapsed: 28.8min\n",
      "[Parallel(n_jobs=-1)]: Done 603 tasks      | elapsed: 28.9min\n",
      "[Parallel(n_jobs=-1)]: Done 604 tasks      | elapsed: 28.9min\n",
      "[Parallel(n_jobs=-1)]: Done 605 tasks      | elapsed: 29.0min\n",
      "[Parallel(n_jobs=-1)]: Done 606 tasks      | elapsed: 29.1min\n",
      "[Parallel(n_jobs=-1)]: Done 607 tasks      | elapsed: 29.1min\n",
      "[Parallel(n_jobs=-1)]: Done 608 tasks      | elapsed: 29.2min\n",
      "[Parallel(n_jobs=-1)]: Done 609 tasks      | elapsed: 29.2min\n",
      "[Parallel(n_jobs=-1)]: Done 610 tasks      | elapsed: 29.3min\n",
      "[Parallel(n_jobs=-1)]: Done 611 tasks      | elapsed: 29.3min\n",
      "[Parallel(n_jobs=-1)]: Done 612 tasks      | elapsed: 29.3min\n",
      "[Parallel(n_jobs=-1)]: Done 613 tasks      | elapsed: 29.3min\n",
      "[Parallel(n_jobs=-1)]: Done 614 tasks      | elapsed: 29.3min\n",
      "[Parallel(n_jobs=-1)]: Done 615 tasks      | elapsed: 29.3min\n",
      "[Parallel(n_jobs=-1)]: Done 616 tasks      | elapsed: 29.4min\n",
      "[Parallel(n_jobs=-1)]: Done 617 tasks      | elapsed: 29.4min\n",
      "[Parallel(n_jobs=-1)]: Done 618 tasks      | elapsed: 29.4min\n",
      "[Parallel(n_jobs=-1)]: Done 619 tasks      | elapsed: 29.4min\n",
      "[Parallel(n_jobs=-1)]: Done 620 tasks      | elapsed: 29.4min\n",
      "[Parallel(n_jobs=-1)]: Done 621 tasks      | elapsed: 29.5min\n",
      "[Parallel(n_jobs=-1)]: Done 622 tasks      | elapsed: 29.5min\n",
      "[Parallel(n_jobs=-1)]: Done 623 tasks      | elapsed: 29.5min\n",
      "[Parallel(n_jobs=-1)]: Done 624 tasks      | elapsed: 29.6min\n",
      "[Parallel(n_jobs=-1)]: Done 625 tasks      | elapsed: 29.6min\n",
      "[Parallel(n_jobs=-1)]: Done 626 tasks      | elapsed: 29.8min\n",
      "[Parallel(n_jobs=-1)]: Done 627 tasks      | elapsed: 29.8min\n",
      "[Parallel(n_jobs=-1)]: Done 628 tasks      | elapsed: 29.8min\n",
      "[Parallel(n_jobs=-1)]: Done 629 tasks      | elapsed: 29.8min\n",
      "[Parallel(n_jobs=-1)]: Done 630 tasks      | elapsed: 29.8min\n",
      "[Parallel(n_jobs=-1)]: Done 631 tasks      | elapsed: 29.8min\n",
      "[Parallel(n_jobs=-1)]: Done 632 tasks      | elapsed: 29.9min\n",
      "[Parallel(n_jobs=-1)]: Done 633 tasks      | elapsed: 29.9min\n",
      "[Parallel(n_jobs=-1)]: Done 634 tasks      | elapsed: 30.0min\n",
      "[Parallel(n_jobs=-1)]: Done 635 tasks      | elapsed: 30.1min\n",
      "[Parallel(n_jobs=-1)]: Done 636 tasks      | elapsed: 30.5min\n",
      "[Parallel(n_jobs=-1)]: Done 637 tasks      | elapsed: 30.5min\n",
      "[Parallel(n_jobs=-1)]: Done 638 tasks      | elapsed: 30.5min\n",
      "[Parallel(n_jobs=-1)]: Done 639 tasks      | elapsed: 30.5min\n",
      "[Parallel(n_jobs=-1)]: Done 640 tasks      | elapsed: 30.6min\n",
      "[Parallel(n_jobs=-1)]: Done 641 tasks      | elapsed: 30.6min\n",
      "[Parallel(n_jobs=-1)]: Done 642 tasks      | elapsed: 30.7min\n",
      "[Parallel(n_jobs=-1)]: Done 643 tasks      | elapsed: 30.7min\n",
      "[Parallel(n_jobs=-1)]: Done 644 tasks      | elapsed: 30.9min\n",
      "[Parallel(n_jobs=-1)]: Done 645 tasks      | elapsed: 30.9min\n",
      "[Parallel(n_jobs=-1)]: Done 646 tasks      | elapsed: 30.9min\n",
      "[Parallel(n_jobs=-1)]: Done 647 tasks      | elapsed: 30.9min\n",
      "[Parallel(n_jobs=-1)]: Done 648 tasks      | elapsed: 31.0min\n",
      "[Parallel(n_jobs=-1)]: Done 649 tasks      | elapsed: 31.0min\n",
      "[Parallel(n_jobs=-1)]: Done 650 tasks      | elapsed: 31.0min\n",
      "[Parallel(n_jobs=-1)]: Done 651 tasks      | elapsed: 31.1min\n",
      "[Parallel(n_jobs=-1)]: Done 652 tasks      | elapsed: 31.3min\n",
      "[Parallel(n_jobs=-1)]: Done 653 tasks      | elapsed: 31.3min\n",
      "[Parallel(n_jobs=-1)]: Done 654 tasks      | elapsed: 31.3min\n",
      "[Parallel(n_jobs=-1)]: Done 655 tasks      | elapsed: 31.4min\n",
      "[Parallel(n_jobs=-1)]: Done 656 tasks      | elapsed: 31.6min\n",
      "[Parallel(n_jobs=-1)]: Done 657 tasks      | elapsed: 31.6min\n",
      "[Parallel(n_jobs=-1)]: Done 658 tasks      | elapsed: 31.7min\n",
      "[Parallel(n_jobs=-1)]: Done 659 tasks      | elapsed: 31.7min\n",
      "[Parallel(n_jobs=-1)]: Done 660 tasks      | elapsed: 31.7min\n",
      "[Parallel(n_jobs=-1)]: Done 661 tasks      | elapsed: 31.7min\n",
      "[Parallel(n_jobs=-1)]: Done 662 tasks      | elapsed: 31.8min\n",
      "[Parallel(n_jobs=-1)]: Done 663 tasks      | elapsed: 31.8min\n",
      "[Parallel(n_jobs=-1)]: Done 664 tasks      | elapsed: 31.8min\n"
     ]
    },
    {
     "name": "stderr",
     "output_type": "stream",
     "text": [
      "[Parallel(n_jobs=-1)]: Done 665 tasks      | elapsed: 31.9min\n",
      "[Parallel(n_jobs=-1)]: Done 666 tasks      | elapsed: 32.3min\n",
      "[Parallel(n_jobs=-1)]: Done 667 tasks      | elapsed: 32.4min\n",
      "[Parallel(n_jobs=-1)]: Done 668 tasks      | elapsed: 32.4min\n",
      "[Parallel(n_jobs=-1)]: Done 669 tasks      | elapsed: 32.5min\n",
      "[Parallel(n_jobs=-1)]: Done 670 tasks      | elapsed: 32.5min\n",
      "[Parallel(n_jobs=-1)]: Done 671 tasks      | elapsed: 32.5min\n",
      "[Parallel(n_jobs=-1)]: Done 672 tasks      | elapsed: 32.5min\n",
      "[Parallel(n_jobs=-1)]: Done 673 tasks      | elapsed: 32.6min\n",
      "[Parallel(n_jobs=-1)]: Done 674 tasks      | elapsed: 32.8min\n",
      "[Parallel(n_jobs=-1)]: Done 675 tasks      | elapsed: 32.9min\n",
      "[Parallel(n_jobs=-1)]: Done 676 tasks      | elapsed: 32.9min\n",
      "[Parallel(n_jobs=-1)]: Done 677 tasks      | elapsed: 32.9min\n",
      "[Parallel(n_jobs=-1)]: Done 678 tasks      | elapsed: 32.9min\n",
      "[Parallel(n_jobs=-1)]: Done 679 tasks      | elapsed: 32.9min\n",
      "[Parallel(n_jobs=-1)]: Done 680 tasks      | elapsed: 32.9min\n",
      "[Parallel(n_jobs=-1)]: Done 681 tasks      | elapsed: 33.0min\n",
      "[Parallel(n_jobs=-1)]: Done 682 tasks      | elapsed: 33.3min\n",
      "[Parallel(n_jobs=-1)]: Done 683 tasks      | elapsed: 33.3min\n",
      "[Parallel(n_jobs=-1)]: Done 684 tasks      | elapsed: 33.4min\n",
      "[Parallel(n_jobs=-1)]: Done 685 tasks      | elapsed: 33.4min\n",
      "[Parallel(n_jobs=-1)]: Done 686 tasks      | elapsed: 33.4min\n",
      "[Parallel(n_jobs=-1)]: Done 687 tasks      | elapsed: 33.4min\n",
      "[Parallel(n_jobs=-1)]: Done 688 tasks      | elapsed: 33.4min\n",
      "[Parallel(n_jobs=-1)]: Done 689 tasks      | elapsed: 33.4min\n",
      "[Parallel(n_jobs=-1)]: Done 690 tasks      | elapsed: 33.5min\n",
      "[Parallel(n_jobs=-1)]: Done 691 tasks      | elapsed: 33.5min\n",
      "[Parallel(n_jobs=-1)]: Done 692 tasks      | elapsed: 33.6min\n",
      "[Parallel(n_jobs=-1)]: Done 693 tasks      | elapsed: 33.6min\n",
      "[Parallel(n_jobs=-1)]: Done 694 tasks      | elapsed: 33.6min\n",
      "[Parallel(n_jobs=-1)]: Done 695 tasks      | elapsed: 33.6min\n",
      "[Parallel(n_jobs=-1)]: Done 696 tasks      | elapsed: 33.6min\n",
      "[Parallel(n_jobs=-1)]: Done 697 tasks      | elapsed: 33.6min\n",
      "[Parallel(n_jobs=-1)]: Done 698 tasks      | elapsed: 33.7min\n",
      "[Parallel(n_jobs=-1)]: Done 699 tasks      | elapsed: 33.7min\n",
      "[Parallel(n_jobs=-1)]: Done 700 tasks      | elapsed: 33.8min\n",
      "[Parallel(n_jobs=-1)]: Done 701 tasks      | elapsed: 34.1min\n",
      "[Parallel(n_jobs=-1)]: Done 702 tasks      | elapsed: 34.1min\n",
      "[Parallel(n_jobs=-1)]: Done 703 tasks      | elapsed: 34.1min\n",
      "[Parallel(n_jobs=-1)]: Done 704 tasks      | elapsed: 34.1min\n",
      "[Parallel(n_jobs=-1)]: Done 705 tasks      | elapsed: 34.2min\n",
      "[Parallel(n_jobs=-1)]: Done 706 tasks      | elapsed: 34.2min\n",
      "[Parallel(n_jobs=-1)]: Done 707 tasks      | elapsed: 34.2min\n",
      "[Parallel(n_jobs=-1)]: Done 708 tasks      | elapsed: 34.2min\n",
      "[Parallel(n_jobs=-1)]: Done 709 tasks      | elapsed: 34.4min\n",
      "[Parallel(n_jobs=-1)]: Done 710 tasks      | elapsed: 34.4min\n",
      "[Parallel(n_jobs=-1)]: Done 711 tasks      | elapsed: 34.4min\n",
      "[Parallel(n_jobs=-1)]: Done 712 tasks      | elapsed: 34.4min\n",
      "[Parallel(n_jobs=-1)]: Done 713 tasks      | elapsed: 34.4min\n",
      "[Parallel(n_jobs=-1)]: Done 714 tasks      | elapsed: 34.4min\n",
      "[Parallel(n_jobs=-1)]: Done 715 tasks      | elapsed: 34.4min\n",
      "[Parallel(n_jobs=-1)]: Done 716 tasks      | elapsed: 34.4min\n",
      "[Parallel(n_jobs=-1)]: Done 717 tasks      | elapsed: 34.6min\n",
      "[Parallel(n_jobs=-1)]: Done 718 tasks      | elapsed: 34.6min\n",
      "[Parallel(n_jobs=-1)]: Done 719 tasks      | elapsed: 34.6min\n",
      "[Parallel(n_jobs=-1)]: Done 720 tasks      | elapsed: 34.6min\n",
      "[Parallel(n_jobs=-1)]: Done 721 tasks      | elapsed: 34.6min\n",
      "[Parallel(n_jobs=-1)]: Done 722 tasks      | elapsed: 34.6min\n",
      "[Parallel(n_jobs=-1)]: Done 723 tasks      | elapsed: 34.6min\n",
      "[Parallel(n_jobs=-1)]: Done 724 tasks      | elapsed: 34.6min\n",
      "[Parallel(n_jobs=-1)]: Done 725 tasks      | elapsed: 34.7min\n",
      "[Parallel(n_jobs=-1)]: Done 726 tasks      | elapsed: 34.8min\n",
      "[Parallel(n_jobs=-1)]: Done 727 tasks      | elapsed: 34.8min\n",
      "[Parallel(n_jobs=-1)]: Done 728 tasks      | elapsed: 34.8min\n",
      "[Parallel(n_jobs=-1)]: Done 729 tasks      | elapsed: 34.8min\n",
      "[Parallel(n_jobs=-1)]: Done 730 tasks      | elapsed: 34.8min\n",
      "[Parallel(n_jobs=-1)]: Done 731 tasks      | elapsed: 34.8min\n",
      "[Parallel(n_jobs=-1)]: Done 732 tasks      | elapsed: 34.8min\n",
      "[Parallel(n_jobs=-1)]: Done 733 tasks      | elapsed: 35.0min\n",
      "[Parallel(n_jobs=-1)]: Done 734 tasks      | elapsed: 35.1min\n",
      "[Parallel(n_jobs=-1)]: Done 735 tasks      | elapsed: 35.1min\n",
      "[Parallel(n_jobs=-1)]: Done 736 tasks      | elapsed: 35.2min\n",
      "[Parallel(n_jobs=-1)]: Done 737 tasks      | elapsed: 35.2min\n",
      "[Parallel(n_jobs=-1)]: Done 738 tasks      | elapsed: 35.2min\n",
      "[Parallel(n_jobs=-1)]: Done 739 tasks      | elapsed: 35.2min\n",
      "[Parallel(n_jobs=-1)]: Done 740 tasks      | elapsed: 35.2min\n",
      "[Parallel(n_jobs=-1)]: Done 741 tasks      | elapsed: 35.7min\n",
      "[Parallel(n_jobs=-1)]: Done 742 tasks      | elapsed: 35.7min\n",
      "[Parallel(n_jobs=-1)]: Done 743 tasks      | elapsed: 35.7min\n",
      "[Parallel(n_jobs=-1)]: Done 744 tasks      | elapsed: 35.7min\n",
      "[Parallel(n_jobs=-1)]: Done 745 tasks      | elapsed: 35.7min\n",
      "[Parallel(n_jobs=-1)]: Done 746 tasks      | elapsed: 35.7min\n",
      "[Parallel(n_jobs=-1)]: Done 747 tasks      | elapsed: 35.7min\n",
      "[Parallel(n_jobs=-1)]: Done 748 tasks      | elapsed: 35.8min\n",
      "[Parallel(n_jobs=-1)]: Done 749 tasks      | elapsed: 35.9min\n",
      "[Parallel(n_jobs=-1)]: Done 750 tasks      | elapsed: 35.9min\n",
      "[Parallel(n_jobs=-1)]: Done 751 tasks      | elapsed: 35.9min\n",
      "[Parallel(n_jobs=-1)]: Done 752 tasks      | elapsed: 35.9min\n",
      "[Parallel(n_jobs=-1)]: Done 753 tasks      | elapsed: 35.9min\n",
      "[Parallel(n_jobs=-1)]: Done 754 tasks      | elapsed: 35.9min\n",
      "[Parallel(n_jobs=-1)]: Done 755 tasks      | elapsed: 35.9min\n",
      "[Parallel(n_jobs=-1)]: Done 756 tasks      | elapsed: 35.9min\n",
      "[Parallel(n_jobs=-1)]: Done 757 tasks      | elapsed: 36.1min\n",
      "[Parallel(n_jobs=-1)]: Done 758 tasks      | elapsed: 36.1min\n",
      "[Parallel(n_jobs=-1)]: Done 759 tasks      | elapsed: 36.1min\n",
      "[Parallel(n_jobs=-1)]: Done 760 tasks      | elapsed: 36.1min\n",
      "[Parallel(n_jobs=-1)]: Done 761 tasks      | elapsed: 36.1min\n",
      "[Parallel(n_jobs=-1)]: Done 762 tasks      | elapsed: 36.1min\n",
      "[Parallel(n_jobs=-1)]: Done 763 tasks      | elapsed: 36.1min\n",
      "[Parallel(n_jobs=-1)]: Done 764 tasks      | elapsed: 36.1min\n",
      "[Parallel(n_jobs=-1)]: Done 765 tasks      | elapsed: 36.3min\n",
      "[Parallel(n_jobs=-1)]: Done 766 tasks      | elapsed: 36.5min\n",
      "[Parallel(n_jobs=-1)]: Done 767 tasks      | elapsed: 36.5min\n",
      "[Parallel(n_jobs=-1)]: Done 768 tasks      | elapsed: 36.5min\n",
      "[Parallel(n_jobs=-1)]: Done 769 tasks      | elapsed: 36.5min\n",
      "[Parallel(n_jobs=-1)]: Done 770 tasks      | elapsed: 36.5min\n",
      "[Parallel(n_jobs=-1)]: Done 771 tasks      | elapsed: 36.5min\n",
      "[Parallel(n_jobs=-1)]: Done 772 tasks      | elapsed: 36.5min\n",
      "[Parallel(n_jobs=-1)]: Done 773 tasks      | elapsed: 36.6min\n",
      "[Parallel(n_jobs=-1)]: Done 774 tasks      | elapsed: 36.6min\n",
      "[Parallel(n_jobs=-1)]: Done 775 tasks      | elapsed: 36.6min\n",
      "[Parallel(n_jobs=-1)]: Done 776 tasks      | elapsed: 36.6min\n",
      "[Parallel(n_jobs=-1)]: Done 777 tasks      | elapsed: 36.7min\n",
      "[Parallel(n_jobs=-1)]: Done 778 tasks      | elapsed: 36.7min\n",
      "[Parallel(n_jobs=-1)]: Done 779 tasks      | elapsed: 36.7min\n",
      "[Parallel(n_jobs=-1)]: Done 780 tasks      | elapsed: 36.7min\n",
      "[Parallel(n_jobs=-1)]: Done 781 tasks      | elapsed: 37.0min\n",
      "[Parallel(n_jobs=-1)]: Done 782 tasks      | elapsed: 37.1min\n",
      "[Parallel(n_jobs=-1)]: Done 783 tasks      | elapsed: 37.1min\n",
      "[Parallel(n_jobs=-1)]: Done 784 tasks      | elapsed: 37.1min\n",
      "[Parallel(n_jobs=-1)]: Done 785 tasks      | elapsed: 37.1min\n",
      "[Parallel(n_jobs=-1)]: Done 786 tasks      | elapsed: 37.2min\n",
      "[Parallel(n_jobs=-1)]: Done 787 tasks      | elapsed: 37.2min\n",
      "[Parallel(n_jobs=-1)]: Done 788 tasks      | elapsed: 37.2min\n",
      "[Parallel(n_jobs=-1)]: Done 789 tasks      | elapsed: 37.5min\n",
      "[Parallel(n_jobs=-1)]: Done 790 tasks      | elapsed: 37.6min\n",
      "[Parallel(n_jobs=-1)]: Done 791 tasks      | elapsed: 37.6min\n",
      "[Parallel(n_jobs=-1)]: Done 792 tasks      | elapsed: 37.6min\n",
      "[Parallel(n_jobs=-1)]: Done 793 tasks      | elapsed: 37.7min\n",
      "[Parallel(n_jobs=-1)]: Done 794 tasks      | elapsed: 37.7min\n",
      "[Parallel(n_jobs=-1)]: Done 795 tasks      | elapsed: 37.7min\n",
      "[Parallel(n_jobs=-1)]: Done 796 tasks      | elapsed: 37.7min\n",
      "[Parallel(n_jobs=-1)]: Done 797 tasks      | elapsed: 37.9min\n"
     ]
    },
    {
     "name": "stderr",
     "output_type": "stream",
     "text": [
      "[Parallel(n_jobs=-1)]: Done 798 tasks      | elapsed: 38.0min\n",
      "[Parallel(n_jobs=-1)]: Done 799 tasks      | elapsed: 38.0min\n",
      "[Parallel(n_jobs=-1)]: Done 800 tasks      | elapsed: 38.0min\n",
      "[Parallel(n_jobs=-1)]: Done 801 tasks      | elapsed: 38.0min\n",
      "[Parallel(n_jobs=-1)]: Done 802 tasks      | elapsed: 38.0min\n",
      "[Parallel(n_jobs=-1)]: Done 803 tasks      | elapsed: 38.0min\n",
      "[Parallel(n_jobs=-1)]: Done 804 tasks      | elapsed: 38.0min\n",
      "[Parallel(n_jobs=-1)]: Done 805 tasks      | elapsed: 38.1min\n",
      "[Parallel(n_jobs=-1)]: Done 806 tasks      | elapsed: 38.2min\n",
      "[Parallel(n_jobs=-1)]: Done 807 tasks      | elapsed: 38.2min\n",
      "[Parallel(n_jobs=-1)]: Done 808 tasks      | elapsed: 38.2min\n",
      "[Parallel(n_jobs=-1)]: Done 809 tasks      | elapsed: 38.2min\n",
      "[Parallel(n_jobs=-1)]: Done 810 tasks      | elapsed: 38.2min\n",
      "[Parallel(n_jobs=-1)]: Done 811 tasks      | elapsed: 38.2min\n",
      "[Parallel(n_jobs=-1)]: Done 812 tasks      | elapsed: 38.2min\n",
      "[Parallel(n_jobs=-1)]: Done 813 tasks      | elapsed: 38.3min\n",
      "[Parallel(n_jobs=-1)]: Done 814 tasks      | elapsed: 38.5min\n",
      "[Parallel(n_jobs=-1)]: Done 815 tasks      | elapsed: 38.5min\n",
      "[Parallel(n_jobs=-1)]: Done 816 tasks      | elapsed: 38.7min\n",
      "[Parallel(n_jobs=-1)]: Done 817 tasks      | elapsed: 38.7min\n",
      "[Parallel(n_jobs=-1)]: Done 818 tasks      | elapsed: 38.7min\n",
      "[Parallel(n_jobs=-1)]: Done 819 tasks      | elapsed: 38.7min\n",
      "[Parallel(n_jobs=-1)]: Done 820 tasks      | elapsed: 38.7min\n",
      "[Parallel(n_jobs=-1)]: Done 821 tasks      | elapsed: 38.7min\n",
      "[Parallel(n_jobs=-1)]: Done 822 tasks      | elapsed: 38.7min\n",
      "[Parallel(n_jobs=-1)]: Done 823 tasks      | elapsed: 38.8min\n",
      "[Parallel(n_jobs=-1)]: Done 824 tasks      | elapsed: 38.9min\n",
      "[Parallel(n_jobs=-1)]: Done 825 tasks      | elapsed: 39.0min\n",
      "[Parallel(n_jobs=-1)]: Done 826 tasks      | elapsed: 39.1min\n",
      "[Parallel(n_jobs=-1)]: Done 827 tasks      | elapsed: 39.1min\n",
      "[Parallel(n_jobs=-1)]: Done 828 tasks      | elapsed: 39.1min\n",
      "[Parallel(n_jobs=-1)]: Done 829 tasks      | elapsed: 39.1min\n",
      "[Parallel(n_jobs=-1)]: Done 830 tasks      | elapsed: 39.1min\n",
      "[Parallel(n_jobs=-1)]: Done 831 tasks      | elapsed: 39.1min\n",
      "[Parallel(n_jobs=-1)]: Done 832 tasks      | elapsed: 39.2min\n",
      "[Parallel(n_jobs=-1)]: Done 833 tasks      | elapsed: 39.3min\n",
      "[Parallel(n_jobs=-1)]: Done 834 tasks      | elapsed: 39.4min\n",
      "[Parallel(n_jobs=-1)]: Done 835 tasks      | elapsed: 39.4min\n",
      "[Parallel(n_jobs=-1)]: Done 836 tasks      | elapsed: 39.4min\n",
      "[Parallel(n_jobs=-1)]: Done 837 tasks      | elapsed: 39.4min\n",
      "[Parallel(n_jobs=-1)]: Done 838 tasks      | elapsed: 39.4min\n",
      "[Parallel(n_jobs=-1)]: Done 839 tasks      | elapsed: 39.5min\n",
      "[Parallel(n_jobs=-1)]: Done 840 tasks      | elapsed: 39.5min\n",
      "[Parallel(n_jobs=-1)]: Done 841 tasks      | elapsed: 39.9min\n",
      "[Parallel(n_jobs=-1)]: Done 842 tasks      | elapsed: 40.0min\n",
      "[Parallel(n_jobs=-1)]: Done 843 tasks      | elapsed: 40.0min\n",
      "[Parallel(n_jobs=-1)]: Done 844 tasks      | elapsed: 40.0min\n",
      "[Parallel(n_jobs=-1)]: Done 845 tasks      | elapsed: 40.0min\n",
      "[Parallel(n_jobs=-1)]: Done 846 tasks      | elapsed: 40.0min\n",
      "[Parallel(n_jobs=-1)]: Done 847 tasks      | elapsed: 40.0min\n",
      "[Parallel(n_jobs=-1)]: Done 848 tasks      | elapsed: 40.0min\n",
      "[Parallel(n_jobs=-1)]: Done 849 tasks      | elapsed: 40.2min\n",
      "[Parallel(n_jobs=-1)]: Done 850 tasks      | elapsed: 40.3min\n",
      "[Parallel(n_jobs=-1)]: Done 851 tasks      | elapsed: 40.7min\n",
      "[Parallel(n_jobs=-1)]: Done 852 tasks      | elapsed: 40.7min\n",
      "[Parallel(n_jobs=-1)]: Done 853 tasks      | elapsed: 40.7min\n",
      "[Parallel(n_jobs=-1)]: Done 854 tasks      | elapsed: 40.8min\n",
      "[Parallel(n_jobs=-1)]: Done 855 tasks      | elapsed: 40.8min\n",
      "[Parallel(n_jobs=-1)]: Done 856 tasks      | elapsed: 40.8min\n",
      "[Parallel(n_jobs=-1)]: Done 857 tasks      | elapsed: 40.9min\n",
      "[Parallel(n_jobs=-1)]: Done 858 tasks      | elapsed: 40.9min\n",
      "[Parallel(n_jobs=-1)]: Done 859 tasks      | elapsed: 41.1min\n",
      "[Parallel(n_jobs=-1)]: Done 860 tasks      | elapsed: 41.1min\n",
      "[Parallel(n_jobs=-1)]: Done 861 tasks      | elapsed: 41.1min\n",
      "[Parallel(n_jobs=-1)]: Done 862 tasks      | elapsed: 41.1min\n",
      "[Parallel(n_jobs=-1)]: Done 863 tasks      | elapsed: 41.1min\n",
      "[Parallel(n_jobs=-1)]: Done 864 tasks      | elapsed: 41.1min\n",
      "[Parallel(n_jobs=-1)]: Done 865 tasks      | elapsed: 41.1min\n",
      "[Parallel(n_jobs=-1)]: Done 866 tasks      | elapsed: 41.1min\n",
      "[Parallel(n_jobs=-1)]: Done 867 tasks      | elapsed: 41.2min\n",
      "[Parallel(n_jobs=-1)]: Done 868 tasks      | elapsed: 41.2min\n",
      "[Parallel(n_jobs=-1)]: Done 869 tasks      | elapsed: 41.2min\n",
      "[Parallel(n_jobs=-1)]: Done 870 tasks      | elapsed: 41.2min\n",
      "[Parallel(n_jobs=-1)]: Done 871 tasks      | elapsed: 41.2min\n",
      "[Parallel(n_jobs=-1)]: Done 872 tasks      | elapsed: 41.3min\n",
      "[Parallel(n_jobs=-1)]: Done 873 tasks      | elapsed: 41.3min\n",
      "[Parallel(n_jobs=-1)]: Done 874 tasks      | elapsed: 41.3min\n",
      "[Parallel(n_jobs=-1)]: Done 875 tasks      | elapsed: 41.4min\n",
      "[Parallel(n_jobs=-1)]: Done 876 tasks      | elapsed: 41.9min\n",
      "[Parallel(n_jobs=-1)]: Done 877 tasks      | elapsed: 41.9min\n",
      "[Parallel(n_jobs=-1)]: Done 878 tasks      | elapsed: 41.9min\n",
      "[Parallel(n_jobs=-1)]: Done 879 tasks      | elapsed: 41.9min\n",
      "[Parallel(n_jobs=-1)]: Done 880 tasks      | elapsed: 41.9min\n",
      "[Parallel(n_jobs=-1)]: Done 881 tasks      | elapsed: 41.9min\n",
      "[Parallel(n_jobs=-1)]: Done 882 tasks      | elapsed: 42.0min\n",
      "[Parallel(n_jobs=-1)]: Done 883 tasks      | elapsed: 42.0min\n",
      "[Parallel(n_jobs=-1)]: Done 884 tasks      | elapsed: 42.2min\n",
      "[Parallel(n_jobs=-1)]: Done 885 tasks      | elapsed: 42.2min\n",
      "[Parallel(n_jobs=-1)]: Done 886 tasks      | elapsed: 42.2min\n",
      "[Parallel(n_jobs=-1)]: Done 887 tasks      | elapsed: 42.2min\n",
      "[Parallel(n_jobs=-1)]: Done 888 tasks      | elapsed: 42.2min\n",
      "[Parallel(n_jobs=-1)]: Done 889 tasks      | elapsed: 42.2min\n",
      "[Parallel(n_jobs=-1)]: Done 890 tasks      | elapsed: 42.2min\n",
      "[Parallel(n_jobs=-1)]: Done 891 tasks      | elapsed: 42.2min\n",
      "[Parallel(n_jobs=-1)]: Done 892 tasks      | elapsed: 42.3min\n",
      "[Parallel(n_jobs=-1)]: Done 893 tasks      | elapsed: 42.3min\n",
      "[Parallel(n_jobs=-1)]: Done 894 tasks      | elapsed: 42.3min\n",
      "[Parallel(n_jobs=-1)]: Done 895 tasks      | elapsed: 42.4min\n",
      "[Parallel(n_jobs=-1)]: Done 896 tasks      | elapsed: 42.7min\n",
      "[Parallel(n_jobs=-1)]: Done 897 tasks      | elapsed: 42.7min\n",
      "[Parallel(n_jobs=-1)]: Done 898 tasks      | elapsed: 42.7min\n",
      "[Parallel(n_jobs=-1)]: Done 899 tasks      | elapsed: 42.7min\n",
      "[Parallel(n_jobs=-1)]: Done 900 tasks      | elapsed: 42.7min\n",
      "[Parallel(n_jobs=-1)]: Done 901 tasks      | elapsed: 42.7min\n",
      "[Parallel(n_jobs=-1)]: Done 902 tasks      | elapsed: 42.7min\n",
      "[Parallel(n_jobs=-1)]: Done 903 tasks      | elapsed: 42.8min\n",
      "[Parallel(n_jobs=-1)]: Done 904 tasks      | elapsed: 42.8min\n",
      "[Parallel(n_jobs=-1)]: Done 905 tasks      | elapsed: 42.9min\n",
      "[Parallel(n_jobs=-1)]: Done 906 tasks      | elapsed: 42.9min\n",
      "[Parallel(n_jobs=-1)]: Done 907 tasks      | elapsed: 42.9min\n",
      "[Parallel(n_jobs=-1)]: Done 908 tasks      | elapsed: 42.9min\n",
      "[Parallel(n_jobs=-1)]: Done 909 tasks      | elapsed: 42.9min\n",
      "[Parallel(n_jobs=-1)]: Done 910 tasks      | elapsed: 42.9min\n",
      "[Parallel(n_jobs=-1)]: Done 911 tasks      | elapsed: 43.1min\n",
      "[Parallel(n_jobs=-1)]: Done 912 tasks      | elapsed: 43.3min\n",
      "[Parallel(n_jobs=-1)]: Done 913 tasks      | elapsed: 43.3min\n",
      "[Parallel(n_jobs=-1)]: Done 914 tasks      | elapsed: 43.3min\n",
      "[Parallel(n_jobs=-1)]: Done 915 tasks      | elapsed: 43.4min\n",
      "[Parallel(n_jobs=-1)]: Done 916 tasks      | elapsed: 43.5min\n",
      "[Parallel(n_jobs=-1)]: Done 917 tasks      | elapsed: 43.5min\n",
      "[Parallel(n_jobs=-1)]: Done 918 tasks      | elapsed: 43.5min\n",
      "[Parallel(n_jobs=-1)]: Done 919 tasks      | elapsed: 43.7min\n",
      "[Parallel(n_jobs=-1)]: Done 920 tasks      | elapsed: 43.9min\n",
      "[Parallel(n_jobs=-1)]: Done 921 tasks      | elapsed: 43.9min\n",
      "[Parallel(n_jobs=-1)]: Done 922 tasks      | elapsed: 43.9min\n",
      "[Parallel(n_jobs=-1)]: Done 923 tasks      | elapsed: 43.9min\n",
      "[Parallel(n_jobs=-1)]: Done 924 tasks      | elapsed: 44.0min\n",
      "[Parallel(n_jobs=-1)]: Done 925 tasks      | elapsed: 44.0min\n",
      "[Parallel(n_jobs=-1)]: Done 926 tasks      | elapsed: 44.0min\n",
      "[Parallel(n_jobs=-1)]: Done 927 tasks      | elapsed: 44.1min\n",
      "[Parallel(n_jobs=-1)]: Done 928 tasks      | elapsed: 44.3min\n",
      "[Parallel(n_jobs=-1)]: Done 929 tasks      | elapsed: 44.3min\n",
      "[Parallel(n_jobs=-1)]: Done 930 tasks      | elapsed: 44.3min\n",
      "[Parallel(n_jobs=-1)]: Done 931 tasks      | elapsed: 44.3min\n"
     ]
    },
    {
     "name": "stderr",
     "output_type": "stream",
     "text": [
      "[Parallel(n_jobs=-1)]: Done 932 tasks      | elapsed: 44.3min\n",
      "[Parallel(n_jobs=-1)]: Done 933 tasks      | elapsed: 44.3min\n",
      "[Parallel(n_jobs=-1)]: Done 934 tasks      | elapsed: 44.3min\n",
      "[Parallel(n_jobs=-1)]: Done 935 tasks      | elapsed: 44.4min\n",
      "[Parallel(n_jobs=-1)]: Done 936 tasks      | elapsed: 44.7min\n",
      "[Parallel(n_jobs=-1)]: Done 937 tasks      | elapsed: 44.7min\n",
      "[Parallel(n_jobs=-1)]: Done 938 tasks      | elapsed: 44.8min\n",
      "[Parallel(n_jobs=-1)]: Done 939 tasks      | elapsed: 44.8min\n",
      "[Parallel(n_jobs=-1)]: Done 940 tasks      | elapsed: 44.9min\n",
      "[Parallel(n_jobs=-1)]: Done 941 tasks      | elapsed: 44.9min\n",
      "[Parallel(n_jobs=-1)]: Done 942 tasks      | elapsed: 44.9min\n",
      "[Parallel(n_jobs=-1)]: Done 943 tasks      | elapsed: 44.9min\n",
      "[Parallel(n_jobs=-1)]: Done 944 tasks      | elapsed: 44.9min\n",
      "[Parallel(n_jobs=-1)]: Done 945 tasks      | elapsed: 44.9min\n",
      "[Parallel(n_jobs=-1)]: Done 946 tasks      | elapsed: 45.4min\n",
      "[Parallel(n_jobs=-1)]: Done 947 tasks      | elapsed: 45.4min\n",
      "[Parallel(n_jobs=-1)]: Done 948 tasks      | elapsed: 45.4min\n",
      "[Parallel(n_jobs=-1)]: Done 949 tasks      | elapsed: 45.4min\n",
      "[Parallel(n_jobs=-1)]: Done 950 tasks      | elapsed: 45.4min\n",
      "[Parallel(n_jobs=-1)]: Done 951 tasks      | elapsed: 45.4min\n",
      "[Parallel(n_jobs=-1)]: Done 952 tasks      | elapsed: 45.4min\n",
      "[Parallel(n_jobs=-1)]: Done 953 tasks      | elapsed: 45.4min\n",
      "[Parallel(n_jobs=-1)]: Done 954 tasks      | elapsed: 45.6min\n",
      "[Parallel(n_jobs=-1)]: Done 955 tasks      | elapsed: 45.6min\n",
      "[Parallel(n_jobs=-1)]: Done 956 tasks      | elapsed: 45.6min\n",
      "[Parallel(n_jobs=-1)]: Done 957 tasks      | elapsed: 45.7min\n",
      "[Parallel(n_jobs=-1)]: Done 958 tasks      | elapsed: 45.7min\n",
      "[Parallel(n_jobs=-1)]: Done 959 tasks      | elapsed: 45.7min\n",
      "[Parallel(n_jobs=-1)]: Done 960 tasks      | elapsed: 45.7min\n",
      "[Parallel(n_jobs=-1)]: Done 961 tasks      | elapsed: 45.8min\n",
      "[Parallel(n_jobs=-1)]: Done 962 tasks      | elapsed: 46.3min\n",
      "[Parallel(n_jobs=-1)]: Done 963 tasks      | elapsed: 46.4min\n",
      "[Parallel(n_jobs=-1)]: Done 964 tasks      | elapsed: 46.4min\n",
      "[Parallel(n_jobs=-1)]: Done 965 tasks      | elapsed: 46.4min\n",
      "[Parallel(n_jobs=-1)]: Done 966 tasks      | elapsed: 46.4min\n",
      "[Parallel(n_jobs=-1)]: Done 967 tasks      | elapsed: 46.4min\n",
      "[Parallel(n_jobs=-1)]: Done 968 tasks      | elapsed: 46.4min\n",
      "[Parallel(n_jobs=-1)]: Done 969 tasks      | elapsed: 46.5min\n",
      "[Parallel(n_jobs=-1)]: Done 970 tasks      | elapsed: 46.7min\n",
      "[Parallel(n_jobs=-1)]: Done 971 tasks      | elapsed: 46.7min\n",
      "[Parallel(n_jobs=-1)]: Done 972 tasks      | elapsed: 46.7min\n",
      "[Parallel(n_jobs=-1)]: Done 973 tasks      | elapsed: 46.7min\n",
      "[Parallel(n_jobs=-1)]: Done 974 tasks      | elapsed: 46.7min\n",
      "[Parallel(n_jobs=-1)]: Done 975 tasks      | elapsed: 46.7min\n",
      "[Parallel(n_jobs=-1)]: Done 976 tasks      | elapsed: 46.7min\n",
      "[Parallel(n_jobs=-1)]: Done 977 tasks      | elapsed: 46.8min\n",
      "[Parallel(n_jobs=-1)]: Done 978 tasks      | elapsed: 47.1min\n",
      "[Parallel(n_jobs=-1)]: Done 979 tasks      | elapsed: 47.2min\n",
      "[Parallel(n_jobs=-1)]: Done 980 tasks      | elapsed: 47.2min\n",
      "[Parallel(n_jobs=-1)]: Done 981 tasks      | elapsed: 47.3min\n",
      "[Parallel(n_jobs=-1)]: Done 982 tasks      | elapsed: 47.3min\n",
      "[Parallel(n_jobs=-1)]: Done 983 tasks      | elapsed: 47.3min\n",
      "[Parallel(n_jobs=-1)]: Done 984 tasks      | elapsed: 47.3min\n",
      "[Parallel(n_jobs=-1)]: Done 985 tasks      | elapsed: 47.4min\n",
      "[Parallel(n_jobs=-1)]: Done 986 tasks      | elapsed: 47.4min\n",
      "[Parallel(n_jobs=-1)]: Done 987 tasks      | elapsed: 47.4min\n",
      "[Parallel(n_jobs=-1)]: Done 988 tasks      | elapsed: 47.5min\n",
      "[Parallel(n_jobs=-1)]: Done 989 tasks      | elapsed: 47.6min\n",
      "[Parallel(n_jobs=-1)]: Done 990 tasks      | elapsed: 47.6min\n",
      "[Parallel(n_jobs=-1)]: Done 991 tasks      | elapsed: 47.8min\n",
      "[Parallel(n_jobs=-1)]: Done 992 tasks      | elapsed: 47.8min\n",
      "[Parallel(n_jobs=-1)]: Done 993 tasks      | elapsed: 47.9min\n",
      "[Parallel(n_jobs=-1)]: Done 994 tasks      | elapsed: 47.9min\n",
      "[Parallel(n_jobs=-1)]: Done 995 tasks      | elapsed: 47.9min\n",
      "[Parallel(n_jobs=-1)]: Done 996 tasks      | elapsed: 47.9min\n",
      "[Parallel(n_jobs=-1)]: Done 997 tasks      | elapsed: 47.9min\n",
      "[Parallel(n_jobs=-1)]: Done 998 tasks      | elapsed: 47.9min\n",
      "[Parallel(n_jobs=-1)]: Done 999 tasks      | elapsed: 48.0min\n",
      "[Parallel(n_jobs=-1)]: Done 1000 tasks      | elapsed: 48.0min\n",
      "[Parallel(n_jobs=-1)]: Done 1001 tasks      | elapsed: 48.0min\n",
      "[Parallel(n_jobs=-1)]: Done 1002 tasks      | elapsed: 48.1min\n",
      "[Parallel(n_jobs=-1)]: Done 1003 tasks      | elapsed: 48.1min\n",
      "[Parallel(n_jobs=-1)]: Done 1004 tasks      | elapsed: 48.1min\n",
      "[Parallel(n_jobs=-1)]: Done 1005 tasks      | elapsed: 48.1min\n",
      "[Parallel(n_jobs=-1)]: Done 1006 tasks      | elapsed: 48.3min\n",
      "[Parallel(n_jobs=-1)]: Done 1007 tasks      | elapsed: 48.4min\n",
      "[Parallel(n_jobs=-1)]: Done 1008 tasks      | elapsed: 48.5min\n",
      "[Parallel(n_jobs=-1)]: Done 1009 tasks      | elapsed: 48.6min\n",
      "[Parallel(n_jobs=-1)]: Done 1010 tasks      | elapsed: 48.6min\n",
      "[Parallel(n_jobs=-1)]: Done 1011 tasks      | elapsed: 48.7min\n",
      "[Parallel(n_jobs=-1)]: Done 1012 tasks      | elapsed: 48.7min\n",
      "[Parallel(n_jobs=-1)]: Done 1013 tasks      | elapsed: 48.7min\n",
      "[Parallel(n_jobs=-1)]: Done 1014 tasks      | elapsed: 48.8min\n",
      "[Parallel(n_jobs=-1)]: Done 1015 tasks      | elapsed: 48.9min\n",
      "[Parallel(n_jobs=-1)]: Done 1016 tasks      | elapsed: 49.0min\n",
      "[Parallel(n_jobs=-1)]: Done 1017 tasks      | elapsed: 49.0min\n",
      "[Parallel(n_jobs=-1)]: Done 1018 tasks      | elapsed: 49.1min\n",
      "[Parallel(n_jobs=-1)]: Done 1019 tasks      | elapsed: 49.1min\n",
      "[Parallel(n_jobs=-1)]: Done 1020 tasks      | elapsed: 49.1min\n",
      "[Parallel(n_jobs=-1)]: Done 1021 tasks      | elapsed: 49.2min\n",
      "[Parallel(n_jobs=-1)]: Done 1022 tasks      | elapsed: 49.3min\n",
      "[Parallel(n_jobs=-1)]: Done 1023 tasks      | elapsed: 49.5min\n",
      "[Parallel(n_jobs=-1)]: Done 1024 tasks      | elapsed: 49.6min\n",
      "[Parallel(n_jobs=-1)]: Done 1025 tasks      | elapsed: 49.7min\n",
      "[Parallel(n_jobs=-1)]: Done 1026 tasks      | elapsed: 49.8min\n",
      "[Parallel(n_jobs=-1)]: Done 1027 tasks      | elapsed: 49.9min\n",
      "[Parallel(n_jobs=-1)]: Done 1028 tasks      | elapsed: 49.9min\n",
      "[Parallel(n_jobs=-1)]: Done 1029 tasks      | elapsed: 50.0min\n",
      "[Parallel(n_jobs=-1)]: Done 1030 tasks      | elapsed: 50.1min\n",
      "[Parallel(n_jobs=-1)]: Done 1031 tasks      | elapsed: 50.1min\n",
      "[Parallel(n_jobs=-1)]: Done 1032 tasks      | elapsed: 50.1min\n",
      "[Parallel(n_jobs=-1)]: Done 1033 tasks      | elapsed: 50.2min\n",
      "[Parallel(n_jobs=-1)]: Done 1034 tasks      | elapsed: 50.3min\n",
      "[Parallel(n_jobs=-1)]: Done 1035 tasks      | elapsed: 50.3min\n",
      "[Parallel(n_jobs=-1)]: Done 1036 tasks      | elapsed: 50.3min\n",
      "[Parallel(n_jobs=-1)]: Done 1037 tasks      | elapsed: 50.3min\n",
      "[Parallel(n_jobs=-1)]: Done 1038 tasks      | elapsed: 50.3min\n",
      "[Parallel(n_jobs=-1)]: Done 1039 tasks      | elapsed: 50.3min\n",
      "[Parallel(n_jobs=-1)]: Done 1040 tasks      | elapsed: 50.4min\n",
      "[Parallel(n_jobs=-1)]: Done 1041 tasks      | elapsed: 50.5min\n",
      "[Parallel(n_jobs=-1)]: Done 1042 tasks      | elapsed: 50.6min\n",
      "[Parallel(n_jobs=-1)]: Done 1043 tasks      | elapsed: 50.6min\n",
      "[Parallel(n_jobs=-1)]: Done 1044 tasks      | elapsed: 50.6min\n",
      "[Parallel(n_jobs=-1)]: Done 1045 tasks      | elapsed: 50.7min\n",
      "[Parallel(n_jobs=-1)]: Done 1046 tasks      | elapsed: 50.7min\n",
      "[Parallel(n_jobs=-1)]: Done 1047 tasks      | elapsed: 50.7min\n",
      "[Parallel(n_jobs=-1)]: Done 1048 tasks      | elapsed: 50.7min\n",
      "[Parallel(n_jobs=-1)]: Done 1049 tasks      | elapsed: 50.9min\n",
      "[Parallel(n_jobs=-1)]: Done 1050 tasks      | elapsed: 51.1min\n",
      "[Parallel(n_jobs=-1)]: Done 1051 tasks      | elapsed: 51.1min\n",
      "[Parallel(n_jobs=-1)]: Done 1052 tasks      | elapsed: 51.1min\n",
      "[Parallel(n_jobs=-1)]: Done 1053 tasks      | elapsed: 51.1min\n",
      "[Parallel(n_jobs=-1)]: Done 1054 tasks      | elapsed: 51.1min\n",
      "[Parallel(n_jobs=-1)]: Done 1055 tasks      | elapsed: 51.1min\n",
      "[Parallel(n_jobs=-1)]: Done 1056 tasks      | elapsed: 51.1min\n",
      "[Parallel(n_jobs=-1)]: Done 1057 tasks      | elapsed: 51.2min\n",
      "[Parallel(n_jobs=-1)]: Done 1058 tasks      | elapsed: 51.2min\n",
      "[Parallel(n_jobs=-1)]: Done 1059 tasks      | elapsed: 51.2min\n",
      "[Parallel(n_jobs=-1)]: Done 1060 tasks      | elapsed: 51.2min\n",
      "[Parallel(n_jobs=-1)]: Done 1061 tasks      | elapsed: 51.3min\n",
      "[Parallel(n_jobs=-1)]: Done 1062 tasks      | elapsed: 51.3min\n",
      "[Parallel(n_jobs=-1)]: Done 1063 tasks      | elapsed: 51.3min\n",
      "[Parallel(n_jobs=-1)]: Done 1064 tasks      | elapsed: 51.3min\n"
     ]
    },
    {
     "name": "stderr",
     "output_type": "stream",
     "text": [
      "[Parallel(n_jobs=-1)]: Done 1065 tasks      | elapsed: 51.3min\n",
      "[Parallel(n_jobs=-1)]: Done 1066 tasks      | elapsed: 51.4min\n",
      "[Parallel(n_jobs=-1)]: Done 1067 tasks      | elapsed: 51.5min\n",
      "[Parallel(n_jobs=-1)]: Done 1068 tasks      | elapsed: 51.5min\n",
      "[Parallel(n_jobs=-1)]: Done 1069 tasks      | elapsed: 51.5min\n",
      "[Parallel(n_jobs=-1)]: Done 1070 tasks      | elapsed: 51.5min\n",
      "[Parallel(n_jobs=-1)]: Done 1071 tasks      | elapsed: 51.5min\n",
      "[Parallel(n_jobs=-1)]: Done 1072 tasks      | elapsed: 51.5min\n",
      "[Parallel(n_jobs=-1)]: Done 1073 tasks      | elapsed: 51.5min\n",
      "[Parallel(n_jobs=-1)]: Done 1074 tasks      | elapsed: 51.7min\n",
      "[Parallel(n_jobs=-1)]: Done 1075 tasks      | elapsed: 51.7min\n",
      "[Parallel(n_jobs=-1)]: Done 1076 tasks      | elapsed: 51.7min\n",
      "[Parallel(n_jobs=-1)]: Done 1077 tasks      | elapsed: 51.7min\n",
      "[Parallel(n_jobs=-1)]: Done 1078 tasks      | elapsed: 51.7min\n",
      "[Parallel(n_jobs=-1)]: Done 1079 tasks      | elapsed: 51.7min\n",
      "[Parallel(n_jobs=-1)]: Done 1080 tasks      | elapsed: 51.7min\n",
      "[Parallel(n_jobs=-1)]: Done 1081 tasks      | elapsed: 51.7min\n",
      "[Parallel(n_jobs=-1)]: Done 1082 tasks      | elapsed: 51.9min\n",
      "[Parallel(n_jobs=-1)]: Done 1083 tasks      | elapsed: 51.9min\n",
      "[Parallel(n_jobs=-1)]: Done 1084 tasks      | elapsed: 51.9min\n",
      "[Parallel(n_jobs=-1)]: Done 1085 tasks      | elapsed: 52.0min\n",
      "[Parallel(n_jobs=-1)]: Done 1086 tasks      | elapsed: 52.3min\n",
      "[Parallel(n_jobs=-1)]: Done 1087 tasks      | elapsed: 52.3min\n",
      "[Parallel(n_jobs=-1)]: Done 1088 tasks      | elapsed: 52.3min\n",
      "[Parallel(n_jobs=-1)]: Done 1089 tasks      | elapsed: 52.3min\n",
      "[Parallel(n_jobs=-1)]: Done 1090 tasks      | elapsed: 52.7min\n",
      "[Parallel(n_jobs=-1)]: Done 1091 tasks      | elapsed: 52.7min\n",
      "[Parallel(n_jobs=-1)]: Done 1092 tasks      | elapsed: 52.7min\n",
      "[Parallel(n_jobs=-1)]: Done 1093 tasks      | elapsed: 52.7min\n",
      "[Parallel(n_jobs=-1)]: Done 1094 tasks      | elapsed: 52.8min\n",
      "[Parallel(n_jobs=-1)]: Done 1095 tasks      | elapsed: 52.8min\n",
      "[Parallel(n_jobs=-1)]: Done 1096 tasks      | elapsed: 52.9min\n",
      "[Parallel(n_jobs=-1)]: Done 1097 tasks      | elapsed: 52.9min\n",
      "[Parallel(n_jobs=-1)]: Done 1098 tasks      | elapsed: 53.0min\n",
      "[Parallel(n_jobs=-1)]: Done 1099 tasks      | elapsed: 53.1min\n",
      "[Parallel(n_jobs=-1)]: Done 1100 tasks      | elapsed: 53.1min\n",
      "[Parallel(n_jobs=-1)]: Done 1101 tasks      | elapsed: 53.1min\n",
      "[Parallel(n_jobs=-1)]: Done 1102 tasks      | elapsed: 53.2min\n",
      "[Parallel(n_jobs=-1)]: Done 1103 tasks      | elapsed: 53.2min\n",
      "[Parallel(n_jobs=-1)]: Done 1104 tasks      | elapsed: 53.2min\n",
      "[Parallel(n_jobs=-1)]: Done 1105 tasks      | elapsed: 53.2min\n",
      "[Parallel(n_jobs=-1)]: Done 1106 tasks      | elapsed: 53.3min\n",
      "[Parallel(n_jobs=-1)]: Done 1107 tasks      | elapsed: 53.3min\n",
      "[Parallel(n_jobs=-1)]: Done 1108 tasks      | elapsed: 53.3min\n",
      "[Parallel(n_jobs=-1)]: Done 1109 tasks      | elapsed: 53.3min\n",
      "[Parallel(n_jobs=-1)]: Done 1110 tasks      | elapsed: 53.4min\n",
      "[Parallel(n_jobs=-1)]: Done 1111 tasks      | elapsed: 53.7min\n",
      "[Parallel(n_jobs=-1)]: Done 1112 tasks      | elapsed: 53.8min\n",
      "[Parallel(n_jobs=-1)]: Done 1113 tasks      | elapsed: 53.8min\n",
      "[Parallel(n_jobs=-1)]: Done 1114 tasks      | elapsed: 53.8min\n",
      "[Parallel(n_jobs=-1)]: Done 1115 tasks      | elapsed: 53.8min\n",
      "[Parallel(n_jobs=-1)]: Done 1116 tasks      | elapsed: 53.8min\n",
      "[Parallel(n_jobs=-1)]: Done 1117 tasks      | elapsed: 53.9min\n",
      "[Parallel(n_jobs=-1)]: Done 1118 tasks      | elapsed: 53.9min\n",
      "[Parallel(n_jobs=-1)]: Done 1119 tasks      | elapsed: 53.9min\n",
      "[Parallel(n_jobs=-1)]: Done 1120 tasks      | elapsed: 54.1min\n",
      "[Parallel(n_jobs=-1)]: Done 1121 tasks      | elapsed: 54.2min\n",
      "[Parallel(n_jobs=-1)]: Done 1122 tasks      | elapsed: 54.2min\n",
      "[Parallel(n_jobs=-1)]: Done 1123 tasks      | elapsed: 54.2min\n",
      "[Parallel(n_jobs=-1)]: Done 1124 tasks      | elapsed: 54.2min\n",
      "[Parallel(n_jobs=-1)]: Done 1125 tasks      | elapsed: 54.2min\n",
      "[Parallel(n_jobs=-1)]: Done 1126 tasks      | elapsed: 54.2min\n",
      "[Parallel(n_jobs=-1)]: Done 1127 tasks      | elapsed: 54.2min\n",
      "[Parallel(n_jobs=-1)]: Done 1128 tasks      | elapsed: 54.3min\n",
      "[Parallel(n_jobs=-1)]: Done 1129 tasks      | elapsed: 54.3min\n",
      "[Parallel(n_jobs=-1)]: Done 1130 tasks      | elapsed: 54.4min\n",
      "[Parallel(n_jobs=-1)]: Done 1131 tasks      | elapsed: 54.6min\n",
      "[Parallel(n_jobs=-1)]: Done 1132 tasks      | elapsed: 54.6min\n",
      "[Parallel(n_jobs=-1)]: Done 1133 tasks      | elapsed: 54.6min\n",
      "[Parallel(n_jobs=-1)]: Done 1134 tasks      | elapsed: 54.6min\n",
      "[Parallel(n_jobs=-1)]: Done 1135 tasks      | elapsed: 54.6min\n",
      "[Parallel(n_jobs=-1)]: Done 1136 tasks      | elapsed: 54.6min\n",
      "[Parallel(n_jobs=-1)]: Done 1137 tasks      | elapsed: 54.7min\n",
      "[Parallel(n_jobs=-1)]: Done 1138 tasks      | elapsed: 54.7min\n",
      "[Parallel(n_jobs=-1)]: Done 1139 tasks      | elapsed: 54.8min\n",
      "[Parallel(n_jobs=-1)]: Done 1140 tasks      | elapsed: 54.8min\n",
      "[Parallel(n_jobs=-1)]: Done 1141 tasks      | elapsed: 54.8min\n",
      "[Parallel(n_jobs=-1)]: Done 1142 tasks      | elapsed: 54.8min\n",
      "[Parallel(n_jobs=-1)]: Done 1143 tasks      | elapsed: 54.8min\n",
      "[Parallel(n_jobs=-1)]: Done 1144 tasks      | elapsed: 54.8min\n",
      "[Parallel(n_jobs=-1)]: Done 1145 tasks      | elapsed: 54.8min\n",
      "[Parallel(n_jobs=-1)]: Done 1146 tasks      | elapsed: 54.9min\n",
      "[Parallel(n_jobs=-1)]: Done 1147 tasks      | elapsed: 54.9min\n",
      "[Parallel(n_jobs=-1)]: Done 1148 tasks      | elapsed: 55.0min\n",
      "[Parallel(n_jobs=-1)]: Done 1149 tasks      | elapsed: 55.0min\n",
      "[Parallel(n_jobs=-1)]: Done 1150 tasks      | elapsed: 55.0min\n",
      "[Parallel(n_jobs=-1)]: Done 1151 tasks      | elapsed: 55.0min\n",
      "[Parallel(n_jobs=-1)]: Done 1152 tasks      | elapsed: 55.0min\n",
      "[Parallel(n_jobs=-1)]: Done 1153 tasks      | elapsed: 55.1min\n",
      "[Parallel(n_jobs=-1)]: Done 1154 tasks      | elapsed: 55.1min\n",
      "[Parallel(n_jobs=-1)]: Done 1155 tasks      | elapsed: 55.2min\n",
      "[Parallel(n_jobs=-1)]: Done 1156 tasks      | elapsed: 55.4min\n",
      "[Parallel(n_jobs=-1)]: Done 1157 tasks      | elapsed: 55.4min\n",
      "[Parallel(n_jobs=-1)]: Done 1158 tasks      | elapsed: 55.4min\n",
      "[Parallel(n_jobs=-1)]: Done 1159 tasks      | elapsed: 55.4min\n",
      "[Parallel(n_jobs=-1)]: Done 1160 tasks      | elapsed: 55.4min\n",
      "[Parallel(n_jobs=-1)]: Done 1161 tasks      | elapsed: 55.4min\n",
      "[Parallel(n_jobs=-1)]: Done 1162 tasks      | elapsed: 55.4min\n",
      "[Parallel(n_jobs=-1)]: Done 1163 tasks      | elapsed: 55.5min\n",
      "[Parallel(n_jobs=-1)]: Done 1164 tasks      | elapsed: 55.7min\n",
      "[Parallel(n_jobs=-1)]: Done 1165 tasks      | elapsed: 55.7min\n",
      "[Parallel(n_jobs=-1)]: Done 1166 tasks      | elapsed: 55.9min\n",
      "[Parallel(n_jobs=-1)]: Done 1167 tasks      | elapsed: 55.9min\n",
      "[Parallel(n_jobs=-1)]: Done 1168 tasks      | elapsed: 55.9min\n",
      "[Parallel(n_jobs=-1)]: Done 1169 tasks      | elapsed: 55.9min\n",
      "[Parallel(n_jobs=-1)]: Done 1170 tasks      | elapsed: 55.9min\n",
      "[Parallel(n_jobs=-1)]: Done 1171 tasks      | elapsed: 55.9min\n",
      "[Parallel(n_jobs=-1)]: Done 1172 tasks      | elapsed: 56.1min\n",
      "[Parallel(n_jobs=-1)]: Done 1173 tasks      | elapsed: 56.2min\n",
      "[Parallel(n_jobs=-1)]: Done 1174 tasks      | elapsed: 56.2min\n",
      "[Parallel(n_jobs=-1)]: Done 1175 tasks      | elapsed: 56.2min\n",
      "[Parallel(n_jobs=-1)]: Done 1176 tasks      | elapsed: 56.2min\n",
      "[Parallel(n_jobs=-1)]: Done 1177 tasks      | elapsed: 56.2min\n",
      "[Parallel(n_jobs=-1)]: Done 1178 tasks      | elapsed: 56.2min\n",
      "[Parallel(n_jobs=-1)]: Done 1179 tasks      | elapsed: 56.2min\n",
      "[Parallel(n_jobs=-1)]: Done 1180 tasks      | elapsed: 56.4min\n",
      "[Parallel(n_jobs=-1)]: Done 1181 tasks      | elapsed: 56.5min\n",
      "[Parallel(n_jobs=-1)]: Done 1182 tasks      | elapsed: 56.6min\n",
      "[Parallel(n_jobs=-1)]: Done 1183 tasks      | elapsed: 56.6min\n",
      "[Parallel(n_jobs=-1)]: Done 1184 tasks      | elapsed: 56.6min\n",
      "[Parallel(n_jobs=-1)]: Done 1185 tasks      | elapsed: 56.6min\n",
      "[Parallel(n_jobs=-1)]: Done 1186 tasks      | elapsed: 56.7min\n",
      "[Parallel(n_jobs=-1)]: Done 1187 tasks      | elapsed: 56.7min\n",
      "[Parallel(n_jobs=-1)]: Done 1188 tasks      | elapsed: 56.8min\n",
      "[Parallel(n_jobs=-1)]: Done 1189 tasks      | elapsed: 57.1min\n",
      "[Parallel(n_jobs=-1)]: Done 1190 tasks      | elapsed: 57.2min\n",
      "[Parallel(n_jobs=-1)]: Done 1191 tasks      | elapsed: 57.3min\n",
      "[Parallel(n_jobs=-1)]: Done 1192 tasks      | elapsed: 57.3min\n",
      "[Parallel(n_jobs=-1)]: Done 1193 tasks      | elapsed: 57.3min\n",
      "[Parallel(n_jobs=-1)]: Done 1194 tasks      | elapsed: 57.4min\n",
      "[Parallel(n_jobs=-1)]: Done 1195 tasks      | elapsed: 57.4min\n"
     ]
    },
    {
     "name": "stderr",
     "output_type": "stream",
     "text": [
      "[Parallel(n_jobs=-1)]: Done 1196 tasks      | elapsed: 57.4min\n",
      "[Parallel(n_jobs=-1)]: Done 1197 tasks      | elapsed: 57.5min\n",
      "[Parallel(n_jobs=-1)]: Done 1198 tasks      | elapsed: 57.6min\n",
      "[Parallel(n_jobs=-1)]: Done 1199 tasks      | elapsed: 57.6min\n",
      "[Parallel(n_jobs=-1)]: Done 1200 tasks      | elapsed: 57.6min\n",
      "[Parallel(n_jobs=-1)]: Done 1201 tasks      | elapsed: 57.6min\n",
      "[Parallel(n_jobs=-1)]: Done 1202 tasks      | elapsed: 57.6min\n",
      "[Parallel(n_jobs=-1)]: Done 1203 tasks      | elapsed: 57.6min\n",
      "[Parallel(n_jobs=-1)]: Done 1204 tasks      | elapsed: 57.7min\n",
      "[Parallel(n_jobs=-1)]: Done 1205 tasks      | elapsed: 57.7min\n",
      "[Parallel(n_jobs=-1)]: Done 1206 tasks      | elapsed: 58.0min\n",
      "[Parallel(n_jobs=-1)]: Done 1207 tasks      | elapsed: 58.0min\n",
      "[Parallel(n_jobs=-1)]: Done 1208 tasks      | elapsed: 58.0min\n",
      "[Parallel(n_jobs=-1)]: Done 1209 tasks      | elapsed: 58.0min\n",
      "[Parallel(n_jobs=-1)]: Done 1210 tasks      | elapsed: 58.0min\n",
      "[Parallel(n_jobs=-1)]: Done 1211 tasks      | elapsed: 58.1min\n",
      "[Parallel(n_jobs=-1)]: Done 1212 tasks      | elapsed: 58.1min\n",
      "[Parallel(n_jobs=-1)]: Done 1213 tasks      | elapsed: 58.1min\n",
      "[Parallel(n_jobs=-1)]: Done 1214 tasks      | elapsed: 58.2min\n",
      "[Parallel(n_jobs=-1)]: Done 1215 tasks      | elapsed: 58.2min\n",
      "[Parallel(n_jobs=-1)]: Done 1216 tasks      | elapsed: 58.2min\n",
      "[Parallel(n_jobs=-1)]: Done 1217 tasks      | elapsed: 58.2min\n",
      "[Parallel(n_jobs=-1)]: Done 1218 tasks      | elapsed: 58.3min\n",
      "[Parallel(n_jobs=-1)]: Done 1219 tasks      | elapsed: 58.3min\n",
      "[Parallel(n_jobs=-1)]: Done 1220 tasks      | elapsed: 58.3min\n",
      "[Parallel(n_jobs=-1)]: Done 1221 tasks      | elapsed: 58.5min\n",
      "[Parallel(n_jobs=-1)]: Done 1222 tasks      | elapsed: 58.9min\n",
      "[Parallel(n_jobs=-1)]: Done 1223 tasks      | elapsed: 58.9min\n",
      "[Parallel(n_jobs=-1)]: Done 1224 tasks      | elapsed: 58.9min\n",
      "[Parallel(n_jobs=-1)]: Done 1225 tasks      | elapsed: 58.9min\n",
      "[Parallel(n_jobs=-1)]: Done 1226 tasks      | elapsed: 58.9min\n",
      "[Parallel(n_jobs=-1)]: Done 1227 tasks      | elapsed: 58.9min\n",
      "[Parallel(n_jobs=-1)]: Done 1228 tasks      | elapsed: 58.9min\n",
      "[Parallel(n_jobs=-1)]: Done 1229 tasks      | elapsed: 59.0min\n",
      "[Parallel(n_jobs=-1)]: Done 1230 tasks      | elapsed: 59.2min\n",
      "[Parallel(n_jobs=-1)]: Done 1231 tasks      | elapsed: 59.6min\n",
      "[Parallel(n_jobs=-1)]: Done 1232 tasks      | elapsed: 59.6min\n",
      "[Parallel(n_jobs=-1)]: Done 1233 tasks      | elapsed: 59.6min\n",
      "[Parallel(n_jobs=-1)]: Done 1234 tasks      | elapsed: 59.6min\n",
      "[Parallel(n_jobs=-1)]: Done 1235 tasks      | elapsed: 59.6min\n",
      "[Parallel(n_jobs=-1)]: Done 1236 tasks      | elapsed: 59.6min\n",
      "[Parallel(n_jobs=-1)]: Done 1237 tasks      | elapsed: 59.7min\n",
      "[Parallel(n_jobs=-1)]: Done 1238 tasks      | elapsed: 59.7min\n",
      "[Parallel(n_jobs=-1)]: Done 1239 tasks      | elapsed: 59.9min\n",
      "[Parallel(n_jobs=-1)]: Done 1240 tasks      | elapsed: 60.1min\n",
      "[Parallel(n_jobs=-1)]: Done 1241 tasks      | elapsed: 60.2min\n",
      "[Parallel(n_jobs=-1)]: Done 1242 tasks      | elapsed: 60.4min\n",
      "[Parallel(n_jobs=-1)]: Done 1243 tasks      | elapsed: 60.4min\n",
      "[Parallel(n_jobs=-1)]: Done 1244 tasks      | elapsed: 60.4min\n",
      "[Parallel(n_jobs=-1)]: Done 1245 tasks      | elapsed: 60.4min\n",
      "[Parallel(n_jobs=-1)]: Done 1246 tasks      | elapsed: 60.4min\n",
      "[Parallel(n_jobs=-1)]: Done 1247 tasks      | elapsed: 60.4min\n",
      "[Parallel(n_jobs=-1)]: Done 1248 tasks      | elapsed: 60.5min\n",
      "[Parallel(n_jobs=-1)]: Done 1249 tasks      | elapsed: 60.5min\n",
      "[Parallel(n_jobs=-1)]: Done 1250 tasks      | elapsed: 60.6min\n",
      "[Parallel(n_jobs=-1)]: Done 1251 tasks      | elapsed: 60.6min\n",
      "[Parallel(n_jobs=-1)]: Done 1252 tasks      | elapsed: 60.6min\n",
      "[Parallel(n_jobs=-1)]: Done 1253 tasks      | elapsed: 60.6min\n",
      "[Parallel(n_jobs=-1)]: Done 1254 tasks      | elapsed: 60.7min\n",
      "[Parallel(n_jobs=-1)]: Done 1255 tasks      | elapsed: 60.7min\n",
      "[Parallel(n_jobs=-1)]: Done 1256 tasks      | elapsed: 60.8min\n",
      "[Parallel(n_jobs=-1)]: Done 1257 tasks      | elapsed: 61.1min\n",
      "[Parallel(n_jobs=-1)]: Done 1258 tasks      | elapsed: 61.2min\n",
      "[Parallel(n_jobs=-1)]: Done 1259 tasks      | elapsed: 61.3min\n",
      "[Parallel(n_jobs=-1)]: Done 1260 tasks      | elapsed: 61.3min\n",
      "[Parallel(n_jobs=-1)]: Done 1261 tasks      | elapsed: 61.4min\n",
      "[Parallel(n_jobs=-1)]: Done 1262 tasks      | elapsed: 61.4min\n",
      "[Parallel(n_jobs=-1)]: Done 1263 tasks      | elapsed: 61.4min\n",
      "[Parallel(n_jobs=-1)]: Done 1264 tasks      | elapsed: 61.6min\n",
      "[Parallel(n_jobs=-1)]: Done 1265 tasks      | elapsed: 61.8min\n",
      "[Parallel(n_jobs=-1)]: Done 1266 tasks      | elapsed: 61.8min\n",
      "[Parallel(n_jobs=-1)]: Done 1267 tasks      | elapsed: 61.9min\n",
      "[Parallel(n_jobs=-1)]: Done 1268 tasks      | elapsed: 61.9min\n",
      "[Parallel(n_jobs=-1)]: Done 1269 tasks      | elapsed: 61.9min\n",
      "[Parallel(n_jobs=-1)]: Done 1270 tasks      | elapsed: 61.9min\n",
      "[Parallel(n_jobs=-1)]: Done 1271 tasks      | elapsed: 61.9min\n",
      "[Parallel(n_jobs=-1)]: Done 1272 tasks      | elapsed: 61.9min\n",
      "[Parallel(n_jobs=-1)]: Done 1273 tasks      | elapsed: 62.0min\n",
      "[Parallel(n_jobs=-1)]: Done 1274 tasks      | elapsed: 62.0min\n",
      "[Parallel(n_jobs=-1)]: Done 1275 tasks      | elapsed: 62.0min\n",
      "[Parallel(n_jobs=-1)]: Done 1276 tasks      | elapsed: 62.1min\n",
      "[Parallel(n_jobs=-1)]: Done 1277 tasks      | elapsed: 62.1min\n",
      "[Parallel(n_jobs=-1)]: Done 1278 tasks      | elapsed: 62.1min\n",
      "[Parallel(n_jobs=-1)]: Done 1279 tasks      | elapsed: 62.1min\n",
      "[Parallel(n_jobs=-1)]: Done 1280 tasks      | elapsed: 62.1min\n",
      "[Parallel(n_jobs=-1)]: Done 1281 tasks      | elapsed: 62.6min\n",
      "[Parallel(n_jobs=-1)]: Done 1282 tasks      | elapsed: 62.6min\n",
      "[Parallel(n_jobs=-1)]: Done 1283 tasks      | elapsed: 62.6min\n",
      "[Parallel(n_jobs=-1)]: Done 1284 tasks      | elapsed: 62.6min\n",
      "[Parallel(n_jobs=-1)]: Done 1285 tasks      | elapsed: 62.6min\n",
      "[Parallel(n_jobs=-1)]: Done 1286 tasks      | elapsed: 62.6min\n",
      "[Parallel(n_jobs=-1)]: Done 1287 tasks      | elapsed: 62.6min\n",
      "[Parallel(n_jobs=-1)]: Done 1288 tasks      | elapsed: 62.6min\n",
      "[Parallel(n_jobs=-1)]: Done 1289 tasks      | elapsed: 62.8min\n",
      "[Parallel(n_jobs=-1)]: Done 1290 tasks      | elapsed: 62.8min\n",
      "[Parallel(n_jobs=-1)]: Done 1291 tasks      | elapsed: 62.8min\n",
      "[Parallel(n_jobs=-1)]: Done 1292 tasks      | elapsed: 62.8min\n",
      "[Parallel(n_jobs=-1)]: Done 1293 tasks      | elapsed: 62.8min\n",
      "[Parallel(n_jobs=-1)]: Done 1294 tasks      | elapsed: 62.8min\n",
      "[Parallel(n_jobs=-1)]: Done 1295 tasks      | elapsed: 62.8min\n",
      "[Parallel(n_jobs=-1)]: Done 1296 tasks      | elapsed: 62.8min\n",
      "[Parallel(n_jobs=-1)]: Done 1297 tasks      | elapsed: 63.1min\n",
      "[Parallel(n_jobs=-1)]: Done 1298 tasks      | elapsed: 63.1min\n",
      "[Parallel(n_jobs=-1)]: Done 1299 tasks      | elapsed: 63.1min\n",
      "[Parallel(n_jobs=-1)]: Done 1300 tasks      | elapsed: 63.1min\n",
      "[Parallel(n_jobs=-1)]: Done 1301 tasks      | elapsed: 63.1min\n",
      "[Parallel(n_jobs=-1)]: Done 1302 tasks      | elapsed: 63.1min\n",
      "[Parallel(n_jobs=-1)]: Done 1303 tasks      | elapsed: 63.1min\n",
      "[Parallel(n_jobs=-1)]: Done 1304 tasks      | elapsed: 63.1min\n",
      "[Parallel(n_jobs=-1)]: Done 1305 tasks      | elapsed: 63.3min\n",
      "[Parallel(n_jobs=-1)]: Done 1306 tasks      | elapsed: 63.3min\n",
      "[Parallel(n_jobs=-1)]: Done 1307 tasks      | elapsed: 63.3min\n",
      "[Parallel(n_jobs=-1)]: Done 1308 tasks      | elapsed: 63.3min\n",
      "[Parallel(n_jobs=-1)]: Done 1309 tasks      | elapsed: 63.3min\n",
      "[Parallel(n_jobs=-1)]: Done 1310 tasks      | elapsed: 63.3min\n",
      "[Parallel(n_jobs=-1)]: Done 1311 tasks      | elapsed: 63.3min\n",
      "[Parallel(n_jobs=-1)]: Done 1312 tasks      | elapsed: 63.3min\n",
      "[Parallel(n_jobs=-1)]: Done 1313 tasks      | elapsed: 63.4min\n",
      "[Parallel(n_jobs=-1)]: Done 1314 tasks      | elapsed: 63.5min\n",
      "[Parallel(n_jobs=-1)]: Done 1315 tasks      | elapsed: 63.5min\n",
      "[Parallel(n_jobs=-1)]: Done 1316 tasks      | elapsed: 63.5min\n",
      "[Parallel(n_jobs=-1)]: Done 1317 tasks      | elapsed: 63.5min\n",
      "[Parallel(n_jobs=-1)]: Done 1318 tasks      | elapsed: 63.5min\n",
      "[Parallel(n_jobs=-1)]: Done 1319 tasks      | elapsed: 63.5min\n",
      "[Parallel(n_jobs=-1)]: Done 1320 tasks      | elapsed: 63.5min\n",
      "[Parallel(n_jobs=-1)]: Done 1321 tasks      | elapsed: 64.2min\n",
      "[Parallel(n_jobs=-1)]: Done 1322 tasks      | elapsed: 64.2min\n",
      "[Parallel(n_jobs=-1)]: Done 1323 tasks      | elapsed: 64.2min\n",
      "[Parallel(n_jobs=-1)]: Done 1324 tasks      | elapsed: 64.2min\n",
      "[Parallel(n_jobs=-1)]: Done 1325 tasks      | elapsed: 64.2min\n",
      "[Parallel(n_jobs=-1)]: Done 1326 tasks      | elapsed: 64.2min\n"
     ]
    },
    {
     "name": "stderr",
     "output_type": "stream",
     "text": [
      "[Parallel(n_jobs=-1)]: Done 1327 tasks      | elapsed: 64.2min\n",
      "[Parallel(n_jobs=-1)]: Done 1328 tasks      | elapsed: 64.2min\n",
      "[Parallel(n_jobs=-1)]: Done 1329 tasks      | elapsed: 64.6min\n",
      "[Parallel(n_jobs=-1)]: Done 1330 tasks      | elapsed: 64.6min\n",
      "[Parallel(n_jobs=-1)]: Done 1331 tasks      | elapsed: 64.6min\n",
      "[Parallel(n_jobs=-1)]: Done 1332 tasks      | elapsed: 64.6min\n",
      "[Parallel(n_jobs=-1)]: Done 1333 tasks      | elapsed: 64.6min\n",
      "[Parallel(n_jobs=-1)]: Done 1334 tasks      | elapsed: 64.6min\n",
      "[Parallel(n_jobs=-1)]: Done 1335 tasks      | elapsed: 64.6min\n",
      "[Parallel(n_jobs=-1)]: Done 1336 tasks      | elapsed: 64.7min\n",
      "[Parallel(n_jobs=-1)]: Done 1337 tasks      | elapsed: 64.8min\n",
      "[Parallel(n_jobs=-1)]: Done 1338 tasks      | elapsed: 64.9min\n",
      "[Parallel(n_jobs=-1)]: Done 1339 tasks      | elapsed: 64.9min\n",
      "[Parallel(n_jobs=-1)]: Done 1340 tasks      | elapsed: 64.9min\n",
      "[Parallel(n_jobs=-1)]: Done 1341 tasks      | elapsed: 65.0min\n",
      "[Parallel(n_jobs=-1)]: Done 1342 tasks      | elapsed: 65.0min\n",
      "[Parallel(n_jobs=-1)]: Done 1343 tasks      | elapsed: 65.0min\n",
      "[Parallel(n_jobs=-1)]: Done 1344 tasks      | elapsed: 65.0min\n",
      "[Parallel(n_jobs=-1)]: Done 1345 tasks      | elapsed: 65.3min\n",
      "[Parallel(n_jobs=-1)]: Done 1346 tasks      | elapsed: 65.3min\n",
      "[Parallel(n_jobs=-1)]: Done 1347 tasks      | elapsed: 65.3min\n",
      "[Parallel(n_jobs=-1)]: Done 1348 tasks      | elapsed: 65.3min\n",
      "[Parallel(n_jobs=-1)]: Done 1349 tasks      | elapsed: 65.3min\n",
      "[Parallel(n_jobs=-1)]: Done 1350 tasks      | elapsed: 65.3min\n",
      "[Parallel(n_jobs=-1)]: Done 1351 tasks      | elapsed: 65.3min\n",
      "[Parallel(n_jobs=-1)]: Done 1352 tasks      | elapsed: 65.3min\n",
      "[Parallel(n_jobs=-1)]: Done 1353 tasks      | elapsed: 65.4min\n",
      "[Parallel(n_jobs=-1)]: Done 1354 tasks      | elapsed: 65.5min\n",
      "[Parallel(n_jobs=-1)]: Done 1355 tasks      | elapsed: 65.6min\n",
      "[Parallel(n_jobs=-1)]: Done 1356 tasks      | elapsed: 65.7min\n",
      "[Parallel(n_jobs=-1)]: Done 1357 tasks      | elapsed: 65.7min\n",
      "[Parallel(n_jobs=-1)]: Done 1358 tasks      | elapsed: 65.7min\n",
      "[Parallel(n_jobs=-1)]: Done 1359 tasks      | elapsed: 65.7min\n",
      "[Parallel(n_jobs=-1)]: Done 1360 tasks      | elapsed: 65.7min\n",
      "[Parallel(n_jobs=-1)]: Done 1361 tasks      | elapsed: 66.2min\n",
      "[Parallel(n_jobs=-1)]: Done 1362 tasks      | elapsed: 66.3min\n",
      "[Parallel(n_jobs=-1)]: Done 1363 tasks      | elapsed: 66.4min\n",
      "[Parallel(n_jobs=-1)]: Done 1364 tasks      | elapsed: 66.4min\n",
      "[Parallel(n_jobs=-1)]: Done 1365 tasks      | elapsed: 66.4min\n",
      "[Parallel(n_jobs=-1)]: Done 1366 tasks      | elapsed: 66.4min\n",
      "[Parallel(n_jobs=-1)]: Done 1367 tasks      | elapsed: 66.4min\n",
      "[Parallel(n_jobs=-1)]: Done 1368 tasks      | elapsed: 66.5min\n",
      "[Parallel(n_jobs=-1)]: Done 1369 tasks      | elapsed: 66.8min\n",
      "[Parallel(n_jobs=-1)]: Done 1370 tasks      | elapsed: 66.8min\n",
      "[Parallel(n_jobs=-1)]: Done 1371 tasks      | elapsed: 66.8min\n",
      "[Parallel(n_jobs=-1)]: Done 1372 tasks      | elapsed: 66.9min\n",
      "[Parallel(n_jobs=-1)]: Done 1373 tasks      | elapsed: 66.9min\n",
      "[Parallel(n_jobs=-1)]: Done 1374 tasks      | elapsed: 66.9min\n",
      "[Parallel(n_jobs=-1)]: Done 1375 tasks      | elapsed: 66.9min\n",
      "[Parallel(n_jobs=-1)]: Done 1376 tasks      | elapsed: 66.9min\n",
      "[Parallel(n_jobs=-1)]: Done 1377 tasks      | elapsed: 67.0min\n",
      "[Parallel(n_jobs=-1)]: Done 1378 tasks      | elapsed: 67.0min\n",
      "[Parallel(n_jobs=-1)]: Done 1379 tasks      | elapsed: 67.1min\n",
      "[Parallel(n_jobs=-1)]: Done 1380 tasks      | elapsed: 67.1min\n",
      "[Parallel(n_jobs=-1)]: Done 1381 tasks      | elapsed: 67.3min\n",
      "[Parallel(n_jobs=-1)]: Done 1382 tasks      | elapsed: 67.4min\n",
      "[Parallel(n_jobs=-1)]: Done 1383 tasks      | elapsed: 67.4min\n",
      "[Parallel(n_jobs=-1)]: Done 1384 tasks      | elapsed: 67.4min\n",
      "[Parallel(n_jobs=-1)]: Done 1385 tasks      | elapsed: 67.7min\n",
      "[Parallel(n_jobs=-1)]: Done 1386 tasks      | elapsed: 67.8min\n",
      "[Parallel(n_jobs=-1)]: Done 1387 tasks      | elapsed: 67.9min\n",
      "[Parallel(n_jobs=-1)]: Done 1388 tasks      | elapsed: 67.9min\n",
      "[Parallel(n_jobs=-1)]: Done 1389 tasks      | elapsed: 68.0min\n",
      "[Parallel(n_jobs=-1)]: Done 1390 tasks      | elapsed: 68.0min\n",
      "[Parallel(n_jobs=-1)]: Done 1391 tasks      | elapsed: 68.0min\n",
      "[Parallel(n_jobs=-1)]: Done 1392 tasks      | elapsed: 68.0min\n",
      "[Parallel(n_jobs=-1)]: Done 1393 tasks      | elapsed: 68.1min\n",
      "[Parallel(n_jobs=-1)]: Done 1394 tasks      | elapsed: 68.1min\n",
      "[Parallel(n_jobs=-1)]: Done 1395 tasks      | elapsed: 68.1min\n",
      "[Parallel(n_jobs=-1)]: Done 1396 tasks      | elapsed: 68.2min\n",
      "[Parallel(n_jobs=-1)]: Done 1397 tasks      | elapsed: 68.2min\n",
      "[Parallel(n_jobs=-1)]: Done 1398 tasks      | elapsed: 68.2min\n",
      "[Parallel(n_jobs=-1)]: Done 1399 tasks      | elapsed: 68.2min\n",
      "[Parallel(n_jobs=-1)]: Done 1400 tasks      | elapsed: 68.2min\n",
      "[Parallel(n_jobs=-1)]: Done 1401 tasks      | elapsed: 68.2min\n",
      "[Parallel(n_jobs=-1)]: Done 1402 tasks      | elapsed: 68.3min\n",
      "[Parallel(n_jobs=-1)]: Done 1403 tasks      | elapsed: 68.4min\n",
      "[Parallel(n_jobs=-1)]: Done 1404 tasks      | elapsed: 68.4min\n",
      "[Parallel(n_jobs=-1)]: Done 1405 tasks      | elapsed: 68.4min\n",
      "[Parallel(n_jobs=-1)]: Done 1406 tasks      | elapsed: 68.6min\n",
      "[Parallel(n_jobs=-1)]: Done 1407 tasks      | elapsed: 68.6min\n",
      "[Parallel(n_jobs=-1)]: Done 1408 tasks      | elapsed: 68.6min\n",
      "[Parallel(n_jobs=-1)]: Done 1409 tasks      | elapsed: 68.7min\n",
      "[Parallel(n_jobs=-1)]: Done 1410 tasks      | elapsed: 69.0min\n",
      "[Parallel(n_jobs=-1)]: Done 1411 tasks      | elapsed: 69.2min\n",
      "[Parallel(n_jobs=-1)]: Done 1412 tasks      | elapsed: 69.2min\n",
      "[Parallel(n_jobs=-1)]: Done 1413 tasks      | elapsed: 69.2min\n",
      "[Parallel(n_jobs=-1)]: Done 1414 tasks      | elapsed: 69.2min\n",
      "[Parallel(n_jobs=-1)]: Done 1415 tasks      | elapsed: 69.2min\n",
      "[Parallel(n_jobs=-1)]: Done 1416 tasks      | elapsed: 69.3min\n",
      "[Parallel(n_jobs=-1)]: Done 1417 tasks      | elapsed: 69.3min\n",
      "[Parallel(n_jobs=-1)]: Done 1418 tasks      | elapsed: 69.3min\n",
      "[Parallel(n_jobs=-1)]: Done 1419 tasks      | elapsed: 69.4min\n",
      "[Parallel(n_jobs=-1)]: Done 1420 tasks      | elapsed: 69.5min\n",
      "[Parallel(n_jobs=-1)]: Done 1421 tasks      | elapsed: 69.6min\n",
      "[Parallel(n_jobs=-1)]: Done 1422 tasks      | elapsed: 69.6min\n",
      "[Parallel(n_jobs=-1)]: Done 1423 tasks      | elapsed: 69.7min\n",
      "[Parallel(n_jobs=-1)]: Done 1424 tasks      | elapsed: 69.7min\n",
      "[Parallel(n_jobs=-1)]: Done 1425 tasks      | elapsed: 69.7min\n",
      "[Parallel(n_jobs=-1)]: Done 1426 tasks      | elapsed: 69.8min\n",
      "[Parallel(n_jobs=-1)]: Done 1427 tasks      | elapsed: 70.1min\n",
      "[Parallel(n_jobs=-1)]: Done 1428 tasks      | elapsed: 70.1min\n",
      "[Parallel(n_jobs=-1)]: Done 1429 tasks      | elapsed: 70.1min\n",
      "[Parallel(n_jobs=-1)]: Done 1430 tasks      | elapsed: 70.2min\n",
      "[Parallel(n_jobs=-1)]: Done 1431 tasks      | elapsed: 70.2min\n",
      "[Parallel(n_jobs=-1)]: Done 1432 tasks      | elapsed: 70.2min\n",
      "[Parallel(n_jobs=-1)]: Done 1433 tasks      | elapsed: 70.2min\n",
      "[Parallel(n_jobs=-1)]: Done 1434 tasks      | elapsed: 70.2min\n",
      "[Parallel(n_jobs=-1)]: Done 1435 tasks      | elapsed: 70.4min\n",
      "[Parallel(n_jobs=-1)]: Done 1436 tasks      | elapsed: 70.6min\n",
      "[Parallel(n_jobs=-1)]: Done 1437 tasks      | elapsed: 70.7min\n",
      "[Parallel(n_jobs=-1)]: Done 1438 tasks      | elapsed: 70.7min\n",
      "[Parallel(n_jobs=-1)]: Done 1439 tasks      | elapsed: 70.7min\n",
      "[Parallel(n_jobs=-1)]: Done 1440 tasks      | elapsed: 70.8min\n",
      "[Parallel(n_jobs=-1)]: Done 1441 tasks      | elapsed: 70.9min\n",
      "[Parallel(n_jobs=-1)]: Done 1442 tasks      | elapsed: 70.9min\n",
      "[Parallel(n_jobs=-1)]: Done 1443 tasks      | elapsed: 71.2min\n",
      "[Parallel(n_jobs=-1)]: Done 1444 tasks      | elapsed: 71.2min\n",
      "[Parallel(n_jobs=-1)]: Done 1445 tasks      | elapsed: 71.2min\n",
      "[Parallel(n_jobs=-1)]: Done 1446 tasks      | elapsed: 71.3min\n",
      "[Parallel(n_jobs=-1)]: Done 1447 tasks      | elapsed: 71.3min\n",
      "[Parallel(n_jobs=-1)]: Done 1448 tasks      | elapsed: 71.3min\n",
      "[Parallel(n_jobs=-1)]: Done 1449 tasks      | elapsed: 71.3min\n",
      "[Parallel(n_jobs=-1)]: Done 1450 tasks      | elapsed: 71.3min\n",
      "[Parallel(n_jobs=-1)]: Done 1451 tasks      | elapsed: 71.9min\n",
      "[Parallel(n_jobs=-1)]: Done 1452 tasks      | elapsed: 71.9min\n",
      "[Parallel(n_jobs=-1)]: Done 1453 tasks      | elapsed: 71.9min\n",
      "[Parallel(n_jobs=-1)]: Done 1454 tasks      | elapsed: 71.9min\n",
      "[Parallel(n_jobs=-1)]: Done 1455 tasks      | elapsed: 71.9min\n",
      "[Parallel(n_jobs=-1)]: Done 1456 tasks      | elapsed: 71.9min\n",
      "[Parallel(n_jobs=-1)]: Done 1457 tasks      | elapsed: 71.9min\n"
     ]
    },
    {
     "name": "stderr",
     "output_type": "stream",
     "text": [
      "[Parallel(n_jobs=-1)]: Done 1458 tasks      | elapsed: 71.9min\n",
      "[Parallel(n_jobs=-1)]: Done 1459 tasks      | elapsed: 72.1min\n",
      "[Parallel(n_jobs=-1)]: Done 1460 tasks      | elapsed: 72.2min\n",
      "[Parallel(n_jobs=-1)]: Done 1461 tasks      | elapsed: 72.3min\n",
      "[Parallel(n_jobs=-1)]: Done 1462 tasks      | elapsed: 72.3min\n",
      "[Parallel(n_jobs=-1)]: Done 1463 tasks      | elapsed: 72.4min\n",
      "[Parallel(n_jobs=-1)]: Done 1464 tasks      | elapsed: 72.4min\n",
      "[Parallel(n_jobs=-1)]: Done 1465 tasks      | elapsed: 72.4min\n",
      "[Parallel(n_jobs=-1)]: Done 1466 tasks      | elapsed: 72.4min\n",
      "[Parallel(n_jobs=-1)]: Done 1467 tasks      | elapsed: 72.4min\n",
      "[Parallel(n_jobs=-1)]: Done 1468 tasks      | elapsed: 72.4min\n",
      "[Parallel(n_jobs=-1)]: Done 1469 tasks      | elapsed: 72.5min\n",
      "[Parallel(n_jobs=-1)]: Done 1470 tasks      | elapsed: 72.5min\n",
      "[Parallel(n_jobs=-1)]: Done 1471 tasks      | elapsed: 72.5min\n",
      "[Parallel(n_jobs=-1)]: Done 1472 tasks      | elapsed: 72.5min\n",
      "[Parallel(n_jobs=-1)]: Done 1473 tasks      | elapsed: 72.5min\n",
      "[Parallel(n_jobs=-1)]: Done 1474 tasks      | elapsed: 72.5min\n",
      "[Parallel(n_jobs=-1)]: Done 1475 tasks      | elapsed: 72.6min\n",
      "[Parallel(n_jobs=-1)]: Done 1476 tasks      | elapsed: 72.6min\n",
      "[Parallel(n_jobs=-1)]: Done 1477 tasks      | elapsed: 72.6min\n",
      "[Parallel(n_jobs=-1)]: Done 1478 tasks      | elapsed: 72.7min\n",
      "[Parallel(n_jobs=-1)]: Done 1479 tasks      | elapsed: 72.7min\n",
      "[Parallel(n_jobs=-1)]: Done 1480 tasks      | elapsed: 72.7min\n",
      "[Parallel(n_jobs=-1)]: Done 1481 tasks      | elapsed: 73.1min\n",
      "[Parallel(n_jobs=-1)]: Done 1482 tasks      | elapsed: 73.2min\n",
      "[Parallel(n_jobs=-1)]: Done 1483 tasks      | elapsed: 73.4min\n",
      "[Parallel(n_jobs=-1)]: Done 1484 tasks      | elapsed: 73.5min\n",
      "[Parallel(n_jobs=-1)]: Done 1485 tasks      | elapsed: 73.6min\n",
      "[Parallel(n_jobs=-1)]: Done 1500 out of 1500 | elapsed: 74.1min finished\n"
     ]
    },
    {
     "data": {
      "text/plain": [
       "RandomizedSearchCV(cv=5, estimator=RandomForestRegressor(random_state=42),\n",
       "                   n_iter=300, n_jobs=-1,\n",
       "                   param_distributions={'max_depth': [None, 20, 40, 60],\n",
       "                                        'max_features': [0.5, 1.0, 'sqrt',\n",
       "                                                         'auto'],\n",
       "                                        'max_samples': [10000],\n",
       "                                        'min_samples_leaf': array([ 3,  5,  7,  9, 11, 13, 15, 17, 19]),\n",
       "                                        'min_samples_split': array([ 2,  4,  6,  8, 10, 12, 14, 16, 18]),\n",
       "                                        'n_estimators': array([10, 20, 30, 40, 50, 60, 70, 80, 90]),\n",
       "                                        'n_jobs': [-1]},\n",
       "                   verbose=20)"
      ]
     },
     "execution_count": 82,
     "metadata": {},
     "output_type": "execute_result"
    }
   ],
   "source": [
    "rs_model_comb_2.fit(X_train,y_train)"
   ]
  },
  {
   "cell_type": "code",
   "execution_count": 83,
   "metadata": {},
   "outputs": [
    {
     "data": {
      "text/plain": [
       "{'n_jobs': -1,\n",
       " 'n_estimators': 80,\n",
       " 'min_samples_split': 6,\n",
       " 'min_samples_leaf': 3,\n",
       " 'max_samples': 10000,\n",
       " 'max_features': 1.0,\n",
       " 'max_depth': 60}"
      ]
     },
     "execution_count": 83,
     "metadata": {},
     "output_type": "execute_result"
    }
   ],
   "source": [
    "rs_model_comb_2.best_params_"
   ]
  },
  {
   "cell_type": "code",
   "execution_count": 84,
   "metadata": {},
   "outputs": [
    {
     "data": {
      "text/plain": [
       "{'Train MAE': 5661.755097247104,\n",
       " 'Val MAE': 7340.563073168048,\n",
       " 'Train MSLE': 0.0681086676408582,\n",
       " 'Val MSLE': 0.08864732321984334,\n",
       " 'Train RMSLE': 0.26097637372156546,\n",
       " 'Val RMSLE': 0.29773700344405185,\n",
       " 'Train R2': 0.8538673545115498,\n",
       " 'Val R2': 0.8225918821237768}"
      ]
     },
     "execution_count": 84,
     "metadata": {},
     "output_type": "execute_result"
    }
   ],
   "source": [
    "eval_scores(rs_model_comb_2, X_train, X_val, y_train, y_val)"
   ]
  },
  {
   "cell_type": "code",
   "execution_count": 56,
   "metadata": {},
   "outputs": [],
   "source": [
    "np.random.seed(42)\n",
    "rs_model_2_long = RandomizedSearchCV(RandomForestRegressor(random_state=42), \n",
    "                              param_distributions=rf_grid_2,\n",
    "                              cv=5,\n",
    "                              n_iter=100,\n",
    "                              n_jobs=-1,\n",
    "                              verbose=12)"
   ]
  },
  {
   "cell_type": "code",
   "execution_count": 57,
   "metadata": {
    "scrolled": true
   },
   "outputs": [
    {
     "name": "stdout",
     "output_type": "stream",
     "text": [
      "Fitting 5 folds for each of 100 candidates, totalling 500 fits\n"
     ]
    },
    {
     "name": "stderr",
     "output_type": "stream",
     "text": [
      "[Parallel(n_jobs=-1)]: Using backend LokyBackend with 8 concurrent workers.\n",
      "[Parallel(n_jobs=-1)]: Done   1 tasks      | elapsed:    9.2s\n",
      "[Parallel(n_jobs=-1)]: Done   2 tasks      | elapsed:   10.0s\n",
      "[Parallel(n_jobs=-1)]: Done   3 tasks      | elapsed:   10.1s\n",
      "[Parallel(n_jobs=-1)]: Done   4 tasks      | elapsed:   10.4s\n",
      "[Parallel(n_jobs=-1)]: Done   5 tasks      | elapsed:   10.6s\n",
      "[Parallel(n_jobs=-1)]: Done   6 tasks      | elapsed:   11.7s\n",
      "[Parallel(n_jobs=-1)]: Done   7 tasks      | elapsed:   11.8s\n",
      "[Parallel(n_jobs=-1)]: Done   8 tasks      | elapsed:   12.0s\n",
      "[Parallel(n_jobs=-1)]: Done   9 tasks      | elapsed:   17.4s\n",
      "[Parallel(n_jobs=-1)]: Done  10 tasks      | elapsed:   17.9s\n",
      "[Parallel(n_jobs=-1)]: Done  11 tasks      | elapsed:   18.8s\n",
      "[Parallel(n_jobs=-1)]: Done  12 tasks      | elapsed:   18.9s\n",
      "[Parallel(n_jobs=-1)]: Done  13 tasks      | elapsed:   20.7s\n",
      "[Parallel(n_jobs=-1)]: Done  14 tasks      | elapsed:   21.8s\n",
      "[Parallel(n_jobs=-1)]: Done  15 tasks      | elapsed:   23.1s\n",
      "[Parallel(n_jobs=-1)]: Done  16 tasks      | elapsed:   47.9s\n",
      "[Parallel(n_jobs=-1)]: Done  17 tasks      | elapsed:   53.7s\n",
      "[Parallel(n_jobs=-1)]: Done  18 tasks      | elapsed:   55.1s\n",
      "[Parallel(n_jobs=-1)]: Done  19 tasks      | elapsed:   57.6s\n",
      "[Parallel(n_jobs=-1)]: Done  20 tasks      | elapsed:   60.0s\n",
      "[Parallel(n_jobs=-1)]: Done  21 tasks      | elapsed:  1.0min\n",
      "[Parallel(n_jobs=-1)]: Done  22 tasks      | elapsed:  1.0min\n",
      "[Parallel(n_jobs=-1)]: Done  23 tasks      | elapsed:  1.1min\n",
      "[Parallel(n_jobs=-1)]: Done  24 tasks      | elapsed:  1.1min\n",
      "[Parallel(n_jobs=-1)]: Done  25 tasks      | elapsed:  1.1min\n",
      "[Parallel(n_jobs=-1)]: Done  26 tasks      | elapsed:  1.1min\n",
      "[Parallel(n_jobs=-1)]: Done  27 tasks      | elapsed:  1.2min\n",
      "[Parallel(n_jobs=-1)]: Done  28 tasks      | elapsed:  1.2min\n",
      "[Parallel(n_jobs=-1)]: Done  29 tasks      | elapsed:  1.2min\n",
      "[Parallel(n_jobs=-1)]: Done  30 tasks      | elapsed:  1.3min\n",
      "[Parallel(n_jobs=-1)]: Done  31 tasks      | elapsed:  1.3min\n",
      "[Parallel(n_jobs=-1)]: Done  32 tasks      | elapsed:  1.3min\n",
      "[Parallel(n_jobs=-1)]: Done  33 tasks      | elapsed:  1.4min\n",
      "[Parallel(n_jobs=-1)]: Done  34 tasks      | elapsed:  1.4min\n",
      "[Parallel(n_jobs=-1)]: Done  35 tasks      | elapsed:  1.4min\n",
      "[Parallel(n_jobs=-1)]: Done  36 tasks      | elapsed:  1.5min\n",
      "[Parallel(n_jobs=-1)]: Done  37 tasks      | elapsed:  1.6min\n",
      "[Parallel(n_jobs=-1)]: Done  38 tasks      | elapsed:  1.6min\n",
      "[Parallel(n_jobs=-1)]: Done  39 tasks      | elapsed:  1.7min\n",
      "[Parallel(n_jobs=-1)]: Done  40 tasks      | elapsed:  1.7min\n",
      "[Parallel(n_jobs=-1)]: Done  41 tasks      | elapsed:  1.7min\n",
      "[Parallel(n_jobs=-1)]: Done  42 tasks      | elapsed:  1.7min\n",
      "[Parallel(n_jobs=-1)]: Done  43 tasks      | elapsed:  1.7min\n",
      "[Parallel(n_jobs=-1)]: Done  44 tasks      | elapsed:  1.8min\n",
      "[Parallel(n_jobs=-1)]: Done  45 tasks      | elapsed:  1.8min\n",
      "[Parallel(n_jobs=-1)]: Done  46 tasks      | elapsed:  2.1min\n",
      "[Parallel(n_jobs=-1)]: Done  47 tasks      | elapsed:  2.2min\n",
      "[Parallel(n_jobs=-1)]: Done  48 tasks      | elapsed:  2.2min\n",
      "[Parallel(n_jobs=-1)]: Done  49 tasks      | elapsed:  2.3min\n",
      "[Parallel(n_jobs=-1)]: Done  50 tasks      | elapsed:  2.3min\n",
      "[Parallel(n_jobs=-1)]: Done  51 tasks      | elapsed:  2.3min\n",
      "[Parallel(n_jobs=-1)]: Done  52 tasks      | elapsed:  2.3min\n",
      "[Parallel(n_jobs=-1)]: Done  53 tasks      | elapsed:  2.3min\n",
      "[Parallel(n_jobs=-1)]: Done  54 tasks      | elapsed:  2.4min\n",
      "[Parallel(n_jobs=-1)]: Done  55 tasks      | elapsed:  2.4min\n",
      "[Parallel(n_jobs=-1)]: Done  56 tasks      | elapsed:  2.4min\n",
      "[Parallel(n_jobs=-1)]: Done  57 tasks      | elapsed:  2.5min\n",
      "[Parallel(n_jobs=-1)]: Done  58 tasks      | elapsed:  2.5min\n",
      "[Parallel(n_jobs=-1)]: Done  59 tasks      | elapsed:  2.5min\n",
      "[Parallel(n_jobs=-1)]: Done  60 tasks      | elapsed:  2.5min\n",
      "[Parallel(n_jobs=-1)]: Done  61 tasks      | elapsed:  2.7min\n",
      "[Parallel(n_jobs=-1)]: Done  62 tasks      | elapsed:  2.9min\n",
      "[Parallel(n_jobs=-1)]: Done  63 tasks      | elapsed:  2.9min\n",
      "[Parallel(n_jobs=-1)]: Done  64 tasks      | elapsed:  2.9min\n",
      "[Parallel(n_jobs=-1)]: Done  65 tasks      | elapsed:  2.9min\n",
      "[Parallel(n_jobs=-1)]: Done  66 tasks      | elapsed:  2.9min\n",
      "[Parallel(n_jobs=-1)]: Done  67 tasks      | elapsed:  2.9min\n",
      "[Parallel(n_jobs=-1)]: Done  68 tasks      | elapsed:  2.9min\n",
      "[Parallel(n_jobs=-1)]: Done  69 tasks      | elapsed:  3.0min\n",
      "[Parallel(n_jobs=-1)]: Done  70 tasks      | elapsed:  3.1min\n",
      "[Parallel(n_jobs=-1)]: Done  71 tasks      | elapsed:  3.2min\n",
      "[Parallel(n_jobs=-1)]: Done  72 tasks      | elapsed:  3.2min\n",
      "[Parallel(n_jobs=-1)]: Done  73 tasks      | elapsed:  3.2min\n",
      "[Parallel(n_jobs=-1)]: Done  74 tasks      | elapsed:  3.2min\n",
      "[Parallel(n_jobs=-1)]: Done  75 tasks      | elapsed:  3.2min\n",
      "[Parallel(n_jobs=-1)]: Done  76 tasks      | elapsed:  3.2min\n",
      "[Parallel(n_jobs=-1)]: Done  77 tasks      | elapsed:  3.2min\n",
      "[Parallel(n_jobs=-1)]: Done  78 tasks      | elapsed:  3.3min\n",
      "[Parallel(n_jobs=-1)]: Done  79 tasks      | elapsed:  3.3min\n",
      "[Parallel(n_jobs=-1)]: Done  80 tasks      | elapsed:  3.3min\n",
      "[Parallel(n_jobs=-1)]: Done  81 tasks      | elapsed:  3.4min\n",
      "[Parallel(n_jobs=-1)]: Done  82 tasks      | elapsed:  3.4min\n",
      "[Parallel(n_jobs=-1)]: Done  83 tasks      | elapsed:  3.4min\n",
      "[Parallel(n_jobs=-1)]: Done  84 tasks      | elapsed:  3.4min\n",
      "[Parallel(n_jobs=-1)]: Done  85 tasks      | elapsed:  3.4min\n",
      "[Parallel(n_jobs=-1)]: Done  86 tasks      | elapsed:  3.4min\n",
      "[Parallel(n_jobs=-1)]: Done  87 tasks      | elapsed:  3.5min\n",
      "[Parallel(n_jobs=-1)]: Done  88 tasks      | elapsed:  3.5min\n",
      "[Parallel(n_jobs=-1)]: Done  89 tasks      | elapsed:  3.5min\n",
      "[Parallel(n_jobs=-1)]: Done  90 tasks      | elapsed:  3.5min\n",
      "[Parallel(n_jobs=-1)]: Done  91 tasks      | elapsed:  3.6min\n",
      "[Parallel(n_jobs=-1)]: Done  92 tasks      | elapsed:  3.6min\n",
      "[Parallel(n_jobs=-1)]: Done  93 tasks      | elapsed:  3.6min\n",
      "[Parallel(n_jobs=-1)]: Done  94 tasks      | elapsed:  3.7min\n",
      "[Parallel(n_jobs=-1)]: Done  95 tasks      | elapsed:  3.7min\n",
      "[Parallel(n_jobs=-1)]: Done  96 tasks      | elapsed:  3.7min\n",
      "[Parallel(n_jobs=-1)]: Done  97 tasks      | elapsed:  3.7min\n",
      "[Parallel(n_jobs=-1)]: Done  98 tasks      | elapsed:  3.8min\n",
      "[Parallel(n_jobs=-1)]: Done  99 tasks      | elapsed:  3.9min\n",
      "[Parallel(n_jobs=-1)]: Done 100 tasks      | elapsed:  3.9min\n",
      "[Parallel(n_jobs=-1)]: Done 101 tasks      | elapsed:  4.1min\n",
      "[Parallel(n_jobs=-1)]: Done 102 tasks      | elapsed:  4.1min\n",
      "[Parallel(n_jobs=-1)]: Done 103 tasks      | elapsed:  4.1min\n",
      "[Parallel(n_jobs=-1)]: Done 104 tasks      | elapsed:  4.1min\n",
      "[Parallel(n_jobs=-1)]: Done 105 tasks      | elapsed:  4.1min\n",
      "[Parallel(n_jobs=-1)]: Done 106 tasks      | elapsed:  4.2min\n",
      "[Parallel(n_jobs=-1)]: Done 107 tasks      | elapsed:  4.3min\n",
      "[Parallel(n_jobs=-1)]: Done 108 tasks      | elapsed:  4.3min\n",
      "[Parallel(n_jobs=-1)]: Done 109 tasks      | elapsed:  4.3min\n",
      "[Parallel(n_jobs=-1)]: Done 110 tasks      | elapsed:  4.3min\n",
      "[Parallel(n_jobs=-1)]: Done 111 tasks      | elapsed:  4.4min\n",
      "[Parallel(n_jobs=-1)]: Done 112 tasks      | elapsed:  4.4min\n",
      "[Parallel(n_jobs=-1)]: Done 113 tasks      | elapsed:  4.4min\n",
      "[Parallel(n_jobs=-1)]: Done 114 tasks      | elapsed:  4.5min\n",
      "[Parallel(n_jobs=-1)]: Done 115 tasks      | elapsed:  4.6min\n",
      "[Parallel(n_jobs=-1)]: Done 116 tasks      | elapsed:  4.9min\n",
      "[Parallel(n_jobs=-1)]: Done 117 tasks      | elapsed:  4.9min\n",
      "[Parallel(n_jobs=-1)]: Done 118 tasks      | elapsed:  4.9min\n",
      "[Parallel(n_jobs=-1)]: Done 119 tasks      | elapsed:  4.9min\n",
      "[Parallel(n_jobs=-1)]: Done 120 tasks      | elapsed:  5.0min\n",
      "[Parallel(n_jobs=-1)]: Done 121 tasks      | elapsed:  5.0min\n",
      "[Parallel(n_jobs=-1)]: Done 122 tasks      | elapsed:  5.0min\n",
      "[Parallel(n_jobs=-1)]: Done 123 tasks      | elapsed:  5.0min\n",
      "[Parallel(n_jobs=-1)]: Done 124 tasks      | elapsed:  5.1min\n",
      "[Parallel(n_jobs=-1)]: Done 125 tasks      | elapsed:  5.1min\n",
      "[Parallel(n_jobs=-1)]: Done 126 tasks      | elapsed:  5.1min\n",
      "[Parallel(n_jobs=-1)]: Done 127 tasks      | elapsed:  5.2min\n",
      "[Parallel(n_jobs=-1)]: Done 128 tasks      | elapsed:  5.2min\n",
      "[Parallel(n_jobs=-1)]: Done 129 tasks      | elapsed:  5.2min\n",
      "[Parallel(n_jobs=-1)]: Done 130 tasks      | elapsed:  5.2min\n",
      "[Parallel(n_jobs=-1)]: Done 131 tasks      | elapsed:  5.2min\n"
     ]
    },
    {
     "name": "stderr",
     "output_type": "stream",
     "text": [
      "[Parallel(n_jobs=-1)]: Done 132 tasks      | elapsed:  5.2min\n",
      "[Parallel(n_jobs=-1)]: Done 133 tasks      | elapsed:  5.2min\n",
      "[Parallel(n_jobs=-1)]: Done 134 tasks      | elapsed:  5.3min\n",
      "[Parallel(n_jobs=-1)]: Done 135 tasks      | elapsed:  5.3min\n",
      "[Parallel(n_jobs=-1)]: Done 136 tasks      | elapsed:  5.3min\n",
      "[Parallel(n_jobs=-1)]: Done 137 tasks      | elapsed:  5.3min\n",
      "[Parallel(n_jobs=-1)]: Done 138 tasks      | elapsed:  5.3min\n",
      "[Parallel(n_jobs=-1)]: Done 139 tasks      | elapsed:  5.3min\n",
      "[Parallel(n_jobs=-1)]: Done 140 tasks      | elapsed:  5.4min\n",
      "[Parallel(n_jobs=-1)]: Done 141 tasks      | elapsed:  5.6min\n",
      "[Parallel(n_jobs=-1)]: Done 142 tasks      | elapsed:  5.7min\n",
      "[Parallel(n_jobs=-1)]: Done 143 tasks      | elapsed:  5.7min\n",
      "[Parallel(n_jobs=-1)]: Done 144 tasks      | elapsed:  5.7min\n",
      "[Parallel(n_jobs=-1)]: Done 145 tasks      | elapsed:  5.7min\n",
      "[Parallel(n_jobs=-1)]: Done 146 tasks      | elapsed:  5.7min\n",
      "[Parallel(n_jobs=-1)]: Done 147 tasks      | elapsed:  5.7min\n",
      "[Parallel(n_jobs=-1)]: Done 148 tasks      | elapsed:  5.7min\n",
      "[Parallel(n_jobs=-1)]: Done 149 tasks      | elapsed:  5.8min\n",
      "[Parallel(n_jobs=-1)]: Done 150 tasks      | elapsed:  5.8min\n",
      "[Parallel(n_jobs=-1)]: Done 151 tasks      | elapsed:  6.1min\n",
      "[Parallel(n_jobs=-1)]: Done 152 tasks      | elapsed:  6.5min\n",
      "[Parallel(n_jobs=-1)]: Done 153 tasks      | elapsed:  6.6min\n",
      "[Parallel(n_jobs=-1)]: Done 154 tasks      | elapsed:  6.9min\n",
      "[Parallel(n_jobs=-1)]: Done 155 tasks      | elapsed:  6.9min\n",
      "[Parallel(n_jobs=-1)]: Done 156 tasks      | elapsed:  6.9min\n",
      "[Parallel(n_jobs=-1)]: Done 157 tasks      | elapsed:  7.0min\n",
      "[Parallel(n_jobs=-1)]: Done 158 tasks      | elapsed:  7.0min\n",
      "[Parallel(n_jobs=-1)]: Done 159 tasks      | elapsed:  7.0min\n",
      "[Parallel(n_jobs=-1)]: Done 160 tasks      | elapsed:  7.0min\n",
      "[Parallel(n_jobs=-1)]: Done 161 tasks      | elapsed:  7.1min\n",
      "[Parallel(n_jobs=-1)]: Done 162 tasks      | elapsed:  7.4min\n",
      "[Parallel(n_jobs=-1)]: Done 163 tasks      | elapsed:  7.4min\n",
      "[Parallel(n_jobs=-1)]: Done 164 tasks      | elapsed:  7.4min\n",
      "[Parallel(n_jobs=-1)]: Done 165 tasks      | elapsed:  7.4min\n",
      "[Parallel(n_jobs=-1)]: Done 166 tasks      | elapsed:  7.4min\n",
      "[Parallel(n_jobs=-1)]: Done 167 tasks      | elapsed:  7.4min\n",
      "[Parallel(n_jobs=-1)]: Done 168 tasks      | elapsed:  7.5min\n",
      "[Parallel(n_jobs=-1)]: Done 169 tasks      | elapsed:  7.5min\n",
      "[Parallel(n_jobs=-1)]: Done 170 tasks      | elapsed:  7.5min\n",
      "[Parallel(n_jobs=-1)]: Done 171 tasks      | elapsed:  7.6min\n",
      "[Parallel(n_jobs=-1)]: Done 172 tasks      | elapsed:  7.6min\n",
      "[Parallel(n_jobs=-1)]: Done 173 tasks      | elapsed:  7.6min\n",
      "[Parallel(n_jobs=-1)]: Done 174 tasks      | elapsed:  7.6min\n",
      "[Parallel(n_jobs=-1)]: Done 175 tasks      | elapsed:  7.6min\n",
      "[Parallel(n_jobs=-1)]: Done 176 tasks      | elapsed:  7.7min\n",
      "[Parallel(n_jobs=-1)]: Done 177 tasks      | elapsed:  7.7min\n",
      "[Parallel(n_jobs=-1)]: Done 178 tasks      | elapsed:  7.7min\n",
      "[Parallel(n_jobs=-1)]: Done 179 tasks      | elapsed:  7.8min\n",
      "[Parallel(n_jobs=-1)]: Done 180 tasks      | elapsed:  7.9min\n",
      "[Parallel(n_jobs=-1)]: Done 181 tasks      | elapsed:  8.9min\n",
      "[Parallel(n_jobs=-1)]: Done 182 tasks      | elapsed:  8.9min\n",
      "[Parallel(n_jobs=-1)]: Done 183 tasks      | elapsed:  9.0min\n",
      "[Parallel(n_jobs=-1)]: Done 184 tasks      | elapsed:  9.0min\n",
      "[Parallel(n_jobs=-1)]: Done 185 tasks      | elapsed:  9.0min\n",
      "[Parallel(n_jobs=-1)]: Done 186 tasks      | elapsed:  9.0min\n",
      "[Parallel(n_jobs=-1)]: Done 187 tasks      | elapsed:  9.0min\n",
      "[Parallel(n_jobs=-1)]: Done 188 tasks      | elapsed:  9.1min\n",
      "[Parallel(n_jobs=-1)]: Done 189 tasks      | elapsed:  9.9min\n",
      "[Parallel(n_jobs=-1)]: Done 190 tasks      | elapsed: 10.0min\n",
      "[Parallel(n_jobs=-1)]: Done 191 tasks      | elapsed: 10.1min\n",
      "[Parallel(n_jobs=-1)]: Done 192 tasks      | elapsed: 10.3min\n",
      "[Parallel(n_jobs=-1)]: Done 193 tasks      | elapsed: 10.3min\n",
      "[Parallel(n_jobs=-1)]: Done 194 tasks      | elapsed: 10.3min\n",
      "[Parallel(n_jobs=-1)]: Done 195 tasks      | elapsed: 10.4min\n",
      "[Parallel(n_jobs=-1)]: Done 196 tasks      | elapsed: 10.4min\n",
      "[Parallel(n_jobs=-1)]: Done 197 tasks      | elapsed: 10.5min\n",
      "[Parallel(n_jobs=-1)]: Done 198 tasks      | elapsed: 10.5min\n",
      "[Parallel(n_jobs=-1)]: Done 199 tasks      | elapsed: 10.6min\n",
      "[Parallel(n_jobs=-1)]: Done 200 tasks      | elapsed: 10.7min\n",
      "[Parallel(n_jobs=-1)]: Done 201 tasks      | elapsed: 10.7min\n",
      "[Parallel(n_jobs=-1)]: Done 202 tasks      | elapsed: 10.7min\n",
      "[Parallel(n_jobs=-1)]: Done 203 tasks      | elapsed: 10.8min\n",
      "[Parallel(n_jobs=-1)]: Done 204 tasks      | elapsed: 10.8min\n",
      "[Parallel(n_jobs=-1)]: Done 205 tasks      | elapsed: 11.1min\n",
      "[Parallel(n_jobs=-1)]: Done 206 tasks      | elapsed: 11.8min\n",
      "[Parallel(n_jobs=-1)]: Done 207 tasks      | elapsed: 12.0min\n",
      "[Parallel(n_jobs=-1)]: Done 208 tasks      | elapsed: 12.1min\n",
      "[Parallel(n_jobs=-1)]: Done 209 tasks      | elapsed: 12.1min\n",
      "[Parallel(n_jobs=-1)]: Done 210 tasks      | elapsed: 12.2min\n",
      "[Parallel(n_jobs=-1)]: Done 211 tasks      | elapsed: 12.2min\n",
      "[Parallel(n_jobs=-1)]: Done 212 tasks      | elapsed: 12.2min\n",
      "[Parallel(n_jobs=-1)]: Done 213 tasks      | elapsed: 12.3min\n",
      "[Parallel(n_jobs=-1)]: Done 214 tasks      | elapsed: 12.8min\n",
      "[Parallel(n_jobs=-1)]: Done 215 tasks      | elapsed: 12.8min\n",
      "[Parallel(n_jobs=-1)]: Done 216 tasks      | elapsed: 12.9min\n",
      "[Parallel(n_jobs=-1)]: Done 217 tasks      | elapsed: 12.9min\n",
      "[Parallel(n_jobs=-1)]: Done 218 tasks      | elapsed: 12.9min\n",
      "[Parallel(n_jobs=-1)]: Done 219 tasks      | elapsed: 12.9min\n",
      "[Parallel(n_jobs=-1)]: Done 220 tasks      | elapsed: 12.9min\n",
      "[Parallel(n_jobs=-1)]: Done 221 tasks      | elapsed: 12.9min\n",
      "[Parallel(n_jobs=-1)]: Done 222 tasks      | elapsed: 13.0min\n",
      "[Parallel(n_jobs=-1)]: Done 223 tasks      | elapsed: 13.1min\n",
      "[Parallel(n_jobs=-1)]: Done 224 tasks      | elapsed: 13.1min\n",
      "[Parallel(n_jobs=-1)]: Done 225 tasks      | elapsed: 13.2min\n",
      "[Parallel(n_jobs=-1)]: Done 226 tasks      | elapsed: 13.2min\n",
      "[Parallel(n_jobs=-1)]: Done 227 tasks      | elapsed: 13.2min\n",
      "[Parallel(n_jobs=-1)]: Done 228 tasks      | elapsed: 13.2min\n",
      "[Parallel(n_jobs=-1)]: Done 229 tasks      | elapsed: 13.2min\n",
      "[Parallel(n_jobs=-1)]: Done 230 tasks      | elapsed: 13.3min\n",
      "[Parallel(n_jobs=-1)]: Done 231 tasks      | elapsed: 13.7min\n",
      "[Parallel(n_jobs=-1)]: Done 232 tasks      | elapsed: 13.8min\n",
      "[Parallel(n_jobs=-1)]: Done 233 tasks      | elapsed: 13.8min\n",
      "[Parallel(n_jobs=-1)]: Done 234 tasks      | elapsed: 13.8min\n",
      "[Parallel(n_jobs=-1)]: Done 235 tasks      | elapsed: 13.8min\n",
      "[Parallel(n_jobs=-1)]: Done 236 tasks      | elapsed: 13.8min\n",
      "[Parallel(n_jobs=-1)]: Done 237 tasks      | elapsed: 13.8min\n",
      "[Parallel(n_jobs=-1)]: Done 238 tasks      | elapsed: 13.8min\n",
      "[Parallel(n_jobs=-1)]: Done 239 tasks      | elapsed: 14.1min\n",
      "[Parallel(n_jobs=-1)]: Done 240 tasks      | elapsed: 14.2min\n",
      "[Parallel(n_jobs=-1)]: Done 241 tasks      | elapsed: 14.2min\n",
      "[Parallel(n_jobs=-1)]: Done 242 tasks      | elapsed: 14.2min\n",
      "[Parallel(n_jobs=-1)]: Done 243 tasks      | elapsed: 14.2min\n",
      "[Parallel(n_jobs=-1)]: Done 244 tasks      | elapsed: 14.2min\n",
      "[Parallel(n_jobs=-1)]: Done 245 tasks      | elapsed: 14.3min\n",
      "[Parallel(n_jobs=-1)]: Done 246 tasks      | elapsed: 14.3min\n",
      "[Parallel(n_jobs=-1)]: Done 247 tasks      | elapsed: 14.3min\n",
      "[Parallel(n_jobs=-1)]: Done 248 tasks      | elapsed: 14.4min\n",
      "[Parallel(n_jobs=-1)]: Done 249 tasks      | elapsed: 14.5min\n",
      "[Parallel(n_jobs=-1)]: Done 250 tasks      | elapsed: 14.6min\n",
      "[Parallel(n_jobs=-1)]: Done 251 tasks      | elapsed: 15.2min\n",
      "[Parallel(n_jobs=-1)]: Done 252 tasks      | elapsed: 15.3min\n",
      "[Parallel(n_jobs=-1)]: Done 253 tasks      | elapsed: 15.3min\n",
      "[Parallel(n_jobs=-1)]: Done 254 tasks      | elapsed: 15.3min\n",
      "[Parallel(n_jobs=-1)]: Done 255 tasks      | elapsed: 15.3min\n",
      "[Parallel(n_jobs=-1)]: Done 256 tasks      | elapsed: 15.3min\n",
      "[Parallel(n_jobs=-1)]: Done 257 tasks      | elapsed: 15.3min\n",
      "[Parallel(n_jobs=-1)]: Done 258 tasks      | elapsed: 15.4min\n",
      "[Parallel(n_jobs=-1)]: Done 259 tasks      | elapsed: 15.5min\n",
      "[Parallel(n_jobs=-1)]: Done 260 tasks      | elapsed: 15.5min\n",
      "[Parallel(n_jobs=-1)]: Done 261 tasks      | elapsed: 15.5min\n",
      "[Parallel(n_jobs=-1)]: Done 262 tasks      | elapsed: 15.5min\n",
      "[Parallel(n_jobs=-1)]: Done 263 tasks      | elapsed: 15.5min\n",
      "[Parallel(n_jobs=-1)]: Done 264 tasks      | elapsed: 15.5min\n"
     ]
    },
    {
     "name": "stderr",
     "output_type": "stream",
     "text": [
      "[Parallel(n_jobs=-1)]: Done 265 tasks      | elapsed: 15.5min\n",
      "[Parallel(n_jobs=-1)]: Done 266 tasks      | elapsed: 15.5min\n",
      "[Parallel(n_jobs=-1)]: Done 267 tasks      | elapsed: 15.6min\n",
      "[Parallel(n_jobs=-1)]: Done 268 tasks      | elapsed: 15.6min\n",
      "[Parallel(n_jobs=-1)]: Done 269 tasks      | elapsed: 15.6min\n",
      "[Parallel(n_jobs=-1)]: Done 270 tasks      | elapsed: 15.6min\n",
      "[Parallel(n_jobs=-1)]: Done 271 tasks      | elapsed: 15.6min\n",
      "[Parallel(n_jobs=-1)]: Done 272 tasks      | elapsed: 15.7min\n",
      "[Parallel(n_jobs=-1)]: Done 273 tasks      | elapsed: 15.7min\n",
      "[Parallel(n_jobs=-1)]: Done 274 tasks      | elapsed: 15.7min\n",
      "[Parallel(n_jobs=-1)]: Done 275 tasks      | elapsed: 15.7min\n",
      "[Parallel(n_jobs=-1)]: Done 276 tasks      | elapsed: 15.8min\n",
      "[Parallel(n_jobs=-1)]: Done 277 tasks      | elapsed: 15.8min\n",
      "[Parallel(n_jobs=-1)]: Done 278 tasks      | elapsed: 15.8min\n",
      "[Parallel(n_jobs=-1)]: Done 279 tasks      | elapsed: 15.8min\n",
      "[Parallel(n_jobs=-1)]: Done 280 tasks      | elapsed: 15.9min\n",
      "[Parallel(n_jobs=-1)]: Done 281 tasks      | elapsed: 15.9min\n",
      "[Parallel(n_jobs=-1)]: Done 282 tasks      | elapsed: 15.9min\n",
      "[Parallel(n_jobs=-1)]: Done 283 tasks      | elapsed: 16.0min\n",
      "[Parallel(n_jobs=-1)]: Done 284 tasks      | elapsed: 16.0min\n",
      "[Parallel(n_jobs=-1)]: Done 285 tasks      | elapsed: 16.0min\n",
      "[Parallel(n_jobs=-1)]: Done 286 tasks      | elapsed: 16.0min\n",
      "[Parallel(n_jobs=-1)]: Done 287 tasks      | elapsed: 16.0min\n",
      "[Parallel(n_jobs=-1)]: Done 288 tasks      | elapsed: 16.0min\n",
      "[Parallel(n_jobs=-1)]: Done 289 tasks      | elapsed: 16.1min\n",
      "[Parallel(n_jobs=-1)]: Done 290 tasks      | elapsed: 16.1min\n",
      "[Parallel(n_jobs=-1)]: Done 291 tasks      | elapsed: 16.1min\n",
      "[Parallel(n_jobs=-1)]: Done 292 tasks      | elapsed: 16.2min\n",
      "[Parallel(n_jobs=-1)]: Done 293 tasks      | elapsed: 16.2min\n",
      "[Parallel(n_jobs=-1)]: Done 294 tasks      | elapsed: 16.3min\n",
      "[Parallel(n_jobs=-1)]: Done 295 tasks      | elapsed: 16.3min\n",
      "[Parallel(n_jobs=-1)]: Done 296 tasks      | elapsed: 16.3min\n",
      "[Parallel(n_jobs=-1)]: Done 297 tasks      | elapsed: 16.3min\n",
      "[Parallel(n_jobs=-1)]: Done 298 tasks      | elapsed: 16.3min\n",
      "[Parallel(n_jobs=-1)]: Done 299 tasks      | elapsed: 16.4min\n",
      "[Parallel(n_jobs=-1)]: Done 300 tasks      | elapsed: 16.5min\n",
      "[Parallel(n_jobs=-1)]: Done 301 tasks      | elapsed: 16.7min\n",
      "[Parallel(n_jobs=-1)]: Done 302 tasks      | elapsed: 16.8min\n",
      "[Parallel(n_jobs=-1)]: Done 303 tasks      | elapsed: 16.9min\n",
      "[Parallel(n_jobs=-1)]: Done 304 tasks      | elapsed: 16.9min\n",
      "[Parallel(n_jobs=-1)]: Done 305 tasks      | elapsed: 16.9min\n",
      "[Parallel(n_jobs=-1)]: Done 306 tasks      | elapsed: 16.9min\n",
      "[Parallel(n_jobs=-1)]: Done 307 tasks      | elapsed: 16.9min\n",
      "[Parallel(n_jobs=-1)]: Done 308 tasks      | elapsed: 16.9min\n",
      "[Parallel(n_jobs=-1)]: Done 309 tasks      | elapsed: 16.9min\n",
      "[Parallel(n_jobs=-1)]: Done 310 tasks      | elapsed: 17.0min\n",
      "[Parallel(n_jobs=-1)]: Done 311 tasks      | elapsed: 17.5min\n",
      "[Parallel(n_jobs=-1)]: Done 312 tasks      | elapsed: 17.5min\n",
      "[Parallel(n_jobs=-1)]: Done 313 tasks      | elapsed: 17.5min\n",
      "[Parallel(n_jobs=-1)]: Done 314 tasks      | elapsed: 17.5min\n",
      "[Parallel(n_jobs=-1)]: Done 315 tasks      | elapsed: 17.5min\n",
      "[Parallel(n_jobs=-1)]: Done 316 tasks      | elapsed: 17.5min\n",
      "[Parallel(n_jobs=-1)]: Done 317 tasks      | elapsed: 17.5min\n",
      "[Parallel(n_jobs=-1)]: Done 318 tasks      | elapsed: 17.6min\n",
      "[Parallel(n_jobs=-1)]: Done 319 tasks      | elapsed: 17.7min\n",
      "[Parallel(n_jobs=-1)]: Done 320 tasks      | elapsed: 17.7min\n",
      "[Parallel(n_jobs=-1)]: Done 321 tasks      | elapsed: 17.7min\n",
      "[Parallel(n_jobs=-1)]: Done 322 tasks      | elapsed: 17.7min\n",
      "[Parallel(n_jobs=-1)]: Done 323 tasks      | elapsed: 17.7min\n",
      "[Parallel(n_jobs=-1)]: Done 324 tasks      | elapsed: 17.7min\n",
      "[Parallel(n_jobs=-1)]: Done 325 tasks      | elapsed: 17.8min\n",
      "[Parallel(n_jobs=-1)]: Done 326 tasks      | elapsed: 17.9min\n",
      "[Parallel(n_jobs=-1)]: Done 327 tasks      | elapsed: 18.1min\n",
      "[Parallel(n_jobs=-1)]: Done 328 tasks      | elapsed: 18.1min\n",
      "[Parallel(n_jobs=-1)]: Done 329 tasks      | elapsed: 18.2min\n",
      "[Parallel(n_jobs=-1)]: Done 330 tasks      | elapsed: 18.2min\n",
      "[Parallel(n_jobs=-1)]: Done 331 tasks      | elapsed: 18.2min\n",
      "[Parallel(n_jobs=-1)]: Done 332 tasks      | elapsed: 18.2min\n",
      "[Parallel(n_jobs=-1)]: Done 333 tasks      | elapsed: 18.2min\n",
      "[Parallel(n_jobs=-1)]: Done 334 tasks      | elapsed: 18.3min\n",
      "[Parallel(n_jobs=-1)]: Done 335 tasks      | elapsed: 18.4min\n",
      "[Parallel(n_jobs=-1)]: Done 336 tasks      | elapsed: 18.5min\n",
      "[Parallel(n_jobs=-1)]: Done 337 tasks      | elapsed: 18.6min\n",
      "[Parallel(n_jobs=-1)]: Done 338 tasks      | elapsed: 18.6min\n",
      "[Parallel(n_jobs=-1)]: Done 339 tasks      | elapsed: 18.6min\n",
      "[Parallel(n_jobs=-1)]: Done 340 tasks      | elapsed: 18.6min\n",
      "[Parallel(n_jobs=-1)]: Done 341 tasks      | elapsed: 18.6min\n",
      "[Parallel(n_jobs=-1)]: Done 342 tasks      | elapsed: 18.6min\n",
      "[Parallel(n_jobs=-1)]: Done 343 tasks      | elapsed: 18.7min\n",
      "[Parallel(n_jobs=-1)]: Done 344 tasks      | elapsed: 18.7min\n",
      "[Parallel(n_jobs=-1)]: Done 345 tasks      | elapsed: 18.8min\n",
      "[Parallel(n_jobs=-1)]: Done 346 tasks      | elapsed: 18.8min\n",
      "[Parallel(n_jobs=-1)]: Done 347 tasks      | elapsed: 18.8min\n",
      "[Parallel(n_jobs=-1)]: Done 348 tasks      | elapsed: 18.8min\n",
      "[Parallel(n_jobs=-1)]: Done 349 tasks      | elapsed: 18.8min\n",
      "[Parallel(n_jobs=-1)]: Done 350 tasks      | elapsed: 18.8min\n",
      "[Parallel(n_jobs=-1)]: Done 351 tasks      | elapsed: 18.9min\n",
      "[Parallel(n_jobs=-1)]: Done 352 tasks      | elapsed: 19.0min\n",
      "[Parallel(n_jobs=-1)]: Done 353 tasks      | elapsed: 19.0min\n",
      "[Parallel(n_jobs=-1)]: Done 354 tasks      | elapsed: 19.0min\n",
      "[Parallel(n_jobs=-1)]: Done 355 tasks      | elapsed: 19.0min\n",
      "[Parallel(n_jobs=-1)]: Done 356 tasks      | elapsed: 19.0min\n",
      "[Parallel(n_jobs=-1)]: Done 357 tasks      | elapsed: 19.0min\n",
      "[Parallel(n_jobs=-1)]: Done 358 tasks      | elapsed: 19.0min\n",
      "[Parallel(n_jobs=-1)]: Done 359 tasks      | elapsed: 19.1min\n",
      "[Parallel(n_jobs=-1)]: Done 360 tasks      | elapsed: 19.2min\n",
      "[Parallel(n_jobs=-1)]: Done 361 tasks      | elapsed: 19.4min\n",
      "[Parallel(n_jobs=-1)]: Done 362 tasks      | elapsed: 19.4min\n",
      "[Parallel(n_jobs=-1)]: Done 363 tasks      | elapsed: 19.5min\n",
      "[Parallel(n_jobs=-1)]: Done 364 tasks      | elapsed: 19.5min\n",
      "[Parallel(n_jobs=-1)]: Done 365 tasks      | elapsed: 19.5min\n",
      "[Parallel(n_jobs=-1)]: Done 366 tasks      | elapsed: 19.7min\n",
      "[Parallel(n_jobs=-1)]: Done 367 tasks      | elapsed: 19.8min\n",
      "[Parallel(n_jobs=-1)]: Done 368 tasks      | elapsed: 19.9min\n",
      "[Parallel(n_jobs=-1)]: Done 369 tasks      | elapsed: 19.9min\n",
      "[Parallel(n_jobs=-1)]: Done 370 tasks      | elapsed: 20.0min\n",
      "[Parallel(n_jobs=-1)]: Done 371 tasks      | elapsed: 20.0min\n",
      "[Parallel(n_jobs=-1)]: Done 372 tasks      | elapsed: 20.1min\n",
      "[Parallel(n_jobs=-1)]: Done 373 tasks      | elapsed: 20.1min\n",
      "[Parallel(n_jobs=-1)]: Done 374 tasks      | elapsed: 20.1min\n",
      "[Parallel(n_jobs=-1)]: Done 375 tasks      | elapsed: 20.2min\n",
      "[Parallel(n_jobs=-1)]: Done 376 tasks      | elapsed: 20.6min\n",
      "[Parallel(n_jobs=-1)]: Done 377 tasks      | elapsed: 20.7min\n",
      "[Parallel(n_jobs=-1)]: Done 378 tasks      | elapsed: 20.7min\n",
      "[Parallel(n_jobs=-1)]: Done 379 tasks      | elapsed: 20.7min\n",
      "[Parallel(n_jobs=-1)]: Done 380 tasks      | elapsed: 20.7min\n",
      "[Parallel(n_jobs=-1)]: Done 381 tasks      | elapsed: 20.7min\n",
      "[Parallel(n_jobs=-1)]: Done 382 tasks      | elapsed: 20.7min\n",
      "[Parallel(n_jobs=-1)]: Done 383 tasks      | elapsed: 20.8min\n",
      "[Parallel(n_jobs=-1)]: Done 384 tasks      | elapsed: 20.8min\n",
      "[Parallel(n_jobs=-1)]: Done 385 tasks      | elapsed: 20.9min\n",
      "[Parallel(n_jobs=-1)]: Done 386 tasks      | elapsed: 21.7min\n",
      "[Parallel(n_jobs=-1)]: Done 387 tasks      | elapsed: 21.8min\n",
      "[Parallel(n_jobs=-1)]: Done 388 tasks      | elapsed: 21.8min\n",
      "[Parallel(n_jobs=-1)]: Done 389 tasks      | elapsed: 21.8min\n",
      "[Parallel(n_jobs=-1)]: Done 390 tasks      | elapsed: 21.8min\n",
      "[Parallel(n_jobs=-1)]: Done 391 tasks      | elapsed: 21.8min\n",
      "[Parallel(n_jobs=-1)]: Done 392 tasks      | elapsed: 21.9min\n",
      "[Parallel(n_jobs=-1)]: Done 393 tasks      | elapsed: 21.9min\n",
      "[Parallel(n_jobs=-1)]: Done 394 tasks      | elapsed: 22.1min\n",
      "[Parallel(n_jobs=-1)]: Done 395 tasks      | elapsed: 22.1min\n",
      "[Parallel(n_jobs=-1)]: Done 396 tasks      | elapsed: 22.1min\n",
      "[Parallel(n_jobs=-1)]: Done 397 tasks      | elapsed: 22.1min\n"
     ]
    },
    {
     "name": "stderr",
     "output_type": "stream",
     "text": [
      "[Parallel(n_jobs=-1)]: Done 398 tasks      | elapsed: 22.1min\n",
      "[Parallel(n_jobs=-1)]: Done 399 tasks      | elapsed: 22.2min\n",
      "[Parallel(n_jobs=-1)]: Done 400 tasks      | elapsed: 22.2min\n",
      "[Parallel(n_jobs=-1)]: Done 401 tasks      | elapsed: 22.2min\n",
      "[Parallel(n_jobs=-1)]: Done 402 tasks      | elapsed: 22.3min\n",
      "[Parallel(n_jobs=-1)]: Done 403 tasks      | elapsed: 22.4min\n",
      "[Parallel(n_jobs=-1)]: Done 404 tasks      | elapsed: 22.4min\n",
      "[Parallel(n_jobs=-1)]: Done 405 tasks      | elapsed: 22.4min\n",
      "[Parallel(n_jobs=-1)]: Done 406 tasks      | elapsed: 23.1min\n",
      "[Parallel(n_jobs=-1)]: Done 407 tasks      | elapsed: 23.1min\n",
      "[Parallel(n_jobs=-1)]: Done 408 tasks      | elapsed: 23.1min\n",
      "[Parallel(n_jobs=-1)]: Done 409 tasks      | elapsed: 23.2min\n",
      "[Parallel(n_jobs=-1)]: Done 410 tasks      | elapsed: 23.2min\n",
      "[Parallel(n_jobs=-1)]: Done 411 tasks      | elapsed: 23.2min\n",
      "[Parallel(n_jobs=-1)]: Done 412 tasks      | elapsed: 23.2min\n",
      "[Parallel(n_jobs=-1)]: Done 413 tasks      | elapsed: 23.3min\n",
      "[Parallel(n_jobs=-1)]: Done 414 tasks      | elapsed: 23.4min\n",
      "[Parallel(n_jobs=-1)]: Done 415 tasks      | elapsed: 23.4min\n",
      "[Parallel(n_jobs=-1)]: Done 416 tasks      | elapsed: 23.4min\n",
      "[Parallel(n_jobs=-1)]: Done 417 tasks      | elapsed: 23.4min\n",
      "[Parallel(n_jobs=-1)]: Done 418 tasks      | elapsed: 23.4min\n",
      "[Parallel(n_jobs=-1)]: Done 419 tasks      | elapsed: 23.4min\n",
      "[Parallel(n_jobs=-1)]: Done 420 tasks      | elapsed: 23.4min\n",
      "[Parallel(n_jobs=-1)]: Done 421 tasks      | elapsed: 23.8min\n",
      "[Parallel(n_jobs=-1)]: Done 422 tasks      | elapsed: 23.9min\n",
      "[Parallel(n_jobs=-1)]: Done 423 tasks      | elapsed: 23.9min\n",
      "[Parallel(n_jobs=-1)]: Done 424 tasks      | elapsed: 24.0min\n",
      "[Parallel(n_jobs=-1)]: Done 425 tasks      | elapsed: 24.0min\n",
      "[Parallel(n_jobs=-1)]: Done 426 tasks      | elapsed: 24.0min\n",
      "[Parallel(n_jobs=-1)]: Done 427 tasks      | elapsed: 24.0min\n",
      "[Parallel(n_jobs=-1)]: Done 428 tasks      | elapsed: 24.0min\n",
      "[Parallel(n_jobs=-1)]: Done 429 tasks      | elapsed: 24.1min\n",
      "[Parallel(n_jobs=-1)]: Done 430 tasks      | elapsed: 24.1min\n",
      "[Parallel(n_jobs=-1)]: Done 431 tasks      | elapsed: 24.1min\n",
      "[Parallel(n_jobs=-1)]: Done 432 tasks      | elapsed: 24.1min\n",
      "[Parallel(n_jobs=-1)]: Done 433 tasks      | elapsed: 24.1min\n",
      "[Parallel(n_jobs=-1)]: Done 434 tasks      | elapsed: 24.1min\n",
      "[Parallel(n_jobs=-1)]: Done 435 tasks      | elapsed: 24.1min\n",
      "[Parallel(n_jobs=-1)]: Done 436 tasks      | elapsed: 24.2min\n",
      "[Parallel(n_jobs=-1)]: Done 437 tasks      | elapsed: 24.3min\n",
      "[Parallel(n_jobs=-1)]: Done 438 tasks      | elapsed: 24.4min\n",
      "[Parallel(n_jobs=-1)]: Done 439 tasks      | elapsed: 24.4min\n",
      "[Parallel(n_jobs=-1)]: Done 440 tasks      | elapsed: 24.5min\n",
      "[Parallel(n_jobs=-1)]: Done 441 tasks      | elapsed: 24.6min\n",
      "[Parallel(n_jobs=-1)]: Done 442 tasks      | elapsed: 24.6min\n",
      "[Parallel(n_jobs=-1)]: Done 443 tasks      | elapsed: 24.6min\n",
      "[Parallel(n_jobs=-1)]: Done 444 tasks      | elapsed: 24.7min\n",
      "[Parallel(n_jobs=-1)]: Done 445 tasks      | elapsed: 25.0min\n",
      "[Parallel(n_jobs=-1)]: Done 446 tasks      | elapsed: 25.1min\n",
      "[Parallel(n_jobs=-1)]: Done 447 tasks      | elapsed: 25.2min\n",
      "[Parallel(n_jobs=-1)]: Done 448 tasks      | elapsed: 25.2min\n",
      "[Parallel(n_jobs=-1)]: Done 449 tasks      | elapsed: 25.2min\n",
      "[Parallel(n_jobs=-1)]: Done 450 tasks      | elapsed: 25.2min\n",
      "[Parallel(n_jobs=-1)]: Done 451 tasks      | elapsed: 25.3min\n",
      "[Parallel(n_jobs=-1)]: Done 452 tasks      | elapsed: 25.3min\n",
      "[Parallel(n_jobs=-1)]: Done 453 tasks      | elapsed: 25.3min\n",
      "[Parallel(n_jobs=-1)]: Done 454 tasks      | elapsed: 25.4min\n",
      "[Parallel(n_jobs=-1)]: Done 455 tasks      | elapsed: 25.5min\n",
      "[Parallel(n_jobs=-1)]: Done 456 tasks      | elapsed: 26.0min\n",
      "[Parallel(n_jobs=-1)]: Done 457 tasks      | elapsed: 26.1min\n",
      "[Parallel(n_jobs=-1)]: Done 458 tasks      | elapsed: 26.1min\n",
      "[Parallel(n_jobs=-1)]: Done 459 tasks      | elapsed: 26.1min\n",
      "[Parallel(n_jobs=-1)]: Done 460 tasks      | elapsed: 26.2min\n",
      "[Parallel(n_jobs=-1)]: Done 461 tasks      | elapsed: 26.2min\n",
      "[Parallel(n_jobs=-1)]: Done 462 tasks      | elapsed: 26.2min\n",
      "[Parallel(n_jobs=-1)]: Done 463 tasks      | elapsed: 26.2min\n",
      "[Parallel(n_jobs=-1)]: Done 464 tasks      | elapsed: 26.4min\n",
      "[Parallel(n_jobs=-1)]: Done 465 tasks      | elapsed: 26.4min\n",
      "[Parallel(n_jobs=-1)]: Done 466 tasks      | elapsed: 26.4min\n",
      "[Parallel(n_jobs=-1)]: Done 467 tasks      | elapsed: 26.5min\n",
      "[Parallel(n_jobs=-1)]: Done 468 tasks      | elapsed: 26.5min\n",
      "[Parallel(n_jobs=-1)]: Done 469 tasks      | elapsed: 26.5min\n",
      "[Parallel(n_jobs=-1)]: Done 470 tasks      | elapsed: 26.5min\n",
      "[Parallel(n_jobs=-1)]: Done 471 tasks      | elapsed: 26.9min\n",
      "[Parallel(n_jobs=-1)]: Done 472 tasks      | elapsed: 27.0min\n",
      "[Parallel(n_jobs=-1)]: Done 473 tasks      | elapsed: 27.0min\n",
      "[Parallel(n_jobs=-1)]: Done 474 tasks      | elapsed: 27.0min\n",
      "[Parallel(n_jobs=-1)]: Done 475 tasks      | elapsed: 27.5min\n",
      "[Parallel(n_jobs=-1)]: Done 476 tasks      | elapsed: 27.6min\n",
      "[Parallel(n_jobs=-1)]: Done 477 tasks      | elapsed: 27.6min\n",
      "[Parallel(n_jobs=-1)]: Done 478 tasks      | elapsed: 27.6min\n",
      "[Parallel(n_jobs=-1)]: Done 479 tasks      | elapsed: 27.6min\n",
      "[Parallel(n_jobs=-1)]: Done 480 tasks      | elapsed: 27.6min\n",
      "[Parallel(n_jobs=-1)]: Done 481 tasks      | elapsed: 27.6min\n",
      "[Parallel(n_jobs=-1)]: Done 482 tasks      | elapsed: 27.6min\n",
      "[Parallel(n_jobs=-1)]: Done 483 tasks      | elapsed: 27.9min\n",
      "[Parallel(n_jobs=-1)]: Done 484 tasks      | elapsed: 27.9min\n",
      "[Parallel(n_jobs=-1)]: Done 485 tasks      | elapsed: 27.9min\n",
      "[Parallel(n_jobs=-1)]: Done 500 out of 500 | elapsed: 28.5min finished\n"
     ]
    },
    {
     "data": {
      "text/plain": [
       "RandomizedSearchCV(cv=5, estimator=RandomForestRegressor(random_state=42),\n",
       "                   n_iter=100, n_jobs=-1,\n",
       "                   param_distributions={'max_depth': [None, 3, 5, 10, 20, 40],\n",
       "                                        'max_features': [0.5, 1, 'sqrt',\n",
       "                                                         'auto'],\n",
       "                                        'max_samples': [10000],\n",
       "                                        'min_samples_leaf': array([ 5,  7,  9, 11, 13, 15, 17, 19]),\n",
       "                                        'min_samples_split': array([ 4,  6,  8, 10, 12, 14, 16, 18]),\n",
       "                                        'n_estimators': array([ 10,  30,  50,  70,  90, 110, 130, 150, 170, 190]),\n",
       "                                        'n_jobs': [-1]},\n",
       "                   verbose=12)"
      ]
     },
     "execution_count": 57,
     "metadata": {},
     "output_type": "execute_result"
    }
   ],
   "source": [
    "rs_model_2_long.fit(X_train,y_train)"
   ]
  },
  {
   "cell_type": "code",
   "execution_count": 58,
   "metadata": {},
   "outputs": [
    {
     "data": {
      "text/plain": [
       "{'n_jobs': -1,\n",
       " 'n_estimators': 150,\n",
       " 'min_samples_split': 6,\n",
       " 'min_samples_leaf': 5,\n",
       " 'max_samples': 10000,\n",
       " 'max_features': 'auto',\n",
       " 'max_depth': 40}"
      ]
     },
     "execution_count": 58,
     "metadata": {},
     "output_type": "execute_result"
    }
   ],
   "source": [
    "rs_model_2_long.best_params_"
   ]
  },
  {
   "cell_type": "code",
   "execution_count": 59,
   "metadata": {},
   "outputs": [
    {
     "data": {
      "text/plain": [
       "{'Train MAE': 5780.901333980364,\n",
       " 'Val MAE': 7410.526405434237,\n",
       " 'Train MSLE': 0.07050591963908003,\n",
       " 'Val MSLE': 0.0901600197065899,\n",
       " 'Train RMSLE': 0.26552950803833464,\n",
       " 'Val RMSLE': 0.30026658106853965,\n",
       " 'Train R2': 0.8475201704492685,\n",
       " 'Val R2': 0.8172248307473085}"
      ]
     },
     "execution_count": 59,
     "metadata": {},
     "output_type": "execute_result"
    }
   ],
   "source": [
    "eval_scores(rs_model_2_long, X_train, X_val, y_train, y_val)"
   ]
  },
  {
   "cell_type": "code",
   "execution_count": 29,
   "metadata": {},
   "outputs": [],
   "source": [
    "# np.random.seed(42)\n",
    "rs_model_3 = RandomizedSearchCV(RandomForestRegressor(random_state=42), \n",
    "                              param_distributions=rf_grid_3,\n",
    "                              cv=5,\n",
    "                              n_iter=200,\n",
    "                              n_jobs=-1,\n",
    "                              verbose=True)"
   ]
  },
  {
   "cell_type": "code",
   "execution_count": 30,
   "metadata": {},
   "outputs": [
    {
     "name": "stdout",
     "output_type": "stream",
     "text": [
      "Fitting 5 folds for each of 200 candidates, totalling 1000 fits\n"
     ]
    },
    {
     "name": "stderr",
     "output_type": "stream",
     "text": [
      "[Parallel(n_jobs=-1)]: Using backend LokyBackend with 8 concurrent workers.\n",
      "[Parallel(n_jobs=-1)]: Done  34 tasks      | elapsed:  1.1min\n",
      "[Parallel(n_jobs=-1)]: Done 184 tasks      | elapsed:  5.3min\n",
      "[Parallel(n_jobs=-1)]: Done 434 tasks      | elapsed: 12.1min\n",
      "[Parallel(n_jobs=-1)]: Done 784 tasks      | elapsed: 22.7min\n",
      "[Parallel(n_jobs=-1)]: Done 1000 out of 1000 | elapsed: 29.5min finished\n"
     ]
    },
    {
     "data": {
      "text/plain": [
       "RandomizedSearchCV(cv=5, estimator=RandomForestRegressor(random_state=42),\n",
       "                   n_iter=200, n_jobs=-1,\n",
       "                   param_distributions={'max_depth': [None, 3, 5, 10],\n",
       "                                        'max_features': [0.5, 1, 'sqrt',\n",
       "                                                         'auto'],\n",
       "                                        'max_samples': [10000],\n",
       "                                        'min_samples_leaf': array([ 1,  3,  5,  7,  9, 11, 13, 15, 17, 19]),\n",
       "                                        'min_samples_split': array([ 2,  4,  6,  8, 10, 12, 14, 16, 18]),\n",
       "                                        'n_estimators': array([10, 20, 30, 40, 50, 60, 70, 80, 90]),\n",
       "                                        'n_jobs': [-1]},\n",
       "                   verbose=True)"
      ]
     },
     "execution_count": 30,
     "metadata": {},
     "output_type": "execute_result"
    }
   ],
   "source": [
    "rs_model_3.fit(X_train,y_train)"
   ]
  },
  {
   "cell_type": "code",
   "execution_count": 31,
   "metadata": {},
   "outputs": [
    {
     "data": {
      "text/plain": [
       "{'n_jobs': -1,\n",
       " 'n_estimators': 80,\n",
       " 'min_samples_split': 16,\n",
       " 'min_samples_leaf': 1,\n",
       " 'max_samples': 10000,\n",
       " 'max_features': 'auto',\n",
       " 'max_depth': None}"
      ]
     },
     "execution_count": 31,
     "metadata": {},
     "output_type": "execute_result"
    }
   ],
   "source": [
    "rs_model_3.best_params_"
   ]
  },
  {
   "cell_type": "code",
   "execution_count": 32,
   "metadata": {},
   "outputs": [
    {
     "data": {
      "text/plain": [
       "{'Train MAE': 5825.6618638095115,\n",
       " 'Val MAE': 7430.221887715373,\n",
       " 'Train MSLE': 0.07122314824978604,\n",
       " 'Val MSLE': 0.09121719002119127,\n",
       " 'Train RMSLE': 0.26687665362445256,\n",
       " 'Val RMSLE': 0.30202183699393537,\n",
       " 'Train R2': 0.8470343218522651,\n",
       " 'Val R2': 0.8203493153243675}"
      ]
     },
     "execution_count": 32,
     "metadata": {},
     "output_type": "execute_result"
    }
   ],
   "source": [
    "eval_scores(rs_model_3, X_train, X_val, y_train, y_val)"
   ]
  },
  {
   "cell_type": "code",
   "execution_count": 33,
   "metadata": {},
   "outputs": [],
   "source": [
    "np.random.seed(42)\n",
    "rs_model_2 = RandomizedSearchCV(RandomForestRegressor(), \n",
    "                              param_distributions=rf_grid_2,\n",
    "                              cv=5,\n",
    "                              n_iter=50,\n",
    "                              n_jobs=-1,\n",
    "                              verbose=True)"
   ]
  },
  {
   "cell_type": "code",
   "execution_count": 34,
   "metadata": {},
   "outputs": [
    {
     "name": "stdout",
     "output_type": "stream",
     "text": [
      "Fitting 5 folds for each of 50 candidates, totalling 250 fits\n"
     ]
    },
    {
     "name": "stderr",
     "output_type": "stream",
     "text": [
      "[Parallel(n_jobs=-1)]: Using backend LokyBackend with 8 concurrent workers.\n",
      "[Parallel(n_jobs=-1)]: Done  34 tasks      | elapsed:  1.2min\n",
      "[Parallel(n_jobs=-1)]: Done 184 tasks      | elapsed:  8.0min\n",
      "[Parallel(n_jobs=-1)]: Done 250 out of 250 | elapsed: 12.8min finished\n"
     ]
    },
    {
     "data": {
      "text/plain": [
       "RandomizedSearchCV(cv=5, estimator=RandomForestRegressor(), n_iter=50,\n",
       "                   n_jobs=-1,\n",
       "                   param_distributions={'max_depth': [None, 3, 5, 10, 20, 40],\n",
       "                                        'max_features': [0.5, 1, 'sqrt',\n",
       "                                                         'auto'],\n",
       "                                        'max_samples': [10000],\n",
       "                                        'min_samples_leaf': array([ 5,  7,  9, 11, 13, 15, 17, 19]),\n",
       "                                        'min_samples_split': array([ 4,  6,  8, 10, 12, 14, 16, 18]),\n",
       "                                        'n_estimators': array([ 10,  30,  50,  70,  90, 110, 130, 150, 170, 190]),\n",
       "                                        'n_jobs': [-1]},\n",
       "                   verbose=True)"
      ]
     },
     "execution_count": 34,
     "metadata": {},
     "output_type": "execute_result"
    }
   ],
   "source": [
    "rs_model_2.fit(X_train,y_train)"
   ]
  },
  {
   "cell_type": "code",
   "execution_count": 35,
   "metadata": {},
   "outputs": [
    {
     "data": {
      "text/plain": [
       "{'n_jobs': -1,\n",
       " 'n_estimators': 150,\n",
       " 'min_samples_split': 12,\n",
       " 'min_samples_leaf': 7,\n",
       " 'max_samples': 10000,\n",
       " 'max_features': 'auto',\n",
       " 'max_depth': None}"
      ]
     },
     "execution_count": 35,
     "metadata": {},
     "output_type": "execute_result"
    }
   ],
   "source": [
    "rs_model_2.best_params_"
   ]
  },
  {
   "cell_type": "code",
   "execution_count": 36,
   "metadata": {},
   "outputs": [
    {
     "data": {
      "text/plain": [
       "{'Train MAE': 5914.5439021491575,\n",
       " 'Val MAE': 7513.77702270813,\n",
       " 'Train MSLE': 0.07317371530348829,\n",
       " 'Val MSLE': 0.09212898330137742,\n",
       " 'Train RMSLE': 0.2705064052910546,\n",
       " 'Val RMSLE': 0.303527565966219,\n",
       " 'Train R2': 0.8406109135952532,\n",
       " 'Val R2': 0.8108118597419973}"
      ]
     },
     "execution_count": 36,
     "metadata": {},
     "output_type": "execute_result"
    }
   ],
   "source": [
    "eval_scores(rs_model_2, X_train, X_val, y_train, y_val)"
   ]
  },
  {
   "cell_type": "code",
   "execution_count": 33,
   "metadata": {},
   "outputs": [],
   "source": [
    "# train grid 2 for more iter (promising results)\n",
    "np.random.seed(42)\n",
    "rs_model_res_2 = RandomizedSearchCV(RandomForestRegressor(), \n",
    "                              param_distributions=rf_grid_2,\n",
    "                              cv=5,\n",
    "                              n_iter=200,\n",
    "                              n_jobs=-1,\n",
    "                              verbose=True)"
   ]
  },
  {
   "cell_type": "code",
   "execution_count": null,
   "metadata": {},
   "outputs": [],
   "source": [
    "rs_model_res_2.fit(X_train,y_train)"
   ]
  },
  {
   "cell_type": "code",
   "execution_count": null,
   "metadata": {},
   "outputs": [],
   "source": [
    "rs_model_res_2.best_params_"
   ]
  },
  {
   "cell_type": "code",
   "execution_count": null,
   "metadata": {},
   "outputs": [],
   "source": [
    "eval_scores(rs_model_res_2, X_train, X_val, y_train, y_val)"
   ]
  },
  {
   "cell_type": "code",
   "execution_count": 33,
   "metadata": {},
   "outputs": [],
   "source": [
    "# Modified grid 2(grid 5)\n",
    "np.random.seed(42)\n",
    "rs_model_res_3 = RandomizedSearchCV(RandomForestRegressor(), \n",
    "                              param_distributions=rf_grid_5,\n",
    "                              cv=5,\n",
    "                              n_iter=100,\n",
    "                              n_jobs=-1,\n",
    "                              verbose=True)"
   ]
  },
  {
   "cell_type": "code",
   "execution_count": null,
   "metadata": {},
   "outputs": [],
   "source": [
    "rs_model_res_3.fit(X_train,y_train)"
   ]
  },
  {
   "cell_type": "code",
   "execution_count": null,
   "metadata": {},
   "outputs": [],
   "source": [
    "rs_model_res_3.best_params_"
   ]
  },
  {
   "cell_type": "code",
   "execution_count": null,
   "metadata": {},
   "outputs": [],
   "source": [
    "eval_scores(rs_model_res_3, X_train, X_val, y_train, y_val)"
   ]
  },
  {
   "cell_type": "markdown",
   "metadata": {},
   "source": [
    "## THE MODELS BELOW ARE JUST FOR SEEING HOW MUCH APPROX TIME FITTING MIGHT TAKE"
   ]
  },
  {
   "cell_type": "code",
   "execution_count": 19,
   "metadata": {},
   "outputs": [],
   "source": [
    "np.random.seed(42)\n",
    "rs_model_4 = RandomizedSearchCV(RandomForestRegressor(), \n",
    "                              param_distributions=rf_grid_3,\n",
    "                              cv=5,\n",
    "                              n_iter=3,\n",
    "                              verbose=True)"
   ]
  },
  {
   "cell_type": "code",
   "execution_count": 20,
   "metadata": {},
   "outputs": [
    {
     "name": "stdout",
     "output_type": "stream",
     "text": [
      "Fitting 5 folds for each of 3 candidates, totalling 15 fits\n"
     ]
    },
    {
     "name": "stderr",
     "output_type": "stream",
     "text": [
      "[Parallel(n_jobs=1)]: Using backend SequentialBackend with 1 concurrent workers.\n",
      "[Parallel(n_jobs=1)]: Done  15 out of  15 | elapsed:  1.0min finished\n"
     ]
    },
    {
     "name": "stdout",
     "output_type": "stream",
     "text": [
      "Wall time: 1min 2s\n"
     ]
    },
    {
     "data": {
      "text/plain": [
       "RandomizedSearchCV(cv=5, estimator=RandomForestRegressor(), n_iter=3,\n",
       "                   param_distributions={'max_depth': [None, 3, 5, 10],\n",
       "                                        'max_features': [0.5, 1, 'sqrt',\n",
       "                                                         'auto'],\n",
       "                                        'max_samples': [10000],\n",
       "                                        'min_samples_leaf': array([ 1,  3,  5,  7,  9, 11, 13, 15, 17, 19]),\n",
       "                                        'min_samples_split': array([ 2,  4,  6,  8, 10, 12, 14, 16, 18]),\n",
       "                                        'n_estimators': array([10, 20, 30, 40, 50, 60, 70, 80, 90]),\n",
       "                                        'n_jobs': [-1]},\n",
       "                   verbose=True)"
      ]
     },
     "execution_count": 20,
     "metadata": {},
     "output_type": "execute_result"
    }
   ],
   "source": [
    "%%time\n",
    "rs_model_4.fit(X_train,y_train)"
   ]
  },
  {
   "cell_type": "code",
   "execution_count": 21,
   "metadata": {},
   "outputs": [
    {
     "data": {
      "text/plain": [
       "{'n_jobs': -1,\n",
       " 'n_estimators': 60,\n",
       " 'min_samples_split': 12,\n",
       " 'min_samples_leaf': 1,\n",
       " 'max_samples': 10000,\n",
       " 'max_features': 1,\n",
       " 'max_depth': None}"
      ]
     },
     "execution_count": 21,
     "metadata": {},
     "output_type": "execute_result"
    }
   ],
   "source": [
    "rs_model_4.best_params_"
   ]
  },
  {
   "cell_type": "code",
   "execution_count": 22,
   "metadata": {},
   "outputs": [
    {
     "data": {
      "text/plain": [
       "{'Train MAE': 8856.205385747859,\n",
       " 'Val MAE': 11469.055474507251,\n",
       " 'Train MSLE': 0.15313186644580068,\n",
       " 'Val MSLE': 0.20834773084981376,\n",
       " 'Train RMSLE': 0.3913206695867223,\n",
       " 'Val RMSLE': 0.4564512360042568,\n",
       " 'Train R2': 0.6848409258189497,\n",
       " 'Val R2': 0.6323835976986882}"
      ]
     },
     "execution_count": 22,
     "metadata": {},
     "output_type": "execute_result"
    }
   ],
   "source": [
    "eval_scores(rs_model_4, X_train, X_val, y_train, y_val)"
   ]
  },
  {
   "cell_type": "code",
   "execution_count": 23,
   "metadata": {},
   "outputs": [],
   "source": [
    "np.random.seed(42)\n",
    "rs_model_5 = RandomizedSearchCV(RandomForestRegressor(), \n",
    "                              param_distributions=rf_grid_1,\n",
    "                              cv=5,\n",
    "                              n_iter=3,\n",
    "                              verbose=True)"
   ]
  },
  {
   "cell_type": "code",
   "execution_count": 24,
   "metadata": {},
   "outputs": [
    {
     "name": "stdout",
     "output_type": "stream",
     "text": [
      "Fitting 5 folds for each of 3 candidates, totalling 15 fits\n"
     ]
    },
    {
     "name": "stderr",
     "output_type": "stream",
     "text": [
      "[Parallel(n_jobs=1)]: Using backend SequentialBackend with 1 concurrent workers.\n",
      "[Parallel(n_jobs=1)]: Done  15 out of  15 | elapsed:  6.3min finished\n"
     ]
    },
    {
     "name": "stdout",
     "output_type": "stream",
     "text": [
      "Wall time: 7min 18s\n"
     ]
    },
    {
     "data": {
      "text/plain": [
       "RandomizedSearchCV(cv=5, estimator=RandomForestRegressor(), n_iter=3,\n",
       "                   param_distributions={'max_depth': [None, 3, 5, 10, 20, 40],\n",
       "                                        'max_features': [0.5, 1, 'sqrt',\n",
       "                                                         'auto'],\n",
       "                                        'max_samples': [10000],\n",
       "                                        'min_samples_leaf': array([ 3,  5,  7,  9, 11, 13, 15, 17, 19]),\n",
       "                                        'min_samples_split': array([ 2,  4,  6,  8, 10, 12, 14, 16, 18]),\n",
       "                                        'n_estimators': array([ 10,  30,  50,  70,  90, 110, 130, 150, 170, 190, 210, 230, 250,\n",
       "       270, 290, 310, 330, 350, 370, 390])},\n",
       "                   verbose=True)"
      ]
     },
     "execution_count": 24,
     "metadata": {},
     "output_type": "execute_result"
    }
   ],
   "source": [
    "%%time\n",
    "rs_model_5.fit(X_train,y_train)"
   ]
  },
  {
   "cell_type": "code",
   "execution_count": 25,
   "metadata": {},
   "outputs": [
    {
     "data": {
      "text/plain": [
       "{'n_estimators': 370,\n",
       " 'min_samples_split': 18,\n",
       " 'min_samples_leaf': 11,\n",
       " 'max_samples': 10000,\n",
       " 'max_features': 'auto',\n",
       " 'max_depth': 40}"
      ]
     },
     "execution_count": 25,
     "metadata": {},
     "output_type": "execute_result"
    }
   ],
   "source": [
    "rs_model_5.best_params_"
   ]
  },
  {
   "cell_type": "code",
   "execution_count": 26,
   "metadata": {},
   "outputs": [
    {
     "data": {
      "text/plain": [
       "{'Train MAE': 6143.589784893025,\n",
       " 'Val MAE': 7745.768577585529,\n",
       " 'Train MSLE': 0.07782946923265956,\n",
       " 'Val MSLE': 0.09689841496328197,\n",
       " 'Train RMSLE': 0.2789793347770755,\n",
       " 'Val RMSLE': 0.31128510237928503,\n",
       " 'Train R2': 0.8287803125204002,\n",
       " 'Val R2': 0.7993129703127813}"
      ]
     },
     "execution_count": 26,
     "metadata": {},
     "output_type": "execute_result"
    }
   ],
   "source": [
    "eval_scores(rs_model_5, X_train, X_val, y_train, y_val)"
   ]
  },
  {
   "cell_type": "code",
   "execution_count": 28,
   "metadata": {},
   "outputs": [],
   "source": [
    "np.random.seed(42)\n",
    "rs_model_6 = RandomizedSearchCV(RandomForestRegressor(), \n",
    "                              param_distributions=rf_grid_1,\n",
    "                              cv=5,\n",
    "                              n_iter=3,\n",
    "                              verbose=True)"
   ]
  },
  {
   "cell_type": "code",
   "execution_count": 29,
   "metadata": {},
   "outputs": [
    {
     "name": "stdout",
     "output_type": "stream",
     "text": [
      "Fitting 5 folds for each of 3 candidates, totalling 15 fits\n"
     ]
    },
    {
     "name": "stderr",
     "output_type": "stream",
     "text": [
      "[Parallel(n_jobs=1)]: Using backend SequentialBackend with 1 concurrent workers.\n",
      "[Parallel(n_jobs=1)]: Done  15 out of  15 | elapsed:  3.4min finished\n"
     ]
    },
    {
     "name": "stdout",
     "output_type": "stream",
     "text": [
      "Wall time: 3min 45s\n"
     ]
    },
    {
     "data": {
      "text/plain": [
       "RandomizedSearchCV(cv=5, estimator=RandomForestRegressor(), n_iter=3,\n",
       "                   param_distributions={'max_depth': [None, 3, 5, 10, 20, 40],\n",
       "                                        'max_features': [0.5, 1, 'sqrt',\n",
       "                                                         'auto'],\n",
       "                                        'max_samples': [10000],\n",
       "                                        'min_samples_leaf': array([ 3,  5,  7,  9, 11, 13, 15, 17, 19]),\n",
       "                                        'min_samples_split': array([ 2,  4,  6,  8, 10, 12, 14, 16, 18]),\n",
       "                                        'n_estimators': array([ 10,  30,  50,  70,  90, 110, 130, 150, 170, 190, 210, 230, 250,\n",
       "       270, 290, 310, 330, 350, 370, 390]),\n",
       "                                        'n_jobs': [-1]},\n",
       "                   verbose=True)"
      ]
     },
     "execution_count": 29,
     "metadata": {},
     "output_type": "execute_result"
    }
   ],
   "source": [
    "%%time\n",
    "rs_model_6.fit(X_train,y_train)"
   ]
  },
  {
   "cell_type": "code",
   "execution_count": 30,
   "metadata": {},
   "outputs": [
    {
     "data": {
      "text/plain": [
       "{'n_jobs': -1,\n",
       " 'n_estimators': 370,\n",
       " 'min_samples_split': 18,\n",
       " 'min_samples_leaf': 11,\n",
       " 'max_samples': 10000,\n",
       " 'max_features': 'auto',\n",
       " 'max_depth': 40}"
      ]
     },
     "execution_count": 30,
     "metadata": {},
     "output_type": "execute_result"
    }
   ],
   "source": [
    "rs_model_6.best_params_"
   ]
  },
  {
   "cell_type": "code",
   "execution_count": 31,
   "metadata": {},
   "outputs": [
    {
     "data": {
      "text/plain": [
       "{'Train MAE': 6143.589784893025,\n",
       " 'Val MAE': 7745.768577585529,\n",
       " 'Train MSLE': 0.07782946923265956,\n",
       " 'Val MSLE': 0.09689841496328197,\n",
       " 'Train RMSLE': 0.2789793347770755,\n",
       " 'Val RMSLE': 0.31128510237928503,\n",
       " 'Train R2': 0.8287803125204002,\n",
       " 'Val R2': 0.7993129703127813}"
      ]
     },
     "execution_count": 31,
     "metadata": {},
     "output_type": "execute_result"
    }
   ],
   "source": [
    "eval_scores(rs_model_6, X_train, X_val, y_train, y_val)"
   ]
  },
  {
   "cell_type": "code",
   "execution_count": 32,
   "metadata": {},
   "outputs": [],
   "source": [
    "np.random.seed(42)\n",
    "rs_model_7 = RandomizedSearchCV(RandomForestRegressor(), \n",
    "                              param_distributions=rf_grid_1,\n",
    "                              cv=5,\n",
    "                              n_iter=3,\n",
    "                              n_jobs =-1,\n",
    "                              verbose=True)"
   ]
  },
  {
   "cell_type": "code",
   "execution_count": 33,
   "metadata": {},
   "outputs": [
    {
     "name": "stdout",
     "output_type": "stream",
     "text": [
      "Fitting 5 folds for each of 3 candidates, totalling 15 fits\n"
     ]
    },
    {
     "name": "stderr",
     "output_type": "stream",
     "text": [
      "[Parallel(n_jobs=-1)]: Using backend LokyBackend with 8 concurrent workers.\n",
      "[Parallel(n_jobs=-1)]: Done  15 out of  15 | elapsed:  2.6min finished\n"
     ]
    },
    {
     "name": "stdout",
     "output_type": "stream",
     "text": [
      "Wall time: 3min 6s\n"
     ]
    },
    {
     "data": {
      "text/plain": [
       "RandomizedSearchCV(cv=5, estimator=RandomForestRegressor(), n_iter=3, n_jobs=-1,\n",
       "                   param_distributions={'max_depth': [None, 3, 5, 10, 20, 40],\n",
       "                                        'max_features': [0.5, 1, 'sqrt',\n",
       "                                                         'auto'],\n",
       "                                        'max_samples': [10000],\n",
       "                                        'min_samples_leaf': array([ 3,  5,  7,  9, 11, 13, 15, 17, 19]),\n",
       "                                        'min_samples_split': array([ 2,  4,  6,  8, 10, 12, 14, 16, 18]),\n",
       "                                        'n_estimators': array([ 10,  30,  50,  70,  90, 110, 130, 150, 170, 190, 210, 230, 250,\n",
       "       270, 290, 310, 330, 350, 370, 390]),\n",
       "                                        'n_jobs': [-1]},\n",
       "                   verbose=True)"
      ]
     },
     "execution_count": 33,
     "metadata": {},
     "output_type": "execute_result"
    }
   ],
   "source": [
    "%%time\n",
    "rs_model_7.fit(X_train,y_train)"
   ]
  },
  {
   "cell_type": "code",
   "execution_count": 34,
   "metadata": {},
   "outputs": [
    {
     "data": {
      "text/plain": [
       "{'n_jobs': -1,\n",
       " 'n_estimators': 370,\n",
       " 'min_samples_split': 18,\n",
       " 'min_samples_leaf': 11,\n",
       " 'max_samples': 10000,\n",
       " 'max_features': 'auto',\n",
       " 'max_depth': 40}"
      ]
     },
     "execution_count": 34,
     "metadata": {},
     "output_type": "execute_result"
    }
   ],
   "source": [
    "rs_model_7.best_params_"
   ]
  },
  {
   "cell_type": "code",
   "execution_count": 35,
   "metadata": {},
   "outputs": [
    {
     "data": {
      "text/plain": [
       "{'Train MAE': 6146.362867283839,\n",
       " 'Val MAE': 7748.332416624996,\n",
       " 'Train MSLE': 0.0779130020670651,\n",
       " 'Val MSLE': 0.09702029941418237,\n",
       " 'Train RMSLE': 0.279129006137064,\n",
       " 'Val RMSLE': 0.31148081708860076,\n",
       " 'Train R2': 0.828421468633631,\n",
       " 'Val R2': 0.7986031870439442}"
      ]
     },
     "execution_count": 35,
     "metadata": {},
     "output_type": "execute_result"
    }
   ],
   "source": [
    "eval_scores(rs_model_7, X_train, X_val, y_train, y_val)"
   ]
  },
  {
   "cell_type": "code",
   "execution_count": 19,
   "metadata": {},
   "outputs": [],
   "source": [
    "\n",
    "rs_model_8 = RandomizedSearchCV(RandomForestRegressor(random_state=42), \n",
    "                              param_distributions=rf_grid_1,\n",
    "                              cv=5,\n",
    "                              n_iter=10,\n",
    "                              n_jobs =-1,\n",
    "                              verbose=True)"
   ]
  },
  {
   "cell_type": "code",
   "execution_count": 20,
   "metadata": {},
   "outputs": [
    {
     "name": "stdout",
     "output_type": "stream",
     "text": [
      "Fitting 5 folds for each of 10 candidates, totalling 50 fits\n"
     ]
    },
    {
     "name": "stderr",
     "output_type": "stream",
     "text": [
      "[Parallel(n_jobs=-1)]: Using backend LokyBackend with 8 concurrent workers.\n",
      "[Parallel(n_jobs=-1)]: Done  34 tasks      | elapsed:  6.7min\n",
      "[Parallel(n_jobs=-1)]: Done  50 out of  50 | elapsed:  7.4min finished\n"
     ]
    },
    {
     "name": "stdout",
     "output_type": "stream",
     "text": [
      "Wall time: 7min 39s\n"
     ]
    },
    {
     "data": {
      "text/plain": [
       "RandomizedSearchCV(cv=5, estimator=RandomForestRegressor(random_state=42),\n",
       "                   n_jobs=-1,\n",
       "                   param_distributions={'max_depth': [None, 3, 5, 10, 20, 40],\n",
       "                                        'max_features': [0.5, 1.0, 'sqrt',\n",
       "                                                         'auto'],\n",
       "                                        'max_samples': [10000],\n",
       "                                        'min_samples_leaf': array([ 3,  5,  7,  9, 11, 13, 15, 17, 19]),\n",
       "                                        'min_samples_split': array([ 2,  4,  6,  8, 10, 12, 14, 16, 18]),\n",
       "                                        'n_estimators': array([ 10,  30,  50,  70,  90, 110, 130, 150, 170, 190, 210, 230, 250,\n",
       "       270, 290, 310, 330, 350, 370, 390]),\n",
       "                                        'n_jobs': [-1]},\n",
       "                   verbose=True)"
      ]
     },
     "execution_count": 20,
     "metadata": {},
     "output_type": "execute_result"
    }
   ],
   "source": [
    "%%time\n",
    "rs_model_8.fit(X_train,y_train)"
   ]
  },
  {
   "cell_type": "code",
   "execution_count": 21,
   "metadata": {},
   "outputs": [
    {
     "data": {
      "text/plain": [
       "{'n_jobs': -1,\n",
       " 'n_estimators': 190,\n",
       " 'min_samples_split': 14,\n",
       " 'min_samples_leaf': 15,\n",
       " 'max_samples': 10000,\n",
       " 'max_features': 1.0,\n",
       " 'max_depth': 10}"
      ]
     },
     "execution_count": 21,
     "metadata": {},
     "output_type": "execute_result"
    }
   ],
   "source": [
    "rs_model_8.best_params_"
   ]
  },
  {
   "cell_type": "code",
   "execution_count": 22,
   "metadata": {},
   "outputs": [
    {
     "data": {
      "text/plain": [
       "{'Train MAE': 6715.087018551988,\n",
       " 'Val MAE': 8184.760927772924,\n",
       " 'Train MSLE': 0.08993050732567222,\n",
       " 'Val MSLE': 0.10702545351121837,\n",
       " 'Train RMSLE': 0.29988415650993006,\n",
       " 'Val RMSLE': 0.3271474491895334,\n",
       " 'Train R2': 0.8020448991435206,\n",
       " 'Val R2': 0.7785580734662484}"
      ]
     },
     "execution_count": 22,
     "metadata": {},
     "output_type": "execute_result"
    }
   ],
   "source": [
    "eval_scores(rs_model_8, X_train, X_val, y_train, y_val)"
   ]
  },
  {
   "cell_type": "markdown",
   "metadata": {},
   "source": [
    "### Train a model with the best parameters and do some manual hyperparameter tuning"
   ]
  },
  {
   "cell_type": "code",
   "execution_count": 89,
   "metadata": {},
   "outputs": [
    {
     "name": "stdout",
     "output_type": "stream",
     "text": [
      "Wall time: 1min 52s\n"
     ]
    },
    {
     "data": {
      "text/plain": [
       "RandomForestRegressor(max_features=0.5, min_samples_split=14, n_estimators=90,\n",
       "                      n_jobs=-1, random_state=42)"
      ]
     },
     "execution_count": 89,
     "metadata": {},
     "output_type": "execute_result"
    }
   ],
   "source": [
    "%%time\n",
    "\n",
    "model_main = RandomForestRegressor(n_estimators=90,\n",
    "                                    min_samples_leaf=1,\n",
    "                                    min_samples_split=14,\n",
    "                                    max_features=0.5,\n",
    "                                    n_jobs=-1,\n",
    "                                    max_samples=None,\n",
    "                                    random_state = 42)\n",
    "model_main.fit(X_train, y_train)"
   ]
  },
  {
   "cell_type": "code",
   "execution_count": 90,
   "metadata": {},
   "outputs": [
    {
     "data": {
      "text/plain": [
       "{'Train MAE': 2944.183915329602,\n",
       " 'Val MAE': 6183.3713975255305,\n",
       " 'Train MSLE': 0.020681786055769116,\n",
       " 'Val MSLE': 0.064556771455055,\n",
       " 'Train RMSLE': 0.14381163393748475,\n",
       " 'Val RMSLE': 0.2540802460937391,\n",
       " 'Train R2': 0.9592172692529117,\n",
       " 'Val R2': 0.8766515145233114}"
      ]
     },
     "execution_count": 90,
     "metadata": {},
     "output_type": "execute_result"
    }
   ],
   "source": [
    "eval_scores(model_main, X_train, X_val, y_train, y_val)"
   ]
  },
  {
   "cell_type": "markdown",
   "metadata": {},
   "source": [
    "## Top 2 parameter obtained by all the experimentation above: \n",
    "\n",
    "1) From rf_grid_1 [rs_model_1]: {'n_jobs': -1, 'n_estimators': 330, 'min_samples_split': 6, 'min_samples_leaf': 3, 'max_samples': 10000, 'max_features': 1.0, 'max_depth': 20}  \n",
    "2) From rf_grid_4_re_6 [rs_model_res_1_re6]: {'n_jobs': -1, 'n_estimators': 260, 'min_samples_split': 4, 'min_samples_leaf': 1, 'max_samples': 10000, 'max_depth': 80}\n",
    "\n",
    "**We will now train on the whole training data without restricting the max_samples and then we will wvaluate our model on the validation set.**\n"
   ]
  },
  {
   "cell_type": "code",
   "execution_count": 92,
   "metadata": {
    "scrolled": true
   },
   "outputs": [
    {
     "name": "stderr",
     "output_type": "stream",
     "text": [
      "[Parallel(n_jobs=-1)]: Using backend ThreadingBackend with 8 concurrent workers.\n"
     ]
    },
    {
     "name": "stdout",
     "output_type": "stream",
     "text": [
      "building tree 1 of 330building tree 2 of 330\n",
      "\n",
      "building tree 3 of 330building tree 4 of 330\n",
      "building tree 5 of 330building tree 6 of 330\n",
      "\n",
      "building tree 7 of 330\n",
      "building tree 8 of 330\n",
      "\n",
      "building tree 9 of 330\n",
      "building tree 10 of 330\n",
      "building tree 11 of 330\n"
     ]
    },
    {
     "name": "stderr",
     "output_type": "stream",
     "text": [
      "[Parallel(n_jobs=-1)]: Done   2 tasks      | elapsed:   16.9s\n"
     ]
    },
    {
     "name": "stdout",
     "output_type": "stream",
     "text": [
      "building tree 12 of 330\n",
      "building tree 13 of 330\n",
      "building tree 14 of 330\n",
      "building tree 15 of 330\n",
      "building tree 16 of 330\n",
      "building tree 17 of 330\n",
      "building tree 18 of 330\n",
      "building tree 19 of 330\n",
      "building tree 20 of 330\n",
      "building tree 21 of 330\n",
      "building tree 22 of 330\n",
      "building tree 23 of 330\n",
      "building tree 24 of 330\n",
      "building tree 25 of 330\n",
      "building tree 26 of 330\n",
      "building tree 27 of 330\n",
      "building tree 28 of 330\n",
      "building tree 29 of 330\n",
      "building tree 30 of 330\n",
      "building tree 31 of 330\n",
      "building tree 32 of 330\n",
      "building tree 33 of 330\n",
      "building tree 34 of 330\n",
      "building tree 35 of 330\n",
      "building tree 36 of 330\n",
      "building tree 37 of 330\n",
      "building tree 38 of 330\n",
      "building tree 39 of 330\n",
      "building tree 40 of 330\n",
      "building tree 41 of 330\n",
      "building tree 42 of 330\n",
      "building tree 43 of 330\n",
      "building tree 44 of 330\n",
      "building tree 45 of 330\n",
      "building tree 46 of 330\n",
      "building tree 47 of 330\n",
      "building tree 48 of 330\n",
      "building tree 49 of 330\n",
      "building tree 50 of 330\n",
      "building tree 51 of 330\n",
      "building tree 52 of 330\n",
      "building tree 53 of 330\n",
      "building tree 54 of 330\n",
      "building tree 55 of 330\n",
      "building tree 56 of 330\n",
      "building tree 57 of 330\n",
      "building tree 58 of 330\n",
      "building tree 59 of 330\n",
      "building tree 60 of 330\n",
      "building tree 61 of 330\n",
      "building tree 62 of 330\n",
      "building tree 63 of 330\n"
     ]
    },
    {
     "name": "stderr",
     "output_type": "stream",
     "text": [
      "[Parallel(n_jobs=-1)]: Done  56 tasks      | elapsed:  2.3min\n"
     ]
    },
    {
     "name": "stdout",
     "output_type": "stream",
     "text": [
      "building tree 64 of 330\n",
      "building tree 65 of 330\n",
      "building tree 66 of 330\n",
      "building tree 67 of 330\n",
      "building tree 68 of 330\n",
      "building tree 69 of 330\n",
      "building tree 70 of 330\n",
      "building tree 71 of 330\n",
      "building tree 72 of 330\n",
      "building tree 73 of 330\n",
      "building tree 74 of 330\n",
      "building tree 75 of 330\n",
      "building tree 76 of 330\n",
      "building tree 77 of 330\n",
      "building tree 78 of 330\n",
      "building tree 79 of 330\n",
      "building tree 80 of 330\n",
      "building tree 81 of 330\n",
      "building tree 82 of 330\n",
      "building tree 83 of 330\n",
      "building tree 84 of 330\n",
      "building tree 85 of 330\n",
      "building tree 86 of 330\n",
      "building tree 87 of 330\n",
      "building tree 88 of 330\n",
      "building tree 89 of 330\n",
      "building tree 90 of 330\n",
      "building tree 91 of 330\n",
      "building tree 92 of 330\n",
      "building tree 93 of 330\n",
      "building tree 94 of 330\n",
      "building tree 95 of 330\n",
      "building tree 96 of 330\n",
      "building tree 97 of 330\n",
      "building tree 98 of 330\n",
      "building tree 99 of 330\n",
      "building tree 100 of 330\n",
      "building tree 101 of 330\n",
      "building tree 102 of 330\n",
      "building tree 103 of 330\n",
      "building tree 104 of 330\n",
      "building tree 105 of 330\n",
      "building tree 106 of 330\n",
      "building tree 107 of 330\n",
      "building tree 108 of 330\n",
      "building tree 109 of 330\n",
      "building tree 110 of 330\n",
      "building tree 111 of 330\n",
      "building tree 112 of 330\n",
      "building tree 113 of 330\n",
      "building tree 114 of 330\n",
      "building tree 115 of 330\n",
      "building tree 116 of 330\n",
      "building tree 117 of 330\n",
      "building tree 118 of 330\n",
      "building tree 119 of 330\n",
      "building tree 120 of 330\n",
      "building tree 121 of 330\n",
      "building tree 122 of 330\n",
      "building tree 123 of 330\n",
      "building tree 124 of 330\n",
      "building tree 125 of 330\n",
      "building tree 126 of 330\n",
      "building tree 127 of 330\n",
      "building tree 128 of 330\n",
      "building tree 129 of 330\n",
      "building tree 130 of 330\n",
      "building tree 131 of 330\n",
      "building tree 132 of 330\n",
      "building tree 133 of 330\n",
      "building tree 134 of 330\n",
      "building tree 135 of 330\n",
      "building tree 136 of 330\n",
      "building tree 137 of 330\n",
      "building tree 138 of 330\n",
      "building tree 139 of 330\n",
      "building tree 140 of 330\n",
      "building tree 141 of 330\n",
      "building tree 142 of 330\n",
      "building tree 143 of 330\n",
      "building tree 144 of 330\n",
      "building tree 145 of 330\n",
      "building tree 146 of 330\n",
      "building tree 147 of 330\n",
      "building tree 148 of 330\n",
      "building tree 149 of 330\n",
      "building tree 150 of 330\n",
      "building tree 151 of 330\n",
      "building tree 152 of 330\n",
      "building tree 153 of 330\n"
     ]
    },
    {
     "name": "stderr",
     "output_type": "stream",
     "text": [
      "[Parallel(n_jobs=-1)]: Done 146 tasks      | elapsed:  5.9min\n"
     ]
    },
    {
     "name": "stdout",
     "output_type": "stream",
     "text": [
      "building tree 154 of 330\n",
      "building tree 155 of 330\n",
      "building tree 156 of 330\n",
      "building tree 157 of 330\n",
      "building tree 158 of 330\n",
      "building tree 159 of 330\n",
      "building tree 160 of 330\n",
      "building tree 161 of 330\n",
      "building tree 162 of 330\n",
      "building tree 163 of 330\n",
      "building tree 164 of 330\n",
      "building tree 165 of 330\n",
      "building tree 166 of 330\n",
      "building tree 167 of 330\n",
      "building tree 168 of 330\n",
      "building tree 169 of 330\n",
      "building tree 170 of 330\n",
      "building tree 171 of 330\n",
      "building tree 172 of 330\n",
      "building tree 173 of 330\n",
      "building tree 174 of 330\n",
      "building tree 175 of 330\n",
      "building tree 176 of 330\n",
      "building tree 177 of 330\n",
      "building tree 178 of 330\n",
      "building tree 179 of 330\n",
      "building tree 180 of 330\n",
      "building tree 181 of 330\n",
      "building tree 182 of 330\n",
      "building tree 183 of 330\n",
      "building tree 184 of 330\n",
      "building tree 185 of 330\n",
      "building tree 186 of 330\n",
      "building tree 187 of 330\n",
      "building tree 188 of 330\n",
      "building tree 189 of 330\n",
      "building tree 190 of 330\n",
      "building tree 191 of 330\n",
      "building tree 192 of 330\n",
      "building tree 193 of 330\n",
      "building tree 194 of 330\n",
      "building tree 195 of 330\n",
      "building tree 196 of 330\n",
      "building tree 197 of 330\n",
      "building tree 198 of 330\n",
      "building tree 199 of 330\n",
      "building tree 200 of 330\n",
      "building tree 201 of 330\n",
      "building tree 202 of 330\n",
      "building tree 203 of 330\n",
      "building tree 204 of 330\n",
      "building tree 205 of 330\n",
      "building tree 206 of 330\n",
      "building tree 207 of 330\n",
      "building tree 208 of 330\n",
      "building tree 209 of 330\n",
      "building tree 210 of 330\n",
      "building tree 211 of 330\n",
      "building tree 212 of 330\n",
      "building tree 213 of 330\n",
      "building tree 214 of 330\n",
      "building tree 215 of 330\n",
      "building tree 216 of 330\n",
      "building tree 217 of 330\n",
      "building tree 218 of 330\n",
      "building tree 219 of 330\n",
      "building tree 220 of 330\n",
      "building tree 221 of 330\n",
      "building tree 222 of 330\n",
      "building tree 223 of 330\n",
      "building tree 224 of 330\n",
      "building tree 225 of 330\n",
      "building tree 226 of 330\n",
      "building tree 227 of 330\n",
      "building tree 228 of 330\n",
      "building tree 229 of 330\n",
      "building tree 230 of 330\n",
      "building tree 231 of 330\n",
      "building tree 232 of 330\n",
      "building tree 233 of 330\n",
      "building tree 234 of 330\n",
      "building tree 235 of 330\n",
      "building tree 236 of 330\n",
      "building tree 237 of 330\n",
      "building tree 238 of 330\n",
      "building tree 239 of 330\n",
      "building tree 240 of 330\n",
      "building tree 241 of 330\n",
      "building tree 242 of 330\n",
      "building tree 243 of 330\n",
      "building tree 244 of 330\n",
      "building tree 245 of 330\n",
      "building tree 246 of 330\n",
      "building tree 247 of 330\n",
      "building tree 248 of 330\n",
      "building tree 249 of 330\n",
      "building tree 250 of 330\n",
      "building tree 251 of 330\n",
      "building tree 252 of 330\n",
      "building tree 253 of 330\n",
      "building tree 254 of 330\n",
      "building tree 255 of 330\n",
      "building tree 256 of 330\n",
      "building tree 257 of 330\n",
      "building tree 258 of 330\n",
      "building tree 259 of 330\n",
      "building tree 260 of 330\n",
      "building tree 261 of 330\n",
      "building tree 262 of 330\n",
      "building tree 263 of 330\n",
      "building tree 264 of 330\n",
      "building tree 265 of 330\n",
      "building tree 266 of 330\n",
      "building tree 267 of 330\n",
      "building tree 268 of 330\n",
      "building tree 269 of 330\n",
      "building tree 270 of 330\n",
      "building tree 271 of 330\n",
      "building tree 272 of 330\n",
      "building tree 273 of 330\n",
      "building tree 274 of 330\n",
      "building tree 275 of 330\n",
      "building tree 276 of 330\n",
      "building tree 277 of 330\n",
      "building tree 278 of 330\n",
      "building tree 279 of 330\n"
     ]
    },
    {
     "name": "stderr",
     "output_type": "stream",
     "text": [
      "[Parallel(n_jobs=-1)]: Done 272 tasks      | elapsed: 11.0min\n"
     ]
    },
    {
     "name": "stdout",
     "output_type": "stream",
     "text": [
      "building tree 280 of 330\n",
      "building tree 281 of 330\n",
      "building tree 282 of 330\n",
      "building tree 283 of 330\n",
      "building tree 284 of 330\n",
      "building tree 285 of 330\n",
      "building tree 286 of 330\n",
      "building tree 287 of 330\n",
      "building tree 288 of 330\n",
      "building tree 289 of 330\n",
      "building tree 290 of 330\n",
      "building tree 291 of 330\n",
      "building tree 292 of 330\n",
      "building tree 293 of 330\n",
      "building tree 294 of 330\n",
      "building tree 295 of 330\n",
      "building tree 296 of 330\n",
      "building tree 297 of 330\n",
      "building tree 298 of 330\n",
      "building tree 299 of 330\n",
      "building tree 300 of 330\n",
      "building tree 301 of 330\n",
      "building tree 302 of 330\n",
      "building tree 303 of 330\n",
      "building tree 304 of 330\n",
      "building tree 305 of 330\n",
      "building tree 306 of 330\n",
      "building tree 307 of 330\n",
      "building tree 308 of 330\n",
      "building tree 309 of 330\n",
      "building tree 310 of 330\n",
      "building tree 311 of 330\n",
      "building tree 312 of 330\n",
      "building tree 313 of 330\n",
      "building tree 314 of 330\n",
      "building tree 315 of 330\n",
      "building tree 316 of 330\n",
      "building tree 317 of 330\n",
      "building tree 318 of 330\n",
      "building tree 319 of 330\n",
      "building tree 320 of 330\n",
      "building tree 321 of 330\n",
      "building tree 322 of 330\n",
      "building tree 323 of 330\n",
      "building tree 324 of 330\n",
      "building tree 325 of 330\n",
      "building tree 326 of 330\n",
      "building tree 327 of 330\n",
      "building tree 328 of 330\n",
      "building tree 329 of 330\n",
      "building tree 330 of 330\n",
      "Wall time: 13min 22s\n"
     ]
    },
    {
     "name": "stderr",
     "output_type": "stream",
     "text": [
      "[Parallel(n_jobs=-1)]: Done 330 out of 330 | elapsed: 13.3min finished\n"
     ]
    },
    {
     "data": {
      "text/plain": [
       "RandomForestRegressor(max_depth=20, max_features=1.0, min_samples_leaf=3,\n",
       "                      min_samples_split=6, n_estimators=330, n_jobs=-1,\n",
       "                      random_state=42, verbose=5)"
      ]
     },
     "execution_count": 92,
     "metadata": {},
     "output_type": "execute_result"
    }
   ],
   "source": [
    "%%time\n",
    "ideal_model_1 = RandomForestRegressor(n_jobs =-1, \n",
    "                                     n_estimators = 330,\n",
    "                                     min_samples_split = 6,\n",
    "                                     min_samples_leaf = 3,\n",
    "                                      max_features=1.0,\n",
    "                                      max_depth=20,\n",
    "                                      random_state=42,\n",
    "                                      verbose = 5\n",
    "                                     )\n",
    "ideal_model_1.fit(X_train, y_train)"
   ]
  },
  {
   "cell_type": "code",
   "execution_count": 93,
   "metadata": {},
   "outputs": [
    {
     "name": "stderr",
     "output_type": "stream",
     "text": [
      "[Parallel(n_jobs=8)]: Using backend ThreadingBackend with 8 concurrent workers.\n",
      "[Parallel(n_jobs=8)]: Done   2 tasks      | elapsed:    0.1s\n",
      "[Parallel(n_jobs=8)]: Done  56 tasks      | elapsed:    1.6s\n",
      "[Parallel(n_jobs=8)]: Done 146 tasks      | elapsed:    4.0s\n",
      "[Parallel(n_jobs=8)]: Done 272 tasks      | elapsed:    7.8s\n",
      "[Parallel(n_jobs=8)]: Done 330 out of 330 | elapsed:    9.5s finished\n",
      "[Parallel(n_jobs=8)]: Using backend ThreadingBackend with 8 concurrent workers.\n",
      "[Parallel(n_jobs=8)]: Done   2 tasks      | elapsed:    0.0s\n",
      "[Parallel(n_jobs=8)]: Done  56 tasks      | elapsed:    0.0s\n",
      "[Parallel(n_jobs=8)]: Done 146 tasks      | elapsed:    0.1s\n",
      "[Parallel(n_jobs=8)]: Done 272 tasks      | elapsed:    0.3s\n",
      "[Parallel(n_jobs=8)]: Done 330 out of 330 | elapsed:    0.3s finished\n"
     ]
    },
    {
     "data": {
      "text/plain": [
       "{'Train MAE': 2952.365336223051,\n",
       " 'Val MAE': 6258.039523644784,\n",
       " 'Train MSLE': 0.02301604004443366,\n",
       " 'Val MSLE': 0.06625123232305148,\n",
       " 'Train RMSLE': 0.1517103821247368,\n",
       " 'Val RMSLE': 0.25739314738945845,\n",
       " 'Train R2': 0.9584381774866312,\n",
       " 'Val R2': 0.8691048984939347}"
      ]
     },
     "execution_count": 93,
     "metadata": {},
     "output_type": "execute_result"
    }
   ],
   "source": [
    "eval_scores(ideal_model_1, X_train, X_val, y_train, y_val)"
   ]
  },
  {
   "cell_type": "code",
   "execution_count": 96,
   "metadata": {
    "scrolled": true
   },
   "outputs": [
    {
     "name": "stderr",
     "output_type": "stream",
     "text": [
      "[Parallel(n_jobs=-1)]: Using backend ThreadingBackend with 8 concurrent workers.\n"
     ]
    },
    {
     "name": "stdout",
     "output_type": "stream",
     "text": [
      "building tree 1 of 260\n",
      "building tree 2 of 260\n",
      "building tree 3 of 260\n",
      "building tree 4 of 260\n",
      "building tree 5 of 260\n",
      "building tree 6 of 260\n",
      "building tree 7 of 260building tree 8 of 260\n",
      "\n",
      "building tree 9 of 260\n",
      "building tree 10 of 260\n",
      "building tree 11 of 260\n",
      "building tree 12 of 260\n",
      "building tree 13 of 260\n",
      "building tree 14 of 260\n",
      "building tree 15 of 260\n",
      "building tree 16 of 260\n",
      "building tree 17 of 260\n",
      "building tree 18 of 260\n",
      "building tree 19 of 260\n",
      "building tree 20 of 260\n",
      "building tree 21 of 260\n",
      "building tree 22 of 260\n",
      "building tree 23 of 260\n",
      "building tree 24 of 260\n",
      "building tree 25 of 260\n",
      "building tree 26 of 260\n",
      "building tree 27 of 260\n",
      "building tree 28 of 260\n",
      "building tree 29 of 260\n",
      "building tree 30 of 260\n",
      "building tree 31 of 260\n",
      "building tree 32 of 260\n"
     ]
    },
    {
     "name": "stderr",
     "output_type": "stream",
     "text": [
      "[Parallel(n_jobs=-1)]: Done  25 tasks      | elapsed:  1.3min\n"
     ]
    },
    {
     "name": "stdout",
     "output_type": "stream",
     "text": [
      "building tree 33 of 260\n",
      "building tree 34 of 260\n",
      "building tree 35 of 260\n",
      "building tree 36 of 260\n",
      "building tree 37 of 260\n",
      "building tree 38 of 260\n",
      "building tree 39 of 260\n",
      "building tree 40 of 260\n",
      "building tree 41 of 260\n",
      "building tree 42 of 260\n",
      "building tree 43 of 260\n",
      "building tree 44 of 260\n",
      "building tree 45 of 260\n",
      "building tree 46 of 260\n",
      "building tree 47 of 260\n",
      "building tree 48 of 260\n",
      "building tree 49 of 260\n",
      "building tree 50 of 260\n",
      "building tree 51 of 260\n",
      "building tree 52 of 260\n",
      "building tree 53 of 260\n",
      "building tree 54 of 260\n",
      "building tree 55 of 260\n",
      "building tree 56 of 260\n",
      "building tree 57 of 260\n",
      "building tree 58 of 260\n",
      "building tree 59 of 260\n",
      "building tree 60 of 260\n",
      "building tree 61 of 260\n",
      "building tree 62 of 260\n",
      "building tree 63 of 260\n",
      "building tree 64 of 260\n",
      "building tree 65 of 260\n",
      "building tree 66 of 260\n",
      "building tree 67 of 260\n",
      "building tree 68 of 260\n",
      "building tree 69 of 260\n",
      "building tree 70 of 260\n",
      "building tree 71 of 260\n",
      "building tree 72 of 260\n",
      "building tree 73 of 260\n",
      "building tree 74 of 260\n",
      "building tree 75 of 260\n",
      "building tree 76 of 260\n",
      "building tree 77 of 260\n",
      "building tree 78 of 260\n",
      "building tree 79 of 260\n",
      "building tree 80 of 260\n",
      "building tree 81 of 260\n",
      "building tree 82 of 260\n",
      "building tree 83 of 260\n",
      "building tree 84 of 260\n",
      "building tree 85 of 260\n",
      "building tree 86 of 260\n",
      "building tree 87 of 260\n",
      "building tree 88 of 260\n",
      "building tree 89 of 260\n",
      "building tree 90 of 260\n",
      "building tree 91 of 260\n",
      "building tree 92 of 260\n",
      "building tree 93 of 260\n",
      "building tree 94 of 260\n",
      "building tree 95 of 260\n",
      "building tree 96 of 260\n",
      "building tree 97 of 260\n",
      "building tree 98 of 260\n",
      "building tree 99 of 260\n",
      "building tree 100 of 260\n",
      "building tree 101 of 260\n",
      "building tree 102 of 260\n",
      "building tree 103 of 260\n",
      "building tree 104 of 260\n",
      "building tree 105 of 260\n",
      "building tree 106 of 260building tree 107 of 260\n",
      "\n",
      "building tree 108 of 260\n",
      "building tree 109 of 260\n",
      "building tree 110 of 260\n",
      "building tree 111 of 260\n",
      "building tree 112 of 260\n",
      "building tree 113 of 260\n",
      "building tree 114 of 260\n",
      "building tree 115 of 260\n",
      "building tree 116 of 260\n",
      "building tree 117 of 260\n",
      "building tree 118 of 260\n",
      "building tree 119 of 260\n",
      "building tree 120 of 260\n",
      "building tree 121 of 260\n",
      "building tree 122 of 260\n",
      "building tree 123 of 260\n",
      "building tree 124 of 260\n",
      "building tree 125 of 260\n",
      "building tree 126 of 260\n",
      "building tree 127 of 260\n",
      "building tree 128 of 260\n",
      "building tree 129 of 260\n",
      "building tree 130 of 260\n",
      "building tree 131 of 260\n",
      "building tree 132 of 260\n",
      "building tree 133 of 260\n",
      "building tree 134 of 260\n",
      "building tree 135 of 260\n",
      "building tree 136 of 260\n",
      "building tree 137 of 260\n",
      "building tree 138 of 260\n",
      "building tree 139 of 260\n",
      "building tree 140 of 260\n",
      "building tree 141 of 260\n",
      "building tree 142 of 260\n",
      "building tree 143 of 260\n",
      "building tree 144 of 260\n",
      "building tree 145 of 260\n",
      "building tree 146 of 260\n",
      "building tree 147 of 260\n",
      "building tree 148 of 260\n",
      "building tree 149 of 260\n",
      "building tree 150 of 260\n",
      "building tree 151 of 260\n",
      "building tree 152 of 260\n",
      "building tree 153 of 260\n"
     ]
    },
    {
     "name": "stderr",
     "output_type": "stream",
     "text": [
      "[Parallel(n_jobs=-1)]: Done 146 tasks      | elapsed:  7.0min\n"
     ]
    },
    {
     "name": "stdout",
     "output_type": "stream",
     "text": [
      "building tree 154 of 260\n",
      "building tree 155 of 260\n",
      "building tree 156 of 260\n",
      "building tree 157 of 260\n",
      "building tree 158 of 260\n",
      "building tree 159 of 260\n",
      "building tree 160 of 260\n",
      "building tree 161 of 260\n",
      "building tree 162 of 260\n",
      "building tree 163 of 260\n",
      "building tree 164 of 260\n",
      "building tree 165 of 260\n",
      "building tree 166 of 260\n",
      "building tree 167 of 260\n",
      "building tree 168 of 260\n",
      "building tree 169 of 260\n",
      "building tree 170 of 260\n",
      "building tree 171 of 260\n",
      "building tree 172 of 260\n",
      "building tree 173 of 260\n",
      "building tree 174 of 260\n",
      "building tree 175 of 260\n",
      "building tree 176 of 260\n",
      "building tree 177 of 260\n",
      "building tree 178 of 260\n",
      "building tree 179 of 260\n",
      "building tree 180 of 260\n",
      "building tree 181 of 260\n",
      "building tree 182 of 260\n",
      "building tree 183 of 260\n",
      "building tree 184 of 260\n",
      "building tree 185 of 260\n",
      "building tree 186 of 260\n",
      "building tree 187 of 260\n",
      "building tree 188 of 260\n",
      "building tree 189 of 260\n",
      "building tree 190 of 260\n",
      "building tree 191 of 260\n",
      "building tree 192 of 260\n",
      "building tree 193 of 260\n",
      "building tree 194 of 260\n",
      "building tree 195 of 260\n",
      "building tree 196 of 260\n",
      "building tree 197 of 260\n",
      "building tree 198 of 260\n",
      "building tree 199 of 260\n",
      "building tree 200 of 260\n",
      "building tree 201 of 260\n",
      "building tree 202 of 260\n",
      "building tree 203 of 260\n",
      "building tree 204 of 260\n",
      "building tree 205 of 260\n",
      "building tree 206 of 260\n",
      "building tree 207 of 260\n",
      "building tree 208 of 260\n",
      "building tree 209 of 260\n",
      "building tree 210 of 260\n",
      "building tree 211 of 260\n",
      "building tree 212 of 260\n",
      "building tree 213 of 260\n",
      "building tree 214 of 260\n",
      "building tree 215 of 260\n",
      "building tree 216 of 260\n",
      "building tree 217 of 260\n",
      "building tree 218 of 260\n",
      "building tree 219 of 260\n",
      "building tree 220 of 260\n",
      "building tree 221 of 260\n",
      "building tree 222 of 260\n",
      "building tree 223 of 260\n",
      "building tree 224 of 260\n",
      "building tree 225 of 260\n",
      "building tree 226 of 260\n",
      "building tree 227 of 260\n",
      "building tree 228 of 260\n",
      "building tree 229 of 260\n",
      "building tree 230 of 260\n",
      "building tree 231 of 260\n",
      "building tree 232 of 260\n",
      "building tree 233 of 260\n",
      "building tree 234 of 260\n",
      "building tree 235 of 260\n",
      "building tree 236 of 260\n",
      "building tree 237 of 260\n",
      "building tree 238 of 260\n",
      "building tree 239 of 260\n",
      "building tree 240 of 260\n",
      "building tree 241 of 260\n",
      "building tree 242 of 260\n",
      "building tree 243 of 260\n",
      "building tree 244 of 260\n",
      "building tree 245 of 260\n",
      "building tree 246 of 260\n",
      "building tree 247 of 260\n",
      "building tree 248 of 260\n",
      "building tree 249 of 260\n",
      "building tree 250 of 260\n",
      "building tree 251 of 260\n",
      "building tree 252 of 260\n",
      "building tree 253 of 260\n",
      "building tree 254 of 260\n",
      "building tree 255 of 260\n",
      "building tree 256 of 260\n",
      "building tree 257 of 260\n",
      "building tree 258 of 260\n",
      "building tree 259 of 260\n",
      "building tree 260 of 260\n",
      "Wall time: 12min 11s\n"
     ]
    },
    {
     "name": "stderr",
     "output_type": "stream",
     "text": [
      "[Parallel(n_jobs=-1)]: Done 260 out of 260 | elapsed: 12.2min finished\n"
     ]
    },
    {
     "data": {
      "text/plain": [
       "RandomForestRegressor(max_depth=80, max_features=1.0, min_samples_split=4,\n",
       "                      n_estimators=260, n_jobs=-1, random_state=42, verbose=2)"
      ]
     },
     "execution_count": 96,
     "metadata": {},
     "output_type": "execute_result"
    }
   ],
   "source": [
    "%%time\n",
    "ideal_model_2 = RandomForestRegressor(n_jobs =-1, \n",
    "                                     n_estimators = 260,\n",
    "                                     min_samples_split = 4,\n",
    "                                     min_samples_leaf = 1,\n",
    "                                      max_features=1.0,\n",
    "                                      max_depth=80,\n",
    "                                      random_state=42,\n",
    "                                      verbose = 2\n",
    "                                     )\n",
    "ideal_model_2.fit(X_train, y_train)"
   ]
  },
  {
   "cell_type": "code",
   "execution_count": 97,
   "metadata": {},
   "outputs": [
    {
     "name": "stderr",
     "output_type": "stream",
     "text": [
      "[Parallel(n_jobs=8)]: Using backend ThreadingBackend with 8 concurrent workers.\n",
      "[Parallel(n_jobs=8)]: Done  25 tasks      | elapsed:    1.2s\n",
      "[Parallel(n_jobs=8)]: Done 146 tasks      | elapsed:    7.0s\n",
      "[Parallel(n_jobs=8)]: Done 260 out of 260 | elapsed:   12.9s finished\n",
      "[Parallel(n_jobs=8)]: Using backend ThreadingBackend with 8 concurrent workers.\n",
      "[Parallel(n_jobs=8)]: Done  25 tasks      | elapsed:    0.0s\n",
      "[Parallel(n_jobs=8)]: Done 146 tasks      | elapsed:    0.1s\n",
      "[Parallel(n_jobs=8)]: Done 260 out of 260 | elapsed:    0.3s finished\n"
     ]
    },
    {
     "data": {
      "text/plain": [
       "{'Train MAE': 1751.1459323921845,\n",
       " 'Val MAE': 6345.572182512629,\n",
       " 'Train MSLE': 0.008627981883765925,\n",
       " 'Val MSLE': 0.06891593350606966,\n",
       " 'Train RMSLE': 0.09288693064024629,\n",
       " 'Val RMSLE': 0.26251844412549313,\n",
       " 'Train R2': 0.9843082030928626,\n",
       " 'Val R2': 0.867711492824867}"
      ]
     },
     "execution_count": 97,
     "metadata": {},
     "output_type": "execute_result"
    }
   ],
   "source": [
    "eval_scores(ideal_model_2, X_train, X_val, y_train, y_val)"
   ]
  },
  {
   "cell_type": "code",
   "execution_count": 110,
   "metadata": {},
   "outputs": [
    {
     "name": "stdout",
     "output_type": "stream",
     "text": [
      "Wall time: 2min 18s\n"
     ]
    },
    {
     "data": {
      "text/plain": [
       "RandomForestRegressor(max_features=0.5, min_samples_leaf=3,\n",
       "                      min_samples_split=18, n_jobs=-1, random_state=42)"
      ]
     },
     "execution_count": 110,
     "metadata": {},
     "output_type": "execute_result"
    }
   ],
   "source": [
    "%%time\n",
    "\n",
    "ideal_model_3 = RandomForestRegressor(n_estimators=100,\n",
    "                                    min_samples_leaf=3,\n",
    "                                    min_samples_split=18,\n",
    "                                    max_features=0.5,\n",
    "                                    n_jobs=-1,\n",
    "                                    max_samples=None,\n",
    "                                    random_state = 42)\n",
    "ideal_model_3.fit(X_train, y_train)"
   ]
  },
  {
   "cell_type": "code",
   "execution_count": 111,
   "metadata": {},
   "outputs": [
    {
     "data": {
      "text/plain": [
       "{'Train MAE': 3359.6648898210947,\n",
       " 'Val MAE': 6168.366189660107,\n",
       " 'Train MSLE': 0.026674096203701706,\n",
       " 'Val MSLE': 0.06356263202575754,\n",
       " 'Train RMSLE': 0.16332206281976022,\n",
       " 'Val RMSLE': 0.25211630654473255,\n",
       " 'Train R2': 0.9457670487745654,\n",
       " 'Val R2': 0.8766627883650876}"
      ]
     },
     "execution_count": 111,
     "metadata": {},
     "output_type": "execute_result"
    }
   ],
   "source": [
    "eval_scores(ideal_model_3, X_train, X_val, y_train, y_val)"
   ]
  },
  {
   "cell_type": "code",
   "execution_count": 114,
   "metadata": {},
   "outputs": [
    {
     "name": "stdout",
     "output_type": "stream",
     "text": [
      "Wall time: 2min 30s\n"
     ]
    },
    {
     "data": {
      "text/plain": [
       "RandomForestRegressor(max_features=0.5, min_samples_leaf=5,\n",
       "                      min_samples_split=18, n_jobs=-1, random_state=42)"
      ]
     },
     "execution_count": 114,
     "metadata": {},
     "output_type": "execute_result"
    }
   ],
   "source": [
    "%%time\n",
    "\n",
    "ideal_model_4 = RandomForestRegressor(n_estimators=100,\n",
    "                                    min_samples_leaf=5,\n",
    "                                    min_samples_split=18,\n",
    "                                    max_features=0.5,\n",
    "                                    n_jobs=-1,\n",
    "                                    max_samples=None,\n",
    "                                    random_state = 42)\n",
    "ideal_model_4.fit(X_train, y_train)"
   ]
  },
  {
   "cell_type": "code",
   "execution_count": 115,
   "metadata": {},
   "outputs": [
    {
     "data": {
      "text/plain": [
       "{'Train MAE': 3501.046109394642,\n",
       " 'Val MAE': 6142.85301244555,\n",
       " 'Train MSLE': 0.02880681776766454,\n",
       " 'Val MSLE': 0.06324279332673444,\n",
       " 'Train RMSLE': 0.16972571333673794,\n",
       " 'Val RMSLE': 0.25148119875397135,\n",
       " 'Train R2': 0.9409635741677599,\n",
       " 'Val R2': 0.8768522542514898}"
      ]
     },
     "execution_count": 115,
     "metadata": {},
     "output_type": "execute_result"
    }
   ],
   "source": [
    "eval_scores(ideal_model_4, X_train, X_val, y_train, y_val)"
   ]
  },
  {
   "cell_type": "code",
   "execution_count": 124,
   "metadata": {},
   "outputs": [
    {
     "name": "stdout",
     "output_type": "stream",
     "text": [
      "Wall time: 2min 27s\n"
     ]
    },
    {
     "data": {
      "text/plain": [
       "RandomForestRegressor(max_features=0.5, min_samples_leaf=5,\n",
       "                      min_samples_split=16, n_jobs=-1, random_state=42)"
      ]
     },
     "execution_count": 124,
     "metadata": {},
     "output_type": "execute_result"
    }
   ],
   "source": [
    "%%time\n",
    "\n",
    "ideal_model_5 = RandomForestRegressor(n_estimators=100,\n",
    "                                    min_samples_leaf=5,\n",
    "                                    min_samples_split=16,\n",
    "                                    max_features=0.5,\n",
    "                                    n_jobs=-1,\n",
    "                                    max_samples=None,\n",
    "                                    random_state = 42)\n",
    "ideal_model_5.fit(X_train, y_train)"
   ]
  },
  {
   "cell_type": "code",
   "execution_count": 125,
   "metadata": {},
   "outputs": [
    {
     "data": {
      "text/plain": [
       "{'Train MAE': 3416.8938243577095,\n",
       " 'Val MAE': 6138.258822885172,\n",
       " 'Train MSLE': 0.0276729084310586,\n",
       " 'Val MSLE': 0.0631233112972946,\n",
       " 'Train RMSLE': 0.1663517611300181,\n",
       " 'Val RMSLE': 0.251243529861556,\n",
       " 'Train R2': 0.9434528731889593,\n",
       " 'Val R2': 0.8770707979067831}"
      ]
     },
     "execution_count": 125,
     "metadata": {},
     "output_type": "execute_result"
    }
   ],
   "source": [
    "eval_scores(ideal_model_5, X_train, X_val, y_train, y_val)"
   ]
  },
  {
   "cell_type": "code",
   "execution_count": 135,
   "metadata": {},
   "outputs": [
    {
     "name": "stdout",
     "output_type": "stream",
     "text": [
      "Wall time: 1min 30s\n"
     ]
    },
    {
     "data": {
      "text/plain": [
       "RandomForestRegressor(max_features=0.5, min_samples_leaf=5,\n",
       "                      min_samples_split=16, n_estimators=70, n_jobs=-1,\n",
       "                      random_state=42)"
      ]
     },
     "execution_count": 135,
     "metadata": {},
     "output_type": "execute_result"
    }
   ],
   "source": [
    "%%time\n",
    "\n",
    "ideal_model_6 = RandomForestRegressor(n_estimators=70,\n",
    "                                    min_samples_leaf=5,\n",
    "                                    min_samples_split=16,\n",
    "                                    max_features=0.5,\n",
    "                                    n_jobs=-1,\n",
    "                                    max_samples=None,\n",
    "                                    random_state = 42)\n",
    "ideal_model_6.fit(X_train, y_train)"
   ]
  },
  {
   "cell_type": "code",
   "execution_count": 136,
   "metadata": {},
   "outputs": [
    {
     "data": {
      "text/plain": [
       "{'Train MAE': 3426.800424790285,\n",
       " 'Val MAE': 6136.527615316495,\n",
       " 'Train MSLE': 0.027814567588751244,\n",
       " 'Val MSLE': 0.06310863907021812,\n",
       " 'Train RMSLE': 0.16677699957953207,\n",
       " 'Val RMSLE': 0.25121432895083456,\n",
       " 'Train R2': 0.9430985462565681,\n",
       " 'Val R2': 0.8770000513097104}"
      ]
     },
     "execution_count": 136,
     "metadata": {},
     "output_type": "execute_result"
    }
   ],
   "source": [
    "eval_scores(ideal_model_6, X_train, X_val, y_train, y_val)"
   ]
  },
  {
   "cell_type": "code",
   "execution_count": 139,
   "metadata": {},
   "outputs": [
    {
     "name": "stdout",
     "output_type": "stream",
     "text": [
      "Wall time: 53.4 s\n"
     ]
    },
    {
     "data": {
      "text/plain": [
       "RandomForestRegressor(max_features=0.5, min_samples_leaf=5,\n",
       "                      min_samples_split=16, n_estimators=40, n_jobs=-1,\n",
       "                      random_state=42)"
      ]
     },
     "execution_count": 139,
     "metadata": {},
     "output_type": "execute_result"
    }
   ],
   "source": [
    "%%time\n",
    "\n",
    "ideal_model_6 = RandomForestRegressor(n_estimators=40,\n",
    "                                    min_samples_leaf=5,\n",
    "                                    min_samples_split=16,\n",
    "                                    max_features=0.5,\n",
    "                                    n_jobs=-1,\n",
    "                                    max_samples=None,\n",
    "                                    random_state = 42)\n",
    "ideal_model_6.fit(X_train, y_train)"
   ]
  },
  {
   "cell_type": "code",
   "execution_count": 140,
   "metadata": {},
   "outputs": [
    {
     "data": {
      "text/plain": [
       "{'Train MAE': 3437.7661396849085,\n",
       " 'Val MAE': 6161.116041430479,\n",
       " 'Train MSLE': 0.027962574083927983,\n",
       " 'Val MSLE': 0.06375056069917245,\n",
       " 'Train RMSLE': 0.16722013659822188,\n",
       " 'Val RMSLE': 0.2524887338064264,\n",
       " 'Train R2': 0.9427119289309775,\n",
       " 'Val R2': 0.8761868336753849}"
      ]
     },
     "execution_count": 140,
     "metadata": {},
     "output_type": "execute_result"
    }
   ],
   "source": [
    "eval_scores(ideal_model_6, X_train, X_val, y_train, y_val)"
   ]
  },
  {
   "cell_type": "code",
   "execution_count": 161,
   "metadata": {},
   "outputs": [
    {
     "name": "stdout",
     "output_type": "stream",
     "text": [
      "Wall time: 2min 48s\n"
     ]
    },
    {
     "data": {
      "text/plain": [
       "RandomForestRegressor(max_features=0.45, min_samples_leaf=5,\n",
       "                      min_samples_split=16, n_estimators=150, n_jobs=-1,\n",
       "                      random_state=42)"
      ]
     },
     "execution_count": 161,
     "metadata": {},
     "output_type": "execute_result"
    }
   ],
   "source": [
    "%%time\n",
    "\n",
    "ideal_model_6 = RandomForestRegressor(n_estimators=150,\n",
    "                                    min_samples_leaf=5,\n",
    "                                    min_samples_split=16,\n",
    "                                    max_features=0.45,\n",
    "                                    n_jobs=-1,\n",
    "                                    max_samples=None,\n",
    "                                    random_state = 42)\n",
    "ideal_model_6.fit(X_train, y_train)"
   ]
  },
  {
   "cell_type": "code",
   "execution_count": 162,
   "metadata": {},
   "outputs": [
    {
     "data": {
      "text/plain": [
       "{'Train MAE': 3457.8102975614484,\n",
       " 'Val MAE': 6126.721275778583,\n",
       " 'Train MSLE': 0.028206518546775406,\n",
       " 'Val MSLE': 0.06280072749089974,\n",
       " 'Train RMSLE': 0.1679479638065773,\n",
       " 'Val RMSLE': 0.25060073322099385,\n",
       " 'Train R2': 0.9424246824531064,\n",
       " 'Val R2': 0.8774621776291555}"
      ]
     },
     "execution_count": 162,
     "metadata": {},
     "output_type": "execute_result"
    }
   ],
   "source": [
    "eval_scores(ideal_model_6, X_train, X_val, y_train, y_val)"
   ]
  },
  {
   "cell_type": "code",
   "execution_count": 19,
   "metadata": {},
   "outputs": [
    {
     "name": "stdout",
     "output_type": "stream",
     "text": [
      "Wall time: 2min 5s\n"
     ]
    },
    {
     "data": {
      "text/plain": [
       "RandomForestRegressor(max_features=0.45, min_samples_leaf=5,\n",
       "                      min_samples_split=16, n_estimators=120, n_jobs=-1,\n",
       "                      random_state=42)"
      ]
     },
     "execution_count": 19,
     "metadata": {},
     "output_type": "execute_result"
    }
   ],
   "source": [
    "#BEST Model obtained\n",
    "%%time\n",
    "\n",
    "ideal_model_8 = RandomForestRegressor(n_estimators=120,\n",
    "                                    min_samples_leaf=5,\n",
    "                                    min_samples_split=16,\n",
    "                                    max_features=0.45,\n",
    "                                    n_jobs=-1,\n",
    "                                    max_samples=None,\n",
    "                                    random_state = 42)\n",
    "ideal_model_8.fit(X_train, y_train)"
   ]
  },
  {
   "cell_type": "code",
   "execution_count": 20,
   "metadata": {},
   "outputs": [
    {
     "data": {
      "text/plain": [
       "{'Train MAE': 3462.455489162945,\n",
       " 'Val MAE': 6130.063458114473,\n",
       " 'Train MSLE': 0.02825789289180943,\n",
       " 'Val MSLE': 0.06273501954625563,\n",
       " 'Train RMSLE': 0.1681008414369465,\n",
       " 'Val RMSLE': 0.2504695980478582,\n",
       " 'Train R2': 0.9422668835456824,\n",
       " 'Val R2': 0.8772051817838386}"
      ]
     },
     "execution_count": 20,
     "metadata": {},
     "output_type": "execute_result"
    }
   ],
   "source": [
    "eval_scores(ideal_model_8, X_train, X_val, y_train, y_val)"
   ]
  },
  {
   "cell_type": "code",
   "execution_count": null,
   "metadata": {},
   "outputs": [],
   "source": [
    "gs_grid_1 = {'n_estimator':[70],\n",
    "            'min_sample_leaf':range(3,12,1),\n",
    "            'min_samples_split':range(5,30,3)},\n",
    "            'max_features': ['auto',0.45, 0.75, 0.5, 1.0 ],\n",
    "            'max_samples':['None'],\n",
    "            'n_jobs':[-1],\n",
    "            'random_state':[42]}"
   ]
  },
  {
   "cell_type": "code",
   "execution_count": null,
   "metadata": {},
   "outputs": [],
   "source": [
    "gs_grid_2 = {'n_estimator':[70],\n",
    "            'min_sample_leaf':range(1,15,2),\n",
    "            'min_samples_split':range(2,30,3)},\n",
    "            'max_features': ['auto',0.45, 0.75, 1.0 ],\n",
    "            'max_samples':['None'],\n",
    "            'n_jobs':[-1],\n",
    "            'random_state':[42]}"
   ]
  },
  {
   "cell_type": "code",
   "execution_count": 21,
   "metadata": {},
   "outputs": [
    {
     "name": "stdout",
     "output_type": "stream",
     "text": [
      "Wall time: 15min 22s\n"
     ]
    },
    {
     "data": {
      "text/plain": [
       "RandomForestRegressor(max_features=0.45, min_samples_leaf=5,\n",
       "                      min_samples_split=16, n_estimators=900, n_jobs=-1)"
      ]
     },
     "execution_count": 21,
     "metadata": {},
     "output_type": "execute_result"
    }
   ],
   "source": [
    "%%time\n",
    "\n",
    "ideal_model_9 = RandomForestRegressor(n_estimators=900,\n",
    "                                    min_samples_leaf=5,\n",
    "                                    min_samples_split=16,\n",
    "                                    max_features=0.45,\n",
    "                                    n_jobs=-1,\n",
    "                                    max_samples=None\n",
    "                                    )\n",
    "ideal_model_9.fit(X_train, y_train)"
   ]
  },
  {
   "cell_type": "code",
   "execution_count": 22,
   "metadata": {},
   "outputs": [
    {
     "data": {
      "text/plain": [
       "{'Train MAE': 3449.2542276023864,\n",
       " 'Val MAE': 6127.211380641203,\n",
       " 'Train MSLE': 0.028076029810390344,\n",
       " 'Val MSLE': 0.06304929873280997,\n",
       " 'Train RMSLE': 0.16755903380716405,\n",
       " 'Val RMSLE': 0.25109619418224954,\n",
       " 'Train R2': 0.9427001279899698,\n",
       " 'Val R2': 0.8774812966531879}"
      ]
     },
     "execution_count": 22,
     "metadata": {},
     "output_type": "execute_result"
    }
   ],
   "source": [
    "eval_scores(ideal_model_9, X_train, X_val, y_train, y_val)"
   ]
  },
  {
   "cell_type": "code",
   "execution_count": 23,
   "metadata": {},
   "outputs": [
    {
     "name": "stdout",
     "output_type": "stream",
     "text": [
      "Wall time: 1min 54s\n"
     ]
    },
    {
     "data": {
      "text/plain": [
       "RandomForestRegressor(max_features=0.45, min_samples_leaf=5,\n",
       "                      min_samples_split=16, n_estimators=110, n_jobs=-1)"
      ]
     },
     "execution_count": 23,
     "metadata": {},
     "output_type": "execute_result"
    }
   ],
   "source": [
    "%%time\n",
    "\n",
    "ideal_model_9 = RandomForestRegressor(n_estimators=110,\n",
    "                                    min_samples_leaf=5,\n",
    "                                    min_samples_split=16,\n",
    "                                    max_features=0.45,\n",
    "                                    n_jobs=-1,\n",
    "                                    max_samples=None\n",
    "                                    )\n",
    "ideal_model_9.fit(X_train, y_train)"
   ]
  },
  {
   "cell_type": "code",
   "execution_count": 24,
   "metadata": {},
   "outputs": [
    {
     "data": {
      "text/plain": [
       "{'Train MAE': 3457.1068649048393,\n",
       " 'Val MAE': 6144.184769627463,\n",
       " 'Train MSLE': 0.02820564558203641,\n",
       " 'Val MSLE': 0.06342061383572872,\n",
       " 'Train RMSLE': 0.1679453648721405,\n",
       " 'Val RMSLE': 0.2518344969136054,\n",
       " 'Train R2': 0.9424486735385423,\n",
       " 'Val R2': 0.8769803229209231}"
      ]
     },
     "execution_count": 24,
     "metadata": {},
     "output_type": "execute_result"
    }
   ],
   "source": [
    "eval_scores(ideal_model_9, X_train, X_val, y_train, y_val)"
   ]
  },
  {
   "cell_type": "code",
   "execution_count": 25,
   "metadata": {},
   "outputs": [
    {
     "name": "stdout",
     "output_type": "stream",
     "text": [
      "Wall time: 2min 12s\n"
     ]
    },
    {
     "data": {
      "text/plain": [
       "RandomForestRegressor(max_features=0.45, min_samples_leaf=5,\n",
       "                      min_samples_split=16, n_estimators=130, n_jobs=-1)"
      ]
     },
     "execution_count": 25,
     "metadata": {},
     "output_type": "execute_result"
    }
   ],
   "source": [
    "%%time\n",
    "\n",
    "ideal_model_9 = RandomForestRegressor(n_estimators=130,\n",
    "                                    min_samples_leaf=5,\n",
    "                                    min_samples_split=16,\n",
    "                                    max_features=0.45,\n",
    "                                    n_jobs=-1,\n",
    "                                    max_samples=None\n",
    "                                    )\n",
    "ideal_model_9.fit(X_train, y_train)"
   ]
  },
  {
   "cell_type": "code",
   "execution_count": 26,
   "metadata": {},
   "outputs": [
    {
     "data": {
      "text/plain": [
       "{'Train MAE': 3455.280616944999,\n",
       " 'Val MAE': 6133.879167663682,\n",
       " 'Train MSLE': 0.028173335823154393,\n",
       " 'Val MSLE': 0.06314880033378738,\n",
       " 'Train RMSLE': 0.16784914603045914,\n",
       " 'Val RMSLE': 0.2512942504988671,\n",
       " 'Train R2': 0.9424895968616291,\n",
       " 'Val R2': 0.8771493969715618}"
      ]
     },
     "execution_count": 26,
     "metadata": {},
     "output_type": "execute_result"
    }
   ],
   "source": [
    "eval_scores(ideal_model_9, X_train, X_val, y_train, y_val)"
   ]
  },
  {
   "cell_type": "code",
   "execution_count": 27,
   "metadata": {},
   "outputs": [
    {
     "name": "stdout",
     "output_type": "stream",
     "text": [
      "Wall time: 2min 25s\n"
     ]
    },
    {
     "data": {
      "text/plain": [
       "RandomForestRegressor(max_features=0.45, min_samples_leaf=5,\n",
       "                      min_samples_split=16, n_estimators=140, n_jobs=-1)"
      ]
     },
     "execution_count": 27,
     "metadata": {},
     "output_type": "execute_result"
    }
   ],
   "source": [
    "%%time\n",
    "\n",
    "ideal_model_9 = RandomForestRegressor(n_estimators=140,\n",
    "                                    min_samples_leaf=5,\n",
    "                                    min_samples_split=16,\n",
    "                                    max_features=0.45,\n",
    "                                    n_jobs=-1,\n",
    "                                    max_samples=None\n",
    "                                    )\n",
    "ideal_model_9.fit(X_train, y_train)"
   ]
  },
  {
   "cell_type": "code",
   "execution_count": 28,
   "metadata": {},
   "outputs": [
    {
     "data": {
      "text/plain": [
       "{'Train MAE': 3460.2955968670612,\n",
       " 'Val MAE': 6151.226971610282,\n",
       " 'Train MSLE': 0.028221015986920128,\n",
       " 'Val MSLE': 0.06317539056511007,\n",
       " 'Train RMSLE': 0.16799111877394032,\n",
       " 'Val RMSLE': 0.25134715149591424,\n",
       " 'Train R2': 0.9422984413166248,\n",
       " 'Val R2': 0.876785345289752}"
      ]
     },
     "execution_count": 28,
     "metadata": {},
     "output_type": "execute_result"
    }
   ],
   "source": [
    "eval_scores(ideal_model_9, X_train, X_val, y_train, y_val)"
   ]
  },
  {
   "cell_type": "code",
   "execution_count": null,
   "metadata": {},
   "outputs": [],
   "source": []
  },
  {
   "cell_type": "code",
   "execution_count": 29,
   "metadata": {},
   "outputs": [
    {
     "name": "stdout",
     "output_type": "stream",
     "text": [
      "Wall time: 1min 51s\n"
     ]
    },
    {
     "data": {
      "text/plain": [
       "RandomForestRegressor(max_features=0.45, min_samples_leaf=5,\n",
       "                      min_samples_split=16, n_estimators=105, n_jobs=-1)"
      ]
     },
     "execution_count": 29,
     "metadata": {},
     "output_type": "execute_result"
    }
   ],
   "source": [
    "%%time\n",
    "\n",
    "ideal_model_9 = RandomForestRegressor(n_estimators=105,\n",
    "                                    min_samples_leaf=5,\n",
    "                                    min_samples_split=16,\n",
    "                                    max_features=0.45,\n",
    "                                    n_jobs=-1,\n",
    "                                    max_samples=None\n",
    "                                    )\n",
    "ideal_model_9.fit(X_train, y_train)"
   ]
  },
  {
   "cell_type": "code",
   "execution_count": 30,
   "metadata": {},
   "outputs": [
    {
     "data": {
      "text/plain": [
       "{'Train MAE': 3466.9100435457276,\n",
       " 'Val MAE': 6134.768264447133,\n",
       " 'Train MSLE': 0.028306582877567245,\n",
       " 'Val MSLE': 0.06317123874416386,\n",
       " 'Train RMSLE': 0.16824560284764425,\n",
       " 'Val RMSLE': 0.25133889222355515,\n",
       " 'Train R2': 0.9421802571128368,\n",
       " 'Val R2': 0.8775724770808031}"
      ]
     },
     "execution_count": 30,
     "metadata": {},
     "output_type": "execute_result"
    }
   ],
   "source": [
    "eval_scores(ideal_model_9, X_train, X_val, y_train, y_val)"
   ]
  },
  {
   "cell_type": "code",
   "execution_count": 31,
   "metadata": {},
   "outputs": [
    {
     "name": "stdout",
     "output_type": "stream",
     "text": [
      "Wall time: 2min 25s\n"
     ]
    },
    {
     "data": {
      "text/plain": [
       "RandomForestRegressor(max_features=0.45, min_samples_leaf=5,\n",
       "                      min_samples_split=16, n_estimators=135, n_jobs=-1)"
      ]
     },
     "execution_count": 31,
     "metadata": {},
     "output_type": "execute_result"
    }
   ],
   "source": [
    "%%time\n",
    "\n",
    "ideal_model_9 = RandomForestRegressor(n_estimators=135,\n",
    "                                    min_samples_leaf=5,\n",
    "                                    min_samples_split=16,\n",
    "                                    max_features=0.45,\n",
    "                                    n_jobs=-1,\n",
    "                                    max_samples=None\n",
    "                                    )\n",
    "ideal_model_9.fit(X_train, y_train)"
   ]
  },
  {
   "cell_type": "code",
   "execution_count": 32,
   "metadata": {},
   "outputs": [
    {
     "data": {
      "text/plain": [
       "{'Train MAE': 3461.289869542715,\n",
       " 'Val MAE': 6141.585070032941,\n",
       " 'Train MSLE': 0.02822107155780196,\n",
       " 'Val MSLE': 0.06335537871930798,\n",
       " 'Train RMSLE': 0.16799128417213186,\n",
       " 'Val RMSLE': 0.251704943772084,\n",
       " 'Train R2': 0.942345550706093,\n",
       " 'Val R2': 0.877298214546735}"
      ]
     },
     "execution_count": 32,
     "metadata": {},
     "output_type": "execute_result"
    }
   ],
   "source": [
    "eval_scores(ideal_model_9, X_train, X_val, y_train, y_val)"
   ]
  },
  {
   "cell_type": "code",
   "execution_count": 33,
   "metadata": {},
   "outputs": [
    {
     "name": "stdout",
     "output_type": "stream",
     "text": [
      "Wall time: 2min 15s\n"
     ]
    },
    {
     "data": {
      "text/plain": [
       "RandomForestRegressor(max_features=0.45, min_samples_leaf=5,\n",
       "                      min_samples_split=16, n_estimators=125, n_jobs=-1)"
      ]
     },
     "execution_count": 33,
     "metadata": {},
     "output_type": "execute_result"
    }
   ],
   "source": [
    "%%time\n",
    "\n",
    "ideal_model_9 = RandomForestRegressor(n_estimators=125,\n",
    "                                    min_samples_leaf=5,\n",
    "                                    min_samples_split=16,\n",
    "                                    max_features=0.45,\n",
    "                                    n_jobs=-1,\n",
    "                                    max_samples=None\n",
    "                                    )\n",
    "ideal_model_9.fit(X_train, y_train)"
   ]
  },
  {
   "cell_type": "code",
   "execution_count": 34,
   "metadata": {},
   "outputs": [
    {
     "data": {
      "text/plain": [
       "{'Train MAE': 3464.30790482772,\n",
       " 'Val MAE': 6153.27723717201,\n",
       " 'Train MSLE': 0.028296762820460532,\n",
       " 'Val MSLE': 0.06343726901090173,\n",
       " 'Train RMSLE': 0.16821641661996173,\n",
       " 'Val RMSLE': 0.2518675624428476,\n",
       " 'Train R2': 0.942187986665968,\n",
       " 'Val R2': 0.8759781983529683}"
      ]
     },
     "execution_count": 34,
     "metadata": {},
     "output_type": "execute_result"
    }
   ],
   "source": [
    "eval_scores(ideal_model_9, X_train, X_val, y_train, y_val)"
   ]
  },
  {
   "cell_type": "code",
   "execution_count": 35,
   "metadata": {},
   "outputs": [
    {
     "name": "stdout",
     "output_type": "stream",
     "text": [
      "Wall time: 2min 5s\n"
     ]
    },
    {
     "data": {
      "text/plain": [
       "RandomForestRegressor(max_features=0.45, min_samples_leaf=5,\n",
       "                      min_samples_split=16, n_estimators=115, n_jobs=-1)"
      ]
     },
     "execution_count": 35,
     "metadata": {},
     "output_type": "execute_result"
    }
   ],
   "source": [
    "%%time\n",
    "\n",
    "ideal_model_9 = RandomForestRegressor(n_estimators=115,\n",
    "                                    min_samples_leaf=5,\n",
    "                                    min_samples_split=16,\n",
    "                                    max_features=0.45,\n",
    "                                    n_jobs=-1,\n",
    "                                    max_samples=None\n",
    "                                    )\n",
    "ideal_model_9.fit(X_train, y_train)"
   ]
  },
  {
   "cell_type": "code",
   "execution_count": 36,
   "metadata": {},
   "outputs": [
    {
     "data": {
      "text/plain": [
       "{'Train MAE': 3465.051349963428,\n",
       " 'Val MAE': 6157.533987330299,\n",
       " 'Train MSLE': 0.028290037411865077,\n",
       " 'Val MSLE': 0.06373052913543606,\n",
       " 'Train RMSLE': 0.1681964250864598,\n",
       " 'Val RMSLE': 0.2524490624570352,\n",
       " 'Train R2': 0.9421340759953328,\n",
       " 'Val R2': 0.876007595244556}"
      ]
     },
     "execution_count": 36,
     "metadata": {},
     "output_type": "execute_result"
    }
   ],
   "source": [
    "eval_scores(ideal_model_9, X_train, X_val, y_train, y_val)"
   ]
  },
  {
   "cell_type": "code",
   "execution_count": null,
   "metadata": {},
   "outputs": [],
   "source": []
  },
  {
   "cell_type": "code",
   "execution_count": 151,
   "metadata": {},
   "outputs": [
    {
     "name": "stdout",
     "output_type": "stream",
     "text": [
      "Wall time: 1min 24s\n"
     ]
    },
    {
     "data": {
      "text/plain": [
       "RandomForestRegressor(max_features=0.45, min_samples_leaf=5,\n",
       "                      min_samples_split=16, n_estimators=70, n_jobs=-1,\n",
       "                      random_state=42)"
      ]
     },
     "execution_count": 151,
     "metadata": {},
     "output_type": "execute_result"
    }
   ],
   "source": [
    "%%time\n",
    "\n",
    "ideal_model_7 = RandomForestRegressor(n_estimators=70,\n",
    "                                    min_samples_leaf=5,\n",
    "                                    min_samples_split=16,\n",
    "                                    max_features=0.45,\n",
    "                                    n_jobs=-1,\n",
    "                                    max_samples=None,\n",
    "                                    random_state = 42)\n",
    "ideal_model_7.fit(X_train, y_train)"
   ]
  },
  {
   "cell_type": "code",
   "execution_count": 152,
   "metadata": {},
   "outputs": [
    {
     "data": {
      "text/plain": [
       "{'Train MAE': 3471.835746617095,\n",
       " 'Val MAE': 6149.450830739476,\n",
       " 'Train MSLE': 0.028390362368643757,\n",
       " 'Val MSLE': 0.06291659100228203,\n",
       " 'Train RMSLE': 0.16849439862690913,\n",
       " 'Val RMSLE': 0.2508317982279799,\n",
       " 'Train R2': 0.94194761367782,\n",
       " 'Val R2': 0.876339749928522}"
      ]
     },
     "execution_count": 152,
     "metadata": {},
     "output_type": "execute_result"
    }
   ],
   "source": [
    "eval_scores(ideal_model_7, X_train, X_val, y_train, y_val)"
   ]
  },
  {
   "cell_type": "markdown",
   "metadata": {},
   "source": [
    "**We decided earlier that we had obtained best hyperparameters and only thing left was training on full data but...**  \n",
    "**You can never get enough enough of experimentation. There is no end to it.**  \n",
    "\n",
    "### So, now we finally make our final model."
   ]
  },
  {
   "cell_type": "markdown",
   "metadata": {},
   "source": [
    "We got  \n",
    "> `ideal_model_8` = RandomForestRegressor(n_estimators=120, min_samples_leaf=5, min_samples_split=16, max_features=0.45, n_jobs=-1, max_samples=None, random_state = 42)  \n",
    "\n",
    "as the best model now let us do the final training with these parameters."
   ]
  },
  {
   "cell_type": "code",
   "execution_count": 105,
   "metadata": {},
   "outputs": [
    {
     "data": {
      "text/plain": [
       "RandomForestRegressor(max_features=0.45, min_samples_leaf=5,\n",
       "                      min_samples_split=16, n_estimators=120, n_jobs=-1,\n",
       "                      random_state=42)"
      ]
     },
     "execution_count": 105,
     "metadata": {},
     "output_type": "execute_result"
    }
   ],
   "source": [
    "best_model = RandomForestRegressor(n_estimators = 120, \n",
    "                                   min_samples_leaf=5, \n",
    "                                   min_samples_split = 16, \n",
    "                                   max_features = 0.45, \n",
    "                                   max_samples= None, \n",
    "                                    random_state = 42, n_jobs =-1)\n",
    "best_model.fit(X_train, y_train)\n"
   ]
  },
  {
   "cell_type": "code",
   "execution_count": 106,
   "metadata": {
    "scrolled": true
   },
   "outputs": [
    {
     "data": {
      "text/plain": [
       "{'Train MAE': 3462.455489162945,\n",
       " 'Val MAE': 6130.063458114473,\n",
       " 'Train MSLE': 0.028257892891809435,\n",
       " 'Val MSLE': 0.06273501954625563,\n",
       " 'Train RMSLE': 0.1681008414369465,\n",
       " 'Val RMSLE': 0.2504695980478582,\n",
       " 'Train R2': 0.9422668835456824,\n",
       " 'Val R2': 0.8772051817838386}"
      ]
     },
     "execution_count": 106,
     "metadata": {},
     "output_type": "execute_result"
    }
   ],
   "source": [
    "eval_scores(best_model, X_train, X_val, y_train, y_val)"
   ]
  },
  {
   "cell_type": "markdown",
   "metadata": {},
   "source": [
    "With these new hyperparameters as well as using all the samples, we can see an improvement to our models performance.\n",
    "\n",
    "You can make a faster model by altering some of the hyperparameters. Particularly by lowering `n_estimators` since each increase in `n_estimators` is basically building another small model.\n",
    "\n",
    "However, lowering of `n_estimators` or altering of other hyperparameters may lead to poorer results."
   ]
  },
  {
   "cell_type": "code",
   "execution_count": 52,
   "metadata": {},
   "outputs": [
    {
     "data": {
      "text/plain": [
       "RandomForestRegressor(max_features=0.45, min_samples_leaf=5,\n",
       "                      min_samples_split=16, n_estimators=40, n_jobs=-1,\n",
       "                      random_state=42)"
      ]
     },
     "execution_count": 52,
     "metadata": {},
     "output_type": "execute_result"
    }
   ],
   "source": [
    "best_model_fast = RandomForestRegressor(n_estimators = 40, \n",
    "                                   min_samples_leaf=5, \n",
    "                                   min_samples_split = 16, \n",
    "                                   max_features = 0.45, \n",
    "                                   max_samples= None, \n",
    "                                    random_state = 42, n_jobs =-1)\n",
    "best_model_fast.fit(X_train, y_train)"
   ]
  },
  {
   "cell_type": "code",
   "execution_count": 53,
   "metadata": {},
   "outputs": [
    {
     "data": {
      "text/plain": [
       "{'Train MAE': 3489.40801179436,\n",
       " 'Val MAE': 6175.863122092177,\n",
       " 'Train MSLE': 0.02861981475842342,\n",
       " 'Val MSLE': 0.06325375859459402,\n",
       " 'Train RMSLE': 0.1691739186707674,\n",
       " 'Val RMSLE': 0.25150299917614105,\n",
       " 'Train R2': 0.9413719775044438,\n",
       " 'Val R2': 0.8749829154163438}"
      ]
     },
     "execution_count": 53,
     "metadata": {},
     "output_type": "execute_result"
    }
   ],
   "source": [
    "eval_scores(best_model_fast, X_train, X_val, y_train, y_val)"
   ]
  },
  {
   "cell_type": "markdown",
   "metadata": {},
   "source": [
    "### Make predictions on test data\n",
    "\n",
    "Now we've got a trained model, it's time to make predictions on the test data.\n",
    "\n",
    "Remember what we've done.\n",
    "\n",
    "There are 3 main datasets:\n",
    "\n",
    "* Train.csv is the training set, which contains data through the end of 2011.\n",
    "* Valid.csv is the validation set, which contains data from January 1, 2012 - April 30, 2012 You make predictions on this set throughout the majority of the competition. Your score on this set is used to create the public leaderboard.\n",
    "* Test.csv is the test set, which won't be released until the last week of the competition. It contains data from May 1, 2012 - November 2012. Your score on the test set determines your final rank for the competition.\n",
    "\n",
    "Our model is trained on data prior to 2011. However, the test data is from May 1 2012 to November 2012.\n",
    "\n",
    "So what we're doing is trying to use the patterns our model has learned in the training data to predict the sale price of a Bulldozer with characteristics it's never seen before but are assumed to be similar to that of those in the training data."
   ]
  },
  {
   "cell_type": "code",
   "execution_count": 125,
   "metadata": {},
   "outputs": [
    {
     "data": {
      "text/html": [
       "<div>\n",
       "<style scoped>\n",
       "    .dataframe tbody tr th:only-of-type {\n",
       "        vertical-align: middle;\n",
       "    }\n",
       "\n",
       "    .dataframe tbody tr th {\n",
       "        vertical-align: top;\n",
       "    }\n",
       "\n",
       "    .dataframe thead th {\n",
       "        text-align: right;\n",
       "    }\n",
       "</style>\n",
       "<table border=\"1\" class=\"dataframe\">\n",
       "  <thead>\n",
       "    <tr style=\"text-align: right;\">\n",
       "      <th></th>\n",
       "      <th>SalesID</th>\n",
       "      <th>MachineID</th>\n",
       "      <th>ModelID</th>\n",
       "      <th>datasource</th>\n",
       "      <th>auctioneerID</th>\n",
       "      <th>YearMade</th>\n",
       "      <th>MachineHoursCurrentMeter</th>\n",
       "      <th>UsageBand</th>\n",
       "      <th>saledate</th>\n",
       "      <th>fiModelDesc</th>\n",
       "      <th>...</th>\n",
       "      <th>Undercarriage_Pad_Width</th>\n",
       "      <th>Stick_Length</th>\n",
       "      <th>Thumb</th>\n",
       "      <th>Pattern_Changer</th>\n",
       "      <th>Grouser_Type</th>\n",
       "      <th>Backhoe_Mounting</th>\n",
       "      <th>Blade_Type</th>\n",
       "      <th>Travel_Controls</th>\n",
       "      <th>Differential_Type</th>\n",
       "      <th>Steering_Controls</th>\n",
       "    </tr>\n",
       "  </thead>\n",
       "  <tbody>\n",
       "    <tr>\n",
       "      <th>0</th>\n",
       "      <td>1227829</td>\n",
       "      <td>1006309</td>\n",
       "      <td>3168</td>\n",
       "      <td>121</td>\n",
       "      <td>3</td>\n",
       "      <td>1999</td>\n",
       "      <td>3688.0</td>\n",
       "      <td>Low</td>\n",
       "      <td>2012-05-03</td>\n",
       "      <td>580G</td>\n",
       "      <td>...</td>\n",
       "      <td>NaN</td>\n",
       "      <td>NaN</td>\n",
       "      <td>NaN</td>\n",
       "      <td>NaN</td>\n",
       "      <td>NaN</td>\n",
       "      <td>NaN</td>\n",
       "      <td>NaN</td>\n",
       "      <td>NaN</td>\n",
       "      <td>NaN</td>\n",
       "      <td>NaN</td>\n",
       "    </tr>\n",
       "    <tr>\n",
       "      <th>1</th>\n",
       "      <td>1227844</td>\n",
       "      <td>1022817</td>\n",
       "      <td>7271</td>\n",
       "      <td>121</td>\n",
       "      <td>3</td>\n",
       "      <td>1000</td>\n",
       "      <td>28555.0</td>\n",
       "      <td>High</td>\n",
       "      <td>2012-05-10</td>\n",
       "      <td>936</td>\n",
       "      <td>...</td>\n",
       "      <td>NaN</td>\n",
       "      <td>NaN</td>\n",
       "      <td>NaN</td>\n",
       "      <td>NaN</td>\n",
       "      <td>NaN</td>\n",
       "      <td>NaN</td>\n",
       "      <td>NaN</td>\n",
       "      <td>NaN</td>\n",
       "      <td>Standard</td>\n",
       "      <td>Conventional</td>\n",
       "    </tr>\n",
       "    <tr>\n",
       "      <th>2</th>\n",
       "      <td>1227847</td>\n",
       "      <td>1031560</td>\n",
       "      <td>22805</td>\n",
       "      <td>121</td>\n",
       "      <td>3</td>\n",
       "      <td>2004</td>\n",
       "      <td>6038.0</td>\n",
       "      <td>Medium</td>\n",
       "      <td>2012-05-10</td>\n",
       "      <td>EC210BLC</td>\n",
       "      <td>...</td>\n",
       "      <td>None or Unspecified</td>\n",
       "      <td>9' 6\"</td>\n",
       "      <td>Manual</td>\n",
       "      <td>None or Unspecified</td>\n",
       "      <td>Double</td>\n",
       "      <td>NaN</td>\n",
       "      <td>NaN</td>\n",
       "      <td>NaN</td>\n",
       "      <td>NaN</td>\n",
       "      <td>NaN</td>\n",
       "    </tr>\n",
       "    <tr>\n",
       "      <th>3</th>\n",
       "      <td>1227848</td>\n",
       "      <td>56204</td>\n",
       "      <td>1269</td>\n",
       "      <td>121</td>\n",
       "      <td>3</td>\n",
       "      <td>2006</td>\n",
       "      <td>8940.0</td>\n",
       "      <td>High</td>\n",
       "      <td>2012-05-10</td>\n",
       "      <td>330CL</td>\n",
       "      <td>...</td>\n",
       "      <td>None or Unspecified</td>\n",
       "      <td>None or Unspecified</td>\n",
       "      <td>Manual</td>\n",
       "      <td>Yes</td>\n",
       "      <td>Triple</td>\n",
       "      <td>NaN</td>\n",
       "      <td>NaN</td>\n",
       "      <td>NaN</td>\n",
       "      <td>NaN</td>\n",
       "      <td>NaN</td>\n",
       "    </tr>\n",
       "    <tr>\n",
       "      <th>4</th>\n",
       "      <td>1227863</td>\n",
       "      <td>1053887</td>\n",
       "      <td>22312</td>\n",
       "      <td>121</td>\n",
       "      <td>3</td>\n",
       "      <td>2005</td>\n",
       "      <td>2286.0</td>\n",
       "      <td>Low</td>\n",
       "      <td>2012-05-10</td>\n",
       "      <td>650K</td>\n",
       "      <td>...</td>\n",
       "      <td>NaN</td>\n",
       "      <td>NaN</td>\n",
       "      <td>NaN</td>\n",
       "      <td>NaN</td>\n",
       "      <td>NaN</td>\n",
       "      <td>None or Unspecified</td>\n",
       "      <td>PAT</td>\n",
       "      <td>None or Unspecified</td>\n",
       "      <td>NaN</td>\n",
       "      <td>NaN</td>\n",
       "    </tr>\n",
       "  </tbody>\n",
       "</table>\n",
       "<p>5 rows × 52 columns</p>\n",
       "</div>"
      ],
      "text/plain": [
       "   SalesID  MachineID  ModelID  datasource  auctioneerID  YearMade  \\\n",
       "0  1227829    1006309     3168         121             3      1999   \n",
       "1  1227844    1022817     7271         121             3      1000   \n",
       "2  1227847    1031560    22805         121             3      2004   \n",
       "3  1227848      56204     1269         121             3      2006   \n",
       "4  1227863    1053887    22312         121             3      2005   \n",
       "\n",
       "   MachineHoursCurrentMeter UsageBand   saledate fiModelDesc  ...  \\\n",
       "0                    3688.0       Low 2012-05-03        580G  ...   \n",
       "1                   28555.0      High 2012-05-10         936  ...   \n",
       "2                    6038.0    Medium 2012-05-10    EC210BLC  ...   \n",
       "3                    8940.0      High 2012-05-10       330CL  ...   \n",
       "4                    2286.0       Low 2012-05-10        650K  ...   \n",
       "\n",
       "  Undercarriage_Pad_Width         Stick_Length   Thumb      Pattern_Changer  \\\n",
       "0                     NaN                  NaN     NaN                  NaN   \n",
       "1                     NaN                  NaN     NaN                  NaN   \n",
       "2     None or Unspecified                9' 6\"  Manual  None or Unspecified   \n",
       "3     None or Unspecified  None or Unspecified  Manual                  Yes   \n",
       "4                     NaN                  NaN     NaN                  NaN   \n",
       "\n",
       "  Grouser_Type     Backhoe_Mounting Blade_Type      Travel_Controls  \\\n",
       "0          NaN                  NaN        NaN                  NaN   \n",
       "1          NaN                  NaN        NaN                  NaN   \n",
       "2       Double                  NaN        NaN                  NaN   \n",
       "3       Triple                  NaN        NaN                  NaN   \n",
       "4          NaN  None or Unspecified        PAT  None or Unspecified   \n",
       "\n",
       "  Differential_Type Steering_Controls  \n",
       "0               NaN               NaN  \n",
       "1          Standard      Conventional  \n",
       "2               NaN               NaN  \n",
       "3               NaN               NaN  \n",
       "4               NaN               NaN  \n",
       "\n",
       "[5 rows x 52 columns]"
      ]
     },
     "execution_count": 125,
     "metadata": {},
     "output_type": "execute_result"
    }
   ],
   "source": [
    "df_test = pd.read_csv(\"data/bluebook-for-bulldozers/Test.csv\", parse_dates =[\"saledate\"])\n",
    "df_test.head()"
   ]
  },
  {
   "cell_type": "code",
   "execution_count": 119,
   "metadata": {},
   "outputs": [
    {
     "data": {
      "text/plain": [
       "(12457, 52)"
      ]
     },
     "execution_count": 119,
     "metadata": {},
     "output_type": "execute_result"
    }
   ],
   "source": [
    "df_test.shape"
   ]
  },
  {
   "cell_type": "code",
   "execution_count": 86,
   "metadata": {},
   "outputs": [
    {
     "ename": "ValueError",
     "evalue": "could not convert string to float: 'Low'",
     "output_type": "error",
     "traceback": [
      "\u001b[1;31m---------------------------------------------------------------------------\u001b[0m",
      "\u001b[1;31mValueError\u001b[0m                                Traceback (most recent call last)",
      "\u001b[1;32m<ipython-input-86-4f37f571aeaf>\u001b[0m in \u001b[0;36m<module>\u001b[1;34m\u001b[0m\n\u001b[1;32m----> 1\u001b[1;33m \u001b[0mbest_model\u001b[0m\u001b[1;33m.\u001b[0m\u001b[0mpredict\u001b[0m\u001b[1;33m(\u001b[0m\u001b[0mdf_test\u001b[0m\u001b[1;33m)\u001b[0m\u001b[1;33m\u001b[0m\u001b[1;33m\u001b[0m\u001b[0m\n\u001b[0m",
      "\u001b[1;32m~\\Desktop\\ML_ZeroToMastery\\Bulldozer-Price-Prediction-Project\\env\\lib\\site-packages\\sklearn\\ensemble\\_forest.py\u001b[0m in \u001b[0;36mpredict\u001b[1;34m(self, X)\u001b[0m\n\u001b[0;32m    781\u001b[0m         \u001b[0mcheck_is_fitted\u001b[0m\u001b[1;33m(\u001b[0m\u001b[0mself\u001b[0m\u001b[1;33m)\u001b[0m\u001b[1;33m\u001b[0m\u001b[1;33m\u001b[0m\u001b[0m\n\u001b[0;32m    782\u001b[0m         \u001b[1;31m# Check data\u001b[0m\u001b[1;33m\u001b[0m\u001b[1;33m\u001b[0m\u001b[1;33m\u001b[0m\u001b[0m\n\u001b[1;32m--> 783\u001b[1;33m         \u001b[0mX\u001b[0m \u001b[1;33m=\u001b[0m \u001b[0mself\u001b[0m\u001b[1;33m.\u001b[0m\u001b[0m_validate_X_predict\u001b[0m\u001b[1;33m(\u001b[0m\u001b[0mX\u001b[0m\u001b[1;33m)\u001b[0m\u001b[1;33m\u001b[0m\u001b[1;33m\u001b[0m\u001b[0m\n\u001b[0m\u001b[0;32m    784\u001b[0m \u001b[1;33m\u001b[0m\u001b[0m\n\u001b[0;32m    785\u001b[0m         \u001b[1;31m# Assign chunk of trees to jobs\u001b[0m\u001b[1;33m\u001b[0m\u001b[1;33m\u001b[0m\u001b[1;33m\u001b[0m\u001b[0m\n",
      "\u001b[1;32m~\\Desktop\\ML_ZeroToMastery\\Bulldozer-Price-Prediction-Project\\env\\lib\\site-packages\\sklearn\\ensemble\\_forest.py\u001b[0m in \u001b[0;36m_validate_X_predict\u001b[1;34m(self, X)\u001b[0m\n\u001b[0;32m    419\u001b[0m         \u001b[0mcheck_is_fitted\u001b[0m\u001b[1;33m(\u001b[0m\u001b[0mself\u001b[0m\u001b[1;33m)\u001b[0m\u001b[1;33m\u001b[0m\u001b[1;33m\u001b[0m\u001b[0m\n\u001b[0;32m    420\u001b[0m \u001b[1;33m\u001b[0m\u001b[0m\n\u001b[1;32m--> 421\u001b[1;33m         \u001b[1;32mreturn\u001b[0m \u001b[0mself\u001b[0m\u001b[1;33m.\u001b[0m\u001b[0mestimators_\u001b[0m\u001b[1;33m[\u001b[0m\u001b[1;36m0\u001b[0m\u001b[1;33m]\u001b[0m\u001b[1;33m.\u001b[0m\u001b[0m_validate_X_predict\u001b[0m\u001b[1;33m(\u001b[0m\u001b[0mX\u001b[0m\u001b[1;33m,\u001b[0m \u001b[0mcheck_input\u001b[0m\u001b[1;33m=\u001b[0m\u001b[1;32mTrue\u001b[0m\u001b[1;33m)\u001b[0m\u001b[1;33m\u001b[0m\u001b[1;33m\u001b[0m\u001b[0m\n\u001b[0m\u001b[0;32m    422\u001b[0m \u001b[1;33m\u001b[0m\u001b[0m\n\u001b[0;32m    423\u001b[0m     \u001b[1;33m@\u001b[0m\u001b[0mproperty\u001b[0m\u001b[1;33m\u001b[0m\u001b[1;33m\u001b[0m\u001b[0m\n",
      "\u001b[1;32m~\\Desktop\\ML_ZeroToMastery\\Bulldozer-Price-Prediction-Project\\env\\lib\\site-packages\\sklearn\\tree\\_classes.py\u001b[0m in \u001b[0;36m_validate_X_predict\u001b[1;34m(self, X, check_input)\u001b[0m\n\u001b[0;32m    386\u001b[0m         \u001b[1;34m\"\"\"Validate X whenever one tries to predict, apply, predict_proba\"\"\"\u001b[0m\u001b[1;33m\u001b[0m\u001b[1;33m\u001b[0m\u001b[0m\n\u001b[0;32m    387\u001b[0m         \u001b[1;32mif\u001b[0m \u001b[0mcheck_input\u001b[0m\u001b[1;33m:\u001b[0m\u001b[1;33m\u001b[0m\u001b[1;33m\u001b[0m\u001b[0m\n\u001b[1;32m--> 388\u001b[1;33m             \u001b[0mX\u001b[0m \u001b[1;33m=\u001b[0m \u001b[0mcheck_array\u001b[0m\u001b[1;33m(\u001b[0m\u001b[0mX\u001b[0m\u001b[1;33m,\u001b[0m \u001b[0mdtype\u001b[0m\u001b[1;33m=\u001b[0m\u001b[0mDTYPE\u001b[0m\u001b[1;33m,\u001b[0m \u001b[0maccept_sparse\u001b[0m\u001b[1;33m=\u001b[0m\u001b[1;34m\"csr\"\u001b[0m\u001b[1;33m)\u001b[0m\u001b[1;33m\u001b[0m\u001b[1;33m\u001b[0m\u001b[0m\n\u001b[0m\u001b[0;32m    389\u001b[0m             if issparse(X) and (X.indices.dtype != np.intc or\n\u001b[0;32m    390\u001b[0m                                 X.indptr.dtype != np.intc):\n",
      "\u001b[1;32m~\\Desktop\\ML_ZeroToMastery\\Bulldozer-Price-Prediction-Project\\env\\lib\\site-packages\\sklearn\\utils\\validation.py\u001b[0m in \u001b[0;36minner_f\u001b[1;34m(*args, **kwargs)\u001b[0m\n\u001b[0;32m     71\u001b[0m                           FutureWarning)\n\u001b[0;32m     72\u001b[0m         \u001b[0mkwargs\u001b[0m\u001b[1;33m.\u001b[0m\u001b[0mupdate\u001b[0m\u001b[1;33m(\u001b[0m\u001b[1;33m{\u001b[0m\u001b[0mk\u001b[0m\u001b[1;33m:\u001b[0m \u001b[0marg\u001b[0m \u001b[1;32mfor\u001b[0m \u001b[0mk\u001b[0m\u001b[1;33m,\u001b[0m \u001b[0marg\u001b[0m \u001b[1;32min\u001b[0m \u001b[0mzip\u001b[0m\u001b[1;33m(\u001b[0m\u001b[0msig\u001b[0m\u001b[1;33m.\u001b[0m\u001b[0mparameters\u001b[0m\u001b[1;33m,\u001b[0m \u001b[0margs\u001b[0m\u001b[1;33m)\u001b[0m\u001b[1;33m}\u001b[0m\u001b[1;33m)\u001b[0m\u001b[1;33m\u001b[0m\u001b[1;33m\u001b[0m\u001b[0m\n\u001b[1;32m---> 73\u001b[1;33m         \u001b[1;32mreturn\u001b[0m \u001b[0mf\u001b[0m\u001b[1;33m(\u001b[0m\u001b[1;33m**\u001b[0m\u001b[0mkwargs\u001b[0m\u001b[1;33m)\u001b[0m\u001b[1;33m\u001b[0m\u001b[1;33m\u001b[0m\u001b[0m\n\u001b[0m\u001b[0;32m     74\u001b[0m     \u001b[1;32mreturn\u001b[0m \u001b[0minner_f\u001b[0m\u001b[1;33m\u001b[0m\u001b[1;33m\u001b[0m\u001b[0m\n\u001b[0;32m     75\u001b[0m \u001b[1;33m\u001b[0m\u001b[0m\n",
      "\u001b[1;32m~\\Desktop\\ML_ZeroToMastery\\Bulldozer-Price-Prediction-Project\\env\\lib\\site-packages\\sklearn\\utils\\validation.py\u001b[0m in \u001b[0;36mcheck_array\u001b[1;34m(array, accept_sparse, accept_large_sparse, dtype, order, copy, force_all_finite, ensure_2d, allow_nd, ensure_min_samples, ensure_min_features, estimator)\u001b[0m\n\u001b[0;32m    597\u001b[0m                     \u001b[0marray\u001b[0m \u001b[1;33m=\u001b[0m \u001b[0marray\u001b[0m\u001b[1;33m.\u001b[0m\u001b[0mastype\u001b[0m\u001b[1;33m(\u001b[0m\u001b[0mdtype\u001b[0m\u001b[1;33m,\u001b[0m \u001b[0mcasting\u001b[0m\u001b[1;33m=\u001b[0m\u001b[1;34m\"unsafe\"\u001b[0m\u001b[1;33m,\u001b[0m \u001b[0mcopy\u001b[0m\u001b[1;33m=\u001b[0m\u001b[1;32mFalse\u001b[0m\u001b[1;33m)\u001b[0m\u001b[1;33m\u001b[0m\u001b[1;33m\u001b[0m\u001b[0m\n\u001b[0;32m    598\u001b[0m                 \u001b[1;32melse\u001b[0m\u001b[1;33m:\u001b[0m\u001b[1;33m\u001b[0m\u001b[1;33m\u001b[0m\u001b[0m\n\u001b[1;32m--> 599\u001b[1;33m                     \u001b[0marray\u001b[0m \u001b[1;33m=\u001b[0m \u001b[0mnp\u001b[0m\u001b[1;33m.\u001b[0m\u001b[0masarray\u001b[0m\u001b[1;33m(\u001b[0m\u001b[0marray\u001b[0m\u001b[1;33m,\u001b[0m \u001b[0morder\u001b[0m\u001b[1;33m=\u001b[0m\u001b[0morder\u001b[0m\u001b[1;33m,\u001b[0m \u001b[0mdtype\u001b[0m\u001b[1;33m=\u001b[0m\u001b[0mdtype\u001b[0m\u001b[1;33m)\u001b[0m\u001b[1;33m\u001b[0m\u001b[1;33m\u001b[0m\u001b[0m\n\u001b[0m\u001b[0;32m    600\u001b[0m             \u001b[1;32mexcept\u001b[0m \u001b[0mComplexWarning\u001b[0m\u001b[1;33m:\u001b[0m\u001b[1;33m\u001b[0m\u001b[1;33m\u001b[0m\u001b[0m\n\u001b[0;32m    601\u001b[0m                 raise ValueError(\"Complex data not supported\\n\"\n",
      "\u001b[1;32m~\\Desktop\\ML_ZeroToMastery\\Bulldozer-Price-Prediction-Project\\env\\lib\\site-packages\\numpy\\core\\_asarray.py\u001b[0m in \u001b[0;36masarray\u001b[1;34m(a, dtype, order)\u001b[0m\n\u001b[0;32m     83\u001b[0m \u001b[1;33m\u001b[0m\u001b[0m\n\u001b[0;32m     84\u001b[0m     \"\"\"\n\u001b[1;32m---> 85\u001b[1;33m     \u001b[1;32mreturn\u001b[0m \u001b[0marray\u001b[0m\u001b[1;33m(\u001b[0m\u001b[0ma\u001b[0m\u001b[1;33m,\u001b[0m \u001b[0mdtype\u001b[0m\u001b[1;33m,\u001b[0m \u001b[0mcopy\u001b[0m\u001b[1;33m=\u001b[0m\u001b[1;32mFalse\u001b[0m\u001b[1;33m,\u001b[0m \u001b[0morder\u001b[0m\u001b[1;33m=\u001b[0m\u001b[0morder\u001b[0m\u001b[1;33m)\u001b[0m\u001b[1;33m\u001b[0m\u001b[1;33m\u001b[0m\u001b[0m\n\u001b[0m\u001b[0;32m     86\u001b[0m \u001b[1;33m\u001b[0m\u001b[0m\n\u001b[0;32m     87\u001b[0m \u001b[1;33m\u001b[0m\u001b[0m\n",
      "\u001b[1;31mValueError\u001b[0m: could not convert string to float: 'Low'"
     ]
    }
   ],
   "source": [
    "best_model.predict(df_test)"
   ]
  },
  {
   "cell_type": "markdown",
   "metadata": {},
   "source": [
    "This happens because we have not yet preprocessed our test data."
   ]
  },
  {
   "cell_type": "markdown",
   "metadata": {},
   "source": [
    "### Preprocessing the data\n",
    "\n",
    "Our model has been trained on data formatted in the same way as the training data.\n",
    "\n",
    "Whatever we do to the training data, you have to do to the test data.\n",
    "\n",
    "Let's create a function for doing so (by copying the preprocessing steps we used above).\n"
   ]
  },
  {
   "cell_type": "code",
   "execution_count": 126,
   "metadata": {},
   "outputs": [],
   "source": [
    "def preprocess_data(df):\n",
    "    \"\"\"\n",
    "    Returns the preprocessesed the data in required format.\n",
    "    \"\"\"\n",
    "     # Add datetime parameters for saledate\n",
    "    df[\"saleYear\"] = df.saledate.dt.year\n",
    "    df[\"saleMonth\"] = df.saledate.dt.month\n",
    "    df[\"saleDay\"] = df.saledate.dt.day\n",
    "    df[\"saleDayOfWeek\"] = df.saledate.dt.dayofweek\n",
    "    df[\"saleDayOfYear\"] = df.saledate.dt.dayofyear\n",
    "    \n",
    "    # drop the original 'saledate' column\n",
    "    df.drop(\"saledate\", axis=1, inplace=True)\n",
    "    \n",
    "    # Fill numeric rows with the median\n",
    "    for label, content in df.items():\n",
    "        if pd.api.types.is_numeric_dtype(content):\n",
    "            if pd.isnull(content).sum():\n",
    "                df[label+\"_is_missing\"] = pd.isnull(content)\n",
    "                df[label] = content.fillna(content.median())\n",
    "                \n",
    "        # Turn categorical variables into numbers\n",
    "        # We didn't separately convert strings to categories first because the 'pd.Categorical()'' function does that for us\n",
    "        if not pd.api.types.is_numeric_dtype(content):\n",
    "            df[label+\"_is_missing\"] = pd.isnull(content)\n",
    "            # We add the +1 because pandas encodes missing categories as -1\n",
    "            df[label] = pd.Categorical(content).codes+1        \n",
    "    \n",
    "    return df"
   ]
  },
  {
   "cell_type": "code",
   "execution_count": 127,
   "metadata": {},
   "outputs": [
    {
     "data": {
      "text/plain": [
       "pandas.core.arrays.categorical.Categorical"
      ]
     },
     "execution_count": 127,
     "metadata": {},
     "output_type": "execute_result"
    }
   ],
   "source": [
    "type(pd.Categorical(df_test.state))"
   ]
  },
  {
   "cell_type": "code",
   "execution_count": 128,
   "metadata": {},
   "outputs": [
    {
     "data": {
      "text/html": [
       "<div>\n",
       "<style scoped>\n",
       "    .dataframe tbody tr th:only-of-type {\n",
       "        vertical-align: middle;\n",
       "    }\n",
       "\n",
       "    .dataframe tbody tr th {\n",
       "        vertical-align: top;\n",
       "    }\n",
       "\n",
       "    .dataframe thead th {\n",
       "        text-align: right;\n",
       "    }\n",
       "</style>\n",
       "<table border=\"1\" class=\"dataframe\">\n",
       "  <thead>\n",
       "    <tr style=\"text-align: right;\">\n",
       "      <th></th>\n",
       "      <th>SalesID</th>\n",
       "      <th>MachineID</th>\n",
       "      <th>ModelID</th>\n",
       "      <th>datasource</th>\n",
       "      <th>auctioneerID</th>\n",
       "      <th>YearMade</th>\n",
       "      <th>MachineHoursCurrentMeter</th>\n",
       "      <th>UsageBand</th>\n",
       "      <th>fiModelDesc</th>\n",
       "      <th>fiBaseModel</th>\n",
       "      <th>...</th>\n",
       "      <th>Undercarriage_Pad_Width_is_missing</th>\n",
       "      <th>Stick_Length_is_missing</th>\n",
       "      <th>Thumb_is_missing</th>\n",
       "      <th>Pattern_Changer_is_missing</th>\n",
       "      <th>Grouser_Type_is_missing</th>\n",
       "      <th>Backhoe_Mounting_is_missing</th>\n",
       "      <th>Blade_Type_is_missing</th>\n",
       "      <th>Travel_Controls_is_missing</th>\n",
       "      <th>Differential_Type_is_missing</th>\n",
       "      <th>Steering_Controls_is_missing</th>\n",
       "    </tr>\n",
       "  </thead>\n",
       "  <tbody>\n",
       "    <tr>\n",
       "      <th>0</th>\n",
       "      <td>1227829</td>\n",
       "      <td>1006309</td>\n",
       "      <td>3168</td>\n",
       "      <td>121</td>\n",
       "      <td>3</td>\n",
       "      <td>1999</td>\n",
       "      <td>3688.0</td>\n",
       "      <td>2</td>\n",
       "      <td>499</td>\n",
       "      <td>180</td>\n",
       "      <td>...</td>\n",
       "      <td>True</td>\n",
       "      <td>True</td>\n",
       "      <td>True</td>\n",
       "      <td>True</td>\n",
       "      <td>True</td>\n",
       "      <td>True</td>\n",
       "      <td>True</td>\n",
       "      <td>True</td>\n",
       "      <td>True</td>\n",
       "      <td>True</td>\n",
       "    </tr>\n",
       "    <tr>\n",
       "      <th>1</th>\n",
       "      <td>1227844</td>\n",
       "      <td>1022817</td>\n",
       "      <td>7271</td>\n",
       "      <td>121</td>\n",
       "      <td>3</td>\n",
       "      <td>1000</td>\n",
       "      <td>28555.0</td>\n",
       "      <td>1</td>\n",
       "      <td>831</td>\n",
       "      <td>292</td>\n",
       "      <td>...</td>\n",
       "      <td>True</td>\n",
       "      <td>True</td>\n",
       "      <td>True</td>\n",
       "      <td>True</td>\n",
       "      <td>True</td>\n",
       "      <td>True</td>\n",
       "      <td>True</td>\n",
       "      <td>True</td>\n",
       "      <td>False</td>\n",
       "      <td>False</td>\n",
       "    </tr>\n",
       "    <tr>\n",
       "      <th>2</th>\n",
       "      <td>1227847</td>\n",
       "      <td>1031560</td>\n",
       "      <td>22805</td>\n",
       "      <td>121</td>\n",
       "      <td>3</td>\n",
       "      <td>2004</td>\n",
       "      <td>6038.0</td>\n",
       "      <td>3</td>\n",
       "      <td>1177</td>\n",
       "      <td>404</td>\n",
       "      <td>...</td>\n",
       "      <td>False</td>\n",
       "      <td>False</td>\n",
       "      <td>False</td>\n",
       "      <td>False</td>\n",
       "      <td>False</td>\n",
       "      <td>True</td>\n",
       "      <td>True</td>\n",
       "      <td>True</td>\n",
       "      <td>True</td>\n",
       "      <td>True</td>\n",
       "    </tr>\n",
       "    <tr>\n",
       "      <th>3</th>\n",
       "      <td>1227848</td>\n",
       "      <td>56204</td>\n",
       "      <td>1269</td>\n",
       "      <td>121</td>\n",
       "      <td>3</td>\n",
       "      <td>2006</td>\n",
       "      <td>8940.0</td>\n",
       "      <td>1</td>\n",
       "      <td>287</td>\n",
       "      <td>113</td>\n",
       "      <td>...</td>\n",
       "      <td>False</td>\n",
       "      <td>False</td>\n",
       "      <td>False</td>\n",
       "      <td>False</td>\n",
       "      <td>False</td>\n",
       "      <td>True</td>\n",
       "      <td>True</td>\n",
       "      <td>True</td>\n",
       "      <td>True</td>\n",
       "      <td>True</td>\n",
       "    </tr>\n",
       "    <tr>\n",
       "      <th>4</th>\n",
       "      <td>1227863</td>\n",
       "      <td>1053887</td>\n",
       "      <td>22312</td>\n",
       "      <td>121</td>\n",
       "      <td>3</td>\n",
       "      <td>2005</td>\n",
       "      <td>2286.0</td>\n",
       "      <td>2</td>\n",
       "      <td>566</td>\n",
       "      <td>196</td>\n",
       "      <td>...</td>\n",
       "      <td>True</td>\n",
       "      <td>True</td>\n",
       "      <td>True</td>\n",
       "      <td>True</td>\n",
       "      <td>True</td>\n",
       "      <td>False</td>\n",
       "      <td>False</td>\n",
       "      <td>False</td>\n",
       "      <td>True</td>\n",
       "      <td>True</td>\n",
       "    </tr>\n",
       "  </tbody>\n",
       "</table>\n",
       "<p>5 rows × 101 columns</p>\n",
       "</div>"
      ],
      "text/plain": [
       "   SalesID  MachineID  ModelID  datasource  auctioneerID  YearMade  \\\n",
       "0  1227829    1006309     3168         121             3      1999   \n",
       "1  1227844    1022817     7271         121             3      1000   \n",
       "2  1227847    1031560    22805         121             3      2004   \n",
       "3  1227848      56204     1269         121             3      2006   \n",
       "4  1227863    1053887    22312         121             3      2005   \n",
       "\n",
       "   MachineHoursCurrentMeter  UsageBand  fiModelDesc  fiBaseModel  ...  \\\n",
       "0                    3688.0          2          499          180  ...   \n",
       "1                   28555.0          1          831          292  ...   \n",
       "2                    6038.0          3         1177          404  ...   \n",
       "3                    8940.0          1          287          113  ...   \n",
       "4                    2286.0          2          566          196  ...   \n",
       "\n",
       "   Undercarriage_Pad_Width_is_missing  Stick_Length_is_missing  \\\n",
       "0                                True                     True   \n",
       "1                                True                     True   \n",
       "2                               False                    False   \n",
       "3                               False                    False   \n",
       "4                                True                     True   \n",
       "\n",
       "   Thumb_is_missing  Pattern_Changer_is_missing  Grouser_Type_is_missing  \\\n",
       "0              True                        True                     True   \n",
       "1              True                        True                     True   \n",
       "2             False                       False                    False   \n",
       "3             False                       False                    False   \n",
       "4              True                        True                     True   \n",
       "\n",
       "   Backhoe_Mounting_is_missing  Blade_Type_is_missing  \\\n",
       "0                         True                   True   \n",
       "1                         True                   True   \n",
       "2                         True                   True   \n",
       "3                         True                   True   \n",
       "4                        False                  False   \n",
       "\n",
       "   Travel_Controls_is_missing  Differential_Type_is_missing  \\\n",
       "0                        True                          True   \n",
       "1                        True                         False   \n",
       "2                        True                          True   \n",
       "3                        True                          True   \n",
       "4                       False                          True   \n",
       "\n",
       "   Steering_Controls_is_missing  \n",
       "0                          True  \n",
       "1                         False  \n",
       "2                          True  \n",
       "3                          True  \n",
       "4                          True  \n",
       "\n",
       "[5 rows x 101 columns]"
      ]
     },
     "execution_count": 128,
     "metadata": {},
     "output_type": "execute_result"
    }
   ],
   "source": [
    "df_test = preprocess_data(df_test)\n",
    "df_test.head()"
   ]
  },
  {
   "cell_type": "code",
   "execution_count": 90,
   "metadata": {},
   "outputs": [
    {
     "ename": "ValueError",
     "evalue": "Number of features of the model must match the input. Model n_features is 102 and input n_features is 103 ",
     "output_type": "error",
     "traceback": [
      "\u001b[1;31m---------------------------------------------------------------------------\u001b[0m",
      "\u001b[1;31mValueError\u001b[0m                                Traceback (most recent call last)",
      "\u001b[1;32m<ipython-input-90-42d79043d7d5>\u001b[0m in \u001b[0;36m<module>\u001b[1;34m\u001b[0m\n\u001b[1;32m----> 1\u001b[1;33m \u001b[0mtest_preds\u001b[0m \u001b[1;33m=\u001b[0m \u001b[0mbest_model\u001b[0m\u001b[1;33m.\u001b[0m\u001b[0mpredict\u001b[0m\u001b[1;33m(\u001b[0m\u001b[0mdf_test\u001b[0m\u001b[1;33m)\u001b[0m\u001b[1;33m\u001b[0m\u001b[1;33m\u001b[0m\u001b[0m\n\u001b[0m",
      "\u001b[1;32m~\\Desktop\\ML_ZeroToMastery\\Bulldozer-Price-Prediction-Project\\env\\lib\\site-packages\\sklearn\\ensemble\\_forest.py\u001b[0m in \u001b[0;36mpredict\u001b[1;34m(self, X)\u001b[0m\n\u001b[0;32m    781\u001b[0m         \u001b[0mcheck_is_fitted\u001b[0m\u001b[1;33m(\u001b[0m\u001b[0mself\u001b[0m\u001b[1;33m)\u001b[0m\u001b[1;33m\u001b[0m\u001b[1;33m\u001b[0m\u001b[0m\n\u001b[0;32m    782\u001b[0m         \u001b[1;31m# Check data\u001b[0m\u001b[1;33m\u001b[0m\u001b[1;33m\u001b[0m\u001b[1;33m\u001b[0m\u001b[0m\n\u001b[1;32m--> 783\u001b[1;33m         \u001b[0mX\u001b[0m \u001b[1;33m=\u001b[0m \u001b[0mself\u001b[0m\u001b[1;33m.\u001b[0m\u001b[0m_validate_X_predict\u001b[0m\u001b[1;33m(\u001b[0m\u001b[0mX\u001b[0m\u001b[1;33m)\u001b[0m\u001b[1;33m\u001b[0m\u001b[1;33m\u001b[0m\u001b[0m\n\u001b[0m\u001b[0;32m    784\u001b[0m \u001b[1;33m\u001b[0m\u001b[0m\n\u001b[0;32m    785\u001b[0m         \u001b[1;31m# Assign chunk of trees to jobs\u001b[0m\u001b[1;33m\u001b[0m\u001b[1;33m\u001b[0m\u001b[1;33m\u001b[0m\u001b[0m\n",
      "\u001b[1;32m~\\Desktop\\ML_ZeroToMastery\\Bulldozer-Price-Prediction-Project\\env\\lib\\site-packages\\sklearn\\ensemble\\_forest.py\u001b[0m in \u001b[0;36m_validate_X_predict\u001b[1;34m(self, X)\u001b[0m\n\u001b[0;32m    419\u001b[0m         \u001b[0mcheck_is_fitted\u001b[0m\u001b[1;33m(\u001b[0m\u001b[0mself\u001b[0m\u001b[1;33m)\u001b[0m\u001b[1;33m\u001b[0m\u001b[1;33m\u001b[0m\u001b[0m\n\u001b[0;32m    420\u001b[0m \u001b[1;33m\u001b[0m\u001b[0m\n\u001b[1;32m--> 421\u001b[1;33m         \u001b[1;32mreturn\u001b[0m \u001b[0mself\u001b[0m\u001b[1;33m.\u001b[0m\u001b[0mestimators_\u001b[0m\u001b[1;33m[\u001b[0m\u001b[1;36m0\u001b[0m\u001b[1;33m]\u001b[0m\u001b[1;33m.\u001b[0m\u001b[0m_validate_X_predict\u001b[0m\u001b[1;33m(\u001b[0m\u001b[0mX\u001b[0m\u001b[1;33m,\u001b[0m \u001b[0mcheck_input\u001b[0m\u001b[1;33m=\u001b[0m\u001b[1;32mTrue\u001b[0m\u001b[1;33m)\u001b[0m\u001b[1;33m\u001b[0m\u001b[1;33m\u001b[0m\u001b[0m\n\u001b[0m\u001b[0;32m    422\u001b[0m \u001b[1;33m\u001b[0m\u001b[0m\n\u001b[0;32m    423\u001b[0m     \u001b[1;33m@\u001b[0m\u001b[0mproperty\u001b[0m\u001b[1;33m\u001b[0m\u001b[1;33m\u001b[0m\u001b[0m\n",
      "\u001b[1;32m~\\Desktop\\ML_ZeroToMastery\\Bulldozer-Price-Prediction-Project\\env\\lib\\site-packages\\sklearn\\tree\\_classes.py\u001b[0m in \u001b[0;36m_validate_X_predict\u001b[1;34m(self, X, check_input)\u001b[0m\n\u001b[0;32m    394\u001b[0m         \u001b[0mn_features\u001b[0m \u001b[1;33m=\u001b[0m \u001b[0mX\u001b[0m\u001b[1;33m.\u001b[0m\u001b[0mshape\u001b[0m\u001b[1;33m[\u001b[0m\u001b[1;36m1\u001b[0m\u001b[1;33m]\u001b[0m\u001b[1;33m\u001b[0m\u001b[1;33m\u001b[0m\u001b[0m\n\u001b[0;32m    395\u001b[0m         \u001b[1;32mif\u001b[0m \u001b[0mself\u001b[0m\u001b[1;33m.\u001b[0m\u001b[0mn_features_\u001b[0m \u001b[1;33m!=\u001b[0m \u001b[0mn_features\u001b[0m\u001b[1;33m:\u001b[0m\u001b[1;33m\u001b[0m\u001b[1;33m\u001b[0m\u001b[0m\n\u001b[1;32m--> 396\u001b[1;33m             raise ValueError(\"Number of features of the model must \"\n\u001b[0m\u001b[0;32m    397\u001b[0m                              \u001b[1;34m\"match the input. Model n_features is %s and \"\u001b[0m\u001b[1;33m\u001b[0m\u001b[1;33m\u001b[0m\u001b[0m\n\u001b[0;32m    398\u001b[0m                              \u001b[1;34m\"input n_features is %s \"\u001b[0m\u001b[1;33m\u001b[0m\u001b[1;33m\u001b[0m\u001b[0m\n",
      "\u001b[1;31mValueError\u001b[0m: Number of features of the model must match the input. Model n_features is 102 and input n_features is 103 "
     ]
    }
   ],
   "source": [
    "test_preds = best_model.predict(df_test)"
   ]
  },
  {
   "cell_type": "markdown",
   "metadata": {},
   "source": [
    "We've found an error and it's because our test dataset (after preprocessing) has 101 columns where as, our training dataset (`X_train`) has 102 columns (after preprocessing).\n",
    "\n",
    "Let's find the difference."
   ]
  },
  {
   "cell_type": "code",
   "execution_count": 129,
   "metadata": {},
   "outputs": [
    {
     "data": {
      "text/plain": [
       "{'auctioneerID_is_missing'}"
      ]
     },
     "execution_count": 129,
     "metadata": {},
     "output_type": "execute_result"
    }
   ],
   "source": [
    "# We can find how the columns differ using sets\n",
    "set(X_train.columns) - set(df_test.columns)"
   ]
  },
  {
   "cell_type": "code",
   "execution_count": 130,
   "metadata": {},
   "outputs": [
    {
     "data": {
      "text/plain": [
       "(12457, 101)"
      ]
     },
     "execution_count": 130,
     "metadata": {},
     "output_type": "execute_result"
    }
   ],
   "source": [
    "df_test.shape"
   ]
  },
  {
   "cell_type": "markdown",
   "metadata": {},
   "source": [
    "Here 'auctioneer_id_is_missing' column is missing because while preprocessing test data there was no missing value in the auctioneer_id, that's why no 'auctioneer_id_is_missing' folder was formed.  \n",
    "\n",
    "To fix it, we'll add a column to the test dataset called `auctioneerID_is_missing` and fill it with `False`, since none of the `auctioneerID` fields are missing in the test dataset."
   ]
  },
  {
   "cell_type": "code",
   "execution_count": 131,
   "metadata": {},
   "outputs": [
    {
     "data": {
      "text/html": [
       "<div>\n",
       "<style scoped>\n",
       "    .dataframe tbody tr th:only-of-type {\n",
       "        vertical-align: middle;\n",
       "    }\n",
       "\n",
       "    .dataframe tbody tr th {\n",
       "        vertical-align: top;\n",
       "    }\n",
       "\n",
       "    .dataframe thead th {\n",
       "        text-align: right;\n",
       "    }\n",
       "</style>\n",
       "<table border=\"1\" class=\"dataframe\">\n",
       "  <thead>\n",
       "    <tr style=\"text-align: right;\">\n",
       "      <th></th>\n",
       "      <th>SalesID</th>\n",
       "      <th>MachineID</th>\n",
       "      <th>ModelID</th>\n",
       "      <th>datasource</th>\n",
       "      <th>auctioneerID</th>\n",
       "      <th>YearMade</th>\n",
       "      <th>MachineHoursCurrentMeter</th>\n",
       "      <th>UsageBand</th>\n",
       "      <th>fiModelDesc</th>\n",
       "      <th>fiBaseModel</th>\n",
       "      <th>...</th>\n",
       "      <th>Stick_Length_is_missing</th>\n",
       "      <th>Thumb_is_missing</th>\n",
       "      <th>Pattern_Changer_is_missing</th>\n",
       "      <th>Grouser_Type_is_missing</th>\n",
       "      <th>Backhoe_Mounting_is_missing</th>\n",
       "      <th>Blade_Type_is_missing</th>\n",
       "      <th>Travel_Controls_is_missing</th>\n",
       "      <th>Differential_Type_is_missing</th>\n",
       "      <th>Steering_Controls_is_missing</th>\n",
       "      <th>auctioneer_id_is_missing</th>\n",
       "    </tr>\n",
       "  </thead>\n",
       "  <tbody>\n",
       "    <tr>\n",
       "      <th>0</th>\n",
       "      <td>1227829</td>\n",
       "      <td>1006309</td>\n",
       "      <td>3168</td>\n",
       "      <td>121</td>\n",
       "      <td>3</td>\n",
       "      <td>1999</td>\n",
       "      <td>3688.0</td>\n",
       "      <td>2</td>\n",
       "      <td>499</td>\n",
       "      <td>180</td>\n",
       "      <td>...</td>\n",
       "      <td>True</td>\n",
       "      <td>True</td>\n",
       "      <td>True</td>\n",
       "      <td>True</td>\n",
       "      <td>True</td>\n",
       "      <td>True</td>\n",
       "      <td>True</td>\n",
       "      <td>True</td>\n",
       "      <td>True</td>\n",
       "      <td>False</td>\n",
       "    </tr>\n",
       "    <tr>\n",
       "      <th>1</th>\n",
       "      <td>1227844</td>\n",
       "      <td>1022817</td>\n",
       "      <td>7271</td>\n",
       "      <td>121</td>\n",
       "      <td>3</td>\n",
       "      <td>1000</td>\n",
       "      <td>28555.0</td>\n",
       "      <td>1</td>\n",
       "      <td>831</td>\n",
       "      <td>292</td>\n",
       "      <td>...</td>\n",
       "      <td>True</td>\n",
       "      <td>True</td>\n",
       "      <td>True</td>\n",
       "      <td>True</td>\n",
       "      <td>True</td>\n",
       "      <td>True</td>\n",
       "      <td>True</td>\n",
       "      <td>False</td>\n",
       "      <td>False</td>\n",
       "      <td>False</td>\n",
       "    </tr>\n",
       "    <tr>\n",
       "      <th>2</th>\n",
       "      <td>1227847</td>\n",
       "      <td>1031560</td>\n",
       "      <td>22805</td>\n",
       "      <td>121</td>\n",
       "      <td>3</td>\n",
       "      <td>2004</td>\n",
       "      <td>6038.0</td>\n",
       "      <td>3</td>\n",
       "      <td>1177</td>\n",
       "      <td>404</td>\n",
       "      <td>...</td>\n",
       "      <td>False</td>\n",
       "      <td>False</td>\n",
       "      <td>False</td>\n",
       "      <td>False</td>\n",
       "      <td>True</td>\n",
       "      <td>True</td>\n",
       "      <td>True</td>\n",
       "      <td>True</td>\n",
       "      <td>True</td>\n",
       "      <td>False</td>\n",
       "    </tr>\n",
       "    <tr>\n",
       "      <th>3</th>\n",
       "      <td>1227848</td>\n",
       "      <td>56204</td>\n",
       "      <td>1269</td>\n",
       "      <td>121</td>\n",
       "      <td>3</td>\n",
       "      <td>2006</td>\n",
       "      <td>8940.0</td>\n",
       "      <td>1</td>\n",
       "      <td>287</td>\n",
       "      <td>113</td>\n",
       "      <td>...</td>\n",
       "      <td>False</td>\n",
       "      <td>False</td>\n",
       "      <td>False</td>\n",
       "      <td>False</td>\n",
       "      <td>True</td>\n",
       "      <td>True</td>\n",
       "      <td>True</td>\n",
       "      <td>True</td>\n",
       "      <td>True</td>\n",
       "      <td>False</td>\n",
       "    </tr>\n",
       "    <tr>\n",
       "      <th>4</th>\n",
       "      <td>1227863</td>\n",
       "      <td>1053887</td>\n",
       "      <td>22312</td>\n",
       "      <td>121</td>\n",
       "      <td>3</td>\n",
       "      <td>2005</td>\n",
       "      <td>2286.0</td>\n",
       "      <td>2</td>\n",
       "      <td>566</td>\n",
       "      <td>196</td>\n",
       "      <td>...</td>\n",
       "      <td>True</td>\n",
       "      <td>True</td>\n",
       "      <td>True</td>\n",
       "      <td>True</td>\n",
       "      <td>False</td>\n",
       "      <td>False</td>\n",
       "      <td>False</td>\n",
       "      <td>True</td>\n",
       "      <td>True</td>\n",
       "      <td>False</td>\n",
       "    </tr>\n",
       "  </tbody>\n",
       "</table>\n",
       "<p>5 rows × 102 columns</p>\n",
       "</div>"
      ],
      "text/plain": [
       "   SalesID  MachineID  ModelID  datasource  auctioneerID  YearMade  \\\n",
       "0  1227829    1006309     3168         121             3      1999   \n",
       "1  1227844    1022817     7271         121             3      1000   \n",
       "2  1227847    1031560    22805         121             3      2004   \n",
       "3  1227848      56204     1269         121             3      2006   \n",
       "4  1227863    1053887    22312         121             3      2005   \n",
       "\n",
       "   MachineHoursCurrentMeter  UsageBand  fiModelDesc  fiBaseModel  ...  \\\n",
       "0                    3688.0          2          499          180  ...   \n",
       "1                   28555.0          1          831          292  ...   \n",
       "2                    6038.0          3         1177          404  ...   \n",
       "3                    8940.0          1          287          113  ...   \n",
       "4                    2286.0          2          566          196  ...   \n",
       "\n",
       "   Stick_Length_is_missing  Thumb_is_missing  Pattern_Changer_is_missing  \\\n",
       "0                     True              True                        True   \n",
       "1                     True              True                        True   \n",
       "2                    False             False                       False   \n",
       "3                    False             False                       False   \n",
       "4                     True              True                        True   \n",
       "\n",
       "   Grouser_Type_is_missing  Backhoe_Mounting_is_missing  \\\n",
       "0                     True                         True   \n",
       "1                     True                         True   \n",
       "2                    False                         True   \n",
       "3                    False                         True   \n",
       "4                     True                        False   \n",
       "\n",
       "   Blade_Type_is_missing  Travel_Controls_is_missing  \\\n",
       "0                   True                        True   \n",
       "1                   True                        True   \n",
       "2                   True                        True   \n",
       "3                   True                        True   \n",
       "4                  False                       False   \n",
       "\n",
       "   Differential_Type_is_missing  Steering_Controls_is_missing  \\\n",
       "0                          True                          True   \n",
       "1                         False                         False   \n",
       "2                          True                          True   \n",
       "3                          True                          True   \n",
       "4                          True                          True   \n",
       "\n",
       "   auctioneer_id_is_missing  \n",
       "0                     False  \n",
       "1                     False  \n",
       "2                     False  \n",
       "3                     False  \n",
       "4                     False  \n",
       "\n",
       "[5 rows x 102 columns]"
      ]
     },
     "execution_count": 131,
     "metadata": {},
     "output_type": "execute_result"
    }
   ],
   "source": [
    "df_test['auctioneer_id_is_missing'] = False\n",
    "df_test.head()"
   ]
  },
  {
   "cell_type": "markdown",
   "metadata": {},
   "source": [
    "Now that the test and training data are of similar form, we can make predictions."
   ]
  },
  {
   "cell_type": "code",
   "execution_count": 132,
   "metadata": {},
   "outputs": [],
   "source": [
    "test_preds = best_model.predict(df_test)"
   ]
  },
  {
   "cell_type": "markdown",
   "metadata": {},
   "source": [
    "When looking at the [Kaggle submission requirements](https://www.kaggle.com/c/bluebook-for-bulldozers/overview/evaluation), we see that if we wanted to make a submission, the data is required to be in a certain format. Namely, a DataFrame containing the `SalesID` and the predicted `SalePrice` of the bulldozer.\n",
    "\n",
    "Let's make it."
   ]
  },
  {
   "cell_type": "code",
   "execution_count": 133,
   "metadata": {},
   "outputs": [
    {
     "data": {
      "text/html": [
       "<div>\n",
       "<style scoped>\n",
       "    .dataframe tbody tr th:only-of-type {\n",
       "        vertical-align: middle;\n",
       "    }\n",
       "\n",
       "    .dataframe tbody tr th {\n",
       "        vertical-align: top;\n",
       "    }\n",
       "\n",
       "    .dataframe thead th {\n",
       "        text-align: right;\n",
       "    }\n",
       "</style>\n",
       "<table border=\"1\" class=\"dataframe\">\n",
       "  <thead>\n",
       "    <tr style=\"text-align: right;\">\n",
       "      <th></th>\n",
       "      <th>SalesID</th>\n",
       "      <th>SalePrice</th>\n",
       "    </tr>\n",
       "  </thead>\n",
       "  <tbody>\n",
       "    <tr>\n",
       "      <th>0</th>\n",
       "      <td>1227829</td>\n",
       "      <td>21375.519998</td>\n",
       "    </tr>\n",
       "    <tr>\n",
       "      <th>1</th>\n",
       "      <td>1227844</td>\n",
       "      <td>21571.714307</td>\n",
       "    </tr>\n",
       "    <tr>\n",
       "      <th>2</th>\n",
       "      <td>1227847</td>\n",
       "      <td>51734.509475</td>\n",
       "    </tr>\n",
       "    <tr>\n",
       "      <th>3</th>\n",
       "      <td>1227848</td>\n",
       "      <td>63080.784073</td>\n",
       "    </tr>\n",
       "    <tr>\n",
       "      <th>4</th>\n",
       "      <td>1227863</td>\n",
       "      <td>43549.015498</td>\n",
       "    </tr>\n",
       "    <tr>\n",
       "      <th>...</th>\n",
       "      <td>...</td>\n",
       "      <td>...</td>\n",
       "    </tr>\n",
       "    <tr>\n",
       "      <th>12452</th>\n",
       "      <td>6643171</td>\n",
       "      <td>40187.677994</td>\n",
       "    </tr>\n",
       "    <tr>\n",
       "      <th>12453</th>\n",
       "      <td>6643173</td>\n",
       "      <td>16946.021708</td>\n",
       "    </tr>\n",
       "    <tr>\n",
       "      <th>12454</th>\n",
       "      <td>6643184</td>\n",
       "      <td>15954.020391</td>\n",
       "    </tr>\n",
       "    <tr>\n",
       "      <th>12455</th>\n",
       "      <td>6643186</td>\n",
       "      <td>21661.788912</td>\n",
       "    </tr>\n",
       "    <tr>\n",
       "      <th>12456</th>\n",
       "      <td>6643196</td>\n",
       "      <td>30070.987447</td>\n",
       "    </tr>\n",
       "  </tbody>\n",
       "</table>\n",
       "<p>12457 rows × 2 columns</p>\n",
       "</div>"
      ],
      "text/plain": [
       "       SalesID     SalePrice\n",
       "0      1227829  21375.519998\n",
       "1      1227844  21571.714307\n",
       "2      1227847  51734.509475\n",
       "3      1227848  63080.784073\n",
       "4      1227863  43549.015498\n",
       "...        ...           ...\n",
       "12452  6643171  40187.677994\n",
       "12453  6643173  16946.021708\n",
       "12454  6643184  15954.020391\n",
       "12455  6643186  21661.788912\n",
       "12456  6643196  30070.987447\n",
       "\n",
       "[12457 rows x 2 columns]"
      ]
     },
     "execution_count": 133,
     "metadata": {},
     "output_type": "execute_result"
    }
   ],
   "source": [
    "# Create DataFrame compatible with Kaggle submission requirements\n",
    "df_preds = pd.DataFrame()\n",
    "df_preds[\"SalesID\"] = df_test[\"SalesID\"]\n",
    "df_preds[\"SalePrice\"] = test_preds\n",
    "df_preds"
   ]
  },
  {
   "cell_type": "code",
   "execution_count": 136,
   "metadata": {},
   "outputs": [],
   "source": [
    "# Export to csv...\n",
    "df_preds.to_csv(\"./data/bluebook-for-bulldozers/predictions.csv\",\n",
    "               index=False)"
   ]
  },
  {
   "cell_type": "markdown",
   "metadata": {},
   "source": [
    "## Feature Importance\n",
    "\n",
    "Since we've built a model which is able to make predictions. We might want to understand what parts of the data led to these predictions.\n",
    "\n",
    "This is where **feature importance** comes in. Feature importance seeks to figure out which different attributes of the data were most important when it comes to predicting the **target variable**.\n",
    "\n",
    "In our case, after our model learned the patterns in the data, which bulldozer sale attributes were most important for predicting its overall sale price?\n",
    "\n",
    "Beware: the default feature importances for random forests can lead to non-ideal results.\n",
    "\n",
    "To find which features were most important of a machine learning model, a good idea is to search something like \"\\[MODEL NAME\\] feature importance\".\n",
    "\n",
    "Doing this for our `RandomForestRegressor` leads us to find the `feature_importances_` attribute.\n",
    "\n",
    "Let's check it out."
   ]
  },
  {
   "cell_type": "code",
   "execution_count": 138,
   "metadata": {},
   "outputs": [
    {
     "data": {
      "text/plain": [
       "array([3.10560590e-02, 2.13831215e-02, 4.73856826e-02, 2.08406764e-03,\n",
       "       1.94613438e-03, 1.95536306e-01, 1.66190135e-03, 1.19039240e-03,\n",
       "       4.30680056e-02, 4.37927805e-02, 6.80994395e-02, 5.04702089e-03,\n",
       "       1.99873241e-02, 1.43813627e-01, 4.65731263e-02, 4.66373898e-03,\n",
       "       3.58037400e-03, 3.09037588e-03, 3.46507069e-03, 6.51655072e-02,\n",
       "       3.24917696e-04, 4.96123257e-05, 1.58210178e-03, 2.41842324e-04,\n",
       "       1.04782847e-03, 1.34112860e-04, 2.32172754e-03, 8.14794156e-03,\n",
       "       8.85917574e-04, 2.86680024e-03, 3.60927343e-03, 4.34866513e-03,\n",
       "       3.10414239e-03, 1.59202285e-03, 3.02299634e-03, 9.36056329e-03,\n",
       "       6.59875415e-04, 1.65098468e-02, 3.15489699e-03, 4.49155611e-03,\n",
       "       1.72914446e-03, 7.67360040e-04, 2.75520715e-03, 5.06005086e-04,\n",
       "       6.61618290e-04, 2.77810137e-04, 5.66664136e-04, 2.03798601e-03,\n",
       "       1.02022754e-03, 2.64047627e-04, 3.03142298e-04, 6.51149545e-02,\n",
       "       3.51366695e-03, 4.29893984e-03, 2.22326769e-03, 8.16560525e-03,\n",
       "       1.47832974e-04, 9.04697302e-03, 4.79198266e-04, 0.00000000e+00,\n",
       "       0.00000000e+00, 2.98058420e-03, 1.47599443e-03, 1.14999066e-02,\n",
       "       2.84591578e-02, 0.00000000e+00, 0.00000000e+00, 0.00000000e+00,\n",
       "       0.00000000e+00, 1.13107813e-04, 4.82905845e-06, 2.15994972e-04,\n",
       "       1.25146960e-04, 1.04618942e-04, 3.39958566e-05, 2.20724682e-04,\n",
       "       5.68351704e-05, 1.39266105e-03, 8.10734205e-04, 7.76297003e-04,\n",
       "       1.50193604e-03, 4.68339218e-03, 2.09252299e-03, 4.94672966e-04,\n",
       "       1.18817982e-03, 9.33379998e-04, 3.27501469e-03, 2.26096926e-04,\n",
       "       1.05229896e-02, 4.23711297e-04, 1.09722838e-03, 9.42943748e-05,\n",
       "       7.23764264e-05, 4.92545128e-05, 8.47975660e-05, 4.29852175e-05,\n",
       "       7.98883631e-05, 3.76947320e-04, 1.37839883e-04, 1.48856160e-04,\n",
       "       1.58908312e-04, 1.17790956e-04])"
      ]
     },
     "execution_count": 138,
     "metadata": {},
     "output_type": "execute_result"
    }
   ],
   "source": [
    "# get feature importance from the trained model\n",
    "best_model.feature_importances_"
   ]
  },
  {
   "cell_type": "code",
   "execution_count": 187,
   "metadata": {},
   "outputs": [
    {
     "data": {
      "text/plain": [
       "102"
      ]
     },
     "execution_count": 187,
     "metadata": {},
     "output_type": "execute_result"
    }
   ],
   "source": [
    "len(X_train.columns)"
   ]
  },
  {
   "cell_type": "code",
   "execution_count": 141,
   "metadata": {},
   "outputs": [
    {
     "data": {
      "text/plain": [
       "102"
      ]
     },
     "execution_count": 141,
     "metadata": {},
     "output_type": "execute_result"
    }
   ],
   "source": [
    "len(best_model.feature_importances_)"
   ]
  },
  {
   "cell_type": "markdown",
   "metadata": {},
   "source": [
    "Different ways to plot bar plot to visualize feature importances..."
   ]
  },
  {
   "cell_type": "code",
   "execution_count": 189,
   "metadata": {},
   "outputs": [],
   "source": [
    "# Best way to visualize\n",
    "# Helper function for plotting feature importance\n",
    "def plot_features(columns, importances, n=20):\n",
    "    \"\"\"\n",
    "    Sorts features according to their feature importance with most important feture at the top.Then plots the top 20 most important features using seaborn barplot.\n",
    "    \n",
    "    \"\"\"\n",
    "    df = (pd.DataFrame({\"features\": columns,\n",
    "                        \"feature_importance\": importances})\n",
    "          .sort_values(\"feature_importance\", ascending=False)\n",
    "          .reset_index(drop=True))\n",
    "    plt.figure(figsize=(15,20))\n",
    "    sns.barplot(x=\"feature_importance\",\n",
    "                y=\"features\",\n",
    "                data=df[:n],\n",
    "                orient=\"h\")"
   ]
  },
  {
   "cell_type": "code",
   "execution_count": 156,
   "metadata": {},
   "outputs": [
    {
     "data": {
      "image/png": "[encoded data removed]",
      "text/plain": [
       "<Figure size 1080x1440 with 1 Axes>"
      ]
     },
     "metadata": {
      "needs_background": "light"
     },
     "output_type": "display_data"
    }
   ],
   "source": [
    "plot_features(X_train.columns, best_model.feature_importances_)"
   ]
  },
  {
   "cell_type": "code",
   "execution_count": 160,
   "metadata": {},
   "outputs": [
    {
     "data": {
      "image/png": "[encoded data removed]",
      "text/plain": [
       "<Figure size 1440x1440 with 1 Axes>"
      ]
     },
     "metadata": {
      "needs_background": "light"
     },
     "output_type": "display_data"
    }
   ],
   "source": [
    "# sns.set_style('white')\n",
    "plt.figure(figsize=(20,20))\n",
    "sns.barplot(y= X_train.columns[:20],x = best_model.feature_importances_[:20],orient='h')\n",
    "plt.tight_layout()\n"
   ]
  },
  {
   "cell_type": "code",
   "execution_count": 178,
   "metadata": {},
   "outputs": [],
   "source": [
    "df_imp_20 = (pd.DataFrame({\"features\": X_train.columns, \"feature_importance\": best_model.feature_importances_})\n",
    ".sort_values(\"feature_importance\", ascending=False).reset_index(drop=True))"
   ]
  },
  {
   "cell_type": "code",
   "execution_count": 179,
   "metadata": {},
   "outputs": [
    {
     "data": {
      "text/html": [
       "<div>\n",
       "<style scoped>\n",
       "    .dataframe tbody tr th:only-of-type {\n",
       "        vertical-align: middle;\n",
       "    }\n",
       "\n",
       "    .dataframe tbody tr th {\n",
       "        vertical-align: top;\n",
       "    }\n",
       "\n",
       "    .dataframe thead th {\n",
       "        text-align: right;\n",
       "    }\n",
       "</style>\n",
       "<table border=\"1\" class=\"dataframe\">\n",
       "  <thead>\n",
       "    <tr style=\"text-align: right;\">\n",
       "      <th></th>\n",
       "      <th>features</th>\n",
       "      <th>feature_importance</th>\n",
       "    </tr>\n",
       "  </thead>\n",
       "  <tbody>\n",
       "    <tr>\n",
       "      <th>0</th>\n",
       "      <td>YearMade</td>\n",
       "      <td>0.195536</td>\n",
       "    </tr>\n",
       "    <tr>\n",
       "      <th>1</th>\n",
       "      <td>ProductSize</td>\n",
       "      <td>0.143814</td>\n",
       "    </tr>\n",
       "    <tr>\n",
       "      <th>2</th>\n",
       "      <td>fiSecondaryDesc</td>\n",
       "      <td>0.068099</td>\n",
       "    </tr>\n",
       "    <tr>\n",
       "      <th>3</th>\n",
       "      <td>Enclosure</td>\n",
       "      <td>0.065166</td>\n",
       "    </tr>\n",
       "    <tr>\n",
       "      <th>4</th>\n",
       "      <td>saleYear</td>\n",
       "      <td>0.065115</td>\n",
       "    </tr>\n",
       "    <tr>\n",
       "      <th>...</th>\n",
       "      <td>...</td>\n",
       "      <td>...</td>\n",
       "    </tr>\n",
       "    <tr>\n",
       "      <th>97</th>\n",
       "      <td>state_is_missing</td>\n",
       "      <td>0.000000</td>\n",
       "    </tr>\n",
       "    <tr>\n",
       "      <th>98</th>\n",
       "      <td>fiProductClassDesc_is_missing</td>\n",
       "      <td>0.000000</td>\n",
       "    </tr>\n",
       "    <tr>\n",
       "      <th>99</th>\n",
       "      <td>fiBaseModel_is_missing</td>\n",
       "      <td>0.000000</td>\n",
       "    </tr>\n",
       "    <tr>\n",
       "      <th>100</th>\n",
       "      <td>fiModelDesc_is_missing</td>\n",
       "      <td>0.000000</td>\n",
       "    </tr>\n",
       "    <tr>\n",
       "      <th>101</th>\n",
       "      <td>ProductGroupDesc_is_missing</td>\n",
       "      <td>0.000000</td>\n",
       "    </tr>\n",
       "  </tbody>\n",
       "</table>\n",
       "<p>102 rows × 2 columns</p>\n",
       "</div>"
      ],
      "text/plain": [
       "                          features  feature_importance\n",
       "0                         YearMade            0.195536\n",
       "1                      ProductSize            0.143814\n",
       "2                  fiSecondaryDesc            0.068099\n",
       "3                        Enclosure            0.065166\n",
       "4                         saleYear            0.065115\n",
       "..                             ...                 ...\n",
       "97                state_is_missing            0.000000\n",
       "98   fiProductClassDesc_is_missing            0.000000\n",
       "99          fiBaseModel_is_missing            0.000000\n",
       "100         fiModelDesc_is_missing            0.000000\n",
       "101    ProductGroupDesc_is_missing            0.000000\n",
       "\n",
       "[102 rows x 2 columns]"
      ]
     },
     "execution_count": 179,
     "metadata": {},
     "output_type": "execute_result"
    }
   ],
   "source": [
    "df_imp"
   ]
  },
  {
   "cell_type": "code",
   "execution_count": 183,
   "metadata": {},
   "outputs": [
    {
     "data": {
      "image/png": "[encoded data removed]",
      "text/plain": [
       "<Figure size 1080x720 with 1 Axes>"
      ]
     },
     "metadata": {
      "needs_background": "light"
     },
     "output_type": "display_data"
    }
   ],
   "source": [
    "df_imp[:20].plot.barh(y=\"feature_importance\", x='features', figsize=(15,10)).invert_yaxis()"
   ]
  },
  {
   "cell_type": "code",
   "execution_count": 190,
   "metadata": {},
   "outputs": [
    {
     "data": {
      "text/plain": [
       "<BarContainer object of 10 artists>"
      ]
     },
     "execution_count": 190,
     "metadata": {},
     "output_type": "execute_result"
    },
    {
     "data": {
      "image/png": "[encoded data removed]",
      "text/plain": [
       "<Figure size 1440x720 with 1 Axes>"
      ]
     },
     "metadata": {
      "needs_background": "light"
     },
     "output_type": "display_data"
    }
   ],
   "source": [
    "fig = plt.figure(figsize=(20,10))\n",
    "axes = fig.add_axes([0.1,0.1,0.9,0.9])\n",
    "axes.bar(x= df_test.columns[:10], height=best_model.feature_importances_[:10])"
   ]
  },
  {
   "cell_type": "code",
   "execution_count": 191,
   "metadata": {},
   "outputs": [
    {
     "data": {
      "text/plain": [
       "1.0000000000000002"
      ]
     },
     "execution_count": 191,
     "metadata": {},
     "output_type": "execute_result"
    }
   ],
   "source": [
    "sum(best_model.feature_importances_)"
   ]
  },
  {
   "cell_type": "code",
   "execution_count": 195,
   "metadata": {},
   "outputs": [
    {
     "data": {
      "text/plain": [
       "216605"
      ]
     },
     "execution_count": 195,
     "metadata": {},
     "output_type": "execute_result"
    }
   ],
   "source": [
    "df_tmp[\"ProductSize_is_missing\"].sum()"
   ]
  },
  {
   "cell_type": "code",
   "execution_count": 197,
   "metadata": {},
   "outputs": [
    {
     "data": {
      "text/plain": [
       "0    216605\n",
       "4     64342\n",
       "3     51297\n",
       "6     27057\n",
       "5     25721\n",
       "2     21396\n",
       "1      6280\n",
       "Name: ProductSize, dtype: int64"
      ]
     },
     "execution_count": 197,
     "metadata": {},
     "output_type": "execute_result"
    }
   ],
   "source": [
    "df_tmp['ProductSize'].value_counts()"
   ]
  },
  {
   "cell_type": "markdown",
   "metadata": {},
   "source": [
    "## Future Work:\n",
    "1) Pocess train and valid data separately as train data should not have future information. (for eg. when taking meadian values of validation set are also considered). Hence, this might not give us an accurate measure of how our model will perform on a previously unseen data.  \n",
    "\n",
    "2) This dataset has many columns that have a high number of missing values, we can deal with such columns differently. One option may be to drop the columns with more than 80%/90% of unknown values as filling these with dummy values adds a lot of misinformation.   \n",
    "\n",
    "3) Unimportant features can be dropped.  \n",
    "\n",
    "4) There might be features such as if bulldozers were not sold in 2008, this was due to economic depression. Features like these might misguide our model to identify/learn false funcetions.   \n",
    "\n",
    "5) Other Regression models can be used."
   ]
  }
 ],
 "metadata": {
  "kernelspec": {
   "display_name": "Python 3",
   "language": "python",
   "name": "python3"
  },
  "language_info": {
   "codemirror_mode": {
    "name": "ipython",
    "version": 3
   },
   "file_extension": ".py",
   "mimetype": "text/x-python",
   "name": "python",
   "nbconvert_exporter": "python",
   "pygments_lexer": "ipython3",
   "version": "3.8.3"
  }
 },
 "nbformat": 4,
 "nbformat_minor": 4
}
